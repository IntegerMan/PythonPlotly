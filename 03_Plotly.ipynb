{
 "cells": [
  {
   "attachments": {},
   "cell_type": "markdown",
   "metadata": {},
   "source": [
    "## Interactive Data Visualization with Plotly\n",
    "\n",
    "[Plotly Express for Python Documentation](https://plotly.com/python/plotly-express/)"
   ]
  },
  {
   "attachments": {},
   "cell_type": "markdown",
   "metadata": {},
   "source": [
    "### Loading Sample Data"
   ]
  },
  {
   "cell_type": "code",
   "execution_count": 2,
   "metadata": {},
   "outputs": [
    {
     "data": {
      "text/html": [
       "<div>\n",
       "<style scoped>\n",
       "    .dataframe tbody tr th:only-of-type {\n",
       "        vertical-align: middle;\n",
       "    }\n",
       "\n",
       "    .dataframe tbody tr th {\n",
       "        vertical-align: top;\n",
       "    }\n",
       "\n",
       "    .dataframe thead th {\n",
       "        text-align: right;\n",
       "    }\n",
       "</style>\n",
       "<table border=\"1\" class=\"dataframe\">\n",
       "  <thead>\n",
       "    <tr style=\"text-align: right;\">\n",
       "      <th></th>\n",
       "      <th>episode_id</th>\n",
       "      <th>episodenbr</th>\n",
       "      <th>title</th>\n",
       "      <th>views</th>\n",
       "      <th>share</th>\n",
       "      <th>appreciation</th>\n",
       "      <th>chart</th>\n",
       "      <th>summary</th>\n",
       "      <th>date</th>\n",
       "      <th>doctorid</th>\n",
       "      <th>...</th>\n",
       "      <th>season</th>\n",
       "      <th>has_9</th>\n",
       "      <th>has_10</th>\n",
       "      <th>has_11</th>\n",
       "      <th>has_12</th>\n",
       "      <th>has_13</th>\n",
       "      <th>day_Mon</th>\n",
       "      <th>day_Sat</th>\n",
       "      <th>day_Sun</th>\n",
       "      <th>day_Tue</th>\n",
       "    </tr>\n",
       "  </thead>\n",
       "  <tbody>\n",
       "    <tr>\n",
       "      <th>0</th>\n",
       "      <td>1.01</td>\n",
       "      <td>697</td>\n",
       "      <td>Rose</td>\n",
       "      <td>10.81</td>\n",
       "      <td>44.8</td>\n",
       "      <td>76.0</td>\n",
       "      <td>7</td>\n",
       "      <td>No Summary Available</td>\n",
       "      <td>2005-03-26</td>\n",
       "      <td>9</td>\n",
       "      <td>...</td>\n",
       "      <td>1</td>\n",
       "      <td>1</td>\n",
       "      <td>0</td>\n",
       "      <td>0</td>\n",
       "      <td>0</td>\n",
       "      <td>0</td>\n",
       "      <td>0</td>\n",
       "      <td>1</td>\n",
       "      <td>0</td>\n",
       "      <td>0</td>\n",
       "    </tr>\n",
       "    <tr>\n",
       "      <th>1</th>\n",
       "      <td>1.02</td>\n",
       "      <td>698</td>\n",
       "      <td>The End of the World</td>\n",
       "      <td>7.97</td>\n",
       "      <td>37.8</td>\n",
       "      <td>76.0</td>\n",
       "      <td>19</td>\n",
       "      <td>No Summary Available</td>\n",
       "      <td>2005-04-02</td>\n",
       "      <td>9</td>\n",
       "      <td>...</td>\n",
       "      <td>1</td>\n",
       "      <td>1</td>\n",
       "      <td>0</td>\n",
       "      <td>0</td>\n",
       "      <td>0</td>\n",
       "      <td>0</td>\n",
       "      <td>0</td>\n",
       "      <td>1</td>\n",
       "      <td>0</td>\n",
       "      <td>0</td>\n",
       "    </tr>\n",
       "    <tr>\n",
       "      <th>2</th>\n",
       "      <td>1.03</td>\n",
       "      <td>699</td>\n",
       "      <td>The Unquiet Dead</td>\n",
       "      <td>8.86</td>\n",
       "      <td>37.8</td>\n",
       "      <td>80.0</td>\n",
       "      <td>15</td>\n",
       "      <td>No Summary Available</td>\n",
       "      <td>2005-04-09</td>\n",
       "      <td>9</td>\n",
       "      <td>...</td>\n",
       "      <td>1</td>\n",
       "      <td>1</td>\n",
       "      <td>0</td>\n",
       "      <td>0</td>\n",
       "      <td>0</td>\n",
       "      <td>0</td>\n",
       "      <td>0</td>\n",
       "      <td>1</td>\n",
       "      <td>0</td>\n",
       "      <td>0</td>\n",
       "    </tr>\n",
       "    <tr>\n",
       "      <th>3</th>\n",
       "      <td>1.04</td>\n",
       "      <td>700</td>\n",
       "      <td>Aliens of London</td>\n",
       "      <td>7.63</td>\n",
       "      <td>35.7</td>\n",
       "      <td>82.0</td>\n",
       "      <td>18</td>\n",
       "      <td>No Summary Available</td>\n",
       "      <td>2005-04-16</td>\n",
       "      <td>9</td>\n",
       "      <td>...</td>\n",
       "      <td>1</td>\n",
       "      <td>1</td>\n",
       "      <td>0</td>\n",
       "      <td>0</td>\n",
       "      <td>0</td>\n",
       "      <td>0</td>\n",
       "      <td>0</td>\n",
       "      <td>1</td>\n",
       "      <td>0</td>\n",
       "      <td>0</td>\n",
       "    </tr>\n",
       "    <tr>\n",
       "      <th>4</th>\n",
       "      <td>1.05</td>\n",
       "      <td>701</td>\n",
       "      <td>World War Three</td>\n",
       "      <td>7.98</td>\n",
       "      <td>40.2</td>\n",
       "      <td>81.0</td>\n",
       "      <td>20</td>\n",
       "      <td>No Summary Available</td>\n",
       "      <td>2005-04-23</td>\n",
       "      <td>9</td>\n",
       "      <td>...</td>\n",
       "      <td>1</td>\n",
       "      <td>1</td>\n",
       "      <td>0</td>\n",
       "      <td>0</td>\n",
       "      <td>0</td>\n",
       "      <td>0</td>\n",
       "      <td>0</td>\n",
       "      <td>1</td>\n",
       "      <td>0</td>\n",
       "      <td>0</td>\n",
       "    </tr>\n",
       "  </tbody>\n",
       "</table>\n",
       "<p>5 rows × 23 columns</p>\n",
       "</div>"
      ],
      "text/plain": [
       "   episode_id  episodenbr                 title  views  share  appreciation  \\\n",
       "0        1.01         697                  Rose  10.81   44.8          76.0   \n",
       "1        1.02         698  The End of the World   7.97   37.8          76.0   \n",
       "2        1.03         699      The Unquiet Dead   8.86   37.8          80.0   \n",
       "3        1.04         700      Aliens of London   7.63   35.7          82.0   \n",
       "4        1.05         701       World War Three   7.98   40.2          81.0   \n",
       "\n",
       "   chart               summary        date  doctorid  ...  season  has_9  \\\n",
       "0      7  No Summary Available  2005-03-26         9  ...       1      1   \n",
       "1     19  No Summary Available  2005-04-02         9  ...       1      1   \n",
       "2     15  No Summary Available  2005-04-09         9  ...       1      1   \n",
       "3     18  No Summary Available  2005-04-16         9  ...       1      1   \n",
       "4     20  No Summary Available  2005-04-23         9  ...       1      1   \n",
       "\n",
       "  has_10  has_11  has_12  has_13  day_Mon  day_Sat  day_Sun  day_Tue  \n",
       "0      0       0       0       0        0        1        0        0  \n",
       "1      0       0       0       0        0        1        0        0  \n",
       "2      0       0       0       0        0        1        0        0  \n",
       "3      0       0       0       0        0        1        0        0  \n",
       "4      0       0       0       0        0        1        0        0  \n",
       "\n",
       "[5 rows x 23 columns]"
      ]
     },
     "execution_count": 2,
     "metadata": {},
     "output_type": "execute_result"
    }
   ],
   "source": [
    "import pandas as pd\n",
    "\n",
    "df = pd.read_csv('data/Processed.csv')\n",
    "df.drop(columns=['Unnamed: 0'], inplace=True)\n",
    "\n",
    "df.head()"
   ]
  },
  {
   "attachments": {},
   "cell_type": "markdown",
   "metadata": {},
   "source": [
    "### Global Theme Settings"
   ]
  },
  {
   "cell_type": "code",
   "execution_count": 3,
   "metadata": {},
   "outputs": [],
   "source": [
    "import plotly.express as px\n",
    "\n",
    "px.defaults.color_continuous_scale = px.colors.sequential.Agsunset\n",
    "px.defaults.color_discrete_sequence = px.colors.qualitative.Prism\n",
    "px.defaults.template = 'plotly_dark'"
   ]
  },
  {
   "attachments": {},
   "cell_type": "markdown",
   "metadata": {},
   "source": [
    "### Scatter Plots"
   ]
  },
  {
   "cell_type": "code",
   "execution_count": 10,
   "metadata": {},
   "outputs": [
    {
     "data": {
      "application/vnd.plotly.v1+json": {
       "config": {
        "plotlyServerURL": "https://plot.ly"
       },
       "data": [
        {
         "customdata": [
          [
           "Rose"
          ],
          [
           "The End of the World"
          ],
          [
           "The Unquiet Dead"
          ],
          [
           "Aliens of London"
          ],
          [
           "World War Three"
          ],
          [
           "Dalek"
          ],
          [
           "The Long Game"
          ],
          [
           "Father's Day"
          ],
          [
           "The Empty Child"
          ],
          [
           "The Doctor Dances"
          ],
          [
           "Boom Town"
          ],
          [
           "Bad Wolf"
          ],
          [
           "The Parting of the Ways"
          ],
          [
           "The Christmas Invasion"
          ],
          [
           "New Earth"
          ],
          [
           "Tooth and Claw"
          ],
          [
           "School Reunion"
          ],
          [
           "The Girl in the Fireplace"
          ],
          [
           "Rise of the Cybermen"
          ],
          [
           "The Age of Steel"
          ],
          [
           "The Idiot's Lantern"
          ],
          [
           "The Impossible Planet"
          ],
          [
           "The Satan Pit"
          ],
          [
           "Love and Monsters"
          ],
          [
           "Fear Her"
          ],
          [
           "Army of Ghosts"
          ],
          [
           "Doomsday"
          ],
          [
           "The Runaway Bride"
          ],
          [
           "Smith and Jones"
          ],
          [
           "The Shakespeare Code"
          ],
          [
           "Gridlock"
          ],
          [
           "Daleks in Manhattan"
          ],
          [
           "Evolution of the Daleks"
          ],
          [
           "The Lazarus Experiment"
          ],
          [
           "42"
          ],
          [
           "Human Nature"
          ],
          [
           "Family of Blood"
          ],
          [
           "Blink"
          ],
          [
           "Utopia"
          ],
          [
           "The Sound of Drums"
          ],
          [
           "Last of the Time Lords"
          ],
          [
           "Voyage of the Damned"
          ],
          [
           "Partners in Crime"
          ],
          [
           "The Fires of Pompeii"
          ],
          [
           "Planet of the Ood"
          ],
          [
           "The Sontaran Stratagem"
          ],
          [
           "The Poison Sky"
          ],
          [
           "The Doctor's Daughter"
          ],
          [
           "The Unicorn and the Wasp"
          ],
          [
           "Silence in the Library"
          ],
          [
           "Forest of the Dead"
          ],
          [
           "Midnight"
          ],
          [
           "Turn Left"
          ],
          [
           "The Stolen Earth"
          ],
          [
           "Journey's End"
          ],
          [
           "The Eleventh Hour"
          ],
          [
           "The Beast Below"
          ],
          [
           "Victory of the Daleks"
          ],
          [
           "The Time of Angels"
          ],
          [
           "Flesh and Stone"
          ],
          [
           "The Vampires of Venice"
          ],
          [
           "Amy's Choice"
          ],
          [
           "The Hungry Earth"
          ],
          [
           "Cold Blood"
          ],
          [
           "Vincent and the Doctor"
          ],
          [
           "The Lodger"
          ],
          [
           "The Pandorica Opens"
          ],
          [
           "The Big Bang"
          ],
          [
           "A Christmas Carol"
          ],
          [
           "The Impossible Astronaut"
          ],
          [
           "Day of the Moon"
          ],
          [
           "Curse of the Black Spot"
          ],
          [
           "The Doctor's Wife"
          ],
          [
           "The Rebel Flesh"
          ],
          [
           "The Almost People"
          ],
          [
           "A Good Man Goes to War"
          ],
          [
           "Let's Kill Hitler"
          ],
          [
           "Night Terrors"
          ],
          [
           "The Girl Who Waited"
          ],
          [
           "The God Complex"
          ],
          [
           "Closing Time"
          ],
          [
           "The Wedding of River Song"
          ],
          [
           "The Doctor, the Widow, and the Wardrobe"
          ],
          [
           "Asylum of the Daleks"
          ],
          [
           "Dinosaurs on a Spaceship"
          ],
          [
           "A Town Called Mercy"
          ],
          [
           "The Power of Three"
          ],
          [
           "The Angels Take Manhattan"
          ],
          [
           "The Snowmen"
          ],
          [
           "The Bells of Saint John"
          ],
          [
           "The Rings of Akhaten"
          ],
          [
           "Cold War"
          ],
          [
           "Hide"
          ],
          [
           "Journey to the Centre of the TARDIS"
          ],
          [
           "The Crimson Horror"
          ],
          [
           "Nightmare in Silver"
          ],
          [
           "The Name of the Doctor"
          ],
          [
           "Deep Breath"
          ],
          [
           "Into the Dalek"
          ],
          [
           "Robot of Sherwood"
          ],
          [
           "Listen"
          ],
          [
           "Time Heist"
          ],
          [
           "The Caretaker"
          ],
          [
           "Kill the Moon"
          ],
          [
           "Mummy on the Orient Express"
          ],
          [
           "Flatline"
          ],
          [
           "In the Forest of the Night"
          ],
          [
           "Dark Water"
          ],
          [
           "Death in Heaven"
          ],
          [
           "The Magician's Apprentice"
          ],
          [
           "The Witch's Familiar"
          ],
          [
           "Under the Lake"
          ],
          [
           "Before The Flood"
          ],
          [
           "The Girl Who Died"
          ],
          [
           "The Woman Who Lived"
          ],
          [
           "The Zygon Invasion"
          ],
          [
           "The Zygon Inversion"
          ],
          [
           "Sleep No More"
          ],
          [
           "Face The Raven"
          ],
          [
           "Heaven Sent"
          ],
          [
           "Hell Bent"
          ],
          [
           "The Husbands of River Song"
          ],
          [
           "The Return of Doctor Mysterio"
          ],
          [
           "The Pilot"
          ],
          [
           "Smile"
          ],
          [
           "Thin Ice"
          ],
          [
           "Knock Knock"
          ],
          [
           "Oxygen"
          ],
          [
           "Extremis"
          ],
          [
           "The Pyramid at the End of the World"
          ],
          [
           "The Lie of the Land"
          ],
          [
           "Empress of Mars"
          ],
          [
           "The Eaters of Light"
          ],
          [
           "World Enough and Time"
          ],
          [
           "The Doctor Falls"
          ],
          [
           "The Woman Who Fell to Earth"
          ],
          [
           "The Ghost Monument"
          ],
          [
           "Rosa"
          ],
          [
           "Arachnids in the UK"
          ],
          [
           "The Tsuranga Conundrum"
          ],
          [
           "Demons of the Punjab"
          ],
          [
           "Kerblam!"
          ],
          [
           "The Witchfinders"
          ],
          [
           "It Takes You Away"
          ],
          [
           "The Battle of Ranskoor Av Kolos"
          ],
          [
           "Resolution"
          ]
         ],
         "hovertemplate": "season=%{x}<br>rating=%{y}<br>title=%{customdata[0]}<br>appreciation=%{marker.color}<extra></extra>",
         "legendgroup": "",
         "marker": {
          "color": [
           76,
           76,
           80,
           82,
           81,
           84,
           81,
           83,
           84,
           85,
           82,
           86,
           89,
           84,
           85,
           83,
           85,
           84,
           86,
           86,
           84,
           85,
           86,
           76,
           83,
           86,
           89,
           84,
           88,
           87,
           85,
           87,
           85,
           86,
           84,
           86,
           86,
           87,
           87,
           87,
           88,
           85,
           88,
           87,
           87,
           87,
           88,
           88,
           86,
           89,
           89,
           86,
           88,
           91,
           91,
           86,
           86,
           84,
           87,
           86,
           86,
           84,
           86,
           86,
           86,
           87,
           88,
           89,
           83,
           88,
           87,
           86,
           87,
           85,
           86,
           88,
           85,
           86,
           85,
           86,
           86,
           86,
           84,
           89,
           87,
           85,
           87,
           88,
           87,
           87,
           84,
           84,
           85,
           85,
           85,
           84,
           88,
           82,
           84,
           82,
           82,
           84,
           83,
           82,
           85,
           85,
           83,
           85,
           83,
           84,
           83,
           84,
           82,
           82,
           81,
           82,
           84,
           78,
           84,
           80,
           82,
           82,
           82,
           83,
           83,
           84,
           83,
           83,
           82,
           82,
           82,
           83,
           81,
           85,
           83,
           83,
           82,
           83,
           83,
           79,
           80,
           81,
           81,
           80,
           79,
           80
          ],
          "coloraxis": "coloraxis",
          "symbol": "circle"
         },
         "mode": "markers",
         "name": "",
         "orientation": "v",
         "showlegend": false,
         "type": "scatter",
         "x": [
          1,
          1,
          1,
          1,
          1,
          1,
          1,
          1,
          1,
          1,
          1,
          1,
          1,
          2,
          2,
          2,
          2,
          2,
          2,
          2,
          2,
          2,
          2,
          2,
          2,
          2,
          2,
          3,
          3,
          3,
          3,
          3,
          3,
          3,
          3,
          3,
          3,
          3,
          3,
          3,
          3,
          4,
          4,
          4,
          4,
          4,
          4,
          4,
          4,
          4,
          4,
          4,
          4,
          4,
          4,
          5,
          5,
          5,
          5,
          5,
          5,
          5,
          5,
          5,
          5,
          5,
          5,
          5,
          6,
          6,
          6,
          6,
          6,
          6,
          6,
          6,
          6,
          6,
          6,
          6,
          6,
          6,
          7,
          7,
          7,
          7,
          7,
          7,
          7,
          7,
          7,
          7,
          7,
          7,
          7,
          7,
          7,
          8,
          8,
          8,
          8,
          8,
          8,
          8,
          8,
          8,
          8,
          8,
          8,
          9,
          9,
          9,
          9,
          9,
          9,
          9,
          9,
          9,
          9,
          9,
          9,
          9,
          10,
          10,
          10,
          10,
          10,
          10,
          10,
          10,
          10,
          10,
          10,
          10,
          10,
          11,
          11,
          11,
          11,
          11,
          11,
          11,
          11,
          11,
          11,
          11
         ],
         "xaxis": "x",
         "y": [
          7.6,
          7.6,
          7.6,
          7,
          7.1,
          8.7,
          7.2,
          8.4,
          9.2,
          9.1,
          7.2,
          8.7,
          9.1,
          8.2,
          7.5,
          7.9,
          8.4,
          9.3,
          7.8,
          7.9,
          6.9,
          8.7,
          8.8,
          6.2,
          6.1,
          8.5,
          9.3,
          7.6,
          8,
          7.8,
          8.1,
          7,
          7,
          6.7,
          7.5,
          9,
          9.2,
          9.8,
          8.8,
          8.7,
          8.4,
          7.7,
          7.8,
          8.1,
          8.1,
          7.5,
          7.6,
          7.7,
          7.8,
          9.4,
          9.5,
          9,
          8.9,
          9.1,
          9.1,
          8.8,
          7.6,
          6.8,
          8.7,
          8.6,
          7.1,
          8.2,
          7.3,
          7.5,
          9.3,
          8.3,
          9.1,
          9.2,
          8.6,
          8.9,
          8.9,
          6.8,
          9,
          7.3,
          7.5,
          9.1,
          8.1,
          7.1,
          8.5,
          8.1,
          7.7,
          8.6,
          7.3,
          8.7,
          7.5,
          7.5,
          7.6,
          9,
          8.5,
          8,
          7.4,
          7.3,
          7.8,
          7.5,
          7.4,
          7.4,
          9.1,
          8,
          7.8,
          7.1,
          8.9,
          8,
          7.4,
          7,
          8.5,
          8.5,
          6.1,
          8.7,
          7.9,
          8.5,
          8.5,
          8.3,
          8.1,
          7.7,
          7.6,
          7.9,
          8.6,
          6,
          8.6,
          9.6,
          8.7,
          8.6,
          7.5,
          7.9,
          7.2,
          7.3,
          7.5,
          8.1,
          8.5,
          7.7,
          7.2,
          7.1,
          7,
          9.2,
          9,
          7.1,
          6.2,
          7.1,
          5.3,
          5.2,
          6.6,
          6.4,
          5.9,
          6.4,
          5.5,
          6
         ],
         "yaxis": "y"
        }
       ],
       "layout": {
        "coloraxis": {
         "colorbar": {
          "title": {
           "text": "appreciation"
          }
         },
         "colorscale": [
          [
           0,
           "rgb(75, 41, 145)"
          ],
          [
           0.16666666666666666,
           "rgb(135, 44, 162)"
          ],
          [
           0.3333333333333333,
           "rgb(192, 54, 157)"
          ],
          [
           0.5,
           "rgb(234, 79, 136)"
          ],
          [
           0.6666666666666666,
           "rgb(250, 120, 118)"
          ],
          [
           0.8333333333333334,
           "rgb(246, 169, 122)"
          ],
          [
           1,
           "rgb(237, 217, 163)"
          ]
         ]
        },
        "legend": {
         "tracegroupgap": 0
        },
        "margin": {
         "t": 60
        },
        "template": {
         "data": {
          "bar": [
           {
            "error_x": {
             "color": "#f2f5fa"
            },
            "error_y": {
             "color": "#f2f5fa"
            },
            "marker": {
             "line": {
              "color": "rgb(17,17,17)",
              "width": 0.5
             },
             "pattern": {
              "fillmode": "overlay",
              "size": 10,
              "solidity": 0.2
             }
            },
            "type": "bar"
           }
          ],
          "barpolar": [
           {
            "marker": {
             "line": {
              "color": "rgb(17,17,17)",
              "width": 0.5
             },
             "pattern": {
              "fillmode": "overlay",
              "size": 10,
              "solidity": 0.2
             }
            },
            "type": "barpolar"
           }
          ],
          "carpet": [
           {
            "aaxis": {
             "endlinecolor": "#A2B1C6",
             "gridcolor": "#506784",
             "linecolor": "#506784",
             "minorgridcolor": "#506784",
             "startlinecolor": "#A2B1C6"
            },
            "baxis": {
             "endlinecolor": "#A2B1C6",
             "gridcolor": "#506784",
             "linecolor": "#506784",
             "minorgridcolor": "#506784",
             "startlinecolor": "#A2B1C6"
            },
            "type": "carpet"
           }
          ],
          "choropleth": [
           {
            "colorbar": {
             "outlinewidth": 0,
             "ticks": ""
            },
            "type": "choropleth"
           }
          ],
          "contour": [
           {
            "colorbar": {
             "outlinewidth": 0,
             "ticks": ""
            },
            "colorscale": [
             [
              0,
              "#0d0887"
             ],
             [
              0.1111111111111111,
              "#46039f"
             ],
             [
              0.2222222222222222,
              "#7201a8"
             ],
             [
              0.3333333333333333,
              "#9c179e"
             ],
             [
              0.4444444444444444,
              "#bd3786"
             ],
             [
              0.5555555555555556,
              "#d8576b"
             ],
             [
              0.6666666666666666,
              "#ed7953"
             ],
             [
              0.7777777777777778,
              "#fb9f3a"
             ],
             [
              0.8888888888888888,
              "#fdca26"
             ],
             [
              1,
              "#f0f921"
             ]
            ],
            "type": "contour"
           }
          ],
          "contourcarpet": [
           {
            "colorbar": {
             "outlinewidth": 0,
             "ticks": ""
            },
            "type": "contourcarpet"
           }
          ],
          "heatmap": [
           {
            "colorbar": {
             "outlinewidth": 0,
             "ticks": ""
            },
            "colorscale": [
             [
              0,
              "#0d0887"
             ],
             [
              0.1111111111111111,
              "#46039f"
             ],
             [
              0.2222222222222222,
              "#7201a8"
             ],
             [
              0.3333333333333333,
              "#9c179e"
             ],
             [
              0.4444444444444444,
              "#bd3786"
             ],
             [
              0.5555555555555556,
              "#d8576b"
             ],
             [
              0.6666666666666666,
              "#ed7953"
             ],
             [
              0.7777777777777778,
              "#fb9f3a"
             ],
             [
              0.8888888888888888,
              "#fdca26"
             ],
             [
              1,
              "#f0f921"
             ]
            ],
            "type": "heatmap"
           }
          ],
          "heatmapgl": [
           {
            "colorbar": {
             "outlinewidth": 0,
             "ticks": ""
            },
            "colorscale": [
             [
              0,
              "#0d0887"
             ],
             [
              0.1111111111111111,
              "#46039f"
             ],
             [
              0.2222222222222222,
              "#7201a8"
             ],
             [
              0.3333333333333333,
              "#9c179e"
             ],
             [
              0.4444444444444444,
              "#bd3786"
             ],
             [
              0.5555555555555556,
              "#d8576b"
             ],
             [
              0.6666666666666666,
              "#ed7953"
             ],
             [
              0.7777777777777778,
              "#fb9f3a"
             ],
             [
              0.8888888888888888,
              "#fdca26"
             ],
             [
              1,
              "#f0f921"
             ]
            ],
            "type": "heatmapgl"
           }
          ],
          "histogram": [
           {
            "marker": {
             "pattern": {
              "fillmode": "overlay",
              "size": 10,
              "solidity": 0.2
             }
            },
            "type": "histogram"
           }
          ],
          "histogram2d": [
           {
            "colorbar": {
             "outlinewidth": 0,
             "ticks": ""
            },
            "colorscale": [
             [
              0,
              "#0d0887"
             ],
             [
              0.1111111111111111,
              "#46039f"
             ],
             [
              0.2222222222222222,
              "#7201a8"
             ],
             [
              0.3333333333333333,
              "#9c179e"
             ],
             [
              0.4444444444444444,
              "#bd3786"
             ],
             [
              0.5555555555555556,
              "#d8576b"
             ],
             [
              0.6666666666666666,
              "#ed7953"
             ],
             [
              0.7777777777777778,
              "#fb9f3a"
             ],
             [
              0.8888888888888888,
              "#fdca26"
             ],
             [
              1,
              "#f0f921"
             ]
            ],
            "type": "histogram2d"
           }
          ],
          "histogram2dcontour": [
           {
            "colorbar": {
             "outlinewidth": 0,
             "ticks": ""
            },
            "colorscale": [
             [
              0,
              "#0d0887"
             ],
             [
              0.1111111111111111,
              "#46039f"
             ],
             [
              0.2222222222222222,
              "#7201a8"
             ],
             [
              0.3333333333333333,
              "#9c179e"
             ],
             [
              0.4444444444444444,
              "#bd3786"
             ],
             [
              0.5555555555555556,
              "#d8576b"
             ],
             [
              0.6666666666666666,
              "#ed7953"
             ],
             [
              0.7777777777777778,
              "#fb9f3a"
             ],
             [
              0.8888888888888888,
              "#fdca26"
             ],
             [
              1,
              "#f0f921"
             ]
            ],
            "type": "histogram2dcontour"
           }
          ],
          "mesh3d": [
           {
            "colorbar": {
             "outlinewidth": 0,
             "ticks": ""
            },
            "type": "mesh3d"
           }
          ],
          "parcoords": [
           {
            "line": {
             "colorbar": {
              "outlinewidth": 0,
              "ticks": ""
             }
            },
            "type": "parcoords"
           }
          ],
          "pie": [
           {
            "automargin": true,
            "type": "pie"
           }
          ],
          "scatter": [
           {
            "marker": {
             "line": {
              "color": "#283442"
             }
            },
            "type": "scatter"
           }
          ],
          "scatter3d": [
           {
            "line": {
             "colorbar": {
              "outlinewidth": 0,
              "ticks": ""
             }
            },
            "marker": {
             "colorbar": {
              "outlinewidth": 0,
              "ticks": ""
             }
            },
            "type": "scatter3d"
           }
          ],
          "scattercarpet": [
           {
            "marker": {
             "colorbar": {
              "outlinewidth": 0,
              "ticks": ""
             }
            },
            "type": "scattercarpet"
           }
          ],
          "scattergeo": [
           {
            "marker": {
             "colorbar": {
              "outlinewidth": 0,
              "ticks": ""
             }
            },
            "type": "scattergeo"
           }
          ],
          "scattergl": [
           {
            "marker": {
             "line": {
              "color": "#283442"
             }
            },
            "type": "scattergl"
           }
          ],
          "scattermapbox": [
           {
            "marker": {
             "colorbar": {
              "outlinewidth": 0,
              "ticks": ""
             }
            },
            "type": "scattermapbox"
           }
          ],
          "scatterpolar": [
           {
            "marker": {
             "colorbar": {
              "outlinewidth": 0,
              "ticks": ""
             }
            },
            "type": "scatterpolar"
           }
          ],
          "scatterpolargl": [
           {
            "marker": {
             "colorbar": {
              "outlinewidth": 0,
              "ticks": ""
             }
            },
            "type": "scatterpolargl"
           }
          ],
          "scatterternary": [
           {
            "marker": {
             "colorbar": {
              "outlinewidth": 0,
              "ticks": ""
             }
            },
            "type": "scatterternary"
           }
          ],
          "surface": [
           {
            "colorbar": {
             "outlinewidth": 0,
             "ticks": ""
            },
            "colorscale": [
             [
              0,
              "#0d0887"
             ],
             [
              0.1111111111111111,
              "#46039f"
             ],
             [
              0.2222222222222222,
              "#7201a8"
             ],
             [
              0.3333333333333333,
              "#9c179e"
             ],
             [
              0.4444444444444444,
              "#bd3786"
             ],
             [
              0.5555555555555556,
              "#d8576b"
             ],
             [
              0.6666666666666666,
              "#ed7953"
             ],
             [
              0.7777777777777778,
              "#fb9f3a"
             ],
             [
              0.8888888888888888,
              "#fdca26"
             ],
             [
              1,
              "#f0f921"
             ]
            ],
            "type": "surface"
           }
          ],
          "table": [
           {
            "cells": {
             "fill": {
              "color": "#506784"
             },
             "line": {
              "color": "rgb(17,17,17)"
             }
            },
            "header": {
             "fill": {
              "color": "#2a3f5f"
             },
             "line": {
              "color": "rgb(17,17,17)"
             }
            },
            "type": "table"
           }
          ]
         },
         "layout": {
          "annotationdefaults": {
           "arrowcolor": "#f2f5fa",
           "arrowhead": 0,
           "arrowwidth": 1
          },
          "autotypenumbers": "strict",
          "coloraxis": {
           "colorbar": {
            "outlinewidth": 0,
            "ticks": ""
           }
          },
          "colorscale": {
           "diverging": [
            [
             0,
             "#8e0152"
            ],
            [
             0.1,
             "#c51b7d"
            ],
            [
             0.2,
             "#de77ae"
            ],
            [
             0.3,
             "#f1b6da"
            ],
            [
             0.4,
             "#fde0ef"
            ],
            [
             0.5,
             "#f7f7f7"
            ],
            [
             0.6,
             "#e6f5d0"
            ],
            [
             0.7,
             "#b8e186"
            ],
            [
             0.8,
             "#7fbc41"
            ],
            [
             0.9,
             "#4d9221"
            ],
            [
             1,
             "#276419"
            ]
           ],
           "sequential": [
            [
             0,
             "#0d0887"
            ],
            [
             0.1111111111111111,
             "#46039f"
            ],
            [
             0.2222222222222222,
             "#7201a8"
            ],
            [
             0.3333333333333333,
             "#9c179e"
            ],
            [
             0.4444444444444444,
             "#bd3786"
            ],
            [
             0.5555555555555556,
             "#d8576b"
            ],
            [
             0.6666666666666666,
             "#ed7953"
            ],
            [
             0.7777777777777778,
             "#fb9f3a"
            ],
            [
             0.8888888888888888,
             "#fdca26"
            ],
            [
             1,
             "#f0f921"
            ]
           ],
           "sequentialminus": [
            [
             0,
             "#0d0887"
            ],
            [
             0.1111111111111111,
             "#46039f"
            ],
            [
             0.2222222222222222,
             "#7201a8"
            ],
            [
             0.3333333333333333,
             "#9c179e"
            ],
            [
             0.4444444444444444,
             "#bd3786"
            ],
            [
             0.5555555555555556,
             "#d8576b"
            ],
            [
             0.6666666666666666,
             "#ed7953"
            ],
            [
             0.7777777777777778,
             "#fb9f3a"
            ],
            [
             0.8888888888888888,
             "#fdca26"
            ],
            [
             1,
             "#f0f921"
            ]
           ]
          },
          "colorway": [
           "#636efa",
           "#EF553B",
           "#00cc96",
           "#ab63fa",
           "#FFA15A",
           "#19d3f3",
           "#FF6692",
           "#B6E880",
           "#FF97FF",
           "#FECB52"
          ],
          "font": {
           "color": "#f2f5fa"
          },
          "geo": {
           "bgcolor": "rgb(17,17,17)",
           "lakecolor": "rgb(17,17,17)",
           "landcolor": "rgb(17,17,17)",
           "showlakes": true,
           "showland": true,
           "subunitcolor": "#506784"
          },
          "hoverlabel": {
           "align": "left"
          },
          "hovermode": "closest",
          "mapbox": {
           "style": "dark"
          },
          "paper_bgcolor": "rgb(17,17,17)",
          "plot_bgcolor": "rgb(17,17,17)",
          "polar": {
           "angularaxis": {
            "gridcolor": "#506784",
            "linecolor": "#506784",
            "ticks": ""
           },
           "bgcolor": "rgb(17,17,17)",
           "radialaxis": {
            "gridcolor": "#506784",
            "linecolor": "#506784",
            "ticks": ""
           }
          },
          "scene": {
           "xaxis": {
            "backgroundcolor": "rgb(17,17,17)",
            "gridcolor": "#506784",
            "gridwidth": 2,
            "linecolor": "#506784",
            "showbackground": true,
            "ticks": "",
            "zerolinecolor": "#C8D4E3"
           },
           "yaxis": {
            "backgroundcolor": "rgb(17,17,17)",
            "gridcolor": "#506784",
            "gridwidth": 2,
            "linecolor": "#506784",
            "showbackground": true,
            "ticks": "",
            "zerolinecolor": "#C8D4E3"
           },
           "zaxis": {
            "backgroundcolor": "rgb(17,17,17)",
            "gridcolor": "#506784",
            "gridwidth": 2,
            "linecolor": "#506784",
            "showbackground": true,
            "ticks": "",
            "zerolinecolor": "#C8D4E3"
           }
          },
          "shapedefaults": {
           "line": {
            "color": "#f2f5fa"
           }
          },
          "sliderdefaults": {
           "bgcolor": "#C8D4E3",
           "bordercolor": "rgb(17,17,17)",
           "borderwidth": 1,
           "tickwidth": 0
          },
          "ternary": {
           "aaxis": {
            "gridcolor": "#506784",
            "linecolor": "#506784",
            "ticks": ""
           },
           "baxis": {
            "gridcolor": "#506784",
            "linecolor": "#506784",
            "ticks": ""
           },
           "bgcolor": "rgb(17,17,17)",
           "caxis": {
            "gridcolor": "#506784",
            "linecolor": "#506784",
            "ticks": ""
           }
          },
          "title": {
           "x": 0.05
          },
          "updatemenudefaults": {
           "bgcolor": "#506784",
           "borderwidth": 0
          },
          "xaxis": {
           "automargin": true,
           "gridcolor": "#283442",
           "linecolor": "#506784",
           "ticks": "",
           "title": {
            "standoff": 15
           },
           "zerolinecolor": "#283442",
           "zerolinewidth": 2
          },
          "yaxis": {
           "automargin": true,
           "gridcolor": "#283442",
           "linecolor": "#506784",
           "ticks": "",
           "title": {
            "standoff": 15
           },
           "zerolinecolor": "#283442",
           "zerolinewidth": 2
          }
         }
        },
        "xaxis": {
         "anchor": "y",
         "domain": [
          0,
          1
         ],
         "title": {
          "text": "season"
         }
        },
        "yaxis": {
         "anchor": "x",
         "domain": [
          0,
          1
         ],
         "title": {
          "text": "rating"
         }
        }
       }
      }
     },
     "metadata": {},
     "output_type": "display_data"
    }
   ],
   "source": [
    "px.scatter(df, x='season', y='rating', color='appreciation', hover_data=['title'])"
   ]
  },
  {
   "attachments": {},
   "cell_type": "markdown",
   "metadata": {},
   "source": [
    "### 3D Scatter Plots"
   ]
  },
  {
   "cell_type": "code",
   "execution_count": 14,
   "metadata": {},
   "outputs": [
    {
     "data": {
      "application/vnd.plotly.v1+json": {
       "config": {
        "plotlyServerURL": "https://plot.ly"
       },
       "data": [
        {
         "customdata": [
          [
           "Rose"
          ],
          [
           "The End of the World"
          ],
          [
           "The Unquiet Dead"
          ],
          [
           "Aliens of London"
          ],
          [
           "World War Three"
          ],
          [
           "Dalek"
          ],
          [
           "The Long Game"
          ],
          [
           "Father's Day"
          ],
          [
           "The Empty Child"
          ],
          [
           "The Doctor Dances"
          ],
          [
           "Boom Town"
          ],
          [
           "Bad Wolf"
          ],
          [
           "The Parting of the Ways"
          ],
          [
           "The Christmas Invasion"
          ],
          [
           "New Earth"
          ],
          [
           "Tooth and Claw"
          ],
          [
           "School Reunion"
          ],
          [
           "The Girl in the Fireplace"
          ],
          [
           "Rise of the Cybermen"
          ],
          [
           "The Age of Steel"
          ],
          [
           "The Idiot's Lantern"
          ],
          [
           "The Impossible Planet"
          ],
          [
           "The Satan Pit"
          ],
          [
           "Love and Monsters"
          ],
          [
           "Fear Her"
          ],
          [
           "Army of Ghosts"
          ],
          [
           "Doomsday"
          ],
          [
           "The Runaway Bride"
          ],
          [
           "Smith and Jones"
          ],
          [
           "The Shakespeare Code"
          ],
          [
           "Gridlock"
          ],
          [
           "Daleks in Manhattan"
          ],
          [
           "Evolution of the Daleks"
          ],
          [
           "The Lazarus Experiment"
          ],
          [
           "42"
          ],
          [
           "Human Nature"
          ],
          [
           "Family of Blood"
          ],
          [
           "Blink"
          ],
          [
           "Utopia"
          ],
          [
           "The Sound of Drums"
          ],
          [
           "Last of the Time Lords"
          ],
          [
           "Voyage of the Damned"
          ],
          [
           "Partners in Crime"
          ],
          [
           "The Fires of Pompeii"
          ],
          [
           "Planet of the Ood"
          ],
          [
           "The Sontaran Stratagem"
          ],
          [
           "The Poison Sky"
          ],
          [
           "The Doctor's Daughter"
          ],
          [
           "The Unicorn and the Wasp"
          ],
          [
           "Silence in the Library"
          ],
          [
           "Forest of the Dead"
          ],
          [
           "Midnight"
          ],
          [
           "Turn Left"
          ],
          [
           "The Stolen Earth"
          ],
          [
           "Journey's End"
          ],
          [
           "The Eleventh Hour"
          ],
          [
           "The Beast Below"
          ],
          [
           "Victory of the Daleks"
          ],
          [
           "The Time of Angels"
          ],
          [
           "Flesh and Stone"
          ],
          [
           "The Vampires of Venice"
          ],
          [
           "Amy's Choice"
          ],
          [
           "The Hungry Earth"
          ],
          [
           "Cold Blood"
          ],
          [
           "Vincent and the Doctor"
          ],
          [
           "The Lodger"
          ],
          [
           "The Pandorica Opens"
          ],
          [
           "The Big Bang"
          ],
          [
           "A Christmas Carol"
          ],
          [
           "The Impossible Astronaut"
          ],
          [
           "Day of the Moon"
          ],
          [
           "Curse of the Black Spot"
          ],
          [
           "The Doctor's Wife"
          ],
          [
           "The Rebel Flesh"
          ],
          [
           "The Almost People"
          ],
          [
           "A Good Man Goes to War"
          ],
          [
           "Let's Kill Hitler"
          ],
          [
           "Night Terrors"
          ],
          [
           "The Girl Who Waited"
          ],
          [
           "The God Complex"
          ],
          [
           "Closing Time"
          ],
          [
           "The Wedding of River Song"
          ],
          [
           "The Doctor, the Widow, and the Wardrobe"
          ],
          [
           "Asylum of the Daleks"
          ],
          [
           "Dinosaurs on a Spaceship"
          ],
          [
           "A Town Called Mercy"
          ],
          [
           "The Power of Three"
          ],
          [
           "The Angels Take Manhattan"
          ],
          [
           "The Snowmen"
          ],
          [
           "The Bells of Saint John"
          ],
          [
           "The Rings of Akhaten"
          ],
          [
           "Cold War"
          ],
          [
           "Hide"
          ],
          [
           "Journey to the Centre of the TARDIS"
          ],
          [
           "The Crimson Horror"
          ],
          [
           "Nightmare in Silver"
          ],
          [
           "The Name of the Doctor"
          ],
          [
           "Deep Breath"
          ],
          [
           "Into the Dalek"
          ],
          [
           "Robot of Sherwood"
          ],
          [
           "Listen"
          ],
          [
           "Time Heist"
          ],
          [
           "The Caretaker"
          ],
          [
           "Kill the Moon"
          ],
          [
           "Mummy on the Orient Express"
          ],
          [
           "Flatline"
          ],
          [
           "In the Forest of the Night"
          ],
          [
           "Dark Water"
          ],
          [
           "Death in Heaven"
          ],
          [
           "The Magician's Apprentice"
          ],
          [
           "The Witch's Familiar"
          ],
          [
           "Under the Lake"
          ],
          [
           "Before The Flood"
          ],
          [
           "The Girl Who Died"
          ],
          [
           "The Woman Who Lived"
          ],
          [
           "The Zygon Invasion"
          ],
          [
           "The Zygon Inversion"
          ],
          [
           "Sleep No More"
          ],
          [
           "Face The Raven"
          ],
          [
           "Heaven Sent"
          ],
          [
           "Hell Bent"
          ],
          [
           "The Husbands of River Song"
          ],
          [
           "The Return of Doctor Mysterio"
          ],
          [
           "The Pilot"
          ],
          [
           "Smile"
          ],
          [
           "Thin Ice"
          ],
          [
           "Knock Knock"
          ],
          [
           "Oxygen"
          ],
          [
           "Extremis"
          ],
          [
           "The Pyramid at the End of the World"
          ],
          [
           "The Lie of the Land"
          ],
          [
           "Empress of Mars"
          ],
          [
           "The Eaters of Light"
          ],
          [
           "World Enough and Time"
          ],
          [
           "The Doctor Falls"
          ],
          [
           "The Woman Who Fell to Earth"
          ],
          [
           "The Ghost Monument"
          ],
          [
           "Rosa"
          ],
          [
           "Arachnids in the UK"
          ],
          [
           "The Tsuranga Conundrum"
          ],
          [
           "Demons of the Punjab"
          ],
          [
           "Kerblam!"
          ],
          [
           "The Witchfinders"
          ],
          [
           "It Takes You Away"
          ],
          [
           "The Battle of Ranskoor Av Kolos"
          ],
          [
           "Resolution"
          ]
         ],
         "hovertemplate": "season=%{x}<br>rating=%{y}<br>votes=%{z}<br>title=%{customdata[0]}<br>doctorid=%{marker.color}<extra></extra>",
         "legendgroup": "",
         "marker": {
          "color": [
           9,
           9,
           9,
           9,
           9,
           9,
           9,
           9,
           9,
           9,
           9,
           9,
           9,
           10,
           10,
           10,
           10,
           10,
           10,
           10,
           10,
           10,
           10,
           10,
           10,
           10,
           10,
           10,
           10,
           10,
           10,
           10,
           10,
           10,
           10,
           10,
           10,
           10,
           10,
           10,
           10,
           10,
           10,
           10,
           10,
           10,
           10,
           10,
           10,
           10,
           10,
           10,
           10,
           10,
           10,
           11,
           11,
           11,
           11,
           11,
           11,
           11,
           11,
           11,
           11,
           11,
           11,
           11,
           11,
           11,
           11,
           11,
           11,
           11,
           11,
           11,
           11,
           11,
           11,
           11,
           11,
           11,
           11,
           11,
           11,
           11,
           11,
           11,
           11,
           11,
           11,
           11,
           11,
           11,
           11,
           11,
           11,
           12,
           12,
           12,
           12,
           12,
           12,
           12,
           12,
           12,
           12,
           12,
           12,
           12,
           12,
           12,
           12,
           12,
           12,
           12,
           12,
           12,
           12,
           12,
           12,
           12,
           12,
           12,
           12,
           12,
           12,
           12,
           12,
           12,
           12,
           12,
           12,
           12,
           12,
           13,
           13,
           13,
           13,
           13,
           13,
           13,
           13,
           13,
           13,
           13
          ],
          "coloraxis": "coloraxis",
          "symbol": "circle"
         },
         "mode": "markers",
         "name": "",
         "scene": "scene",
         "showlegend": false,
         "type": "scatter3d",
         "x": [
          1,
          1,
          1,
          1,
          1,
          1,
          1,
          1,
          1,
          1,
          1,
          1,
          1,
          2,
          2,
          2,
          2,
          2,
          2,
          2,
          2,
          2,
          2,
          2,
          2,
          2,
          2,
          3,
          3,
          3,
          3,
          3,
          3,
          3,
          3,
          3,
          3,
          3,
          3,
          3,
          3,
          4,
          4,
          4,
          4,
          4,
          4,
          4,
          4,
          4,
          4,
          4,
          4,
          4,
          4,
          5,
          5,
          5,
          5,
          5,
          5,
          5,
          5,
          5,
          5,
          5,
          5,
          5,
          6,
          6,
          6,
          6,
          6,
          6,
          6,
          6,
          6,
          6,
          6,
          6,
          6,
          6,
          7,
          7,
          7,
          7,
          7,
          7,
          7,
          7,
          7,
          7,
          7,
          7,
          7,
          7,
          7,
          8,
          8,
          8,
          8,
          8,
          8,
          8,
          8,
          8,
          8,
          8,
          8,
          9,
          9,
          9,
          9,
          9,
          9,
          9,
          9,
          9,
          9,
          9,
          9,
          9,
          10,
          10,
          10,
          10,
          10,
          10,
          10,
          10,
          10,
          10,
          10,
          10,
          10,
          11,
          11,
          11,
          11,
          11,
          11,
          11,
          11,
          11,
          11,
          11
         ],
         "y": [
          7.6,
          7.6,
          7.6,
          7,
          7.1,
          8.7,
          7.2,
          8.4,
          9.2,
          9.1,
          7.2,
          8.7,
          9.1,
          8.2,
          7.5,
          7.9,
          8.4,
          9.3,
          7.8,
          7.9,
          6.9,
          8.7,
          8.8,
          6.2,
          6.1,
          8.5,
          9.3,
          7.6,
          8,
          7.8,
          8.1,
          7,
          7,
          6.7,
          7.5,
          9,
          9.2,
          9.8,
          8.8,
          8.7,
          8.4,
          7.7,
          7.8,
          8.1,
          8.1,
          7.5,
          7.6,
          7.7,
          7.8,
          9.4,
          9.5,
          9,
          8.9,
          9.1,
          9.1,
          8.8,
          7.6,
          6.8,
          8.7,
          8.6,
          7.1,
          8.2,
          7.3,
          7.5,
          9.3,
          8.3,
          9.1,
          9.2,
          8.6,
          8.9,
          8.9,
          6.8,
          9,
          7.3,
          7.5,
          9.1,
          8.1,
          7.1,
          8.5,
          8.1,
          7.7,
          8.6,
          7.3,
          8.7,
          7.5,
          7.5,
          7.6,
          9,
          8.5,
          8,
          7.4,
          7.3,
          7.8,
          7.5,
          7.4,
          7.4,
          9.1,
          8,
          7.8,
          7.1,
          8.9,
          8,
          7.4,
          7,
          8.5,
          8.5,
          6.1,
          8.7,
          7.9,
          8.5,
          8.5,
          8.3,
          8.1,
          7.7,
          7.6,
          7.9,
          8.6,
          6,
          8.6,
          9.6,
          8.7,
          8.6,
          7.5,
          7.9,
          7.2,
          7.3,
          7.5,
          8.1,
          8.5,
          7.7,
          7.2,
          7.1,
          7,
          9.2,
          9,
          7.1,
          6.2,
          7.1,
          5.3,
          5.2,
          6.6,
          6.4,
          5.9,
          6.4,
          5.5,
          6
         ],
         "z": [
          6504,
          5684,
          5326,
          5116,
          4943,
          5636,
          4872,
          5433,
          6659,
          6108,
          4631,
          5314,
          5788,
          5291,
          4891,
          5041,
          5397,
          8504,
          4688,
          4636,
          4814,
          5399,
          5609,
          5738,
          5047,
          4885,
          6836,
          4991,
          4869,
          4925,
          5037,
          4589,
          4611,
          4652,
          4458,
          5818,
          6456,
          16398,
          5221,
          5275,
          5541,
          5146,
          4802,
          4942,
          4737,
          4232,
          4206,
          4777,
          4667,
          6979,
          7282,
          6405,
          5414,
          5385,
          6242,
          6254,
          4837,
          4722,
          5288,
          4795,
          4491,
          4788,
          4208,
          4206,
          8393,
          4737,
          5408,
          5616,
          5707,
          5536,
          5083,
          4478,
          5989,
          3925,
          3876,
          5716,
          4519,
          3836,
          4521,
          4188,
          3924,
          4890,
          4240,
          5729,
          4676,
          4452,
          4279,
          6253,
          5154,
          4377,
          4763,
          4000,
          3970,
          3981,
          3800,
          3811,
          6126,
          6505,
          4995,
          5127,
          6451,
          4573,
          4001,
          4651,
          4470,
          4280,
          4181,
          4562,
          4340,
          4716,
          4109,
          3931,
          3651,
          3733,
          3610,
          3454,
          3775,
          3866,
          4224,
          8256,
          4808,
          3948,
          3819,
          3778,
          3104,
          2965,
          2932,
          3022,
          3112,
          2650,
          2560,
          2520,
          2494,
          3564,
          3584,
          8066,
          5928,
          7041,
          5112,
          4684,
          4661,
          3954,
          3635,
          3404,
          2949,
          2690
         ]
        }
       ],
       "layout": {
        "coloraxis": {
         "colorbar": {
          "title": {
           "text": "doctorid"
          }
         },
         "colorscale": [
          [
           0,
           "rgb(75, 41, 145)"
          ],
          [
           0.16666666666666666,
           "rgb(135, 44, 162)"
          ],
          [
           0.3333333333333333,
           "rgb(192, 54, 157)"
          ],
          [
           0.5,
           "rgb(234, 79, 136)"
          ],
          [
           0.6666666666666666,
           "rgb(250, 120, 118)"
          ],
          [
           0.8333333333333334,
           "rgb(246, 169, 122)"
          ],
          [
           1,
           "rgb(237, 217, 163)"
          ]
         ]
        },
        "legend": {
         "tracegroupgap": 0
        },
        "margin": {
         "t": 60
        },
        "scene": {
         "domain": {
          "x": [
           0,
           1
          ],
          "y": [
           0,
           1
          ]
         },
         "xaxis": {
          "title": {
           "text": "season"
          }
         },
         "yaxis": {
          "title": {
           "text": "rating"
          }
         },
         "zaxis": {
          "title": {
           "text": "votes"
          }
         }
        },
        "template": {
         "data": {
          "bar": [
           {
            "error_x": {
             "color": "#f2f5fa"
            },
            "error_y": {
             "color": "#f2f5fa"
            },
            "marker": {
             "line": {
              "color": "rgb(17,17,17)",
              "width": 0.5
             },
             "pattern": {
              "fillmode": "overlay",
              "size": 10,
              "solidity": 0.2
             }
            },
            "type": "bar"
           }
          ],
          "barpolar": [
           {
            "marker": {
             "line": {
              "color": "rgb(17,17,17)",
              "width": 0.5
             },
             "pattern": {
              "fillmode": "overlay",
              "size": 10,
              "solidity": 0.2
             }
            },
            "type": "barpolar"
           }
          ],
          "carpet": [
           {
            "aaxis": {
             "endlinecolor": "#A2B1C6",
             "gridcolor": "#506784",
             "linecolor": "#506784",
             "minorgridcolor": "#506784",
             "startlinecolor": "#A2B1C6"
            },
            "baxis": {
             "endlinecolor": "#A2B1C6",
             "gridcolor": "#506784",
             "linecolor": "#506784",
             "minorgridcolor": "#506784",
             "startlinecolor": "#A2B1C6"
            },
            "type": "carpet"
           }
          ],
          "choropleth": [
           {
            "colorbar": {
             "outlinewidth": 0,
             "ticks": ""
            },
            "type": "choropleth"
           }
          ],
          "contour": [
           {
            "colorbar": {
             "outlinewidth": 0,
             "ticks": ""
            },
            "colorscale": [
             [
              0,
              "#0d0887"
             ],
             [
              0.1111111111111111,
              "#46039f"
             ],
             [
              0.2222222222222222,
              "#7201a8"
             ],
             [
              0.3333333333333333,
              "#9c179e"
             ],
             [
              0.4444444444444444,
              "#bd3786"
             ],
             [
              0.5555555555555556,
              "#d8576b"
             ],
             [
              0.6666666666666666,
              "#ed7953"
             ],
             [
              0.7777777777777778,
              "#fb9f3a"
             ],
             [
              0.8888888888888888,
              "#fdca26"
             ],
             [
              1,
              "#f0f921"
             ]
            ],
            "type": "contour"
           }
          ],
          "contourcarpet": [
           {
            "colorbar": {
             "outlinewidth": 0,
             "ticks": ""
            },
            "type": "contourcarpet"
           }
          ],
          "heatmap": [
           {
            "colorbar": {
             "outlinewidth": 0,
             "ticks": ""
            },
            "colorscale": [
             [
              0,
              "#0d0887"
             ],
             [
              0.1111111111111111,
              "#46039f"
             ],
             [
              0.2222222222222222,
              "#7201a8"
             ],
             [
              0.3333333333333333,
              "#9c179e"
             ],
             [
              0.4444444444444444,
              "#bd3786"
             ],
             [
              0.5555555555555556,
              "#d8576b"
             ],
             [
              0.6666666666666666,
              "#ed7953"
             ],
             [
              0.7777777777777778,
              "#fb9f3a"
             ],
             [
              0.8888888888888888,
              "#fdca26"
             ],
             [
              1,
              "#f0f921"
             ]
            ],
            "type": "heatmap"
           }
          ],
          "heatmapgl": [
           {
            "colorbar": {
             "outlinewidth": 0,
             "ticks": ""
            },
            "colorscale": [
             [
              0,
              "#0d0887"
             ],
             [
              0.1111111111111111,
              "#46039f"
             ],
             [
              0.2222222222222222,
              "#7201a8"
             ],
             [
              0.3333333333333333,
              "#9c179e"
             ],
             [
              0.4444444444444444,
              "#bd3786"
             ],
             [
              0.5555555555555556,
              "#d8576b"
             ],
             [
              0.6666666666666666,
              "#ed7953"
             ],
             [
              0.7777777777777778,
              "#fb9f3a"
             ],
             [
              0.8888888888888888,
              "#fdca26"
             ],
             [
              1,
              "#f0f921"
             ]
            ],
            "type": "heatmapgl"
           }
          ],
          "histogram": [
           {
            "marker": {
             "pattern": {
              "fillmode": "overlay",
              "size": 10,
              "solidity": 0.2
             }
            },
            "type": "histogram"
           }
          ],
          "histogram2d": [
           {
            "colorbar": {
             "outlinewidth": 0,
             "ticks": ""
            },
            "colorscale": [
             [
              0,
              "#0d0887"
             ],
             [
              0.1111111111111111,
              "#46039f"
             ],
             [
              0.2222222222222222,
              "#7201a8"
             ],
             [
              0.3333333333333333,
              "#9c179e"
             ],
             [
              0.4444444444444444,
              "#bd3786"
             ],
             [
              0.5555555555555556,
              "#d8576b"
             ],
             [
              0.6666666666666666,
              "#ed7953"
             ],
             [
              0.7777777777777778,
              "#fb9f3a"
             ],
             [
              0.8888888888888888,
              "#fdca26"
             ],
             [
              1,
              "#f0f921"
             ]
            ],
            "type": "histogram2d"
           }
          ],
          "histogram2dcontour": [
           {
            "colorbar": {
             "outlinewidth": 0,
             "ticks": ""
            },
            "colorscale": [
             [
              0,
              "#0d0887"
             ],
             [
              0.1111111111111111,
              "#46039f"
             ],
             [
              0.2222222222222222,
              "#7201a8"
             ],
             [
              0.3333333333333333,
              "#9c179e"
             ],
             [
              0.4444444444444444,
              "#bd3786"
             ],
             [
              0.5555555555555556,
              "#d8576b"
             ],
             [
              0.6666666666666666,
              "#ed7953"
             ],
             [
              0.7777777777777778,
              "#fb9f3a"
             ],
             [
              0.8888888888888888,
              "#fdca26"
             ],
             [
              1,
              "#f0f921"
             ]
            ],
            "type": "histogram2dcontour"
           }
          ],
          "mesh3d": [
           {
            "colorbar": {
             "outlinewidth": 0,
             "ticks": ""
            },
            "type": "mesh3d"
           }
          ],
          "parcoords": [
           {
            "line": {
             "colorbar": {
              "outlinewidth": 0,
              "ticks": ""
             }
            },
            "type": "parcoords"
           }
          ],
          "pie": [
           {
            "automargin": true,
            "type": "pie"
           }
          ],
          "scatter": [
           {
            "marker": {
             "line": {
              "color": "#283442"
             }
            },
            "type": "scatter"
           }
          ],
          "scatter3d": [
           {
            "line": {
             "colorbar": {
              "outlinewidth": 0,
              "ticks": ""
             }
            },
            "marker": {
             "colorbar": {
              "outlinewidth": 0,
              "ticks": ""
             }
            },
            "type": "scatter3d"
           }
          ],
          "scattercarpet": [
           {
            "marker": {
             "colorbar": {
              "outlinewidth": 0,
              "ticks": ""
             }
            },
            "type": "scattercarpet"
           }
          ],
          "scattergeo": [
           {
            "marker": {
             "colorbar": {
              "outlinewidth": 0,
              "ticks": ""
             }
            },
            "type": "scattergeo"
           }
          ],
          "scattergl": [
           {
            "marker": {
             "line": {
              "color": "#283442"
             }
            },
            "type": "scattergl"
           }
          ],
          "scattermapbox": [
           {
            "marker": {
             "colorbar": {
              "outlinewidth": 0,
              "ticks": ""
             }
            },
            "type": "scattermapbox"
           }
          ],
          "scatterpolar": [
           {
            "marker": {
             "colorbar": {
              "outlinewidth": 0,
              "ticks": ""
             }
            },
            "type": "scatterpolar"
           }
          ],
          "scatterpolargl": [
           {
            "marker": {
             "colorbar": {
              "outlinewidth": 0,
              "ticks": ""
             }
            },
            "type": "scatterpolargl"
           }
          ],
          "scatterternary": [
           {
            "marker": {
             "colorbar": {
              "outlinewidth": 0,
              "ticks": ""
             }
            },
            "type": "scatterternary"
           }
          ],
          "surface": [
           {
            "colorbar": {
             "outlinewidth": 0,
             "ticks": ""
            },
            "colorscale": [
             [
              0,
              "#0d0887"
             ],
             [
              0.1111111111111111,
              "#46039f"
             ],
             [
              0.2222222222222222,
              "#7201a8"
             ],
             [
              0.3333333333333333,
              "#9c179e"
             ],
             [
              0.4444444444444444,
              "#bd3786"
             ],
             [
              0.5555555555555556,
              "#d8576b"
             ],
             [
              0.6666666666666666,
              "#ed7953"
             ],
             [
              0.7777777777777778,
              "#fb9f3a"
             ],
             [
              0.8888888888888888,
              "#fdca26"
             ],
             [
              1,
              "#f0f921"
             ]
            ],
            "type": "surface"
           }
          ],
          "table": [
           {
            "cells": {
             "fill": {
              "color": "#506784"
             },
             "line": {
              "color": "rgb(17,17,17)"
             }
            },
            "header": {
             "fill": {
              "color": "#2a3f5f"
             },
             "line": {
              "color": "rgb(17,17,17)"
             }
            },
            "type": "table"
           }
          ]
         },
         "layout": {
          "annotationdefaults": {
           "arrowcolor": "#f2f5fa",
           "arrowhead": 0,
           "arrowwidth": 1
          },
          "autotypenumbers": "strict",
          "coloraxis": {
           "colorbar": {
            "outlinewidth": 0,
            "ticks": ""
           }
          },
          "colorscale": {
           "diverging": [
            [
             0,
             "#8e0152"
            ],
            [
             0.1,
             "#c51b7d"
            ],
            [
             0.2,
             "#de77ae"
            ],
            [
             0.3,
             "#f1b6da"
            ],
            [
             0.4,
             "#fde0ef"
            ],
            [
             0.5,
             "#f7f7f7"
            ],
            [
             0.6,
             "#e6f5d0"
            ],
            [
             0.7,
             "#b8e186"
            ],
            [
             0.8,
             "#7fbc41"
            ],
            [
             0.9,
             "#4d9221"
            ],
            [
             1,
             "#276419"
            ]
           ],
           "sequential": [
            [
             0,
             "#0d0887"
            ],
            [
             0.1111111111111111,
             "#46039f"
            ],
            [
             0.2222222222222222,
             "#7201a8"
            ],
            [
             0.3333333333333333,
             "#9c179e"
            ],
            [
             0.4444444444444444,
             "#bd3786"
            ],
            [
             0.5555555555555556,
             "#d8576b"
            ],
            [
             0.6666666666666666,
             "#ed7953"
            ],
            [
             0.7777777777777778,
             "#fb9f3a"
            ],
            [
             0.8888888888888888,
             "#fdca26"
            ],
            [
             1,
             "#f0f921"
            ]
           ],
           "sequentialminus": [
            [
             0,
             "#0d0887"
            ],
            [
             0.1111111111111111,
             "#46039f"
            ],
            [
             0.2222222222222222,
             "#7201a8"
            ],
            [
             0.3333333333333333,
             "#9c179e"
            ],
            [
             0.4444444444444444,
             "#bd3786"
            ],
            [
             0.5555555555555556,
             "#d8576b"
            ],
            [
             0.6666666666666666,
             "#ed7953"
            ],
            [
             0.7777777777777778,
             "#fb9f3a"
            ],
            [
             0.8888888888888888,
             "#fdca26"
            ],
            [
             1,
             "#f0f921"
            ]
           ]
          },
          "colorway": [
           "#636efa",
           "#EF553B",
           "#00cc96",
           "#ab63fa",
           "#FFA15A",
           "#19d3f3",
           "#FF6692",
           "#B6E880",
           "#FF97FF",
           "#FECB52"
          ],
          "font": {
           "color": "#f2f5fa"
          },
          "geo": {
           "bgcolor": "rgb(17,17,17)",
           "lakecolor": "rgb(17,17,17)",
           "landcolor": "rgb(17,17,17)",
           "showlakes": true,
           "showland": true,
           "subunitcolor": "#506784"
          },
          "hoverlabel": {
           "align": "left"
          },
          "hovermode": "closest",
          "mapbox": {
           "style": "dark"
          },
          "paper_bgcolor": "rgb(17,17,17)",
          "plot_bgcolor": "rgb(17,17,17)",
          "polar": {
           "angularaxis": {
            "gridcolor": "#506784",
            "linecolor": "#506784",
            "ticks": ""
           },
           "bgcolor": "rgb(17,17,17)",
           "radialaxis": {
            "gridcolor": "#506784",
            "linecolor": "#506784",
            "ticks": ""
           }
          },
          "scene": {
           "xaxis": {
            "backgroundcolor": "rgb(17,17,17)",
            "gridcolor": "#506784",
            "gridwidth": 2,
            "linecolor": "#506784",
            "showbackground": true,
            "ticks": "",
            "zerolinecolor": "#C8D4E3"
           },
           "yaxis": {
            "backgroundcolor": "rgb(17,17,17)",
            "gridcolor": "#506784",
            "gridwidth": 2,
            "linecolor": "#506784",
            "showbackground": true,
            "ticks": "",
            "zerolinecolor": "#C8D4E3"
           },
           "zaxis": {
            "backgroundcolor": "rgb(17,17,17)",
            "gridcolor": "#506784",
            "gridwidth": 2,
            "linecolor": "#506784",
            "showbackground": true,
            "ticks": "",
            "zerolinecolor": "#C8D4E3"
           }
          },
          "shapedefaults": {
           "line": {
            "color": "#f2f5fa"
           }
          },
          "sliderdefaults": {
           "bgcolor": "#C8D4E3",
           "bordercolor": "rgb(17,17,17)",
           "borderwidth": 1,
           "tickwidth": 0
          },
          "ternary": {
           "aaxis": {
            "gridcolor": "#506784",
            "linecolor": "#506784",
            "ticks": ""
           },
           "baxis": {
            "gridcolor": "#506784",
            "linecolor": "#506784",
            "ticks": ""
           },
           "bgcolor": "rgb(17,17,17)",
           "caxis": {
            "gridcolor": "#506784",
            "linecolor": "#506784",
            "ticks": ""
           }
          },
          "title": {
           "x": 0.05
          },
          "updatemenudefaults": {
           "bgcolor": "#506784",
           "borderwidth": 0
          },
          "xaxis": {
           "automargin": true,
           "gridcolor": "#283442",
           "linecolor": "#506784",
           "ticks": "",
           "title": {
            "standoff": 15
           },
           "zerolinecolor": "#283442",
           "zerolinewidth": 2
          },
          "yaxis": {
           "automargin": true,
           "gridcolor": "#283442",
           "linecolor": "#506784",
           "ticks": "",
           "title": {
            "standoff": 15
           },
           "zerolinecolor": "#283442",
           "zerolinewidth": 2
          }
         }
        }
       }
      }
     },
     "metadata": {},
     "output_type": "display_data"
    }
   ],
   "source": [
    "px.scatter_3d(df, x='season', y='rating', z='votes', color='doctorid', hover_data=['title'])"
   ]
  },
  {
   "attachments": {},
   "cell_type": "markdown",
   "metadata": {},
   "source": [
    "### Histograms"
   ]
  },
  {
   "cell_type": "code",
   "execution_count": 40,
   "metadata": {},
   "outputs": [
    {
     "data": {
      "application/vnd.plotly.v1+json": {
       "config": {
        "plotlyServerURL": "https://plot.ly"
       },
       "data": [
        {
         "alignmentgroup": "True",
         "bingroup": "x",
         "hovertemplate": "has_13=0<br>rating=%{x}<br>count=%{y}<extra></extra>",
         "legendgroup": "0",
         "marker": {
          "color": "rgb(95, 70, 144)",
          "pattern": {
           "shape": ""
          }
         },
         "name": "0",
         "nbinsx": 50,
         "offsetgroup": "0",
         "orientation": "v",
         "showlegend": true,
         "type": "histogram",
         "x": [
          7.6,
          7.6,
          7.6,
          7,
          7.1,
          8.7,
          7.2,
          8.4,
          9.2,
          9.1,
          7.2,
          8.7,
          9.1,
          8.2,
          7.5,
          7.9,
          8.4,
          9.3,
          7.8,
          7.9,
          6.9,
          8.7,
          8.8,
          6.2,
          6.1,
          8.5,
          9.3,
          7.6,
          8,
          7.8,
          8.1,
          7,
          7,
          6.7,
          7.5,
          9,
          9.2,
          9.8,
          8.8,
          8.7,
          8.4,
          7.7,
          7.8,
          8.1,
          8.1,
          7.5,
          7.6,
          7.7,
          7.8,
          9.4,
          9.5,
          9,
          8.9,
          9.1,
          9.1,
          8.8,
          7.6,
          6.8,
          8.7,
          8.6,
          7.1,
          8.2,
          7.3,
          7.5,
          9.3,
          8.3,
          9.1,
          9.2,
          8.6,
          8.9,
          8.9,
          6.8,
          9,
          7.3,
          7.5,
          9.1,
          8.1,
          7.1,
          8.5,
          8.1,
          7.7,
          8.6,
          7.3,
          8.7,
          7.5,
          7.5,
          7.6,
          9,
          8.5,
          8,
          7.4,
          7.3,
          7.8,
          7.5,
          7.4,
          7.4,
          9.1,
          8,
          7.8,
          7.1,
          8.9,
          8,
          7.4,
          7,
          8.5,
          8.5,
          6.1,
          8.7,
          7.9,
          8.5,
          8.5,
          8.3,
          8.1,
          7.7,
          7.6,
          7.9,
          8.6,
          6,
          8.6,
          9.6,
          8.7,
          8.6,
          7.5,
          7.9,
          7.2,
          7.3,
          7.5,
          8.1,
          8.5,
          7.7,
          7.2,
          7.1,
          7,
          9.2,
          9
         ],
         "xaxis": "x",
         "yaxis": "y"
        },
        {
         "alignmentgroup": "True",
         "hovertemplate": "has_13=0<br>rating=%{x}<extra></extra>",
         "legendgroup": "0",
         "marker": {
          "color": "rgb(95, 70, 144)"
         },
         "name": "0",
         "offsetgroup": "0",
         "scalegroup": "x",
         "showlegend": false,
         "type": "violin",
         "x": [
          7.6,
          7.6,
          7.6,
          7,
          7.1,
          8.7,
          7.2,
          8.4,
          9.2,
          9.1,
          7.2,
          8.7,
          9.1,
          8.2,
          7.5,
          7.9,
          8.4,
          9.3,
          7.8,
          7.9,
          6.9,
          8.7,
          8.8,
          6.2,
          6.1,
          8.5,
          9.3,
          7.6,
          8,
          7.8,
          8.1,
          7,
          7,
          6.7,
          7.5,
          9,
          9.2,
          9.8,
          8.8,
          8.7,
          8.4,
          7.7,
          7.8,
          8.1,
          8.1,
          7.5,
          7.6,
          7.7,
          7.8,
          9.4,
          9.5,
          9,
          8.9,
          9.1,
          9.1,
          8.8,
          7.6,
          6.8,
          8.7,
          8.6,
          7.1,
          8.2,
          7.3,
          7.5,
          9.3,
          8.3,
          9.1,
          9.2,
          8.6,
          8.9,
          8.9,
          6.8,
          9,
          7.3,
          7.5,
          9.1,
          8.1,
          7.1,
          8.5,
          8.1,
          7.7,
          8.6,
          7.3,
          8.7,
          7.5,
          7.5,
          7.6,
          9,
          8.5,
          8,
          7.4,
          7.3,
          7.8,
          7.5,
          7.4,
          7.4,
          9.1,
          8,
          7.8,
          7.1,
          8.9,
          8,
          7.4,
          7,
          8.5,
          8.5,
          6.1,
          8.7,
          7.9,
          8.5,
          8.5,
          8.3,
          8.1,
          7.7,
          7.6,
          7.9,
          8.6,
          6,
          8.6,
          9.6,
          8.7,
          8.6,
          7.5,
          7.9,
          7.2,
          7.3,
          7.5,
          8.1,
          8.5,
          7.7,
          7.2,
          7.1,
          7,
          9.2,
          9
         ],
         "xaxis": "x2",
         "yaxis": "y2"
        },
        {
         "alignmentgroup": "True",
         "bingroup": "x",
         "hovertemplate": "has_13=1<br>rating=%{x}<br>count=%{y}<extra></extra>",
         "legendgroup": "1",
         "marker": {
          "color": "rgb(29, 105, 150)",
          "pattern": {
           "shape": ""
          }
         },
         "name": "1",
         "nbinsx": 50,
         "offsetgroup": "1",
         "orientation": "v",
         "showlegend": true,
         "type": "histogram",
         "x": [
          7.1,
          6.2,
          7.1,
          5.3,
          5.2,
          6.6,
          6.4,
          5.9,
          6.4,
          5.5,
          6
         ],
         "xaxis": "x",
         "yaxis": "y"
        },
        {
         "alignmentgroup": "True",
         "hovertemplate": "has_13=1<br>rating=%{x}<extra></extra>",
         "legendgroup": "1",
         "marker": {
          "color": "rgb(29, 105, 150)"
         },
         "name": "1",
         "offsetgroup": "1",
         "scalegroup": "x",
         "showlegend": false,
         "type": "violin",
         "x": [
          7.1,
          6.2,
          7.1,
          5.3,
          5.2,
          6.6,
          6.4,
          5.9,
          6.4,
          5.5,
          6
         ],
         "xaxis": "x2",
         "yaxis": "y2"
        }
       ],
       "layout": {
        "barmode": "relative",
        "legend": {
         "title": {
          "text": "has_13"
         },
         "tracegroupgap": 0
        },
        "margin": {
         "t": 60
        },
        "template": {
         "data": {
          "bar": [
           {
            "error_x": {
             "color": "#f2f5fa"
            },
            "error_y": {
             "color": "#f2f5fa"
            },
            "marker": {
             "line": {
              "color": "rgb(17,17,17)",
              "width": 0.5
             },
             "pattern": {
              "fillmode": "overlay",
              "size": 10,
              "solidity": 0.2
             }
            },
            "type": "bar"
           }
          ],
          "barpolar": [
           {
            "marker": {
             "line": {
              "color": "rgb(17,17,17)",
              "width": 0.5
             },
             "pattern": {
              "fillmode": "overlay",
              "size": 10,
              "solidity": 0.2
             }
            },
            "type": "barpolar"
           }
          ],
          "carpet": [
           {
            "aaxis": {
             "endlinecolor": "#A2B1C6",
             "gridcolor": "#506784",
             "linecolor": "#506784",
             "minorgridcolor": "#506784",
             "startlinecolor": "#A2B1C6"
            },
            "baxis": {
             "endlinecolor": "#A2B1C6",
             "gridcolor": "#506784",
             "linecolor": "#506784",
             "minorgridcolor": "#506784",
             "startlinecolor": "#A2B1C6"
            },
            "type": "carpet"
           }
          ],
          "choropleth": [
           {
            "colorbar": {
             "outlinewidth": 0,
             "ticks": ""
            },
            "type": "choropleth"
           }
          ],
          "contour": [
           {
            "colorbar": {
             "outlinewidth": 0,
             "ticks": ""
            },
            "colorscale": [
             [
              0,
              "#0d0887"
             ],
             [
              0.1111111111111111,
              "#46039f"
             ],
             [
              0.2222222222222222,
              "#7201a8"
             ],
             [
              0.3333333333333333,
              "#9c179e"
             ],
             [
              0.4444444444444444,
              "#bd3786"
             ],
             [
              0.5555555555555556,
              "#d8576b"
             ],
             [
              0.6666666666666666,
              "#ed7953"
             ],
             [
              0.7777777777777778,
              "#fb9f3a"
             ],
             [
              0.8888888888888888,
              "#fdca26"
             ],
             [
              1,
              "#f0f921"
             ]
            ],
            "type": "contour"
           }
          ],
          "contourcarpet": [
           {
            "colorbar": {
             "outlinewidth": 0,
             "ticks": ""
            },
            "type": "contourcarpet"
           }
          ],
          "heatmap": [
           {
            "colorbar": {
             "outlinewidth": 0,
             "ticks": ""
            },
            "colorscale": [
             [
              0,
              "#0d0887"
             ],
             [
              0.1111111111111111,
              "#46039f"
             ],
             [
              0.2222222222222222,
              "#7201a8"
             ],
             [
              0.3333333333333333,
              "#9c179e"
             ],
             [
              0.4444444444444444,
              "#bd3786"
             ],
             [
              0.5555555555555556,
              "#d8576b"
             ],
             [
              0.6666666666666666,
              "#ed7953"
             ],
             [
              0.7777777777777778,
              "#fb9f3a"
             ],
             [
              0.8888888888888888,
              "#fdca26"
             ],
             [
              1,
              "#f0f921"
             ]
            ],
            "type": "heatmap"
           }
          ],
          "heatmapgl": [
           {
            "colorbar": {
             "outlinewidth": 0,
             "ticks": ""
            },
            "colorscale": [
             [
              0,
              "#0d0887"
             ],
             [
              0.1111111111111111,
              "#46039f"
             ],
             [
              0.2222222222222222,
              "#7201a8"
             ],
             [
              0.3333333333333333,
              "#9c179e"
             ],
             [
              0.4444444444444444,
              "#bd3786"
             ],
             [
              0.5555555555555556,
              "#d8576b"
             ],
             [
              0.6666666666666666,
              "#ed7953"
             ],
             [
              0.7777777777777778,
              "#fb9f3a"
             ],
             [
              0.8888888888888888,
              "#fdca26"
             ],
             [
              1,
              "#f0f921"
             ]
            ],
            "type": "heatmapgl"
           }
          ],
          "histogram": [
           {
            "marker": {
             "pattern": {
              "fillmode": "overlay",
              "size": 10,
              "solidity": 0.2
             }
            },
            "type": "histogram"
           }
          ],
          "histogram2d": [
           {
            "colorbar": {
             "outlinewidth": 0,
             "ticks": ""
            },
            "colorscale": [
             [
              0,
              "#0d0887"
             ],
             [
              0.1111111111111111,
              "#46039f"
             ],
             [
              0.2222222222222222,
              "#7201a8"
             ],
             [
              0.3333333333333333,
              "#9c179e"
             ],
             [
              0.4444444444444444,
              "#bd3786"
             ],
             [
              0.5555555555555556,
              "#d8576b"
             ],
             [
              0.6666666666666666,
              "#ed7953"
             ],
             [
              0.7777777777777778,
              "#fb9f3a"
             ],
             [
              0.8888888888888888,
              "#fdca26"
             ],
             [
              1,
              "#f0f921"
             ]
            ],
            "type": "histogram2d"
           }
          ],
          "histogram2dcontour": [
           {
            "colorbar": {
             "outlinewidth": 0,
             "ticks": ""
            },
            "colorscale": [
             [
              0,
              "#0d0887"
             ],
             [
              0.1111111111111111,
              "#46039f"
             ],
             [
              0.2222222222222222,
              "#7201a8"
             ],
             [
              0.3333333333333333,
              "#9c179e"
             ],
             [
              0.4444444444444444,
              "#bd3786"
             ],
             [
              0.5555555555555556,
              "#d8576b"
             ],
             [
              0.6666666666666666,
              "#ed7953"
             ],
             [
              0.7777777777777778,
              "#fb9f3a"
             ],
             [
              0.8888888888888888,
              "#fdca26"
             ],
             [
              1,
              "#f0f921"
             ]
            ],
            "type": "histogram2dcontour"
           }
          ],
          "mesh3d": [
           {
            "colorbar": {
             "outlinewidth": 0,
             "ticks": ""
            },
            "type": "mesh3d"
           }
          ],
          "parcoords": [
           {
            "line": {
             "colorbar": {
              "outlinewidth": 0,
              "ticks": ""
             }
            },
            "type": "parcoords"
           }
          ],
          "pie": [
           {
            "automargin": true,
            "type": "pie"
           }
          ],
          "scatter": [
           {
            "marker": {
             "line": {
              "color": "#283442"
             }
            },
            "type": "scatter"
           }
          ],
          "scatter3d": [
           {
            "line": {
             "colorbar": {
              "outlinewidth": 0,
              "ticks": ""
             }
            },
            "marker": {
             "colorbar": {
              "outlinewidth": 0,
              "ticks": ""
             }
            },
            "type": "scatter3d"
           }
          ],
          "scattercarpet": [
           {
            "marker": {
             "colorbar": {
              "outlinewidth": 0,
              "ticks": ""
             }
            },
            "type": "scattercarpet"
           }
          ],
          "scattergeo": [
           {
            "marker": {
             "colorbar": {
              "outlinewidth": 0,
              "ticks": ""
             }
            },
            "type": "scattergeo"
           }
          ],
          "scattergl": [
           {
            "marker": {
             "line": {
              "color": "#283442"
             }
            },
            "type": "scattergl"
           }
          ],
          "scattermapbox": [
           {
            "marker": {
             "colorbar": {
              "outlinewidth": 0,
              "ticks": ""
             }
            },
            "type": "scattermapbox"
           }
          ],
          "scatterpolar": [
           {
            "marker": {
             "colorbar": {
              "outlinewidth": 0,
              "ticks": ""
             }
            },
            "type": "scatterpolar"
           }
          ],
          "scatterpolargl": [
           {
            "marker": {
             "colorbar": {
              "outlinewidth": 0,
              "ticks": ""
             }
            },
            "type": "scatterpolargl"
           }
          ],
          "scatterternary": [
           {
            "marker": {
             "colorbar": {
              "outlinewidth": 0,
              "ticks": ""
             }
            },
            "type": "scatterternary"
           }
          ],
          "surface": [
           {
            "colorbar": {
             "outlinewidth": 0,
             "ticks": ""
            },
            "colorscale": [
             [
              0,
              "#0d0887"
             ],
             [
              0.1111111111111111,
              "#46039f"
             ],
             [
              0.2222222222222222,
              "#7201a8"
             ],
             [
              0.3333333333333333,
              "#9c179e"
             ],
             [
              0.4444444444444444,
              "#bd3786"
             ],
             [
              0.5555555555555556,
              "#d8576b"
             ],
             [
              0.6666666666666666,
              "#ed7953"
             ],
             [
              0.7777777777777778,
              "#fb9f3a"
             ],
             [
              0.8888888888888888,
              "#fdca26"
             ],
             [
              1,
              "#f0f921"
             ]
            ],
            "type": "surface"
           }
          ],
          "table": [
           {
            "cells": {
             "fill": {
              "color": "#506784"
             },
             "line": {
              "color": "rgb(17,17,17)"
             }
            },
            "header": {
             "fill": {
              "color": "#2a3f5f"
             },
             "line": {
              "color": "rgb(17,17,17)"
             }
            },
            "type": "table"
           }
          ]
         },
         "layout": {
          "annotationdefaults": {
           "arrowcolor": "#f2f5fa",
           "arrowhead": 0,
           "arrowwidth": 1
          },
          "autotypenumbers": "strict",
          "coloraxis": {
           "colorbar": {
            "outlinewidth": 0,
            "ticks": ""
           }
          },
          "colorscale": {
           "diverging": [
            [
             0,
             "#8e0152"
            ],
            [
             0.1,
             "#c51b7d"
            ],
            [
             0.2,
             "#de77ae"
            ],
            [
             0.3,
             "#f1b6da"
            ],
            [
             0.4,
             "#fde0ef"
            ],
            [
             0.5,
             "#f7f7f7"
            ],
            [
             0.6,
             "#e6f5d0"
            ],
            [
             0.7,
             "#b8e186"
            ],
            [
             0.8,
             "#7fbc41"
            ],
            [
             0.9,
             "#4d9221"
            ],
            [
             1,
             "#276419"
            ]
           ],
           "sequential": [
            [
             0,
             "#0d0887"
            ],
            [
             0.1111111111111111,
             "#46039f"
            ],
            [
             0.2222222222222222,
             "#7201a8"
            ],
            [
             0.3333333333333333,
             "#9c179e"
            ],
            [
             0.4444444444444444,
             "#bd3786"
            ],
            [
             0.5555555555555556,
             "#d8576b"
            ],
            [
             0.6666666666666666,
             "#ed7953"
            ],
            [
             0.7777777777777778,
             "#fb9f3a"
            ],
            [
             0.8888888888888888,
             "#fdca26"
            ],
            [
             1,
             "#f0f921"
            ]
           ],
           "sequentialminus": [
            [
             0,
             "#0d0887"
            ],
            [
             0.1111111111111111,
             "#46039f"
            ],
            [
             0.2222222222222222,
             "#7201a8"
            ],
            [
             0.3333333333333333,
             "#9c179e"
            ],
            [
             0.4444444444444444,
             "#bd3786"
            ],
            [
             0.5555555555555556,
             "#d8576b"
            ],
            [
             0.6666666666666666,
             "#ed7953"
            ],
            [
             0.7777777777777778,
             "#fb9f3a"
            ],
            [
             0.8888888888888888,
             "#fdca26"
            ],
            [
             1,
             "#f0f921"
            ]
           ]
          },
          "colorway": [
           "#636efa",
           "#EF553B",
           "#00cc96",
           "#ab63fa",
           "#FFA15A",
           "#19d3f3",
           "#FF6692",
           "#B6E880",
           "#FF97FF",
           "#FECB52"
          ],
          "font": {
           "color": "#f2f5fa"
          },
          "geo": {
           "bgcolor": "rgb(17,17,17)",
           "lakecolor": "rgb(17,17,17)",
           "landcolor": "rgb(17,17,17)",
           "showlakes": true,
           "showland": true,
           "subunitcolor": "#506784"
          },
          "hoverlabel": {
           "align": "left"
          },
          "hovermode": "closest",
          "mapbox": {
           "style": "dark"
          },
          "paper_bgcolor": "rgb(17,17,17)",
          "plot_bgcolor": "rgb(17,17,17)",
          "polar": {
           "angularaxis": {
            "gridcolor": "#506784",
            "linecolor": "#506784",
            "ticks": ""
           },
           "bgcolor": "rgb(17,17,17)",
           "radialaxis": {
            "gridcolor": "#506784",
            "linecolor": "#506784",
            "ticks": ""
           }
          },
          "scene": {
           "xaxis": {
            "backgroundcolor": "rgb(17,17,17)",
            "gridcolor": "#506784",
            "gridwidth": 2,
            "linecolor": "#506784",
            "showbackground": true,
            "ticks": "",
            "zerolinecolor": "#C8D4E3"
           },
           "yaxis": {
            "backgroundcolor": "rgb(17,17,17)",
            "gridcolor": "#506784",
            "gridwidth": 2,
            "linecolor": "#506784",
            "showbackground": true,
            "ticks": "",
            "zerolinecolor": "#C8D4E3"
           },
           "zaxis": {
            "backgroundcolor": "rgb(17,17,17)",
            "gridcolor": "#506784",
            "gridwidth": 2,
            "linecolor": "#506784",
            "showbackground": true,
            "ticks": "",
            "zerolinecolor": "#C8D4E3"
           }
          },
          "shapedefaults": {
           "line": {
            "color": "#f2f5fa"
           }
          },
          "sliderdefaults": {
           "bgcolor": "#C8D4E3",
           "bordercolor": "rgb(17,17,17)",
           "borderwidth": 1,
           "tickwidth": 0
          },
          "ternary": {
           "aaxis": {
            "gridcolor": "#506784",
            "linecolor": "#506784",
            "ticks": ""
           },
           "baxis": {
            "gridcolor": "#506784",
            "linecolor": "#506784",
            "ticks": ""
           },
           "bgcolor": "rgb(17,17,17)",
           "caxis": {
            "gridcolor": "#506784",
            "linecolor": "#506784",
            "ticks": ""
           }
          },
          "title": {
           "x": 0.05
          },
          "updatemenudefaults": {
           "bgcolor": "#506784",
           "borderwidth": 0
          },
          "xaxis": {
           "automargin": true,
           "gridcolor": "#283442",
           "linecolor": "#506784",
           "ticks": "",
           "title": {
            "standoff": 15
           },
           "zerolinecolor": "#283442",
           "zerolinewidth": 2
          },
          "yaxis": {
           "automargin": true,
           "gridcolor": "#283442",
           "linecolor": "#506784",
           "ticks": "",
           "title": {
            "standoff": 15
           },
           "zerolinecolor": "#283442",
           "zerolinewidth": 2
          }
         }
        },
        "xaxis": {
         "anchor": "y",
         "domain": [
          0,
          1
         ],
         "title": {
          "text": "rating"
         }
        },
        "xaxis2": {
         "anchor": "y2",
         "domain": [
          0,
          1
         ],
         "matches": "x",
         "showgrid": true,
         "showticklabels": false
        },
        "yaxis": {
         "anchor": "x",
         "domain": [
          0,
          0.7326
         ],
         "title": {
          "text": "count"
         }
        },
        "yaxis2": {
         "anchor": "x2",
         "domain": [
          0.7426,
          1
         ],
         "matches": "y2",
         "showgrid": false,
         "showline": false,
         "showticklabels": false,
         "ticks": ""
        }
       }
      }
     },
     "metadata": {},
     "output_type": "display_data"
    }
   ],
   "source": [
    "px.histogram(df, x='rating', nbins=50, color='has_13', marginal='violin')"
   ]
  },
  {
   "attachments": {},
   "cell_type": "markdown",
   "metadata": {},
   "source": [
    "### Box Plots and Violin Plots"
   ]
  },
  {
   "cell_type": "code",
   "execution_count": 27,
   "metadata": {},
   "outputs": [
    {
     "data": {
      "application/vnd.plotly.v1+json": {
       "config": {
        "plotlyServerURL": "https://plot.ly"
       },
       "data": [
        {
         "alignmentgroup": "True",
         "boxpoints": "all",
         "hovertemplate": "doctorid=9<br>rating=%{x}<extra></extra>",
         "legendgroup": "9",
         "marker": {
          "color": "rgb(95, 70, 144)"
         },
         "name": "9",
         "notched": false,
         "offsetgroup": "9",
         "orientation": "h",
         "showlegend": true,
         "type": "box",
         "x": [
          7.6,
          7.6,
          7.6,
          7,
          7.1,
          8.7,
          7.2,
          8.4,
          9.2,
          9.1,
          7.2,
          8.7,
          9.1
         ],
         "x0": " ",
         "xaxis": "x",
         "y0": " ",
         "yaxis": "y"
        },
        {
         "alignmentgroup": "True",
         "boxpoints": "all",
         "hovertemplate": "doctorid=10<br>rating=%{x}<extra></extra>",
         "legendgroup": "10",
         "marker": {
          "color": "rgb(29, 105, 150)"
         },
         "name": "10",
         "notched": false,
         "offsetgroup": "10",
         "orientation": "h",
         "showlegend": true,
         "type": "box",
         "x": [
          8.2,
          7.5,
          7.9,
          8.4,
          9.3,
          7.8,
          7.9,
          6.9,
          8.7,
          8.8,
          6.2,
          6.1,
          8.5,
          9.3,
          7.6,
          8,
          7.8,
          8.1,
          7,
          7,
          6.7,
          7.5,
          9,
          9.2,
          9.8,
          8.8,
          8.7,
          8.4,
          7.7,
          7.8,
          8.1,
          8.1,
          7.5,
          7.6,
          7.7,
          7.8,
          9.4,
          9.5,
          9,
          8.9,
          9.1,
          9.1
         ],
         "x0": " ",
         "xaxis": "x",
         "y0": " ",
         "yaxis": "y"
        },
        {
         "alignmentgroup": "True",
         "boxpoints": "all",
         "hovertemplate": "doctorid=11<br>rating=%{x}<extra></extra>",
         "legendgroup": "11",
         "marker": {
          "color": "rgb(56, 166, 165)"
         },
         "name": "11",
         "notched": false,
         "offsetgroup": "11",
         "orientation": "h",
         "showlegend": true,
         "type": "box",
         "x": [
          8.8,
          7.6,
          6.8,
          8.7,
          8.6,
          7.1,
          8.2,
          7.3,
          7.5,
          9.3,
          8.3,
          9.1,
          9.2,
          8.6,
          8.9,
          8.9,
          6.8,
          9,
          7.3,
          7.5,
          9.1,
          8.1,
          7.1,
          8.5,
          8.1,
          7.7,
          8.6,
          7.3,
          8.7,
          7.5,
          7.5,
          7.6,
          9,
          8.5,
          8,
          7.4,
          7.3,
          7.8,
          7.5,
          7.4,
          7.4,
          9.1
         ],
         "x0": " ",
         "xaxis": "x",
         "y0": " ",
         "yaxis": "y"
        },
        {
         "alignmentgroup": "True",
         "boxpoints": "all",
         "hovertemplate": "doctorid=12<br>rating=%{x}<extra></extra>",
         "legendgroup": "12",
         "marker": {
          "color": "rgb(15, 133, 84)"
         },
         "name": "12",
         "notched": false,
         "offsetgroup": "12",
         "orientation": "h",
         "showlegend": true,
         "type": "box",
         "x": [
          8,
          7.8,
          7.1,
          8.9,
          8,
          7.4,
          7,
          8.5,
          8.5,
          6.1,
          8.7,
          7.9,
          8.5,
          8.5,
          8.3,
          8.1,
          7.7,
          7.6,
          7.9,
          8.6,
          6,
          8.6,
          9.6,
          8.7,
          8.6,
          7.5,
          7.9,
          7.2,
          7.3,
          7.5,
          8.1,
          8.5,
          7.7,
          7.2,
          7.1,
          7,
          9.2,
          9
         ],
         "x0": " ",
         "xaxis": "x",
         "y0": " ",
         "yaxis": "y"
        },
        {
         "alignmentgroup": "True",
         "boxpoints": "all",
         "hovertemplate": "doctorid=13<br>rating=%{x}<extra></extra>",
         "legendgroup": "13",
         "marker": {
          "color": "rgb(115, 175, 72)"
         },
         "name": "13",
         "notched": false,
         "offsetgroup": "13",
         "orientation": "h",
         "showlegend": true,
         "type": "box",
         "x": [
          7.1,
          6.2,
          7.1,
          5.3,
          5.2,
          6.6,
          6.4,
          5.9,
          6.4,
          5.5,
          6
         ],
         "x0": " ",
         "xaxis": "x",
         "y0": " ",
         "yaxis": "y"
        }
       ],
       "layout": {
        "boxmode": "group",
        "legend": {
         "title": {
          "text": "doctorid"
         },
         "tracegroupgap": 0
        },
        "margin": {
         "t": 60
        },
        "template": {
         "data": {
          "bar": [
           {
            "error_x": {
             "color": "#f2f5fa"
            },
            "error_y": {
             "color": "#f2f5fa"
            },
            "marker": {
             "line": {
              "color": "rgb(17,17,17)",
              "width": 0.5
             },
             "pattern": {
              "fillmode": "overlay",
              "size": 10,
              "solidity": 0.2
             }
            },
            "type": "bar"
           }
          ],
          "barpolar": [
           {
            "marker": {
             "line": {
              "color": "rgb(17,17,17)",
              "width": 0.5
             },
             "pattern": {
              "fillmode": "overlay",
              "size": 10,
              "solidity": 0.2
             }
            },
            "type": "barpolar"
           }
          ],
          "carpet": [
           {
            "aaxis": {
             "endlinecolor": "#A2B1C6",
             "gridcolor": "#506784",
             "linecolor": "#506784",
             "minorgridcolor": "#506784",
             "startlinecolor": "#A2B1C6"
            },
            "baxis": {
             "endlinecolor": "#A2B1C6",
             "gridcolor": "#506784",
             "linecolor": "#506784",
             "minorgridcolor": "#506784",
             "startlinecolor": "#A2B1C6"
            },
            "type": "carpet"
           }
          ],
          "choropleth": [
           {
            "colorbar": {
             "outlinewidth": 0,
             "ticks": ""
            },
            "type": "choropleth"
           }
          ],
          "contour": [
           {
            "colorbar": {
             "outlinewidth": 0,
             "ticks": ""
            },
            "colorscale": [
             [
              0,
              "#0d0887"
             ],
             [
              0.1111111111111111,
              "#46039f"
             ],
             [
              0.2222222222222222,
              "#7201a8"
             ],
             [
              0.3333333333333333,
              "#9c179e"
             ],
             [
              0.4444444444444444,
              "#bd3786"
             ],
             [
              0.5555555555555556,
              "#d8576b"
             ],
             [
              0.6666666666666666,
              "#ed7953"
             ],
             [
              0.7777777777777778,
              "#fb9f3a"
             ],
             [
              0.8888888888888888,
              "#fdca26"
             ],
             [
              1,
              "#f0f921"
             ]
            ],
            "type": "contour"
           }
          ],
          "contourcarpet": [
           {
            "colorbar": {
             "outlinewidth": 0,
             "ticks": ""
            },
            "type": "contourcarpet"
           }
          ],
          "heatmap": [
           {
            "colorbar": {
             "outlinewidth": 0,
             "ticks": ""
            },
            "colorscale": [
             [
              0,
              "#0d0887"
             ],
             [
              0.1111111111111111,
              "#46039f"
             ],
             [
              0.2222222222222222,
              "#7201a8"
             ],
             [
              0.3333333333333333,
              "#9c179e"
             ],
             [
              0.4444444444444444,
              "#bd3786"
             ],
             [
              0.5555555555555556,
              "#d8576b"
             ],
             [
              0.6666666666666666,
              "#ed7953"
             ],
             [
              0.7777777777777778,
              "#fb9f3a"
             ],
             [
              0.8888888888888888,
              "#fdca26"
             ],
             [
              1,
              "#f0f921"
             ]
            ],
            "type": "heatmap"
           }
          ],
          "heatmapgl": [
           {
            "colorbar": {
             "outlinewidth": 0,
             "ticks": ""
            },
            "colorscale": [
             [
              0,
              "#0d0887"
             ],
             [
              0.1111111111111111,
              "#46039f"
             ],
             [
              0.2222222222222222,
              "#7201a8"
             ],
             [
              0.3333333333333333,
              "#9c179e"
             ],
             [
              0.4444444444444444,
              "#bd3786"
             ],
             [
              0.5555555555555556,
              "#d8576b"
             ],
             [
              0.6666666666666666,
              "#ed7953"
             ],
             [
              0.7777777777777778,
              "#fb9f3a"
             ],
             [
              0.8888888888888888,
              "#fdca26"
             ],
             [
              1,
              "#f0f921"
             ]
            ],
            "type": "heatmapgl"
           }
          ],
          "histogram": [
           {
            "marker": {
             "pattern": {
              "fillmode": "overlay",
              "size": 10,
              "solidity": 0.2
             }
            },
            "type": "histogram"
           }
          ],
          "histogram2d": [
           {
            "colorbar": {
             "outlinewidth": 0,
             "ticks": ""
            },
            "colorscale": [
             [
              0,
              "#0d0887"
             ],
             [
              0.1111111111111111,
              "#46039f"
             ],
             [
              0.2222222222222222,
              "#7201a8"
             ],
             [
              0.3333333333333333,
              "#9c179e"
             ],
             [
              0.4444444444444444,
              "#bd3786"
             ],
             [
              0.5555555555555556,
              "#d8576b"
             ],
             [
              0.6666666666666666,
              "#ed7953"
             ],
             [
              0.7777777777777778,
              "#fb9f3a"
             ],
             [
              0.8888888888888888,
              "#fdca26"
             ],
             [
              1,
              "#f0f921"
             ]
            ],
            "type": "histogram2d"
           }
          ],
          "histogram2dcontour": [
           {
            "colorbar": {
             "outlinewidth": 0,
             "ticks": ""
            },
            "colorscale": [
             [
              0,
              "#0d0887"
             ],
             [
              0.1111111111111111,
              "#46039f"
             ],
             [
              0.2222222222222222,
              "#7201a8"
             ],
             [
              0.3333333333333333,
              "#9c179e"
             ],
             [
              0.4444444444444444,
              "#bd3786"
             ],
             [
              0.5555555555555556,
              "#d8576b"
             ],
             [
              0.6666666666666666,
              "#ed7953"
             ],
             [
              0.7777777777777778,
              "#fb9f3a"
             ],
             [
              0.8888888888888888,
              "#fdca26"
             ],
             [
              1,
              "#f0f921"
             ]
            ],
            "type": "histogram2dcontour"
           }
          ],
          "mesh3d": [
           {
            "colorbar": {
             "outlinewidth": 0,
             "ticks": ""
            },
            "type": "mesh3d"
           }
          ],
          "parcoords": [
           {
            "line": {
             "colorbar": {
              "outlinewidth": 0,
              "ticks": ""
             }
            },
            "type": "parcoords"
           }
          ],
          "pie": [
           {
            "automargin": true,
            "type": "pie"
           }
          ],
          "scatter": [
           {
            "marker": {
             "line": {
              "color": "#283442"
             }
            },
            "type": "scatter"
           }
          ],
          "scatter3d": [
           {
            "line": {
             "colorbar": {
              "outlinewidth": 0,
              "ticks": ""
             }
            },
            "marker": {
             "colorbar": {
              "outlinewidth": 0,
              "ticks": ""
             }
            },
            "type": "scatter3d"
           }
          ],
          "scattercarpet": [
           {
            "marker": {
             "colorbar": {
              "outlinewidth": 0,
              "ticks": ""
             }
            },
            "type": "scattercarpet"
           }
          ],
          "scattergeo": [
           {
            "marker": {
             "colorbar": {
              "outlinewidth": 0,
              "ticks": ""
             }
            },
            "type": "scattergeo"
           }
          ],
          "scattergl": [
           {
            "marker": {
             "line": {
              "color": "#283442"
             }
            },
            "type": "scattergl"
           }
          ],
          "scattermapbox": [
           {
            "marker": {
             "colorbar": {
              "outlinewidth": 0,
              "ticks": ""
             }
            },
            "type": "scattermapbox"
           }
          ],
          "scatterpolar": [
           {
            "marker": {
             "colorbar": {
              "outlinewidth": 0,
              "ticks": ""
             }
            },
            "type": "scatterpolar"
           }
          ],
          "scatterpolargl": [
           {
            "marker": {
             "colorbar": {
              "outlinewidth": 0,
              "ticks": ""
             }
            },
            "type": "scatterpolargl"
           }
          ],
          "scatterternary": [
           {
            "marker": {
             "colorbar": {
              "outlinewidth": 0,
              "ticks": ""
             }
            },
            "type": "scatterternary"
           }
          ],
          "surface": [
           {
            "colorbar": {
             "outlinewidth": 0,
             "ticks": ""
            },
            "colorscale": [
             [
              0,
              "#0d0887"
             ],
             [
              0.1111111111111111,
              "#46039f"
             ],
             [
              0.2222222222222222,
              "#7201a8"
             ],
             [
              0.3333333333333333,
              "#9c179e"
             ],
             [
              0.4444444444444444,
              "#bd3786"
             ],
             [
              0.5555555555555556,
              "#d8576b"
             ],
             [
              0.6666666666666666,
              "#ed7953"
             ],
             [
              0.7777777777777778,
              "#fb9f3a"
             ],
             [
              0.8888888888888888,
              "#fdca26"
             ],
             [
              1,
              "#f0f921"
             ]
            ],
            "type": "surface"
           }
          ],
          "table": [
           {
            "cells": {
             "fill": {
              "color": "#506784"
             },
             "line": {
              "color": "rgb(17,17,17)"
             }
            },
            "header": {
             "fill": {
              "color": "#2a3f5f"
             },
             "line": {
              "color": "rgb(17,17,17)"
             }
            },
            "type": "table"
           }
          ]
         },
         "layout": {
          "annotationdefaults": {
           "arrowcolor": "#f2f5fa",
           "arrowhead": 0,
           "arrowwidth": 1
          },
          "autotypenumbers": "strict",
          "coloraxis": {
           "colorbar": {
            "outlinewidth": 0,
            "ticks": ""
           }
          },
          "colorscale": {
           "diverging": [
            [
             0,
             "#8e0152"
            ],
            [
             0.1,
             "#c51b7d"
            ],
            [
             0.2,
             "#de77ae"
            ],
            [
             0.3,
             "#f1b6da"
            ],
            [
             0.4,
             "#fde0ef"
            ],
            [
             0.5,
             "#f7f7f7"
            ],
            [
             0.6,
             "#e6f5d0"
            ],
            [
             0.7,
             "#b8e186"
            ],
            [
             0.8,
             "#7fbc41"
            ],
            [
             0.9,
             "#4d9221"
            ],
            [
             1,
             "#276419"
            ]
           ],
           "sequential": [
            [
             0,
             "#0d0887"
            ],
            [
             0.1111111111111111,
             "#46039f"
            ],
            [
             0.2222222222222222,
             "#7201a8"
            ],
            [
             0.3333333333333333,
             "#9c179e"
            ],
            [
             0.4444444444444444,
             "#bd3786"
            ],
            [
             0.5555555555555556,
             "#d8576b"
            ],
            [
             0.6666666666666666,
             "#ed7953"
            ],
            [
             0.7777777777777778,
             "#fb9f3a"
            ],
            [
             0.8888888888888888,
             "#fdca26"
            ],
            [
             1,
             "#f0f921"
            ]
           ],
           "sequentialminus": [
            [
             0,
             "#0d0887"
            ],
            [
             0.1111111111111111,
             "#46039f"
            ],
            [
             0.2222222222222222,
             "#7201a8"
            ],
            [
             0.3333333333333333,
             "#9c179e"
            ],
            [
             0.4444444444444444,
             "#bd3786"
            ],
            [
             0.5555555555555556,
             "#d8576b"
            ],
            [
             0.6666666666666666,
             "#ed7953"
            ],
            [
             0.7777777777777778,
             "#fb9f3a"
            ],
            [
             0.8888888888888888,
             "#fdca26"
            ],
            [
             1,
             "#f0f921"
            ]
           ]
          },
          "colorway": [
           "#636efa",
           "#EF553B",
           "#00cc96",
           "#ab63fa",
           "#FFA15A",
           "#19d3f3",
           "#FF6692",
           "#B6E880",
           "#FF97FF",
           "#FECB52"
          ],
          "font": {
           "color": "#f2f5fa"
          },
          "geo": {
           "bgcolor": "rgb(17,17,17)",
           "lakecolor": "rgb(17,17,17)",
           "landcolor": "rgb(17,17,17)",
           "showlakes": true,
           "showland": true,
           "subunitcolor": "#506784"
          },
          "hoverlabel": {
           "align": "left"
          },
          "hovermode": "closest",
          "mapbox": {
           "style": "dark"
          },
          "paper_bgcolor": "rgb(17,17,17)",
          "plot_bgcolor": "rgb(17,17,17)",
          "polar": {
           "angularaxis": {
            "gridcolor": "#506784",
            "linecolor": "#506784",
            "ticks": ""
           },
           "bgcolor": "rgb(17,17,17)",
           "radialaxis": {
            "gridcolor": "#506784",
            "linecolor": "#506784",
            "ticks": ""
           }
          },
          "scene": {
           "xaxis": {
            "backgroundcolor": "rgb(17,17,17)",
            "gridcolor": "#506784",
            "gridwidth": 2,
            "linecolor": "#506784",
            "showbackground": true,
            "ticks": "",
            "zerolinecolor": "#C8D4E3"
           },
           "yaxis": {
            "backgroundcolor": "rgb(17,17,17)",
            "gridcolor": "#506784",
            "gridwidth": 2,
            "linecolor": "#506784",
            "showbackground": true,
            "ticks": "",
            "zerolinecolor": "#C8D4E3"
           },
           "zaxis": {
            "backgroundcolor": "rgb(17,17,17)",
            "gridcolor": "#506784",
            "gridwidth": 2,
            "linecolor": "#506784",
            "showbackground": true,
            "ticks": "",
            "zerolinecolor": "#C8D4E3"
           }
          },
          "shapedefaults": {
           "line": {
            "color": "#f2f5fa"
           }
          },
          "sliderdefaults": {
           "bgcolor": "#C8D4E3",
           "bordercolor": "rgb(17,17,17)",
           "borderwidth": 1,
           "tickwidth": 0
          },
          "ternary": {
           "aaxis": {
            "gridcolor": "#506784",
            "linecolor": "#506784",
            "ticks": ""
           },
           "baxis": {
            "gridcolor": "#506784",
            "linecolor": "#506784",
            "ticks": ""
           },
           "bgcolor": "rgb(17,17,17)",
           "caxis": {
            "gridcolor": "#506784",
            "linecolor": "#506784",
            "ticks": ""
           }
          },
          "title": {
           "x": 0.05
          },
          "updatemenudefaults": {
           "bgcolor": "#506784",
           "borderwidth": 0
          },
          "xaxis": {
           "automargin": true,
           "gridcolor": "#283442",
           "linecolor": "#506784",
           "ticks": "",
           "title": {
            "standoff": 15
           },
           "zerolinecolor": "#283442",
           "zerolinewidth": 2
          },
          "yaxis": {
           "automargin": true,
           "gridcolor": "#283442",
           "linecolor": "#506784",
           "ticks": "",
           "title": {
            "standoff": 15
           },
           "zerolinecolor": "#283442",
           "zerolinewidth": 2
          }
         }
        },
        "xaxis": {
         "anchor": "y",
         "domain": [
          0,
          1
         ],
         "title": {
          "text": "rating"
         }
        },
        "yaxis": {
         "anchor": "x",
         "domain": [
          0,
          1
         ]
        }
       }
      }
     },
     "metadata": {},
     "output_type": "display_data"
    }
   ],
   "source": [
    "px.box(df, x='rating', color='doctorid', points='all')"
   ]
  },
  {
   "cell_type": "code",
   "execution_count": 28,
   "metadata": {},
   "outputs": [
    {
     "data": {
      "application/vnd.plotly.v1+json": {
       "config": {
        "plotlyServerURL": "https://plot.ly"
       },
       "data": [
        {
         "alignmentgroup": "True",
         "box": {
          "visible": false
         },
         "hovertemplate": "doctorid=9<br>rating=%{x}<extra></extra>",
         "legendgroup": "9",
         "marker": {
          "color": "rgb(95, 70, 144)"
         },
         "name": "9",
         "offsetgroup": "9",
         "orientation": "h",
         "points": "all",
         "scalegroup": "True",
         "showlegend": true,
         "type": "violin",
         "x": [
          7.6,
          7.6,
          7.6,
          7,
          7.1,
          8.7,
          7.2,
          8.4,
          9.2,
          9.1,
          7.2,
          8.7,
          9.1
         ],
         "x0": " ",
         "xaxis": "x",
         "y0": " ",
         "yaxis": "y"
        },
        {
         "alignmentgroup": "True",
         "box": {
          "visible": false
         },
         "hovertemplate": "doctorid=10<br>rating=%{x}<extra></extra>",
         "legendgroup": "10",
         "marker": {
          "color": "rgb(29, 105, 150)"
         },
         "name": "10",
         "offsetgroup": "10",
         "orientation": "h",
         "points": "all",
         "scalegroup": "True",
         "showlegend": true,
         "type": "violin",
         "x": [
          8.2,
          7.5,
          7.9,
          8.4,
          9.3,
          7.8,
          7.9,
          6.9,
          8.7,
          8.8,
          6.2,
          6.1,
          8.5,
          9.3,
          7.6,
          8,
          7.8,
          8.1,
          7,
          7,
          6.7,
          7.5,
          9,
          9.2,
          9.8,
          8.8,
          8.7,
          8.4,
          7.7,
          7.8,
          8.1,
          8.1,
          7.5,
          7.6,
          7.7,
          7.8,
          9.4,
          9.5,
          9,
          8.9,
          9.1,
          9.1
         ],
         "x0": " ",
         "xaxis": "x",
         "y0": " ",
         "yaxis": "y"
        },
        {
         "alignmentgroup": "True",
         "box": {
          "visible": false
         },
         "hovertemplate": "doctorid=11<br>rating=%{x}<extra></extra>",
         "legendgroup": "11",
         "marker": {
          "color": "rgb(56, 166, 165)"
         },
         "name": "11",
         "offsetgroup": "11",
         "orientation": "h",
         "points": "all",
         "scalegroup": "True",
         "showlegend": true,
         "type": "violin",
         "x": [
          8.8,
          7.6,
          6.8,
          8.7,
          8.6,
          7.1,
          8.2,
          7.3,
          7.5,
          9.3,
          8.3,
          9.1,
          9.2,
          8.6,
          8.9,
          8.9,
          6.8,
          9,
          7.3,
          7.5,
          9.1,
          8.1,
          7.1,
          8.5,
          8.1,
          7.7,
          8.6,
          7.3,
          8.7,
          7.5,
          7.5,
          7.6,
          9,
          8.5,
          8,
          7.4,
          7.3,
          7.8,
          7.5,
          7.4,
          7.4,
          9.1
         ],
         "x0": " ",
         "xaxis": "x",
         "y0": " ",
         "yaxis": "y"
        },
        {
         "alignmentgroup": "True",
         "box": {
          "visible": false
         },
         "hovertemplate": "doctorid=12<br>rating=%{x}<extra></extra>",
         "legendgroup": "12",
         "marker": {
          "color": "rgb(15, 133, 84)"
         },
         "name": "12",
         "offsetgroup": "12",
         "orientation": "h",
         "points": "all",
         "scalegroup": "True",
         "showlegend": true,
         "type": "violin",
         "x": [
          8,
          7.8,
          7.1,
          8.9,
          8,
          7.4,
          7,
          8.5,
          8.5,
          6.1,
          8.7,
          7.9,
          8.5,
          8.5,
          8.3,
          8.1,
          7.7,
          7.6,
          7.9,
          8.6,
          6,
          8.6,
          9.6,
          8.7,
          8.6,
          7.5,
          7.9,
          7.2,
          7.3,
          7.5,
          8.1,
          8.5,
          7.7,
          7.2,
          7.1,
          7,
          9.2,
          9
         ],
         "x0": " ",
         "xaxis": "x",
         "y0": " ",
         "yaxis": "y"
        },
        {
         "alignmentgroup": "True",
         "box": {
          "visible": false
         },
         "hovertemplate": "doctorid=13<br>rating=%{x}<extra></extra>",
         "legendgroup": "13",
         "marker": {
          "color": "rgb(115, 175, 72)"
         },
         "name": "13",
         "offsetgroup": "13",
         "orientation": "h",
         "points": "all",
         "scalegroup": "True",
         "showlegend": true,
         "type": "violin",
         "x": [
          7.1,
          6.2,
          7.1,
          5.3,
          5.2,
          6.6,
          6.4,
          5.9,
          6.4,
          5.5,
          6
         ],
         "x0": " ",
         "xaxis": "x",
         "y0": " ",
         "yaxis": "y"
        }
       ],
       "layout": {
        "legend": {
         "title": {
          "text": "doctorid"
         },
         "tracegroupgap": 0
        },
        "margin": {
         "t": 60
        },
        "template": {
         "data": {
          "bar": [
           {
            "error_x": {
             "color": "#f2f5fa"
            },
            "error_y": {
             "color": "#f2f5fa"
            },
            "marker": {
             "line": {
              "color": "rgb(17,17,17)",
              "width": 0.5
             },
             "pattern": {
              "fillmode": "overlay",
              "size": 10,
              "solidity": 0.2
             }
            },
            "type": "bar"
           }
          ],
          "barpolar": [
           {
            "marker": {
             "line": {
              "color": "rgb(17,17,17)",
              "width": 0.5
             },
             "pattern": {
              "fillmode": "overlay",
              "size": 10,
              "solidity": 0.2
             }
            },
            "type": "barpolar"
           }
          ],
          "carpet": [
           {
            "aaxis": {
             "endlinecolor": "#A2B1C6",
             "gridcolor": "#506784",
             "linecolor": "#506784",
             "minorgridcolor": "#506784",
             "startlinecolor": "#A2B1C6"
            },
            "baxis": {
             "endlinecolor": "#A2B1C6",
             "gridcolor": "#506784",
             "linecolor": "#506784",
             "minorgridcolor": "#506784",
             "startlinecolor": "#A2B1C6"
            },
            "type": "carpet"
           }
          ],
          "choropleth": [
           {
            "colorbar": {
             "outlinewidth": 0,
             "ticks": ""
            },
            "type": "choropleth"
           }
          ],
          "contour": [
           {
            "colorbar": {
             "outlinewidth": 0,
             "ticks": ""
            },
            "colorscale": [
             [
              0,
              "#0d0887"
             ],
             [
              0.1111111111111111,
              "#46039f"
             ],
             [
              0.2222222222222222,
              "#7201a8"
             ],
             [
              0.3333333333333333,
              "#9c179e"
             ],
             [
              0.4444444444444444,
              "#bd3786"
             ],
             [
              0.5555555555555556,
              "#d8576b"
             ],
             [
              0.6666666666666666,
              "#ed7953"
             ],
             [
              0.7777777777777778,
              "#fb9f3a"
             ],
             [
              0.8888888888888888,
              "#fdca26"
             ],
             [
              1,
              "#f0f921"
             ]
            ],
            "type": "contour"
           }
          ],
          "contourcarpet": [
           {
            "colorbar": {
             "outlinewidth": 0,
             "ticks": ""
            },
            "type": "contourcarpet"
           }
          ],
          "heatmap": [
           {
            "colorbar": {
             "outlinewidth": 0,
             "ticks": ""
            },
            "colorscale": [
             [
              0,
              "#0d0887"
             ],
             [
              0.1111111111111111,
              "#46039f"
             ],
             [
              0.2222222222222222,
              "#7201a8"
             ],
             [
              0.3333333333333333,
              "#9c179e"
             ],
             [
              0.4444444444444444,
              "#bd3786"
             ],
             [
              0.5555555555555556,
              "#d8576b"
             ],
             [
              0.6666666666666666,
              "#ed7953"
             ],
             [
              0.7777777777777778,
              "#fb9f3a"
             ],
             [
              0.8888888888888888,
              "#fdca26"
             ],
             [
              1,
              "#f0f921"
             ]
            ],
            "type": "heatmap"
           }
          ],
          "heatmapgl": [
           {
            "colorbar": {
             "outlinewidth": 0,
             "ticks": ""
            },
            "colorscale": [
             [
              0,
              "#0d0887"
             ],
             [
              0.1111111111111111,
              "#46039f"
             ],
             [
              0.2222222222222222,
              "#7201a8"
             ],
             [
              0.3333333333333333,
              "#9c179e"
             ],
             [
              0.4444444444444444,
              "#bd3786"
             ],
             [
              0.5555555555555556,
              "#d8576b"
             ],
             [
              0.6666666666666666,
              "#ed7953"
             ],
             [
              0.7777777777777778,
              "#fb9f3a"
             ],
             [
              0.8888888888888888,
              "#fdca26"
             ],
             [
              1,
              "#f0f921"
             ]
            ],
            "type": "heatmapgl"
           }
          ],
          "histogram": [
           {
            "marker": {
             "pattern": {
              "fillmode": "overlay",
              "size": 10,
              "solidity": 0.2
             }
            },
            "type": "histogram"
           }
          ],
          "histogram2d": [
           {
            "colorbar": {
             "outlinewidth": 0,
             "ticks": ""
            },
            "colorscale": [
             [
              0,
              "#0d0887"
             ],
             [
              0.1111111111111111,
              "#46039f"
             ],
             [
              0.2222222222222222,
              "#7201a8"
             ],
             [
              0.3333333333333333,
              "#9c179e"
             ],
             [
              0.4444444444444444,
              "#bd3786"
             ],
             [
              0.5555555555555556,
              "#d8576b"
             ],
             [
              0.6666666666666666,
              "#ed7953"
             ],
             [
              0.7777777777777778,
              "#fb9f3a"
             ],
             [
              0.8888888888888888,
              "#fdca26"
             ],
             [
              1,
              "#f0f921"
             ]
            ],
            "type": "histogram2d"
           }
          ],
          "histogram2dcontour": [
           {
            "colorbar": {
             "outlinewidth": 0,
             "ticks": ""
            },
            "colorscale": [
             [
              0,
              "#0d0887"
             ],
             [
              0.1111111111111111,
              "#46039f"
             ],
             [
              0.2222222222222222,
              "#7201a8"
             ],
             [
              0.3333333333333333,
              "#9c179e"
             ],
             [
              0.4444444444444444,
              "#bd3786"
             ],
             [
              0.5555555555555556,
              "#d8576b"
             ],
             [
              0.6666666666666666,
              "#ed7953"
             ],
             [
              0.7777777777777778,
              "#fb9f3a"
             ],
             [
              0.8888888888888888,
              "#fdca26"
             ],
             [
              1,
              "#f0f921"
             ]
            ],
            "type": "histogram2dcontour"
           }
          ],
          "mesh3d": [
           {
            "colorbar": {
             "outlinewidth": 0,
             "ticks": ""
            },
            "type": "mesh3d"
           }
          ],
          "parcoords": [
           {
            "line": {
             "colorbar": {
              "outlinewidth": 0,
              "ticks": ""
             }
            },
            "type": "parcoords"
           }
          ],
          "pie": [
           {
            "automargin": true,
            "type": "pie"
           }
          ],
          "scatter": [
           {
            "marker": {
             "line": {
              "color": "#283442"
             }
            },
            "type": "scatter"
           }
          ],
          "scatter3d": [
           {
            "line": {
             "colorbar": {
              "outlinewidth": 0,
              "ticks": ""
             }
            },
            "marker": {
             "colorbar": {
              "outlinewidth": 0,
              "ticks": ""
             }
            },
            "type": "scatter3d"
           }
          ],
          "scattercarpet": [
           {
            "marker": {
             "colorbar": {
              "outlinewidth": 0,
              "ticks": ""
             }
            },
            "type": "scattercarpet"
           }
          ],
          "scattergeo": [
           {
            "marker": {
             "colorbar": {
              "outlinewidth": 0,
              "ticks": ""
             }
            },
            "type": "scattergeo"
           }
          ],
          "scattergl": [
           {
            "marker": {
             "line": {
              "color": "#283442"
             }
            },
            "type": "scattergl"
           }
          ],
          "scattermapbox": [
           {
            "marker": {
             "colorbar": {
              "outlinewidth": 0,
              "ticks": ""
             }
            },
            "type": "scattermapbox"
           }
          ],
          "scatterpolar": [
           {
            "marker": {
             "colorbar": {
              "outlinewidth": 0,
              "ticks": ""
             }
            },
            "type": "scatterpolar"
           }
          ],
          "scatterpolargl": [
           {
            "marker": {
             "colorbar": {
              "outlinewidth": 0,
              "ticks": ""
             }
            },
            "type": "scatterpolargl"
           }
          ],
          "scatterternary": [
           {
            "marker": {
             "colorbar": {
              "outlinewidth": 0,
              "ticks": ""
             }
            },
            "type": "scatterternary"
           }
          ],
          "surface": [
           {
            "colorbar": {
             "outlinewidth": 0,
             "ticks": ""
            },
            "colorscale": [
             [
              0,
              "#0d0887"
             ],
             [
              0.1111111111111111,
              "#46039f"
             ],
             [
              0.2222222222222222,
              "#7201a8"
             ],
             [
              0.3333333333333333,
              "#9c179e"
             ],
             [
              0.4444444444444444,
              "#bd3786"
             ],
             [
              0.5555555555555556,
              "#d8576b"
             ],
             [
              0.6666666666666666,
              "#ed7953"
             ],
             [
              0.7777777777777778,
              "#fb9f3a"
             ],
             [
              0.8888888888888888,
              "#fdca26"
             ],
             [
              1,
              "#f0f921"
             ]
            ],
            "type": "surface"
           }
          ],
          "table": [
           {
            "cells": {
             "fill": {
              "color": "#506784"
             },
             "line": {
              "color": "rgb(17,17,17)"
             }
            },
            "header": {
             "fill": {
              "color": "#2a3f5f"
             },
             "line": {
              "color": "rgb(17,17,17)"
             }
            },
            "type": "table"
           }
          ]
         },
         "layout": {
          "annotationdefaults": {
           "arrowcolor": "#f2f5fa",
           "arrowhead": 0,
           "arrowwidth": 1
          },
          "autotypenumbers": "strict",
          "coloraxis": {
           "colorbar": {
            "outlinewidth": 0,
            "ticks": ""
           }
          },
          "colorscale": {
           "diverging": [
            [
             0,
             "#8e0152"
            ],
            [
             0.1,
             "#c51b7d"
            ],
            [
             0.2,
             "#de77ae"
            ],
            [
             0.3,
             "#f1b6da"
            ],
            [
             0.4,
             "#fde0ef"
            ],
            [
             0.5,
             "#f7f7f7"
            ],
            [
             0.6,
             "#e6f5d0"
            ],
            [
             0.7,
             "#b8e186"
            ],
            [
             0.8,
             "#7fbc41"
            ],
            [
             0.9,
             "#4d9221"
            ],
            [
             1,
             "#276419"
            ]
           ],
           "sequential": [
            [
             0,
             "#0d0887"
            ],
            [
             0.1111111111111111,
             "#46039f"
            ],
            [
             0.2222222222222222,
             "#7201a8"
            ],
            [
             0.3333333333333333,
             "#9c179e"
            ],
            [
             0.4444444444444444,
             "#bd3786"
            ],
            [
             0.5555555555555556,
             "#d8576b"
            ],
            [
             0.6666666666666666,
             "#ed7953"
            ],
            [
             0.7777777777777778,
             "#fb9f3a"
            ],
            [
             0.8888888888888888,
             "#fdca26"
            ],
            [
             1,
             "#f0f921"
            ]
           ],
           "sequentialminus": [
            [
             0,
             "#0d0887"
            ],
            [
             0.1111111111111111,
             "#46039f"
            ],
            [
             0.2222222222222222,
             "#7201a8"
            ],
            [
             0.3333333333333333,
             "#9c179e"
            ],
            [
             0.4444444444444444,
             "#bd3786"
            ],
            [
             0.5555555555555556,
             "#d8576b"
            ],
            [
             0.6666666666666666,
             "#ed7953"
            ],
            [
             0.7777777777777778,
             "#fb9f3a"
            ],
            [
             0.8888888888888888,
             "#fdca26"
            ],
            [
             1,
             "#f0f921"
            ]
           ]
          },
          "colorway": [
           "#636efa",
           "#EF553B",
           "#00cc96",
           "#ab63fa",
           "#FFA15A",
           "#19d3f3",
           "#FF6692",
           "#B6E880",
           "#FF97FF",
           "#FECB52"
          ],
          "font": {
           "color": "#f2f5fa"
          },
          "geo": {
           "bgcolor": "rgb(17,17,17)",
           "lakecolor": "rgb(17,17,17)",
           "landcolor": "rgb(17,17,17)",
           "showlakes": true,
           "showland": true,
           "subunitcolor": "#506784"
          },
          "hoverlabel": {
           "align": "left"
          },
          "hovermode": "closest",
          "mapbox": {
           "style": "dark"
          },
          "paper_bgcolor": "rgb(17,17,17)",
          "plot_bgcolor": "rgb(17,17,17)",
          "polar": {
           "angularaxis": {
            "gridcolor": "#506784",
            "linecolor": "#506784",
            "ticks": ""
           },
           "bgcolor": "rgb(17,17,17)",
           "radialaxis": {
            "gridcolor": "#506784",
            "linecolor": "#506784",
            "ticks": ""
           }
          },
          "scene": {
           "xaxis": {
            "backgroundcolor": "rgb(17,17,17)",
            "gridcolor": "#506784",
            "gridwidth": 2,
            "linecolor": "#506784",
            "showbackground": true,
            "ticks": "",
            "zerolinecolor": "#C8D4E3"
           },
           "yaxis": {
            "backgroundcolor": "rgb(17,17,17)",
            "gridcolor": "#506784",
            "gridwidth": 2,
            "linecolor": "#506784",
            "showbackground": true,
            "ticks": "",
            "zerolinecolor": "#C8D4E3"
           },
           "zaxis": {
            "backgroundcolor": "rgb(17,17,17)",
            "gridcolor": "#506784",
            "gridwidth": 2,
            "linecolor": "#506784",
            "showbackground": true,
            "ticks": "",
            "zerolinecolor": "#C8D4E3"
           }
          },
          "shapedefaults": {
           "line": {
            "color": "#f2f5fa"
           }
          },
          "sliderdefaults": {
           "bgcolor": "#C8D4E3",
           "bordercolor": "rgb(17,17,17)",
           "borderwidth": 1,
           "tickwidth": 0
          },
          "ternary": {
           "aaxis": {
            "gridcolor": "#506784",
            "linecolor": "#506784",
            "ticks": ""
           },
           "baxis": {
            "gridcolor": "#506784",
            "linecolor": "#506784",
            "ticks": ""
           },
           "bgcolor": "rgb(17,17,17)",
           "caxis": {
            "gridcolor": "#506784",
            "linecolor": "#506784",
            "ticks": ""
           }
          },
          "title": {
           "x": 0.05
          },
          "updatemenudefaults": {
           "bgcolor": "#506784",
           "borderwidth": 0
          },
          "xaxis": {
           "automargin": true,
           "gridcolor": "#283442",
           "linecolor": "#506784",
           "ticks": "",
           "title": {
            "standoff": 15
           },
           "zerolinecolor": "#283442",
           "zerolinewidth": 2
          },
          "yaxis": {
           "automargin": true,
           "gridcolor": "#283442",
           "linecolor": "#506784",
           "ticks": "",
           "title": {
            "standoff": 15
           },
           "zerolinecolor": "#283442",
           "zerolinewidth": 2
          }
         }
        },
        "violinmode": "group",
        "xaxis": {
         "anchor": "y",
         "domain": [
          0,
          1
         ],
         "title": {
          "text": "rating"
         }
        },
        "yaxis": {
         "anchor": "x",
         "domain": [
          0,
          1
         ]
        }
       }
      }
     },
     "metadata": {},
     "output_type": "display_data"
    }
   ],
   "source": [
    "px.violin(df, x='rating', color='doctorid', points='all')"
   ]
  },
  {
   "attachments": {},
   "cell_type": "markdown",
   "metadata": {},
   "source": [
    "### Bar Charts"
   ]
  },
  {
   "cell_type": "code",
   "execution_count": 44,
   "metadata": {},
   "outputs": [
    {
     "data": {
      "application/vnd.plotly.v1+json": {
       "config": {
        "plotlyServerURL": "https://plot.ly"
       },
       "data": [
        {
         "alignmentgroup": "True",
         "customdata": [
          [
           "Rose"
          ],
          [
           "The End of the World"
          ],
          [
           "The Unquiet Dead"
          ],
          [
           "Aliens of London"
          ],
          [
           "World War Three"
          ],
          [
           "Dalek"
          ],
          [
           "The Long Game"
          ],
          [
           "Father's Day"
          ],
          [
           "The Empty Child"
          ],
          [
           "The Doctor Dances"
          ],
          [
           "Boom Town"
          ],
          [
           "Bad Wolf"
          ],
          [
           "The Parting of the Ways"
          ],
          [
           "The Christmas Invasion"
          ],
          [
           "New Earth"
          ],
          [
           "Tooth and Claw"
          ],
          [
           "School Reunion"
          ],
          [
           "The Girl in the Fireplace"
          ],
          [
           "Rise of the Cybermen"
          ],
          [
           "The Age of Steel"
          ],
          [
           "The Idiot's Lantern"
          ],
          [
           "The Impossible Planet"
          ],
          [
           "The Satan Pit"
          ],
          [
           "Love and Monsters"
          ],
          [
           "Fear Her"
          ],
          [
           "Army of Ghosts"
          ],
          [
           "Doomsday"
          ],
          [
           "The Runaway Bride"
          ],
          [
           "Smith and Jones"
          ],
          [
           "The Shakespeare Code"
          ],
          [
           "Gridlock"
          ],
          [
           "Daleks in Manhattan"
          ],
          [
           "Evolution of the Daleks"
          ],
          [
           "The Lazarus Experiment"
          ],
          [
           "42"
          ],
          [
           "Human Nature"
          ],
          [
           "Family of Blood"
          ],
          [
           "Blink"
          ],
          [
           "Utopia"
          ],
          [
           "The Sound of Drums"
          ],
          [
           "Last of the Time Lords"
          ],
          [
           "Voyage of the Damned"
          ],
          [
           "Partners in Crime"
          ],
          [
           "The Fires of Pompeii"
          ],
          [
           "Planet of the Ood"
          ],
          [
           "The Sontaran Stratagem"
          ],
          [
           "The Poison Sky"
          ],
          [
           "The Doctor's Daughter"
          ],
          [
           "The Unicorn and the Wasp"
          ],
          [
           "Silence in the Library"
          ],
          [
           "Forest of the Dead"
          ],
          [
           "Midnight"
          ],
          [
           "Turn Left"
          ],
          [
           "The Stolen Earth"
          ],
          [
           "Journey's End"
          ],
          [
           "The Eleventh Hour"
          ],
          [
           "The Beast Below"
          ],
          [
           "Victory of the Daleks"
          ],
          [
           "The Time of Angels"
          ],
          [
           "Flesh and Stone"
          ],
          [
           "The Vampires of Venice"
          ],
          [
           "Amy's Choice"
          ],
          [
           "The Hungry Earth"
          ],
          [
           "Cold Blood"
          ],
          [
           "Vincent and the Doctor"
          ],
          [
           "The Lodger"
          ],
          [
           "The Pandorica Opens"
          ],
          [
           "The Big Bang"
          ],
          [
           "A Christmas Carol"
          ],
          [
           "The Impossible Astronaut"
          ],
          [
           "Day of the Moon"
          ],
          [
           "Curse of the Black Spot"
          ],
          [
           "The Doctor's Wife"
          ],
          [
           "The Rebel Flesh"
          ],
          [
           "The Almost People"
          ],
          [
           "A Good Man Goes to War"
          ],
          [
           "Let's Kill Hitler"
          ],
          [
           "Night Terrors"
          ],
          [
           "The Girl Who Waited"
          ],
          [
           "The God Complex"
          ],
          [
           "Closing Time"
          ],
          [
           "The Wedding of River Song"
          ],
          [
           "The Doctor, the Widow, and the Wardrobe"
          ],
          [
           "Asylum of the Daleks"
          ],
          [
           "Dinosaurs on a Spaceship"
          ],
          [
           "A Town Called Mercy"
          ],
          [
           "The Power of Three"
          ],
          [
           "The Angels Take Manhattan"
          ],
          [
           "The Snowmen"
          ],
          [
           "The Bells of Saint John"
          ],
          [
           "The Rings of Akhaten"
          ],
          [
           "Cold War"
          ],
          [
           "Hide"
          ],
          [
           "Journey to the Centre of the TARDIS"
          ],
          [
           "The Crimson Horror"
          ],
          [
           "Nightmare in Silver"
          ],
          [
           "The Name of the Doctor"
          ],
          [
           "Deep Breath"
          ],
          [
           "Into the Dalek"
          ],
          [
           "Robot of Sherwood"
          ],
          [
           "Listen"
          ],
          [
           "Time Heist"
          ],
          [
           "The Caretaker"
          ],
          [
           "Kill the Moon"
          ],
          [
           "Mummy on the Orient Express"
          ],
          [
           "Flatline"
          ],
          [
           "In the Forest of the Night"
          ],
          [
           "Dark Water"
          ],
          [
           "Death in Heaven"
          ],
          [
           "The Magician's Apprentice"
          ],
          [
           "The Witch's Familiar"
          ],
          [
           "Under the Lake"
          ],
          [
           "Before The Flood"
          ],
          [
           "The Girl Who Died"
          ],
          [
           "The Woman Who Lived"
          ],
          [
           "The Zygon Invasion"
          ],
          [
           "The Zygon Inversion"
          ],
          [
           "Sleep No More"
          ],
          [
           "Face The Raven"
          ],
          [
           "Heaven Sent"
          ],
          [
           "Hell Bent"
          ],
          [
           "The Husbands of River Song"
          ],
          [
           "The Return of Doctor Mysterio"
          ],
          [
           "The Pilot"
          ],
          [
           "Smile"
          ],
          [
           "Thin Ice"
          ],
          [
           "Knock Knock"
          ],
          [
           "Oxygen"
          ],
          [
           "Extremis"
          ],
          [
           "The Pyramid at the End of the World"
          ],
          [
           "The Lie of the Land"
          ],
          [
           "Empress of Mars"
          ],
          [
           "The Eaters of Light"
          ],
          [
           "World Enough and Time"
          ],
          [
           "The Doctor Falls"
          ],
          [
           "The Woman Who Fell to Earth"
          ],
          [
           "The Ghost Monument"
          ],
          [
           "Rosa"
          ],
          [
           "Arachnids in the UK"
          ],
          [
           "The Tsuranga Conundrum"
          ],
          [
           "Demons of the Punjab"
          ],
          [
           "Kerblam!"
          ],
          [
           "The Witchfinders"
          ],
          [
           "It Takes You Away"
          ],
          [
           "The Battle of Ranskoor Av Kolos"
          ],
          [
           "Resolution"
          ]
         ],
         "hovertemplate": "index=%{x}<br>share=%{y}<br>title=%{customdata[0]}<br>season=%{marker.color}<extra></extra>",
         "legendgroup": "",
         "marker": {
          "color": [
           1,
           1,
           1,
           1,
           1,
           1,
           1,
           1,
           1,
           1,
           1,
           1,
           1,
           2,
           2,
           2,
           2,
           2,
           2,
           2,
           2,
           2,
           2,
           2,
           2,
           2,
           2,
           3,
           3,
           3,
           3,
           3,
           3,
           3,
           3,
           3,
           3,
           3,
           3,
           3,
           3,
           4,
           4,
           4,
           4,
           4,
           4,
           4,
           4,
           4,
           4,
           4,
           4,
           4,
           4,
           5,
           5,
           5,
           5,
           5,
           5,
           5,
           5,
           5,
           5,
           5,
           5,
           5,
           6,
           6,
           6,
           6,
           6,
           6,
           6,
           6,
           6,
           6,
           6,
           6,
           6,
           6,
           7,
           7,
           7,
           7,
           7,
           7,
           7,
           7,
           7,
           7,
           7,
           7,
           7,
           7,
           7,
           8,
           8,
           8,
           8,
           8,
           8,
           8,
           8,
           8,
           8,
           8,
           8,
           9,
           9,
           9,
           9,
           9,
           9,
           9,
           9,
           9,
           9,
           9,
           9,
           9,
           10,
           10,
           10,
           10,
           10,
           10,
           10,
           10,
           10,
           10,
           10,
           10,
           10,
           11,
           11,
           11,
           11,
           11,
           11,
           11,
           11,
           11,
           11,
           11
          ],
          "coloraxis": "coloraxis",
          "pattern": {
           "shape": ""
          }
         },
         "name": "",
         "offsetgroup": "",
         "orientation": "v",
         "showlegend": false,
         "textposition": "auto",
         "type": "bar",
         "x": [
          0,
          1,
          2,
          3,
          4,
          5,
          6,
          7,
          8,
          9,
          10,
          11,
          12,
          13,
          14,
          15,
          16,
          17,
          18,
          19,
          20,
          21,
          22,
          23,
          24,
          25,
          26,
          27,
          28,
          29,
          30,
          31,
          32,
          33,
          34,
          35,
          36,
          37,
          38,
          39,
          40,
          41,
          42,
          43,
          44,
          45,
          46,
          47,
          48,
          49,
          50,
          51,
          52,
          53,
          54,
          55,
          56,
          57,
          58,
          59,
          60,
          61,
          62,
          63,
          64,
          65,
          66,
          67,
          68,
          69,
          70,
          71,
          72,
          73,
          74,
          75,
          76,
          77,
          78,
          79,
          80,
          81,
          82,
          83,
          84,
          85,
          86,
          87,
          88,
          89,
          90,
          91,
          92,
          93,
          94,
          95,
          96,
          97,
          98,
          99,
          100,
          101,
          102,
          103,
          104,
          105,
          106,
          107,
          108,
          109,
          110,
          111,
          112,
          113,
          114,
          115,
          116,
          117,
          118,
          119,
          120,
          121,
          122,
          123,
          124,
          125,
          126,
          127,
          128,
          129,
          130,
          131,
          132,
          133,
          134,
          135,
          136,
          137,
          138,
          139,
          140,
          141,
          142,
          143,
          144,
          145
         ],
         "xaxis": "x",
         "y": [
          44.8,
          37.8,
          37.8,
          35.7,
          40.2,
          44.9,
          40.4,
          44.4,
          37,
          39,
          39,
          37.9,
          44,
          43.5,
          40.2,
          42.9,
          41.6,
          38.1,
          43.7,
          37.8,
          33.4,
          41,
          38,
          39.7,
          41.2,
          45.1,
          44.5,
          37.9,
          40.7,
          36.9,
          40.4,
          36.4,
          39.2,
          38.8,
          37.1,
          38,
          40.9,
          38.4,
          38.2,
          40,
          40.6,
          51.6,
          41.3,
          38.8,
          35.2,
          36.9,
          34.3,
          40.1,
          37.8,
          27.7,
          42.1,
          39.8,
          38.1,
          42.1,
          48.7,
          39.7,
          38.9,
          37.4,
          41.2,
          38.2,
          34.8,
          37.4,
          39.8,
          31.9,
          35.5,
          28.5,
          37.1,
          36.9,
          41.8,
          43.3,
          36.7,
          35.5,
          34.7,
          34.1,
          29.5,
          31,
          33.3,
          29.8,
          38.8,
          28.3,
          29.4,
          32,
          37.3,
          34.4,
          31.9,
          33.4,
          31.8,
          32,
          38.8,
          35.8,
          34.8,
          31.4,
          29.2,
          30.2,
          31.5,
          27.1,
          31.7,
          37.9,
          30.4,
          31.1,
          29.6,
          29.6,
          26.4,
          26.6,
          26.6,
          25.5,
          26.3,
          27.4,
          28.6,
          26.3,
          22.9,
          22,
          26.7,
          28.1,
          24.4,
          24.3,
          25.1,
          22.6,
          23.9,
          24.9,
          25.7,
          33.9,
          31.2,
          30.6,
          28.5,
          26.5,
          27.3,
          26.1,
          26.4,
          24.9,
          20.3,
          25.9,
          30.3,
          28.2,
          31.3,
          45.1,
          37.2,
          33.6,
          32.9,
          33,
          31.4,
          31.8,
          31.5,
          28.3,
          29.6,
          26.6
         ],
         "yaxis": "y"
        }
       ],
       "layout": {
        "barmode": "relative",
        "coloraxis": {
         "colorbar": {
          "title": {
           "text": "season"
          }
         },
         "colorscale": [
          [
           0,
           "rgb(75, 41, 145)"
          ],
          [
           0.16666666666666666,
           "rgb(135, 44, 162)"
          ],
          [
           0.3333333333333333,
           "rgb(192, 54, 157)"
          ],
          [
           0.5,
           "rgb(234, 79, 136)"
          ],
          [
           0.6666666666666666,
           "rgb(250, 120, 118)"
          ],
          [
           0.8333333333333334,
           "rgb(246, 169, 122)"
          ],
          [
           1,
           "rgb(237, 217, 163)"
          ]
         ]
        },
        "legend": {
         "tracegroupgap": 0
        },
        "margin": {
         "t": 60
        },
        "template": {
         "data": {
          "bar": [
           {
            "error_x": {
             "color": "#f2f5fa"
            },
            "error_y": {
             "color": "#f2f5fa"
            },
            "marker": {
             "line": {
              "color": "rgb(17,17,17)",
              "width": 0.5
             },
             "pattern": {
              "fillmode": "overlay",
              "size": 10,
              "solidity": 0.2
             }
            },
            "type": "bar"
           }
          ],
          "barpolar": [
           {
            "marker": {
             "line": {
              "color": "rgb(17,17,17)",
              "width": 0.5
             },
             "pattern": {
              "fillmode": "overlay",
              "size": 10,
              "solidity": 0.2
             }
            },
            "type": "barpolar"
           }
          ],
          "carpet": [
           {
            "aaxis": {
             "endlinecolor": "#A2B1C6",
             "gridcolor": "#506784",
             "linecolor": "#506784",
             "minorgridcolor": "#506784",
             "startlinecolor": "#A2B1C6"
            },
            "baxis": {
             "endlinecolor": "#A2B1C6",
             "gridcolor": "#506784",
             "linecolor": "#506784",
             "minorgridcolor": "#506784",
             "startlinecolor": "#A2B1C6"
            },
            "type": "carpet"
           }
          ],
          "choropleth": [
           {
            "colorbar": {
             "outlinewidth": 0,
             "ticks": ""
            },
            "type": "choropleth"
           }
          ],
          "contour": [
           {
            "colorbar": {
             "outlinewidth": 0,
             "ticks": ""
            },
            "colorscale": [
             [
              0,
              "#0d0887"
             ],
             [
              0.1111111111111111,
              "#46039f"
             ],
             [
              0.2222222222222222,
              "#7201a8"
             ],
             [
              0.3333333333333333,
              "#9c179e"
             ],
             [
              0.4444444444444444,
              "#bd3786"
             ],
             [
              0.5555555555555556,
              "#d8576b"
             ],
             [
              0.6666666666666666,
              "#ed7953"
             ],
             [
              0.7777777777777778,
              "#fb9f3a"
             ],
             [
              0.8888888888888888,
              "#fdca26"
             ],
             [
              1,
              "#f0f921"
             ]
            ],
            "type": "contour"
           }
          ],
          "contourcarpet": [
           {
            "colorbar": {
             "outlinewidth": 0,
             "ticks": ""
            },
            "type": "contourcarpet"
           }
          ],
          "heatmap": [
           {
            "colorbar": {
             "outlinewidth": 0,
             "ticks": ""
            },
            "colorscale": [
             [
              0,
              "#0d0887"
             ],
             [
              0.1111111111111111,
              "#46039f"
             ],
             [
              0.2222222222222222,
              "#7201a8"
             ],
             [
              0.3333333333333333,
              "#9c179e"
             ],
             [
              0.4444444444444444,
              "#bd3786"
             ],
             [
              0.5555555555555556,
              "#d8576b"
             ],
             [
              0.6666666666666666,
              "#ed7953"
             ],
             [
              0.7777777777777778,
              "#fb9f3a"
             ],
             [
              0.8888888888888888,
              "#fdca26"
             ],
             [
              1,
              "#f0f921"
             ]
            ],
            "type": "heatmap"
           }
          ],
          "heatmapgl": [
           {
            "colorbar": {
             "outlinewidth": 0,
             "ticks": ""
            },
            "colorscale": [
             [
              0,
              "#0d0887"
             ],
             [
              0.1111111111111111,
              "#46039f"
             ],
             [
              0.2222222222222222,
              "#7201a8"
             ],
             [
              0.3333333333333333,
              "#9c179e"
             ],
             [
              0.4444444444444444,
              "#bd3786"
             ],
             [
              0.5555555555555556,
              "#d8576b"
             ],
             [
              0.6666666666666666,
              "#ed7953"
             ],
             [
              0.7777777777777778,
              "#fb9f3a"
             ],
             [
              0.8888888888888888,
              "#fdca26"
             ],
             [
              1,
              "#f0f921"
             ]
            ],
            "type": "heatmapgl"
           }
          ],
          "histogram": [
           {
            "marker": {
             "pattern": {
              "fillmode": "overlay",
              "size": 10,
              "solidity": 0.2
             }
            },
            "type": "histogram"
           }
          ],
          "histogram2d": [
           {
            "colorbar": {
             "outlinewidth": 0,
             "ticks": ""
            },
            "colorscale": [
             [
              0,
              "#0d0887"
             ],
             [
              0.1111111111111111,
              "#46039f"
             ],
             [
              0.2222222222222222,
              "#7201a8"
             ],
             [
              0.3333333333333333,
              "#9c179e"
             ],
             [
              0.4444444444444444,
              "#bd3786"
             ],
             [
              0.5555555555555556,
              "#d8576b"
             ],
             [
              0.6666666666666666,
              "#ed7953"
             ],
             [
              0.7777777777777778,
              "#fb9f3a"
             ],
             [
              0.8888888888888888,
              "#fdca26"
             ],
             [
              1,
              "#f0f921"
             ]
            ],
            "type": "histogram2d"
           }
          ],
          "histogram2dcontour": [
           {
            "colorbar": {
             "outlinewidth": 0,
             "ticks": ""
            },
            "colorscale": [
             [
              0,
              "#0d0887"
             ],
             [
              0.1111111111111111,
              "#46039f"
             ],
             [
              0.2222222222222222,
              "#7201a8"
             ],
             [
              0.3333333333333333,
              "#9c179e"
             ],
             [
              0.4444444444444444,
              "#bd3786"
             ],
             [
              0.5555555555555556,
              "#d8576b"
             ],
             [
              0.6666666666666666,
              "#ed7953"
             ],
             [
              0.7777777777777778,
              "#fb9f3a"
             ],
             [
              0.8888888888888888,
              "#fdca26"
             ],
             [
              1,
              "#f0f921"
             ]
            ],
            "type": "histogram2dcontour"
           }
          ],
          "mesh3d": [
           {
            "colorbar": {
             "outlinewidth": 0,
             "ticks": ""
            },
            "type": "mesh3d"
           }
          ],
          "parcoords": [
           {
            "line": {
             "colorbar": {
              "outlinewidth": 0,
              "ticks": ""
             }
            },
            "type": "parcoords"
           }
          ],
          "pie": [
           {
            "automargin": true,
            "type": "pie"
           }
          ],
          "scatter": [
           {
            "marker": {
             "line": {
              "color": "#283442"
             }
            },
            "type": "scatter"
           }
          ],
          "scatter3d": [
           {
            "line": {
             "colorbar": {
              "outlinewidth": 0,
              "ticks": ""
             }
            },
            "marker": {
             "colorbar": {
              "outlinewidth": 0,
              "ticks": ""
             }
            },
            "type": "scatter3d"
           }
          ],
          "scattercarpet": [
           {
            "marker": {
             "colorbar": {
              "outlinewidth": 0,
              "ticks": ""
             }
            },
            "type": "scattercarpet"
           }
          ],
          "scattergeo": [
           {
            "marker": {
             "colorbar": {
              "outlinewidth": 0,
              "ticks": ""
             }
            },
            "type": "scattergeo"
           }
          ],
          "scattergl": [
           {
            "marker": {
             "line": {
              "color": "#283442"
             }
            },
            "type": "scattergl"
           }
          ],
          "scattermapbox": [
           {
            "marker": {
             "colorbar": {
              "outlinewidth": 0,
              "ticks": ""
             }
            },
            "type": "scattermapbox"
           }
          ],
          "scatterpolar": [
           {
            "marker": {
             "colorbar": {
              "outlinewidth": 0,
              "ticks": ""
             }
            },
            "type": "scatterpolar"
           }
          ],
          "scatterpolargl": [
           {
            "marker": {
             "colorbar": {
              "outlinewidth": 0,
              "ticks": ""
             }
            },
            "type": "scatterpolargl"
           }
          ],
          "scatterternary": [
           {
            "marker": {
             "colorbar": {
              "outlinewidth": 0,
              "ticks": ""
             }
            },
            "type": "scatterternary"
           }
          ],
          "surface": [
           {
            "colorbar": {
             "outlinewidth": 0,
             "ticks": ""
            },
            "colorscale": [
             [
              0,
              "#0d0887"
             ],
             [
              0.1111111111111111,
              "#46039f"
             ],
             [
              0.2222222222222222,
              "#7201a8"
             ],
             [
              0.3333333333333333,
              "#9c179e"
             ],
             [
              0.4444444444444444,
              "#bd3786"
             ],
             [
              0.5555555555555556,
              "#d8576b"
             ],
             [
              0.6666666666666666,
              "#ed7953"
             ],
             [
              0.7777777777777778,
              "#fb9f3a"
             ],
             [
              0.8888888888888888,
              "#fdca26"
             ],
             [
              1,
              "#f0f921"
             ]
            ],
            "type": "surface"
           }
          ],
          "table": [
           {
            "cells": {
             "fill": {
              "color": "#506784"
             },
             "line": {
              "color": "rgb(17,17,17)"
             }
            },
            "header": {
             "fill": {
              "color": "#2a3f5f"
             },
             "line": {
              "color": "rgb(17,17,17)"
             }
            },
            "type": "table"
           }
          ]
         },
         "layout": {
          "annotationdefaults": {
           "arrowcolor": "#f2f5fa",
           "arrowhead": 0,
           "arrowwidth": 1
          },
          "autotypenumbers": "strict",
          "coloraxis": {
           "colorbar": {
            "outlinewidth": 0,
            "ticks": ""
           }
          },
          "colorscale": {
           "diverging": [
            [
             0,
             "#8e0152"
            ],
            [
             0.1,
             "#c51b7d"
            ],
            [
             0.2,
             "#de77ae"
            ],
            [
             0.3,
             "#f1b6da"
            ],
            [
             0.4,
             "#fde0ef"
            ],
            [
             0.5,
             "#f7f7f7"
            ],
            [
             0.6,
             "#e6f5d0"
            ],
            [
             0.7,
             "#b8e186"
            ],
            [
             0.8,
             "#7fbc41"
            ],
            [
             0.9,
             "#4d9221"
            ],
            [
             1,
             "#276419"
            ]
           ],
           "sequential": [
            [
             0,
             "#0d0887"
            ],
            [
             0.1111111111111111,
             "#46039f"
            ],
            [
             0.2222222222222222,
             "#7201a8"
            ],
            [
             0.3333333333333333,
             "#9c179e"
            ],
            [
             0.4444444444444444,
             "#bd3786"
            ],
            [
             0.5555555555555556,
             "#d8576b"
            ],
            [
             0.6666666666666666,
             "#ed7953"
            ],
            [
             0.7777777777777778,
             "#fb9f3a"
            ],
            [
             0.8888888888888888,
             "#fdca26"
            ],
            [
             1,
             "#f0f921"
            ]
           ],
           "sequentialminus": [
            [
             0,
             "#0d0887"
            ],
            [
             0.1111111111111111,
             "#46039f"
            ],
            [
             0.2222222222222222,
             "#7201a8"
            ],
            [
             0.3333333333333333,
             "#9c179e"
            ],
            [
             0.4444444444444444,
             "#bd3786"
            ],
            [
             0.5555555555555556,
             "#d8576b"
            ],
            [
             0.6666666666666666,
             "#ed7953"
            ],
            [
             0.7777777777777778,
             "#fb9f3a"
            ],
            [
             0.8888888888888888,
             "#fdca26"
            ],
            [
             1,
             "#f0f921"
            ]
           ]
          },
          "colorway": [
           "#636efa",
           "#EF553B",
           "#00cc96",
           "#ab63fa",
           "#FFA15A",
           "#19d3f3",
           "#FF6692",
           "#B6E880",
           "#FF97FF",
           "#FECB52"
          ],
          "font": {
           "color": "#f2f5fa"
          },
          "geo": {
           "bgcolor": "rgb(17,17,17)",
           "lakecolor": "rgb(17,17,17)",
           "landcolor": "rgb(17,17,17)",
           "showlakes": true,
           "showland": true,
           "subunitcolor": "#506784"
          },
          "hoverlabel": {
           "align": "left"
          },
          "hovermode": "closest",
          "mapbox": {
           "style": "dark"
          },
          "paper_bgcolor": "rgb(17,17,17)",
          "plot_bgcolor": "rgb(17,17,17)",
          "polar": {
           "angularaxis": {
            "gridcolor": "#506784",
            "linecolor": "#506784",
            "ticks": ""
           },
           "bgcolor": "rgb(17,17,17)",
           "radialaxis": {
            "gridcolor": "#506784",
            "linecolor": "#506784",
            "ticks": ""
           }
          },
          "scene": {
           "xaxis": {
            "backgroundcolor": "rgb(17,17,17)",
            "gridcolor": "#506784",
            "gridwidth": 2,
            "linecolor": "#506784",
            "showbackground": true,
            "ticks": "",
            "zerolinecolor": "#C8D4E3"
           },
           "yaxis": {
            "backgroundcolor": "rgb(17,17,17)",
            "gridcolor": "#506784",
            "gridwidth": 2,
            "linecolor": "#506784",
            "showbackground": true,
            "ticks": "",
            "zerolinecolor": "#C8D4E3"
           },
           "zaxis": {
            "backgroundcolor": "rgb(17,17,17)",
            "gridcolor": "#506784",
            "gridwidth": 2,
            "linecolor": "#506784",
            "showbackground": true,
            "ticks": "",
            "zerolinecolor": "#C8D4E3"
           }
          },
          "shapedefaults": {
           "line": {
            "color": "#f2f5fa"
           }
          },
          "sliderdefaults": {
           "bgcolor": "#C8D4E3",
           "bordercolor": "rgb(17,17,17)",
           "borderwidth": 1,
           "tickwidth": 0
          },
          "ternary": {
           "aaxis": {
            "gridcolor": "#506784",
            "linecolor": "#506784",
            "ticks": ""
           },
           "baxis": {
            "gridcolor": "#506784",
            "linecolor": "#506784",
            "ticks": ""
           },
           "bgcolor": "rgb(17,17,17)",
           "caxis": {
            "gridcolor": "#506784",
            "linecolor": "#506784",
            "ticks": ""
           }
          },
          "title": {
           "x": 0.05
          },
          "updatemenudefaults": {
           "bgcolor": "#506784",
           "borderwidth": 0
          },
          "xaxis": {
           "automargin": true,
           "gridcolor": "#283442",
           "linecolor": "#506784",
           "ticks": "",
           "title": {
            "standoff": 15
           },
           "zerolinecolor": "#283442",
           "zerolinewidth": 2
          },
          "yaxis": {
           "automargin": true,
           "gridcolor": "#283442",
           "linecolor": "#506784",
           "ticks": "",
           "title": {
            "standoff": 15
           },
           "zerolinecolor": "#283442",
           "zerolinewidth": 2
          }
         }
        },
        "xaxis": {
         "anchor": "y",
         "domain": [
          0,
          1
         ],
         "title": {
          "text": "index"
         }
        },
        "yaxis": {
         "anchor": "x",
         "domain": [
          0,
          1
         ],
         "title": {
          "text": "share"
         }
        }
       }
      }
     },
     "metadata": {},
     "output_type": "display_data"
    }
   ],
   "source": [
    "px.bar(df, y='share', color='season', hover_data=['title'])"
   ]
  },
  {
   "cell_type": "code",
   "execution_count": 54,
   "metadata": {},
   "outputs": [
    {
     "data": {
      "application/vnd.plotly.v1+json": {
       "config": {
        "plotlyServerURL": "https://plot.ly"
       },
       "data": [
        {
         "customdata": [
          [
           "Rose"
          ],
          [
           "The End of the World"
          ],
          [
           "The Unquiet Dead"
          ],
          [
           "Aliens of London"
          ],
          [
           "World War Three"
          ],
          [
           "Dalek"
          ],
          [
           "The Long Game"
          ],
          [
           "Father's Day"
          ],
          [
           "The Empty Child"
          ],
          [
           "The Doctor Dances"
          ],
          [
           "Boom Town"
          ],
          [
           "Bad Wolf"
          ],
          [
           "The Parting of the Ways"
          ],
          [
           "The Christmas Invasion"
          ],
          [
           "New Earth"
          ],
          [
           "Tooth and Claw"
          ],
          [
           "School Reunion"
          ],
          [
           "The Girl in the Fireplace"
          ],
          [
           "Rise of the Cybermen"
          ],
          [
           "The Age of Steel"
          ],
          [
           "The Idiot's Lantern"
          ],
          [
           "The Impossible Planet"
          ],
          [
           "The Satan Pit"
          ],
          [
           "Love and Monsters"
          ],
          [
           "Fear Her"
          ],
          [
           "Army of Ghosts"
          ],
          [
           "Doomsday"
          ],
          [
           "The Runaway Bride"
          ],
          [
           "Smith and Jones"
          ],
          [
           "The Shakespeare Code"
          ],
          [
           "Gridlock"
          ],
          [
           "Daleks in Manhattan"
          ],
          [
           "Evolution of the Daleks"
          ],
          [
           "The Lazarus Experiment"
          ],
          [
           "42"
          ],
          [
           "Human Nature"
          ],
          [
           "Family of Blood"
          ],
          [
           "Blink"
          ],
          [
           "Utopia"
          ],
          [
           "The Sound of Drums"
          ],
          [
           "Last of the Time Lords"
          ],
          [
           "Voyage of the Damned"
          ],
          [
           "Partners in Crime"
          ],
          [
           "The Fires of Pompeii"
          ],
          [
           "Planet of the Ood"
          ],
          [
           "The Sontaran Stratagem"
          ],
          [
           "The Poison Sky"
          ],
          [
           "The Doctor's Daughter"
          ],
          [
           "The Unicorn and the Wasp"
          ],
          [
           "Silence in the Library"
          ],
          [
           "Forest of the Dead"
          ],
          [
           "Midnight"
          ],
          [
           "Turn Left"
          ],
          [
           "The Stolen Earth"
          ],
          [
           "Journey's End"
          ],
          [
           "The Eleventh Hour"
          ],
          [
           "The Beast Below"
          ],
          [
           "Victory of the Daleks"
          ],
          [
           "The Time of Angels"
          ],
          [
           "Flesh and Stone"
          ],
          [
           "The Vampires of Venice"
          ],
          [
           "Amy's Choice"
          ],
          [
           "The Hungry Earth"
          ],
          [
           "Cold Blood"
          ],
          [
           "Vincent and the Doctor"
          ],
          [
           "The Lodger"
          ],
          [
           "The Pandorica Opens"
          ],
          [
           "The Big Bang"
          ],
          [
           "A Christmas Carol"
          ],
          [
           "The Impossible Astronaut"
          ],
          [
           "Day of the Moon"
          ],
          [
           "Curse of the Black Spot"
          ],
          [
           "The Doctor's Wife"
          ],
          [
           "The Rebel Flesh"
          ],
          [
           "The Almost People"
          ],
          [
           "A Good Man Goes to War"
          ],
          [
           "Let's Kill Hitler"
          ],
          [
           "Night Terrors"
          ],
          [
           "The Girl Who Waited"
          ],
          [
           "The God Complex"
          ],
          [
           "Closing Time"
          ],
          [
           "The Wedding of River Song"
          ],
          [
           "The Doctor, the Widow, and the Wardrobe"
          ],
          [
           "Asylum of the Daleks"
          ],
          [
           "Dinosaurs on a Spaceship"
          ],
          [
           "A Town Called Mercy"
          ],
          [
           "The Power of Three"
          ],
          [
           "The Angels Take Manhattan"
          ],
          [
           "The Snowmen"
          ],
          [
           "The Bells of Saint John"
          ],
          [
           "The Rings of Akhaten"
          ],
          [
           "Cold War"
          ],
          [
           "Hide"
          ],
          [
           "Journey to the Centre of the TARDIS"
          ],
          [
           "The Crimson Horror"
          ],
          [
           "Nightmare in Silver"
          ],
          [
           "The Name of the Doctor"
          ],
          [
           "Deep Breath"
          ],
          [
           "Into the Dalek"
          ],
          [
           "Robot of Sherwood"
          ],
          [
           "Listen"
          ],
          [
           "Time Heist"
          ],
          [
           "The Caretaker"
          ],
          [
           "Kill the Moon"
          ],
          [
           "Mummy on the Orient Express"
          ],
          [
           "Flatline"
          ],
          [
           "In the Forest of the Night"
          ],
          [
           "Dark Water"
          ],
          [
           "Death in Heaven"
          ],
          [
           "The Magician's Apprentice"
          ],
          [
           "The Witch's Familiar"
          ],
          [
           "Under the Lake"
          ],
          [
           "Before The Flood"
          ],
          [
           "The Girl Who Died"
          ],
          [
           "The Woman Who Lived"
          ],
          [
           "The Zygon Invasion"
          ],
          [
           "The Zygon Inversion"
          ],
          [
           "Sleep No More"
          ],
          [
           "Face The Raven"
          ],
          [
           "Heaven Sent"
          ],
          [
           "Hell Bent"
          ],
          [
           "The Husbands of River Song"
          ],
          [
           "The Return of Doctor Mysterio"
          ],
          [
           "The Pilot"
          ],
          [
           "Smile"
          ],
          [
           "Thin Ice"
          ],
          [
           "Knock Knock"
          ],
          [
           "Oxygen"
          ],
          [
           "Extremis"
          ],
          [
           "The Pyramid at the End of the World"
          ],
          [
           "The Lie of the Land"
          ],
          [
           "Empress of Mars"
          ],
          [
           "The Eaters of Light"
          ],
          [
           "World Enough and Time"
          ],
          [
           "The Doctor Falls"
          ],
          [
           "The Woman Who Fell to Earth"
          ],
          [
           "The Ghost Monument"
          ],
          [
           "Rosa"
          ],
          [
           "Arachnids in the UK"
          ],
          [
           "The Tsuranga Conundrum"
          ],
          [
           "Demons of the Punjab"
          ],
          [
           "Kerblam!"
          ],
          [
           "The Witchfinders"
          ],
          [
           "It Takes You Away"
          ],
          [
           "The Battle of Ranskoor Av Kolos"
          ],
          [
           "Resolution"
          ]
         ],
         "hovertemplate": "appreciation=%{r}<br>title=%{customdata[0]}<br>season=%{marker.color}<extra></extra>",
         "legendgroup": "",
         "marker": {
          "color": [
           1,
           1,
           1,
           1,
           1,
           1,
           1,
           1,
           1,
           1,
           1,
           1,
           1,
           2,
           2,
           2,
           2,
           2,
           2,
           2,
           2,
           2,
           2,
           2,
           2,
           2,
           2,
           3,
           3,
           3,
           3,
           3,
           3,
           3,
           3,
           3,
           3,
           3,
           3,
           3,
           3,
           4,
           4,
           4,
           4,
           4,
           4,
           4,
           4,
           4,
           4,
           4,
           4,
           4,
           4,
           5,
           5,
           5,
           5,
           5,
           5,
           5,
           5,
           5,
           5,
           5,
           5,
           5,
           6,
           6,
           6,
           6,
           6,
           6,
           6,
           6,
           6,
           6,
           6,
           6,
           6,
           6,
           7,
           7,
           7,
           7,
           7,
           7,
           7,
           7,
           7,
           7,
           7,
           7,
           7,
           7,
           7,
           8,
           8,
           8,
           8,
           8,
           8,
           8,
           8,
           8,
           8,
           8,
           8,
           9,
           9,
           9,
           9,
           9,
           9,
           9,
           9,
           9,
           9,
           9,
           9,
           9,
           10,
           10,
           10,
           10,
           10,
           10,
           10,
           10,
           10,
           10,
           10,
           10,
           10,
           11,
           11,
           11,
           11,
           11,
           11,
           11,
           11,
           11,
           11,
           11
          ],
          "coloraxis": "coloraxis",
          "pattern": {
           "shape": ""
          }
         },
         "name": "",
         "r": [
          76,
          76,
          80,
          82,
          81,
          84,
          81,
          83,
          84,
          85,
          82,
          86,
          89,
          84,
          85,
          83,
          85,
          84,
          86,
          86,
          84,
          85,
          86,
          76,
          83,
          86,
          89,
          84,
          88,
          87,
          85,
          87,
          85,
          86,
          84,
          86,
          86,
          87,
          87,
          87,
          88,
          85,
          88,
          87,
          87,
          87,
          88,
          88,
          86,
          89,
          89,
          86,
          88,
          91,
          91,
          86,
          86,
          84,
          87,
          86,
          86,
          84,
          86,
          86,
          86,
          87,
          88,
          89,
          83,
          88,
          87,
          86,
          87,
          85,
          86,
          88,
          85,
          86,
          85,
          86,
          86,
          86,
          84,
          89,
          87,
          85,
          87,
          88,
          87,
          87,
          84,
          84,
          85,
          85,
          85,
          84,
          88,
          82,
          84,
          82,
          82,
          84,
          83,
          82,
          85,
          85,
          83,
          85,
          83,
          84,
          83,
          84,
          82,
          82,
          81,
          82,
          84,
          78,
          84,
          80,
          82,
          82,
          82,
          83,
          83,
          84,
          83,
          83,
          82,
          82,
          82,
          83,
          81,
          85,
          83,
          83,
          82,
          83,
          83,
          79,
          80,
          81,
          81,
          80,
          79,
          80
         ],
         "showlegend": false,
         "subplot": "polar",
         "type": "barpolar"
        }
       ],
       "layout": {
        "barmode": "relative",
        "coloraxis": {
         "colorbar": {
          "title": {
           "text": "season"
          }
         },
         "colorscale": [
          [
           0,
           "rgb(75, 41, 145)"
          ],
          [
           0.16666666666666666,
           "rgb(135, 44, 162)"
          ],
          [
           0.3333333333333333,
           "rgb(192, 54, 157)"
          ],
          [
           0.5,
           "rgb(234, 79, 136)"
          ],
          [
           0.6666666666666666,
           "rgb(250, 120, 118)"
          ],
          [
           0.8333333333333334,
           "rgb(246, 169, 122)"
          ],
          [
           1,
           "rgb(237, 217, 163)"
          ]
         ]
        },
        "legend": {
         "tracegroupgap": 0
        },
        "polar": {
         "angularaxis": {
          "direction": "clockwise",
          "rotation": 90
         },
         "domain": {
          "x": [
           0,
           1
          ],
          "y": [
           0,
           1
          ]
         }
        },
        "template": {
         "data": {
          "bar": [
           {
            "error_x": {
             "color": "#f2f5fa"
            },
            "error_y": {
             "color": "#f2f5fa"
            },
            "marker": {
             "line": {
              "color": "rgb(17,17,17)",
              "width": 0.5
             },
             "pattern": {
              "fillmode": "overlay",
              "size": 10,
              "solidity": 0.2
             }
            },
            "type": "bar"
           }
          ],
          "barpolar": [
           {
            "marker": {
             "line": {
              "color": "rgb(17,17,17)",
              "width": 0.5
             },
             "pattern": {
              "fillmode": "overlay",
              "size": 10,
              "solidity": 0.2
             }
            },
            "type": "barpolar"
           }
          ],
          "carpet": [
           {
            "aaxis": {
             "endlinecolor": "#A2B1C6",
             "gridcolor": "#506784",
             "linecolor": "#506784",
             "minorgridcolor": "#506784",
             "startlinecolor": "#A2B1C6"
            },
            "baxis": {
             "endlinecolor": "#A2B1C6",
             "gridcolor": "#506784",
             "linecolor": "#506784",
             "minorgridcolor": "#506784",
             "startlinecolor": "#A2B1C6"
            },
            "type": "carpet"
           }
          ],
          "choropleth": [
           {
            "colorbar": {
             "outlinewidth": 0,
             "ticks": ""
            },
            "type": "choropleth"
           }
          ],
          "contour": [
           {
            "colorbar": {
             "outlinewidth": 0,
             "ticks": ""
            },
            "colorscale": [
             [
              0,
              "#0d0887"
             ],
             [
              0.1111111111111111,
              "#46039f"
             ],
             [
              0.2222222222222222,
              "#7201a8"
             ],
             [
              0.3333333333333333,
              "#9c179e"
             ],
             [
              0.4444444444444444,
              "#bd3786"
             ],
             [
              0.5555555555555556,
              "#d8576b"
             ],
             [
              0.6666666666666666,
              "#ed7953"
             ],
             [
              0.7777777777777778,
              "#fb9f3a"
             ],
             [
              0.8888888888888888,
              "#fdca26"
             ],
             [
              1,
              "#f0f921"
             ]
            ],
            "type": "contour"
           }
          ],
          "contourcarpet": [
           {
            "colorbar": {
             "outlinewidth": 0,
             "ticks": ""
            },
            "type": "contourcarpet"
           }
          ],
          "heatmap": [
           {
            "colorbar": {
             "outlinewidth": 0,
             "ticks": ""
            },
            "colorscale": [
             [
              0,
              "#0d0887"
             ],
             [
              0.1111111111111111,
              "#46039f"
             ],
             [
              0.2222222222222222,
              "#7201a8"
             ],
             [
              0.3333333333333333,
              "#9c179e"
             ],
             [
              0.4444444444444444,
              "#bd3786"
             ],
             [
              0.5555555555555556,
              "#d8576b"
             ],
             [
              0.6666666666666666,
              "#ed7953"
             ],
             [
              0.7777777777777778,
              "#fb9f3a"
             ],
             [
              0.8888888888888888,
              "#fdca26"
             ],
             [
              1,
              "#f0f921"
             ]
            ],
            "type": "heatmap"
           }
          ],
          "heatmapgl": [
           {
            "colorbar": {
             "outlinewidth": 0,
             "ticks": ""
            },
            "colorscale": [
             [
              0,
              "#0d0887"
             ],
             [
              0.1111111111111111,
              "#46039f"
             ],
             [
              0.2222222222222222,
              "#7201a8"
             ],
             [
              0.3333333333333333,
              "#9c179e"
             ],
             [
              0.4444444444444444,
              "#bd3786"
             ],
             [
              0.5555555555555556,
              "#d8576b"
             ],
             [
              0.6666666666666666,
              "#ed7953"
             ],
             [
              0.7777777777777778,
              "#fb9f3a"
             ],
             [
              0.8888888888888888,
              "#fdca26"
             ],
             [
              1,
              "#f0f921"
             ]
            ],
            "type": "heatmapgl"
           }
          ],
          "histogram": [
           {
            "marker": {
             "pattern": {
              "fillmode": "overlay",
              "size": 10,
              "solidity": 0.2
             }
            },
            "type": "histogram"
           }
          ],
          "histogram2d": [
           {
            "colorbar": {
             "outlinewidth": 0,
             "ticks": ""
            },
            "colorscale": [
             [
              0,
              "#0d0887"
             ],
             [
              0.1111111111111111,
              "#46039f"
             ],
             [
              0.2222222222222222,
              "#7201a8"
             ],
             [
              0.3333333333333333,
              "#9c179e"
             ],
             [
              0.4444444444444444,
              "#bd3786"
             ],
             [
              0.5555555555555556,
              "#d8576b"
             ],
             [
              0.6666666666666666,
              "#ed7953"
             ],
             [
              0.7777777777777778,
              "#fb9f3a"
             ],
             [
              0.8888888888888888,
              "#fdca26"
             ],
             [
              1,
              "#f0f921"
             ]
            ],
            "type": "histogram2d"
           }
          ],
          "histogram2dcontour": [
           {
            "colorbar": {
             "outlinewidth": 0,
             "ticks": ""
            },
            "colorscale": [
             [
              0,
              "#0d0887"
             ],
             [
              0.1111111111111111,
              "#46039f"
             ],
             [
              0.2222222222222222,
              "#7201a8"
             ],
             [
              0.3333333333333333,
              "#9c179e"
             ],
             [
              0.4444444444444444,
              "#bd3786"
             ],
             [
              0.5555555555555556,
              "#d8576b"
             ],
             [
              0.6666666666666666,
              "#ed7953"
             ],
             [
              0.7777777777777778,
              "#fb9f3a"
             ],
             [
              0.8888888888888888,
              "#fdca26"
             ],
             [
              1,
              "#f0f921"
             ]
            ],
            "type": "histogram2dcontour"
           }
          ],
          "mesh3d": [
           {
            "colorbar": {
             "outlinewidth": 0,
             "ticks": ""
            },
            "type": "mesh3d"
           }
          ],
          "parcoords": [
           {
            "line": {
             "colorbar": {
              "outlinewidth": 0,
              "ticks": ""
             }
            },
            "type": "parcoords"
           }
          ],
          "pie": [
           {
            "automargin": true,
            "type": "pie"
           }
          ],
          "scatter": [
           {
            "marker": {
             "line": {
              "color": "#283442"
             }
            },
            "type": "scatter"
           }
          ],
          "scatter3d": [
           {
            "line": {
             "colorbar": {
              "outlinewidth": 0,
              "ticks": ""
             }
            },
            "marker": {
             "colorbar": {
              "outlinewidth": 0,
              "ticks": ""
             }
            },
            "type": "scatter3d"
           }
          ],
          "scattercarpet": [
           {
            "marker": {
             "colorbar": {
              "outlinewidth": 0,
              "ticks": ""
             }
            },
            "type": "scattercarpet"
           }
          ],
          "scattergeo": [
           {
            "marker": {
             "colorbar": {
              "outlinewidth": 0,
              "ticks": ""
             }
            },
            "type": "scattergeo"
           }
          ],
          "scattergl": [
           {
            "marker": {
             "line": {
              "color": "#283442"
             }
            },
            "type": "scattergl"
           }
          ],
          "scattermapbox": [
           {
            "marker": {
             "colorbar": {
              "outlinewidth": 0,
              "ticks": ""
             }
            },
            "type": "scattermapbox"
           }
          ],
          "scatterpolar": [
           {
            "marker": {
             "colorbar": {
              "outlinewidth": 0,
              "ticks": ""
             }
            },
            "type": "scatterpolar"
           }
          ],
          "scatterpolargl": [
           {
            "marker": {
             "colorbar": {
              "outlinewidth": 0,
              "ticks": ""
             }
            },
            "type": "scatterpolargl"
           }
          ],
          "scatterternary": [
           {
            "marker": {
             "colorbar": {
              "outlinewidth": 0,
              "ticks": ""
             }
            },
            "type": "scatterternary"
           }
          ],
          "surface": [
           {
            "colorbar": {
             "outlinewidth": 0,
             "ticks": ""
            },
            "colorscale": [
             [
              0,
              "#0d0887"
             ],
             [
              0.1111111111111111,
              "#46039f"
             ],
             [
              0.2222222222222222,
              "#7201a8"
             ],
             [
              0.3333333333333333,
              "#9c179e"
             ],
             [
              0.4444444444444444,
              "#bd3786"
             ],
             [
              0.5555555555555556,
              "#d8576b"
             ],
             [
              0.6666666666666666,
              "#ed7953"
             ],
             [
              0.7777777777777778,
              "#fb9f3a"
             ],
             [
              0.8888888888888888,
              "#fdca26"
             ],
             [
              1,
              "#f0f921"
             ]
            ],
            "type": "surface"
           }
          ],
          "table": [
           {
            "cells": {
             "fill": {
              "color": "#506784"
             },
             "line": {
              "color": "rgb(17,17,17)"
             }
            },
            "header": {
             "fill": {
              "color": "#2a3f5f"
             },
             "line": {
              "color": "rgb(17,17,17)"
             }
            },
            "type": "table"
           }
          ]
         },
         "layout": {
          "annotationdefaults": {
           "arrowcolor": "#f2f5fa",
           "arrowhead": 0,
           "arrowwidth": 1
          },
          "autotypenumbers": "strict",
          "coloraxis": {
           "colorbar": {
            "outlinewidth": 0,
            "ticks": ""
           }
          },
          "colorscale": {
           "diverging": [
            [
             0,
             "#8e0152"
            ],
            [
             0.1,
             "#c51b7d"
            ],
            [
             0.2,
             "#de77ae"
            ],
            [
             0.3,
             "#f1b6da"
            ],
            [
             0.4,
             "#fde0ef"
            ],
            [
             0.5,
             "#f7f7f7"
            ],
            [
             0.6,
             "#e6f5d0"
            ],
            [
             0.7,
             "#b8e186"
            ],
            [
             0.8,
             "#7fbc41"
            ],
            [
             0.9,
             "#4d9221"
            ],
            [
             1,
             "#276419"
            ]
           ],
           "sequential": [
            [
             0,
             "#0d0887"
            ],
            [
             0.1111111111111111,
             "#46039f"
            ],
            [
             0.2222222222222222,
             "#7201a8"
            ],
            [
             0.3333333333333333,
             "#9c179e"
            ],
            [
             0.4444444444444444,
             "#bd3786"
            ],
            [
             0.5555555555555556,
             "#d8576b"
            ],
            [
             0.6666666666666666,
             "#ed7953"
            ],
            [
             0.7777777777777778,
             "#fb9f3a"
            ],
            [
             0.8888888888888888,
             "#fdca26"
            ],
            [
             1,
             "#f0f921"
            ]
           ],
           "sequentialminus": [
            [
             0,
             "#0d0887"
            ],
            [
             0.1111111111111111,
             "#46039f"
            ],
            [
             0.2222222222222222,
             "#7201a8"
            ],
            [
             0.3333333333333333,
             "#9c179e"
            ],
            [
             0.4444444444444444,
             "#bd3786"
            ],
            [
             0.5555555555555556,
             "#d8576b"
            ],
            [
             0.6666666666666666,
             "#ed7953"
            ],
            [
             0.7777777777777778,
             "#fb9f3a"
            ],
            [
             0.8888888888888888,
             "#fdca26"
            ],
            [
             1,
             "#f0f921"
            ]
           ]
          },
          "colorway": [
           "#636efa",
           "#EF553B",
           "#00cc96",
           "#ab63fa",
           "#FFA15A",
           "#19d3f3",
           "#FF6692",
           "#B6E880",
           "#FF97FF",
           "#FECB52"
          ],
          "font": {
           "color": "#f2f5fa"
          },
          "geo": {
           "bgcolor": "rgb(17,17,17)",
           "lakecolor": "rgb(17,17,17)",
           "landcolor": "rgb(17,17,17)",
           "showlakes": true,
           "showland": true,
           "subunitcolor": "#506784"
          },
          "hoverlabel": {
           "align": "left"
          },
          "hovermode": "closest",
          "mapbox": {
           "style": "dark"
          },
          "paper_bgcolor": "rgb(17,17,17)",
          "plot_bgcolor": "rgb(17,17,17)",
          "polar": {
           "angularaxis": {
            "gridcolor": "#506784",
            "linecolor": "#506784",
            "ticks": ""
           },
           "bgcolor": "rgb(17,17,17)",
           "radialaxis": {
            "gridcolor": "#506784",
            "linecolor": "#506784",
            "ticks": ""
           }
          },
          "scene": {
           "xaxis": {
            "backgroundcolor": "rgb(17,17,17)",
            "gridcolor": "#506784",
            "gridwidth": 2,
            "linecolor": "#506784",
            "showbackground": true,
            "ticks": "",
            "zerolinecolor": "#C8D4E3"
           },
           "yaxis": {
            "backgroundcolor": "rgb(17,17,17)",
            "gridcolor": "#506784",
            "gridwidth": 2,
            "linecolor": "#506784",
            "showbackground": true,
            "ticks": "",
            "zerolinecolor": "#C8D4E3"
           },
           "zaxis": {
            "backgroundcolor": "rgb(17,17,17)",
            "gridcolor": "#506784",
            "gridwidth": 2,
            "linecolor": "#506784",
            "showbackground": true,
            "ticks": "",
            "zerolinecolor": "#C8D4E3"
           }
          },
          "shapedefaults": {
           "line": {
            "color": "#f2f5fa"
           }
          },
          "sliderdefaults": {
           "bgcolor": "#C8D4E3",
           "bordercolor": "rgb(17,17,17)",
           "borderwidth": 1,
           "tickwidth": 0
          },
          "ternary": {
           "aaxis": {
            "gridcolor": "#506784",
            "linecolor": "#506784",
            "ticks": ""
           },
           "baxis": {
            "gridcolor": "#506784",
            "linecolor": "#506784",
            "ticks": ""
           },
           "bgcolor": "rgb(17,17,17)",
           "caxis": {
            "gridcolor": "#506784",
            "linecolor": "#506784",
            "ticks": ""
           }
          },
          "title": {
           "x": 0.05
          },
          "updatemenudefaults": {
           "bgcolor": "#506784",
           "borderwidth": 0
          },
          "xaxis": {
           "automargin": true,
           "gridcolor": "#283442",
           "linecolor": "#506784",
           "ticks": "",
           "title": {
            "standoff": 15
           },
           "zerolinecolor": "#283442",
           "zerolinewidth": 2
          },
          "yaxis": {
           "automargin": true,
           "gridcolor": "#283442",
           "linecolor": "#506784",
           "ticks": "",
           "title": {
            "standoff": 15
           },
           "zerolinecolor": "#283442",
           "zerolinewidth": 2
          }
         }
        },
        "title": {
         "text": "Episode Votes by Season"
        }
       }
      }
     },
     "metadata": {},
     "output_type": "display_data"
    }
   ],
   "source": [
    "px.bar_polar(df, r='appreciation', color='season', hover_data=['title'], title='Episode Votes by Season')"
   ]
  },
  {
   "attachments": {},
   "cell_type": "markdown",
   "metadata": {},
   "source": [
    "### Line Charts and Area Charts"
   ]
  },
  {
   "cell_type": "code",
   "execution_count": 72,
   "metadata": {},
   "outputs": [
    {
     "data": {
      "application/vnd.plotly.v1+json": {
       "config": {
        "plotlyServerURL": "https://plot.ly"
       },
       "data": [
        {
         "hovertemplate": "doctorid=9<br>date=%{x}<br>rating=%{y}<extra></extra>",
         "legendgroup": "9",
         "line": {
          "color": "rgb(95, 70, 144)",
          "dash": "solid"
         },
         "marker": {
          "symbol": "circle"
         },
         "mode": "lines",
         "name": "9",
         "orientation": "v",
         "showlegend": true,
         "type": "scatter",
         "x": [
          "2005-03-26",
          "2005-04-02",
          "2005-04-09",
          "2005-04-16",
          "2005-04-23",
          "2005-04-30",
          "2005-05-07",
          "2005-05-14",
          "2005-05-21",
          "2005-05-28",
          "2005-06-04",
          "2005-06-11",
          "2005-06-18"
         ],
         "xaxis": "x",
         "y": [
          7.6,
          7.6,
          7.6,
          7,
          7.1,
          8.7,
          7.2,
          8.4,
          9.2,
          9.1,
          7.2,
          8.7,
          9.1
         ],
         "yaxis": "y"
        },
        {
         "hovertemplate": "doctorid=10<br>date=%{x}<br>rating=%{y}<extra></extra>",
         "legendgroup": "10",
         "line": {
          "color": "rgb(29, 105, 150)",
          "dash": "solid"
         },
         "marker": {
          "symbol": "circle"
         },
         "mode": "lines",
         "name": "10",
         "orientation": "v",
         "showlegend": true,
         "type": "scatter",
         "x": [
          "2005-12-25",
          "2006-04-15",
          "2006-04-22",
          "2006-04-29",
          "2006-05-06",
          "2006-05-13",
          "2006-05-20",
          "2006-05-27",
          "2006-06-03",
          "2006-06-10",
          "2006-06-17",
          "2006-06-24",
          "2006-07-01",
          "2006-07-08",
          "2006-12-25",
          "2007-03-31",
          "2007-04-07",
          "2007-04-14",
          "2007-04-21",
          "2007-04-28",
          "2007-05-05",
          "2007-05-19",
          "2007-05-26",
          "2007-06-02",
          "2007-06-09",
          "2007-06-16",
          "2007-06-23",
          "2007-06-30",
          "2007-12-25",
          "2008-04-05",
          "2008-04-12",
          "2008-04-19",
          "2008-04-26",
          "2008-05-03",
          "2008-05-10",
          "2008-05-17",
          "2008-05-31",
          "2008-06-07",
          "2008-06-14",
          "2008-06-21",
          "2008-06-28",
          "2008-07-05"
         ],
         "xaxis": "x",
         "y": [
          8.2,
          7.5,
          7.9,
          8.4,
          9.3,
          7.8,
          7.9,
          6.9,
          8.7,
          8.8,
          6.2,
          6.1,
          8.5,
          9.3,
          7.6,
          8,
          7.8,
          8.1,
          7,
          7,
          6.7,
          7.5,
          9,
          9.2,
          9.8,
          8.8,
          8.7,
          8.4,
          7.7,
          7.8,
          8.1,
          8.1,
          7.5,
          7.6,
          7.7,
          7.8,
          9.4,
          9.5,
          9,
          8.9,
          9.1,
          9.1
         ],
         "yaxis": "y"
        },
        {
         "hovertemplate": "doctorid=11<br>date=%{x}<br>rating=%{y}<extra></extra>",
         "legendgroup": "11",
         "line": {
          "color": "rgb(56, 166, 165)",
          "dash": "solid"
         },
         "marker": {
          "symbol": "circle"
         },
         "mode": "lines",
         "name": "11",
         "orientation": "v",
         "showlegend": true,
         "type": "scatter",
         "x": [
          "2010-04-03",
          "2010-04-10",
          "2010-04-17",
          "2010-04-24",
          "2010-05-01",
          "2010-05-08",
          "2010-05-15",
          "2010-05-22",
          "2010-05-29",
          "2010-06-05",
          "2010-06-12",
          "2010-06-19",
          "2010-06-26",
          "2010-12-25",
          "2011-04-23",
          "2011-04-30",
          "2011-05-07",
          "2011-05-14",
          "2011-05-21",
          "2011-05-28",
          "2011-06-04",
          "2011-08-27",
          "2011-09-03",
          "2011-09-10",
          "2011-09-17",
          "2011-09-24",
          "2011-10-01",
          "2011-12-25",
          "2012-09-01",
          "2012-09-08",
          "2012-09-15",
          "2012-09-22",
          "2012-09-29",
          "2012-12-25",
          "2013-03-30",
          "2013-04-06",
          "2013-04-13",
          "2013-04-20",
          "2013-04-27",
          "2013-05-04",
          "2013-05-11",
          "2013-05-18"
         ],
         "xaxis": "x",
         "y": [
          8.8,
          7.6,
          6.8,
          8.7,
          8.6,
          7.1,
          8.2,
          7.3,
          7.5,
          9.3,
          8.3,
          9.1,
          9.2,
          8.6,
          8.9,
          8.9,
          6.8,
          9,
          7.3,
          7.5,
          9.1,
          8.1,
          7.1,
          8.5,
          8.1,
          7.7,
          8.6,
          7.3,
          8.7,
          7.5,
          7.5,
          7.6,
          9,
          8.5,
          8,
          7.4,
          7.3,
          7.8,
          7.5,
          7.4,
          7.4,
          9.1
         ],
         "yaxis": "y"
        },
        {
         "hovertemplate": "doctorid=12<br>date=%{x}<br>rating=%{y}<extra></extra>",
         "legendgroup": "12",
         "line": {
          "color": "rgb(15, 133, 84)",
          "dash": "solid"
         },
         "marker": {
          "symbol": "circle"
         },
         "mode": "lines",
         "name": "12",
         "orientation": "v",
         "showlegend": true,
         "type": "scatter",
         "x": [
          "2014-08-23",
          "2014-08-30",
          "2014-09-06",
          "2014-09-13",
          "2014-09-20",
          "2014-09-27",
          "2014-10-04",
          "2014-10-11",
          "2014-10-18",
          "2014-10-25",
          "2014-11-01",
          "2014-11-08",
          "2015-09-19",
          "2015-09-26",
          "2015-10-03",
          "2015-10-10",
          "2015-10-17",
          "2015-10-24",
          "2015-10-31",
          "2015-11-07",
          "2015-11-14",
          "2015-11-21",
          "2015-11-28",
          "2015-12-05",
          "2015-12-25",
          "2016-12-25",
          "2017-04-15",
          "2017-04-22",
          "2017-04-29",
          "2017-05-06",
          "2017-05-13",
          "2017-05-20",
          "2017-05-27",
          "2017-06-03",
          "2017-06-10",
          "2017-06-17",
          "2017-06-24",
          "2017-07-01"
         ],
         "xaxis": "x",
         "y": [
          8,
          7.8,
          7.1,
          8.9,
          8,
          7.4,
          7,
          8.5,
          8.5,
          6.1,
          8.7,
          7.9,
          8.5,
          8.5,
          8.3,
          8.1,
          7.7,
          7.6,
          7.9,
          8.6,
          6,
          8.6,
          9.6,
          8.7,
          8.6,
          7.5,
          7.9,
          7.2,
          7.3,
          7.5,
          8.1,
          8.5,
          7.7,
          7.2,
          7.1,
          7,
          9.2,
          9
         ],
         "yaxis": "y"
        },
        {
         "hovertemplate": "doctorid=13<br>date=%{x}<br>rating=%{y}<extra></extra>",
         "legendgroup": "13",
         "line": {
          "color": "rgb(115, 175, 72)",
          "dash": "solid"
         },
         "marker": {
          "symbol": "circle"
         },
         "mode": "lines",
         "name": "13",
         "orientation": "v",
         "showlegend": true,
         "type": "scatter",
         "x": [
          "2018-10-07",
          "2018-10-14",
          "2018-10-21",
          "2018-10-28",
          "2018-11-04",
          "2018-11-11",
          "2018-11-18",
          "2018-11-25",
          "2018-12-02",
          "2018-12-09",
          "2019-01-01"
         ],
         "xaxis": "x",
         "y": [
          7.1,
          6.2,
          7.1,
          5.3,
          5.2,
          6.6,
          6.4,
          5.9,
          6.4,
          5.5,
          6
         ],
         "yaxis": "y"
        }
       ],
       "layout": {
        "legend": {
         "title": {
          "text": "doctorid"
         },
         "tracegroupgap": 0
        },
        "margin": {
         "t": 60
        },
        "template": {
         "data": {
          "bar": [
           {
            "error_x": {
             "color": "#f2f5fa"
            },
            "error_y": {
             "color": "#f2f5fa"
            },
            "marker": {
             "line": {
              "color": "rgb(17,17,17)",
              "width": 0.5
             },
             "pattern": {
              "fillmode": "overlay",
              "size": 10,
              "solidity": 0.2
             }
            },
            "type": "bar"
           }
          ],
          "barpolar": [
           {
            "marker": {
             "line": {
              "color": "rgb(17,17,17)",
              "width": 0.5
             },
             "pattern": {
              "fillmode": "overlay",
              "size": 10,
              "solidity": 0.2
             }
            },
            "type": "barpolar"
           }
          ],
          "carpet": [
           {
            "aaxis": {
             "endlinecolor": "#A2B1C6",
             "gridcolor": "#506784",
             "linecolor": "#506784",
             "minorgridcolor": "#506784",
             "startlinecolor": "#A2B1C6"
            },
            "baxis": {
             "endlinecolor": "#A2B1C6",
             "gridcolor": "#506784",
             "linecolor": "#506784",
             "minorgridcolor": "#506784",
             "startlinecolor": "#A2B1C6"
            },
            "type": "carpet"
           }
          ],
          "choropleth": [
           {
            "colorbar": {
             "outlinewidth": 0,
             "ticks": ""
            },
            "type": "choropleth"
           }
          ],
          "contour": [
           {
            "colorbar": {
             "outlinewidth": 0,
             "ticks": ""
            },
            "colorscale": [
             [
              0,
              "#0d0887"
             ],
             [
              0.1111111111111111,
              "#46039f"
             ],
             [
              0.2222222222222222,
              "#7201a8"
             ],
             [
              0.3333333333333333,
              "#9c179e"
             ],
             [
              0.4444444444444444,
              "#bd3786"
             ],
             [
              0.5555555555555556,
              "#d8576b"
             ],
             [
              0.6666666666666666,
              "#ed7953"
             ],
             [
              0.7777777777777778,
              "#fb9f3a"
             ],
             [
              0.8888888888888888,
              "#fdca26"
             ],
             [
              1,
              "#f0f921"
             ]
            ],
            "type": "contour"
           }
          ],
          "contourcarpet": [
           {
            "colorbar": {
             "outlinewidth": 0,
             "ticks": ""
            },
            "type": "contourcarpet"
           }
          ],
          "heatmap": [
           {
            "colorbar": {
             "outlinewidth": 0,
             "ticks": ""
            },
            "colorscale": [
             [
              0,
              "#0d0887"
             ],
             [
              0.1111111111111111,
              "#46039f"
             ],
             [
              0.2222222222222222,
              "#7201a8"
             ],
             [
              0.3333333333333333,
              "#9c179e"
             ],
             [
              0.4444444444444444,
              "#bd3786"
             ],
             [
              0.5555555555555556,
              "#d8576b"
             ],
             [
              0.6666666666666666,
              "#ed7953"
             ],
             [
              0.7777777777777778,
              "#fb9f3a"
             ],
             [
              0.8888888888888888,
              "#fdca26"
             ],
             [
              1,
              "#f0f921"
             ]
            ],
            "type": "heatmap"
           }
          ],
          "heatmapgl": [
           {
            "colorbar": {
             "outlinewidth": 0,
             "ticks": ""
            },
            "colorscale": [
             [
              0,
              "#0d0887"
             ],
             [
              0.1111111111111111,
              "#46039f"
             ],
             [
              0.2222222222222222,
              "#7201a8"
             ],
             [
              0.3333333333333333,
              "#9c179e"
             ],
             [
              0.4444444444444444,
              "#bd3786"
             ],
             [
              0.5555555555555556,
              "#d8576b"
             ],
             [
              0.6666666666666666,
              "#ed7953"
             ],
             [
              0.7777777777777778,
              "#fb9f3a"
             ],
             [
              0.8888888888888888,
              "#fdca26"
             ],
             [
              1,
              "#f0f921"
             ]
            ],
            "type": "heatmapgl"
           }
          ],
          "histogram": [
           {
            "marker": {
             "pattern": {
              "fillmode": "overlay",
              "size": 10,
              "solidity": 0.2
             }
            },
            "type": "histogram"
           }
          ],
          "histogram2d": [
           {
            "colorbar": {
             "outlinewidth": 0,
             "ticks": ""
            },
            "colorscale": [
             [
              0,
              "#0d0887"
             ],
             [
              0.1111111111111111,
              "#46039f"
             ],
             [
              0.2222222222222222,
              "#7201a8"
             ],
             [
              0.3333333333333333,
              "#9c179e"
             ],
             [
              0.4444444444444444,
              "#bd3786"
             ],
             [
              0.5555555555555556,
              "#d8576b"
             ],
             [
              0.6666666666666666,
              "#ed7953"
             ],
             [
              0.7777777777777778,
              "#fb9f3a"
             ],
             [
              0.8888888888888888,
              "#fdca26"
             ],
             [
              1,
              "#f0f921"
             ]
            ],
            "type": "histogram2d"
           }
          ],
          "histogram2dcontour": [
           {
            "colorbar": {
             "outlinewidth": 0,
             "ticks": ""
            },
            "colorscale": [
             [
              0,
              "#0d0887"
             ],
             [
              0.1111111111111111,
              "#46039f"
             ],
             [
              0.2222222222222222,
              "#7201a8"
             ],
             [
              0.3333333333333333,
              "#9c179e"
             ],
             [
              0.4444444444444444,
              "#bd3786"
             ],
             [
              0.5555555555555556,
              "#d8576b"
             ],
             [
              0.6666666666666666,
              "#ed7953"
             ],
             [
              0.7777777777777778,
              "#fb9f3a"
             ],
             [
              0.8888888888888888,
              "#fdca26"
             ],
             [
              1,
              "#f0f921"
             ]
            ],
            "type": "histogram2dcontour"
           }
          ],
          "mesh3d": [
           {
            "colorbar": {
             "outlinewidth": 0,
             "ticks": ""
            },
            "type": "mesh3d"
           }
          ],
          "parcoords": [
           {
            "line": {
             "colorbar": {
              "outlinewidth": 0,
              "ticks": ""
             }
            },
            "type": "parcoords"
           }
          ],
          "pie": [
           {
            "automargin": true,
            "type": "pie"
           }
          ],
          "scatter": [
           {
            "marker": {
             "line": {
              "color": "#283442"
             }
            },
            "type": "scatter"
           }
          ],
          "scatter3d": [
           {
            "line": {
             "colorbar": {
              "outlinewidth": 0,
              "ticks": ""
             }
            },
            "marker": {
             "colorbar": {
              "outlinewidth": 0,
              "ticks": ""
             }
            },
            "type": "scatter3d"
           }
          ],
          "scattercarpet": [
           {
            "marker": {
             "colorbar": {
              "outlinewidth": 0,
              "ticks": ""
             }
            },
            "type": "scattercarpet"
           }
          ],
          "scattergeo": [
           {
            "marker": {
             "colorbar": {
              "outlinewidth": 0,
              "ticks": ""
             }
            },
            "type": "scattergeo"
           }
          ],
          "scattergl": [
           {
            "marker": {
             "line": {
              "color": "#283442"
             }
            },
            "type": "scattergl"
           }
          ],
          "scattermapbox": [
           {
            "marker": {
             "colorbar": {
              "outlinewidth": 0,
              "ticks": ""
             }
            },
            "type": "scattermapbox"
           }
          ],
          "scatterpolar": [
           {
            "marker": {
             "colorbar": {
              "outlinewidth": 0,
              "ticks": ""
             }
            },
            "type": "scatterpolar"
           }
          ],
          "scatterpolargl": [
           {
            "marker": {
             "colorbar": {
              "outlinewidth": 0,
              "ticks": ""
             }
            },
            "type": "scatterpolargl"
           }
          ],
          "scatterternary": [
           {
            "marker": {
             "colorbar": {
              "outlinewidth": 0,
              "ticks": ""
             }
            },
            "type": "scatterternary"
           }
          ],
          "surface": [
           {
            "colorbar": {
             "outlinewidth": 0,
             "ticks": ""
            },
            "colorscale": [
             [
              0,
              "#0d0887"
             ],
             [
              0.1111111111111111,
              "#46039f"
             ],
             [
              0.2222222222222222,
              "#7201a8"
             ],
             [
              0.3333333333333333,
              "#9c179e"
             ],
             [
              0.4444444444444444,
              "#bd3786"
             ],
             [
              0.5555555555555556,
              "#d8576b"
             ],
             [
              0.6666666666666666,
              "#ed7953"
             ],
             [
              0.7777777777777778,
              "#fb9f3a"
             ],
             [
              0.8888888888888888,
              "#fdca26"
             ],
             [
              1,
              "#f0f921"
             ]
            ],
            "type": "surface"
           }
          ],
          "table": [
           {
            "cells": {
             "fill": {
              "color": "#506784"
             },
             "line": {
              "color": "rgb(17,17,17)"
             }
            },
            "header": {
             "fill": {
              "color": "#2a3f5f"
             },
             "line": {
              "color": "rgb(17,17,17)"
             }
            },
            "type": "table"
           }
          ]
         },
         "layout": {
          "annotationdefaults": {
           "arrowcolor": "#f2f5fa",
           "arrowhead": 0,
           "arrowwidth": 1
          },
          "autotypenumbers": "strict",
          "coloraxis": {
           "colorbar": {
            "outlinewidth": 0,
            "ticks": ""
           }
          },
          "colorscale": {
           "diverging": [
            [
             0,
             "#8e0152"
            ],
            [
             0.1,
             "#c51b7d"
            ],
            [
             0.2,
             "#de77ae"
            ],
            [
             0.3,
             "#f1b6da"
            ],
            [
             0.4,
             "#fde0ef"
            ],
            [
             0.5,
             "#f7f7f7"
            ],
            [
             0.6,
             "#e6f5d0"
            ],
            [
             0.7,
             "#b8e186"
            ],
            [
             0.8,
             "#7fbc41"
            ],
            [
             0.9,
             "#4d9221"
            ],
            [
             1,
             "#276419"
            ]
           ],
           "sequential": [
            [
             0,
             "#0d0887"
            ],
            [
             0.1111111111111111,
             "#46039f"
            ],
            [
             0.2222222222222222,
             "#7201a8"
            ],
            [
             0.3333333333333333,
             "#9c179e"
            ],
            [
             0.4444444444444444,
             "#bd3786"
            ],
            [
             0.5555555555555556,
             "#d8576b"
            ],
            [
             0.6666666666666666,
             "#ed7953"
            ],
            [
             0.7777777777777778,
             "#fb9f3a"
            ],
            [
             0.8888888888888888,
             "#fdca26"
            ],
            [
             1,
             "#f0f921"
            ]
           ],
           "sequentialminus": [
            [
             0,
             "#0d0887"
            ],
            [
             0.1111111111111111,
             "#46039f"
            ],
            [
             0.2222222222222222,
             "#7201a8"
            ],
            [
             0.3333333333333333,
             "#9c179e"
            ],
            [
             0.4444444444444444,
             "#bd3786"
            ],
            [
             0.5555555555555556,
             "#d8576b"
            ],
            [
             0.6666666666666666,
             "#ed7953"
            ],
            [
             0.7777777777777778,
             "#fb9f3a"
            ],
            [
             0.8888888888888888,
             "#fdca26"
            ],
            [
             1,
             "#f0f921"
            ]
           ]
          },
          "colorway": [
           "#636efa",
           "#EF553B",
           "#00cc96",
           "#ab63fa",
           "#FFA15A",
           "#19d3f3",
           "#FF6692",
           "#B6E880",
           "#FF97FF",
           "#FECB52"
          ],
          "font": {
           "color": "#f2f5fa"
          },
          "geo": {
           "bgcolor": "rgb(17,17,17)",
           "lakecolor": "rgb(17,17,17)",
           "landcolor": "rgb(17,17,17)",
           "showlakes": true,
           "showland": true,
           "subunitcolor": "#506784"
          },
          "hoverlabel": {
           "align": "left"
          },
          "hovermode": "closest",
          "mapbox": {
           "style": "dark"
          },
          "paper_bgcolor": "rgb(17,17,17)",
          "plot_bgcolor": "rgb(17,17,17)",
          "polar": {
           "angularaxis": {
            "gridcolor": "#506784",
            "linecolor": "#506784",
            "ticks": ""
           },
           "bgcolor": "rgb(17,17,17)",
           "radialaxis": {
            "gridcolor": "#506784",
            "linecolor": "#506784",
            "ticks": ""
           }
          },
          "scene": {
           "xaxis": {
            "backgroundcolor": "rgb(17,17,17)",
            "gridcolor": "#506784",
            "gridwidth": 2,
            "linecolor": "#506784",
            "showbackground": true,
            "ticks": "",
            "zerolinecolor": "#C8D4E3"
           },
           "yaxis": {
            "backgroundcolor": "rgb(17,17,17)",
            "gridcolor": "#506784",
            "gridwidth": 2,
            "linecolor": "#506784",
            "showbackground": true,
            "ticks": "",
            "zerolinecolor": "#C8D4E3"
           },
           "zaxis": {
            "backgroundcolor": "rgb(17,17,17)",
            "gridcolor": "#506784",
            "gridwidth": 2,
            "linecolor": "#506784",
            "showbackground": true,
            "ticks": "",
            "zerolinecolor": "#C8D4E3"
           }
          },
          "shapedefaults": {
           "line": {
            "color": "#f2f5fa"
           }
          },
          "sliderdefaults": {
           "bgcolor": "#C8D4E3",
           "bordercolor": "rgb(17,17,17)",
           "borderwidth": 1,
           "tickwidth": 0
          },
          "ternary": {
           "aaxis": {
            "gridcolor": "#506784",
            "linecolor": "#506784",
            "ticks": ""
           },
           "baxis": {
            "gridcolor": "#506784",
            "linecolor": "#506784",
            "ticks": ""
           },
           "bgcolor": "rgb(17,17,17)",
           "caxis": {
            "gridcolor": "#506784",
            "linecolor": "#506784",
            "ticks": ""
           }
          },
          "title": {
           "x": 0.05
          },
          "updatemenudefaults": {
           "bgcolor": "#506784",
           "borderwidth": 0
          },
          "xaxis": {
           "automargin": true,
           "gridcolor": "#283442",
           "linecolor": "#506784",
           "ticks": "",
           "title": {
            "standoff": 15
           },
           "zerolinecolor": "#283442",
           "zerolinewidth": 2
          },
          "yaxis": {
           "automargin": true,
           "gridcolor": "#283442",
           "linecolor": "#506784",
           "ticks": "",
           "title": {
            "standoff": 15
           },
           "zerolinecolor": "#283442",
           "zerolinewidth": 2
          }
         }
        },
        "xaxis": {
         "anchor": "y",
         "domain": [
          0,
          1
         ],
         "title": {
          "text": "date"
         }
        },
        "yaxis": {
         "anchor": "x",
         "domain": [
          0,
          1
         ],
         "title": {
          "text": "rating"
         }
        }
       }
      }
     },
     "metadata": {},
     "output_type": "display_data"
    }
   ],
   "source": [
    "px.line(df, x='date', y='rating', color='doctorid')"
   ]
  },
  {
   "cell_type": "code",
   "execution_count": 76,
   "metadata": {},
   "outputs": [
    {
     "data": {
      "application/vnd.plotly.v1+json": {
       "config": {
        "plotlyServerURL": "https://plot.ly"
       },
       "data": [
        {
         "hovertemplate": "doctorid=9<br>date=%{x}<br>rating=%{y}<br>appreciation=%{z}<extra></extra>",
         "legendgroup": "9",
         "line": {
          "color": "rgb(95, 70, 144)",
          "dash": "solid"
         },
         "marker": {
          "symbol": "circle"
         },
         "mode": "lines",
         "name": "9",
         "scene": "scene",
         "showlegend": true,
         "type": "scatter3d",
         "x": [
          "2005-03-26",
          "2005-04-02",
          "2005-04-09",
          "2005-04-16",
          "2005-04-23",
          "2005-04-30",
          "2005-05-07",
          "2005-05-14",
          "2005-05-21",
          "2005-05-28",
          "2005-06-04",
          "2005-06-11",
          "2005-06-18"
         ],
         "y": [
          7.6,
          7.6,
          7.6,
          7,
          7.1,
          8.7,
          7.2,
          8.4,
          9.2,
          9.1,
          7.2,
          8.7,
          9.1
         ],
         "z": [
          76,
          76,
          80,
          82,
          81,
          84,
          81,
          83,
          84,
          85,
          82,
          86,
          89
         ]
        },
        {
         "hovertemplate": "doctorid=10<br>date=%{x}<br>rating=%{y}<br>appreciation=%{z}<extra></extra>",
         "legendgroup": "10",
         "line": {
          "color": "rgb(29, 105, 150)",
          "dash": "solid"
         },
         "marker": {
          "symbol": "circle"
         },
         "mode": "lines",
         "name": "10",
         "scene": "scene",
         "showlegend": true,
         "type": "scatter3d",
         "x": [
          "2005-12-25",
          "2006-04-15",
          "2006-04-22",
          "2006-04-29",
          "2006-05-06",
          "2006-05-13",
          "2006-05-20",
          "2006-05-27",
          "2006-06-03",
          "2006-06-10",
          "2006-06-17",
          "2006-06-24",
          "2006-07-01",
          "2006-07-08",
          "2006-12-25",
          "2007-03-31",
          "2007-04-07",
          "2007-04-14",
          "2007-04-21",
          "2007-04-28",
          "2007-05-05",
          "2007-05-19",
          "2007-05-26",
          "2007-06-02",
          "2007-06-09",
          "2007-06-16",
          "2007-06-23",
          "2007-06-30",
          "2007-12-25",
          "2008-04-05",
          "2008-04-12",
          "2008-04-19",
          "2008-04-26",
          "2008-05-03",
          "2008-05-10",
          "2008-05-17",
          "2008-05-31",
          "2008-06-07",
          "2008-06-14",
          "2008-06-21",
          "2008-06-28",
          "2008-07-05"
         ],
         "y": [
          8.2,
          7.5,
          7.9,
          8.4,
          9.3,
          7.8,
          7.9,
          6.9,
          8.7,
          8.8,
          6.2,
          6.1,
          8.5,
          9.3,
          7.6,
          8,
          7.8,
          8.1,
          7,
          7,
          6.7,
          7.5,
          9,
          9.2,
          9.8,
          8.8,
          8.7,
          8.4,
          7.7,
          7.8,
          8.1,
          8.1,
          7.5,
          7.6,
          7.7,
          7.8,
          9.4,
          9.5,
          9,
          8.9,
          9.1,
          9.1
         ],
         "z": [
          84,
          85,
          83,
          85,
          84,
          86,
          86,
          84,
          85,
          86,
          76,
          83,
          86,
          89,
          84,
          88,
          87,
          85,
          87,
          85,
          86,
          84,
          86,
          86,
          87,
          87,
          87,
          88,
          85,
          88,
          87,
          87,
          87,
          88,
          88,
          86,
          89,
          89,
          86,
          88,
          91,
          91
         ]
        },
        {
         "hovertemplate": "doctorid=11<br>date=%{x}<br>rating=%{y}<br>appreciation=%{z}<extra></extra>",
         "legendgroup": "11",
         "line": {
          "color": "rgb(56, 166, 165)",
          "dash": "solid"
         },
         "marker": {
          "symbol": "circle"
         },
         "mode": "lines",
         "name": "11",
         "scene": "scene",
         "showlegend": true,
         "type": "scatter3d",
         "x": [
          "2010-04-03",
          "2010-04-10",
          "2010-04-17",
          "2010-04-24",
          "2010-05-01",
          "2010-05-08",
          "2010-05-15",
          "2010-05-22",
          "2010-05-29",
          "2010-06-05",
          "2010-06-12",
          "2010-06-19",
          "2010-06-26",
          "2010-12-25",
          "2011-04-23",
          "2011-04-30",
          "2011-05-07",
          "2011-05-14",
          "2011-05-21",
          "2011-05-28",
          "2011-06-04",
          "2011-08-27",
          "2011-09-03",
          "2011-09-10",
          "2011-09-17",
          "2011-09-24",
          "2011-10-01",
          "2011-12-25",
          "2012-09-01",
          "2012-09-08",
          "2012-09-15",
          "2012-09-22",
          "2012-09-29",
          "2012-12-25",
          "2013-03-30",
          "2013-04-06",
          "2013-04-13",
          "2013-04-20",
          "2013-04-27",
          "2013-05-04",
          "2013-05-11",
          "2013-05-18"
         ],
         "y": [
          8.8,
          7.6,
          6.8,
          8.7,
          8.6,
          7.1,
          8.2,
          7.3,
          7.5,
          9.3,
          8.3,
          9.1,
          9.2,
          8.6,
          8.9,
          8.9,
          6.8,
          9,
          7.3,
          7.5,
          9.1,
          8.1,
          7.1,
          8.5,
          8.1,
          7.7,
          8.6,
          7.3,
          8.7,
          7.5,
          7.5,
          7.6,
          9,
          8.5,
          8,
          7.4,
          7.3,
          7.8,
          7.5,
          7.4,
          7.4,
          9.1
         ],
         "z": [
          86,
          86,
          84,
          87,
          86,
          86,
          84,
          86,
          86,
          86,
          87,
          88,
          89,
          83,
          88,
          87,
          86,
          87,
          85,
          86,
          88,
          85,
          86,
          85,
          86,
          86,
          86,
          84,
          89,
          87,
          85,
          87,
          88,
          87,
          87,
          84,
          84,
          85,
          85,
          85,
          84,
          88
         ]
        },
        {
         "hovertemplate": "doctorid=12<br>date=%{x}<br>rating=%{y}<br>appreciation=%{z}<extra></extra>",
         "legendgroup": "12",
         "line": {
          "color": "rgb(15, 133, 84)",
          "dash": "solid"
         },
         "marker": {
          "symbol": "circle"
         },
         "mode": "lines",
         "name": "12",
         "scene": "scene",
         "showlegend": true,
         "type": "scatter3d",
         "x": [
          "2014-08-23",
          "2014-08-30",
          "2014-09-06",
          "2014-09-13",
          "2014-09-20",
          "2014-09-27",
          "2014-10-04",
          "2014-10-11",
          "2014-10-18",
          "2014-10-25",
          "2014-11-01",
          "2014-11-08",
          "2015-09-19",
          "2015-09-26",
          "2015-10-03",
          "2015-10-10",
          "2015-10-17",
          "2015-10-24",
          "2015-10-31",
          "2015-11-07",
          "2015-11-14",
          "2015-11-21",
          "2015-11-28",
          "2015-12-05",
          "2015-12-25",
          "2016-12-25",
          "2017-04-15",
          "2017-04-22",
          "2017-04-29",
          "2017-05-06",
          "2017-05-13",
          "2017-05-20",
          "2017-05-27",
          "2017-06-03",
          "2017-06-10",
          "2017-06-17",
          "2017-06-24",
          "2017-07-01"
         ],
         "y": [
          8,
          7.8,
          7.1,
          8.9,
          8,
          7.4,
          7,
          8.5,
          8.5,
          6.1,
          8.7,
          7.9,
          8.5,
          8.5,
          8.3,
          8.1,
          7.7,
          7.6,
          7.9,
          8.6,
          6,
          8.6,
          9.6,
          8.7,
          8.6,
          7.5,
          7.9,
          7.2,
          7.3,
          7.5,
          8.1,
          8.5,
          7.7,
          7.2,
          7.1,
          7,
          9.2,
          9
         ],
         "z": [
          82,
          84,
          82,
          82,
          84,
          83,
          82,
          85,
          85,
          83,
          85,
          83,
          84,
          83,
          84,
          82,
          82,
          81,
          82,
          84,
          78,
          84,
          80,
          82,
          82,
          82,
          83,
          83,
          84,
          83,
          83,
          82,
          82,
          82,
          83,
          81,
          85,
          83
         ]
        },
        {
         "hovertemplate": "doctorid=13<br>date=%{x}<br>rating=%{y}<br>appreciation=%{z}<extra></extra>",
         "legendgroup": "13",
         "line": {
          "color": "rgb(115, 175, 72)",
          "dash": "solid"
         },
         "marker": {
          "symbol": "circle"
         },
         "mode": "lines",
         "name": "13",
         "scene": "scene",
         "showlegend": true,
         "type": "scatter3d",
         "x": [
          "2018-10-07",
          "2018-10-14",
          "2018-10-21",
          "2018-10-28",
          "2018-11-04",
          "2018-11-11",
          "2018-11-18",
          "2018-11-25",
          "2018-12-02",
          "2018-12-09",
          "2019-01-01"
         ],
         "y": [
          7.1,
          6.2,
          7.1,
          5.3,
          5.2,
          6.6,
          6.4,
          5.9,
          6.4,
          5.5,
          6
         ],
         "z": [
          83,
          82,
          83,
          83,
          79,
          80,
          81,
          81,
          80,
          79,
          80
         ]
        }
       ],
       "layout": {
        "legend": {
         "title": {
          "text": "doctorid"
         },
         "tracegroupgap": 0
        },
        "margin": {
         "t": 60
        },
        "scene": {
         "domain": {
          "x": [
           0,
           1
          ],
          "y": [
           0,
           1
          ]
         },
         "xaxis": {
          "title": {
           "text": "date"
          }
         },
         "yaxis": {
          "title": {
           "text": "rating"
          }
         },
         "zaxis": {
          "title": {
           "text": "appreciation"
          }
         }
        },
        "template": {
         "data": {
          "bar": [
           {
            "error_x": {
             "color": "#f2f5fa"
            },
            "error_y": {
             "color": "#f2f5fa"
            },
            "marker": {
             "line": {
              "color": "rgb(17,17,17)",
              "width": 0.5
             },
             "pattern": {
              "fillmode": "overlay",
              "size": 10,
              "solidity": 0.2
             }
            },
            "type": "bar"
           }
          ],
          "barpolar": [
           {
            "marker": {
             "line": {
              "color": "rgb(17,17,17)",
              "width": 0.5
             },
             "pattern": {
              "fillmode": "overlay",
              "size": 10,
              "solidity": 0.2
             }
            },
            "type": "barpolar"
           }
          ],
          "carpet": [
           {
            "aaxis": {
             "endlinecolor": "#A2B1C6",
             "gridcolor": "#506784",
             "linecolor": "#506784",
             "minorgridcolor": "#506784",
             "startlinecolor": "#A2B1C6"
            },
            "baxis": {
             "endlinecolor": "#A2B1C6",
             "gridcolor": "#506784",
             "linecolor": "#506784",
             "minorgridcolor": "#506784",
             "startlinecolor": "#A2B1C6"
            },
            "type": "carpet"
           }
          ],
          "choropleth": [
           {
            "colorbar": {
             "outlinewidth": 0,
             "ticks": ""
            },
            "type": "choropleth"
           }
          ],
          "contour": [
           {
            "colorbar": {
             "outlinewidth": 0,
             "ticks": ""
            },
            "colorscale": [
             [
              0,
              "#0d0887"
             ],
             [
              0.1111111111111111,
              "#46039f"
             ],
             [
              0.2222222222222222,
              "#7201a8"
             ],
             [
              0.3333333333333333,
              "#9c179e"
             ],
             [
              0.4444444444444444,
              "#bd3786"
             ],
             [
              0.5555555555555556,
              "#d8576b"
             ],
             [
              0.6666666666666666,
              "#ed7953"
             ],
             [
              0.7777777777777778,
              "#fb9f3a"
             ],
             [
              0.8888888888888888,
              "#fdca26"
             ],
             [
              1,
              "#f0f921"
             ]
            ],
            "type": "contour"
           }
          ],
          "contourcarpet": [
           {
            "colorbar": {
             "outlinewidth": 0,
             "ticks": ""
            },
            "type": "contourcarpet"
           }
          ],
          "heatmap": [
           {
            "colorbar": {
             "outlinewidth": 0,
             "ticks": ""
            },
            "colorscale": [
             [
              0,
              "#0d0887"
             ],
             [
              0.1111111111111111,
              "#46039f"
             ],
             [
              0.2222222222222222,
              "#7201a8"
             ],
             [
              0.3333333333333333,
              "#9c179e"
             ],
             [
              0.4444444444444444,
              "#bd3786"
             ],
             [
              0.5555555555555556,
              "#d8576b"
             ],
             [
              0.6666666666666666,
              "#ed7953"
             ],
             [
              0.7777777777777778,
              "#fb9f3a"
             ],
             [
              0.8888888888888888,
              "#fdca26"
             ],
             [
              1,
              "#f0f921"
             ]
            ],
            "type": "heatmap"
           }
          ],
          "heatmapgl": [
           {
            "colorbar": {
             "outlinewidth": 0,
             "ticks": ""
            },
            "colorscale": [
             [
              0,
              "#0d0887"
             ],
             [
              0.1111111111111111,
              "#46039f"
             ],
             [
              0.2222222222222222,
              "#7201a8"
             ],
             [
              0.3333333333333333,
              "#9c179e"
             ],
             [
              0.4444444444444444,
              "#bd3786"
             ],
             [
              0.5555555555555556,
              "#d8576b"
             ],
             [
              0.6666666666666666,
              "#ed7953"
             ],
             [
              0.7777777777777778,
              "#fb9f3a"
             ],
             [
              0.8888888888888888,
              "#fdca26"
             ],
             [
              1,
              "#f0f921"
             ]
            ],
            "type": "heatmapgl"
           }
          ],
          "histogram": [
           {
            "marker": {
             "pattern": {
              "fillmode": "overlay",
              "size": 10,
              "solidity": 0.2
             }
            },
            "type": "histogram"
           }
          ],
          "histogram2d": [
           {
            "colorbar": {
             "outlinewidth": 0,
             "ticks": ""
            },
            "colorscale": [
             [
              0,
              "#0d0887"
             ],
             [
              0.1111111111111111,
              "#46039f"
             ],
             [
              0.2222222222222222,
              "#7201a8"
             ],
             [
              0.3333333333333333,
              "#9c179e"
             ],
             [
              0.4444444444444444,
              "#bd3786"
             ],
             [
              0.5555555555555556,
              "#d8576b"
             ],
             [
              0.6666666666666666,
              "#ed7953"
             ],
             [
              0.7777777777777778,
              "#fb9f3a"
             ],
             [
              0.8888888888888888,
              "#fdca26"
             ],
             [
              1,
              "#f0f921"
             ]
            ],
            "type": "histogram2d"
           }
          ],
          "histogram2dcontour": [
           {
            "colorbar": {
             "outlinewidth": 0,
             "ticks": ""
            },
            "colorscale": [
             [
              0,
              "#0d0887"
             ],
             [
              0.1111111111111111,
              "#46039f"
             ],
             [
              0.2222222222222222,
              "#7201a8"
             ],
             [
              0.3333333333333333,
              "#9c179e"
             ],
             [
              0.4444444444444444,
              "#bd3786"
             ],
             [
              0.5555555555555556,
              "#d8576b"
             ],
             [
              0.6666666666666666,
              "#ed7953"
             ],
             [
              0.7777777777777778,
              "#fb9f3a"
             ],
             [
              0.8888888888888888,
              "#fdca26"
             ],
             [
              1,
              "#f0f921"
             ]
            ],
            "type": "histogram2dcontour"
           }
          ],
          "mesh3d": [
           {
            "colorbar": {
             "outlinewidth": 0,
             "ticks": ""
            },
            "type": "mesh3d"
           }
          ],
          "parcoords": [
           {
            "line": {
             "colorbar": {
              "outlinewidth": 0,
              "ticks": ""
             }
            },
            "type": "parcoords"
           }
          ],
          "pie": [
           {
            "automargin": true,
            "type": "pie"
           }
          ],
          "scatter": [
           {
            "marker": {
             "line": {
              "color": "#283442"
             }
            },
            "type": "scatter"
           }
          ],
          "scatter3d": [
           {
            "line": {
             "colorbar": {
              "outlinewidth": 0,
              "ticks": ""
             }
            },
            "marker": {
             "colorbar": {
              "outlinewidth": 0,
              "ticks": ""
             }
            },
            "type": "scatter3d"
           }
          ],
          "scattercarpet": [
           {
            "marker": {
             "colorbar": {
              "outlinewidth": 0,
              "ticks": ""
             }
            },
            "type": "scattercarpet"
           }
          ],
          "scattergeo": [
           {
            "marker": {
             "colorbar": {
              "outlinewidth": 0,
              "ticks": ""
             }
            },
            "type": "scattergeo"
           }
          ],
          "scattergl": [
           {
            "marker": {
             "line": {
              "color": "#283442"
             }
            },
            "type": "scattergl"
           }
          ],
          "scattermapbox": [
           {
            "marker": {
             "colorbar": {
              "outlinewidth": 0,
              "ticks": ""
             }
            },
            "type": "scattermapbox"
           }
          ],
          "scatterpolar": [
           {
            "marker": {
             "colorbar": {
              "outlinewidth": 0,
              "ticks": ""
             }
            },
            "type": "scatterpolar"
           }
          ],
          "scatterpolargl": [
           {
            "marker": {
             "colorbar": {
              "outlinewidth": 0,
              "ticks": ""
             }
            },
            "type": "scatterpolargl"
           }
          ],
          "scatterternary": [
           {
            "marker": {
             "colorbar": {
              "outlinewidth": 0,
              "ticks": ""
             }
            },
            "type": "scatterternary"
           }
          ],
          "surface": [
           {
            "colorbar": {
             "outlinewidth": 0,
             "ticks": ""
            },
            "colorscale": [
             [
              0,
              "#0d0887"
             ],
             [
              0.1111111111111111,
              "#46039f"
             ],
             [
              0.2222222222222222,
              "#7201a8"
             ],
             [
              0.3333333333333333,
              "#9c179e"
             ],
             [
              0.4444444444444444,
              "#bd3786"
             ],
             [
              0.5555555555555556,
              "#d8576b"
             ],
             [
              0.6666666666666666,
              "#ed7953"
             ],
             [
              0.7777777777777778,
              "#fb9f3a"
             ],
             [
              0.8888888888888888,
              "#fdca26"
             ],
             [
              1,
              "#f0f921"
             ]
            ],
            "type": "surface"
           }
          ],
          "table": [
           {
            "cells": {
             "fill": {
              "color": "#506784"
             },
             "line": {
              "color": "rgb(17,17,17)"
             }
            },
            "header": {
             "fill": {
              "color": "#2a3f5f"
             },
             "line": {
              "color": "rgb(17,17,17)"
             }
            },
            "type": "table"
           }
          ]
         },
         "layout": {
          "annotationdefaults": {
           "arrowcolor": "#f2f5fa",
           "arrowhead": 0,
           "arrowwidth": 1
          },
          "autotypenumbers": "strict",
          "coloraxis": {
           "colorbar": {
            "outlinewidth": 0,
            "ticks": ""
           }
          },
          "colorscale": {
           "diverging": [
            [
             0,
             "#8e0152"
            ],
            [
             0.1,
             "#c51b7d"
            ],
            [
             0.2,
             "#de77ae"
            ],
            [
             0.3,
             "#f1b6da"
            ],
            [
             0.4,
             "#fde0ef"
            ],
            [
             0.5,
             "#f7f7f7"
            ],
            [
             0.6,
             "#e6f5d0"
            ],
            [
             0.7,
             "#b8e186"
            ],
            [
             0.8,
             "#7fbc41"
            ],
            [
             0.9,
             "#4d9221"
            ],
            [
             1,
             "#276419"
            ]
           ],
           "sequential": [
            [
             0,
             "#0d0887"
            ],
            [
             0.1111111111111111,
             "#46039f"
            ],
            [
             0.2222222222222222,
             "#7201a8"
            ],
            [
             0.3333333333333333,
             "#9c179e"
            ],
            [
             0.4444444444444444,
             "#bd3786"
            ],
            [
             0.5555555555555556,
             "#d8576b"
            ],
            [
             0.6666666666666666,
             "#ed7953"
            ],
            [
             0.7777777777777778,
             "#fb9f3a"
            ],
            [
             0.8888888888888888,
             "#fdca26"
            ],
            [
             1,
             "#f0f921"
            ]
           ],
           "sequentialminus": [
            [
             0,
             "#0d0887"
            ],
            [
             0.1111111111111111,
             "#46039f"
            ],
            [
             0.2222222222222222,
             "#7201a8"
            ],
            [
             0.3333333333333333,
             "#9c179e"
            ],
            [
             0.4444444444444444,
             "#bd3786"
            ],
            [
             0.5555555555555556,
             "#d8576b"
            ],
            [
             0.6666666666666666,
             "#ed7953"
            ],
            [
             0.7777777777777778,
             "#fb9f3a"
            ],
            [
             0.8888888888888888,
             "#fdca26"
            ],
            [
             1,
             "#f0f921"
            ]
           ]
          },
          "colorway": [
           "#636efa",
           "#EF553B",
           "#00cc96",
           "#ab63fa",
           "#FFA15A",
           "#19d3f3",
           "#FF6692",
           "#B6E880",
           "#FF97FF",
           "#FECB52"
          ],
          "font": {
           "color": "#f2f5fa"
          },
          "geo": {
           "bgcolor": "rgb(17,17,17)",
           "lakecolor": "rgb(17,17,17)",
           "landcolor": "rgb(17,17,17)",
           "showlakes": true,
           "showland": true,
           "subunitcolor": "#506784"
          },
          "hoverlabel": {
           "align": "left"
          },
          "hovermode": "closest",
          "mapbox": {
           "style": "dark"
          },
          "paper_bgcolor": "rgb(17,17,17)",
          "plot_bgcolor": "rgb(17,17,17)",
          "polar": {
           "angularaxis": {
            "gridcolor": "#506784",
            "linecolor": "#506784",
            "ticks": ""
           },
           "bgcolor": "rgb(17,17,17)",
           "radialaxis": {
            "gridcolor": "#506784",
            "linecolor": "#506784",
            "ticks": ""
           }
          },
          "scene": {
           "xaxis": {
            "backgroundcolor": "rgb(17,17,17)",
            "gridcolor": "#506784",
            "gridwidth": 2,
            "linecolor": "#506784",
            "showbackground": true,
            "ticks": "",
            "zerolinecolor": "#C8D4E3"
           },
           "yaxis": {
            "backgroundcolor": "rgb(17,17,17)",
            "gridcolor": "#506784",
            "gridwidth": 2,
            "linecolor": "#506784",
            "showbackground": true,
            "ticks": "",
            "zerolinecolor": "#C8D4E3"
           },
           "zaxis": {
            "backgroundcolor": "rgb(17,17,17)",
            "gridcolor": "#506784",
            "gridwidth": 2,
            "linecolor": "#506784",
            "showbackground": true,
            "ticks": "",
            "zerolinecolor": "#C8D4E3"
           }
          },
          "shapedefaults": {
           "line": {
            "color": "#f2f5fa"
           }
          },
          "sliderdefaults": {
           "bgcolor": "#C8D4E3",
           "bordercolor": "rgb(17,17,17)",
           "borderwidth": 1,
           "tickwidth": 0
          },
          "ternary": {
           "aaxis": {
            "gridcolor": "#506784",
            "linecolor": "#506784",
            "ticks": ""
           },
           "baxis": {
            "gridcolor": "#506784",
            "linecolor": "#506784",
            "ticks": ""
           },
           "bgcolor": "rgb(17,17,17)",
           "caxis": {
            "gridcolor": "#506784",
            "linecolor": "#506784",
            "ticks": ""
           }
          },
          "title": {
           "x": 0.05
          },
          "updatemenudefaults": {
           "bgcolor": "#506784",
           "borderwidth": 0
          },
          "xaxis": {
           "automargin": true,
           "gridcolor": "#283442",
           "linecolor": "#506784",
           "ticks": "",
           "title": {
            "standoff": 15
           },
           "zerolinecolor": "#283442",
           "zerolinewidth": 2
          },
          "yaxis": {
           "automargin": true,
           "gridcolor": "#283442",
           "linecolor": "#506784",
           "ticks": "",
           "title": {
            "standoff": 15
           },
           "zerolinecolor": "#283442",
           "zerolinewidth": 2
          }
         }
        }
       }
      }
     },
     "metadata": {},
     "output_type": "display_data"
    }
   ],
   "source": [
    "px.line_3d(df, x='date', y='rating', z='appreciation', color='doctorid')"
   ]
  },
  {
   "cell_type": "code",
   "execution_count": 68,
   "metadata": {},
   "outputs": [
    {
     "data": {
      "application/vnd.plotly.v1+json": {
       "config": {
        "plotlyServerURL": "https://plot.ly"
       },
       "data": [
        {
         "hovertemplate": "season=1<br>date=%{x}<br>rating=%{y}<extra></extra>",
         "legendgroup": "1",
         "line": {
          "color": "rgb(95, 70, 144)"
         },
         "marker": {
          "symbol": "circle"
         },
         "mode": "lines",
         "name": "1",
         "orientation": "v",
         "showlegend": true,
         "stackgroup": "1",
         "type": "scatter",
         "x": [
          "2005-03-26",
          "2005-04-02",
          "2005-04-09",
          "2005-04-16",
          "2005-04-23",
          "2005-04-30",
          "2005-05-07",
          "2005-05-14",
          "2005-05-21",
          "2005-05-28",
          "2005-06-04",
          "2005-06-11",
          "2005-06-18"
         ],
         "xaxis": "x",
         "y": [
          7.6,
          7.6,
          7.6,
          7,
          7.1,
          8.7,
          7.2,
          8.4,
          9.2,
          9.1,
          7.2,
          8.7,
          9.1
         ],
         "yaxis": "y"
        },
        {
         "hovertemplate": "season=2<br>date=%{x}<br>rating=%{y}<extra></extra>",
         "legendgroup": "2",
         "line": {
          "color": "rgb(29, 105, 150)"
         },
         "marker": {
          "symbol": "circle"
         },
         "mode": "lines",
         "name": "2",
         "orientation": "v",
         "showlegend": true,
         "stackgroup": "1",
         "type": "scatter",
         "x": [
          "2005-12-25",
          "2006-04-15",
          "2006-04-22",
          "2006-04-29",
          "2006-05-06",
          "2006-05-13",
          "2006-05-20",
          "2006-05-27",
          "2006-06-03",
          "2006-06-10",
          "2006-06-17",
          "2006-06-24",
          "2006-07-01",
          "2006-07-08"
         ],
         "xaxis": "x",
         "y": [
          8.2,
          7.5,
          7.9,
          8.4,
          9.3,
          7.8,
          7.9,
          6.9,
          8.7,
          8.8,
          6.2,
          6.1,
          8.5,
          9.3
         ],
         "yaxis": "y"
        },
        {
         "hovertemplate": "season=3<br>date=%{x}<br>rating=%{y}<extra></extra>",
         "legendgroup": "3",
         "line": {
          "color": "rgb(56, 166, 165)"
         },
         "marker": {
          "symbol": "circle"
         },
         "mode": "lines",
         "name": "3",
         "orientation": "v",
         "showlegend": true,
         "stackgroup": "1",
         "type": "scatter",
         "x": [
          "2006-12-25",
          "2007-03-31",
          "2007-04-07",
          "2007-04-14",
          "2007-04-21",
          "2007-04-28",
          "2007-05-05",
          "2007-05-19",
          "2007-05-26",
          "2007-06-02",
          "2007-06-09",
          "2007-06-16",
          "2007-06-23",
          "2007-06-30"
         ],
         "xaxis": "x",
         "y": [
          7.6,
          8,
          7.8,
          8.1,
          7,
          7,
          6.7,
          7.5,
          9,
          9.2,
          9.8,
          8.8,
          8.7,
          8.4
         ],
         "yaxis": "y"
        },
        {
         "hovertemplate": "season=4<br>date=%{x}<br>rating=%{y}<extra></extra>",
         "legendgroup": "4",
         "line": {
          "color": "rgb(15, 133, 84)"
         },
         "marker": {
          "symbol": "circle"
         },
         "mode": "lines",
         "name": "4",
         "orientation": "v",
         "showlegend": true,
         "stackgroup": "1",
         "type": "scatter",
         "x": [
          "2007-12-25",
          "2008-04-05",
          "2008-04-12",
          "2008-04-19",
          "2008-04-26",
          "2008-05-03",
          "2008-05-10",
          "2008-05-17",
          "2008-05-31",
          "2008-06-07",
          "2008-06-14",
          "2008-06-21",
          "2008-06-28",
          "2008-07-05"
         ],
         "xaxis": "x",
         "y": [
          7.7,
          7.8,
          8.1,
          8.1,
          7.5,
          7.6,
          7.7,
          7.8,
          9.4,
          9.5,
          9,
          8.9,
          9.1,
          9.1
         ],
         "yaxis": "y"
        },
        {
         "hovertemplate": "season=5<br>date=%{x}<br>rating=%{y}<extra></extra>",
         "legendgroup": "5",
         "line": {
          "color": "rgb(115, 175, 72)"
         },
         "marker": {
          "symbol": "circle"
         },
         "mode": "lines",
         "name": "5",
         "orientation": "v",
         "showlegend": true,
         "stackgroup": "1",
         "type": "scatter",
         "x": [
          "2010-04-03",
          "2010-04-10",
          "2010-04-17",
          "2010-04-24",
          "2010-05-01",
          "2010-05-08",
          "2010-05-15",
          "2010-05-22",
          "2010-05-29",
          "2010-06-05",
          "2010-06-12",
          "2010-06-19",
          "2010-06-26"
         ],
         "xaxis": "x",
         "y": [
          8.8,
          7.6,
          6.8,
          8.7,
          8.6,
          7.1,
          8.2,
          7.3,
          7.5,
          9.3,
          8.3,
          9.1,
          9.2
         ],
         "yaxis": "y"
        },
        {
         "hovertemplate": "season=6<br>date=%{x}<br>rating=%{y}<extra></extra>",
         "legendgroup": "6",
         "line": {
          "color": "rgb(237, 173, 8)"
         },
         "marker": {
          "symbol": "circle"
         },
         "mode": "lines",
         "name": "6",
         "orientation": "v",
         "showlegend": true,
         "stackgroup": "1",
         "type": "scatter",
         "x": [
          "2010-12-25",
          "2011-04-23",
          "2011-04-30",
          "2011-05-07",
          "2011-05-14",
          "2011-05-21",
          "2011-05-28",
          "2011-06-04",
          "2011-08-27",
          "2011-09-03",
          "2011-09-10",
          "2011-09-17",
          "2011-09-24",
          "2011-10-01"
         ],
         "xaxis": "x",
         "y": [
          8.6,
          8.9,
          8.9,
          6.8,
          9,
          7.3,
          7.5,
          9.1,
          8.1,
          7.1,
          8.5,
          8.1,
          7.7,
          8.6
         ],
         "yaxis": "y"
        },
        {
         "hovertemplate": "season=7<br>date=%{x}<br>rating=%{y}<extra></extra>",
         "legendgroup": "7",
         "line": {
          "color": "rgb(225, 124, 5)"
         },
         "marker": {
          "symbol": "circle"
         },
         "mode": "lines",
         "name": "7",
         "orientation": "v",
         "showlegend": true,
         "stackgroup": "1",
         "type": "scatter",
         "x": [
          "2011-12-25",
          "2012-09-01",
          "2012-09-08",
          "2012-09-15",
          "2012-09-22",
          "2012-09-29",
          "2012-12-25",
          "2013-03-30",
          "2013-04-06",
          "2013-04-13",
          "2013-04-20",
          "2013-04-27",
          "2013-05-04",
          "2013-05-11",
          "2013-05-18"
         ],
         "xaxis": "x",
         "y": [
          7.3,
          8.7,
          7.5,
          7.5,
          7.6,
          9,
          8.5,
          8,
          7.4,
          7.3,
          7.8,
          7.5,
          7.4,
          7.4,
          9.1
         ],
         "yaxis": "y"
        },
        {
         "hovertemplate": "season=8<br>date=%{x}<br>rating=%{y}<extra></extra>",
         "legendgroup": "8",
         "line": {
          "color": "rgb(204, 80, 62)"
         },
         "marker": {
          "symbol": "circle"
         },
         "mode": "lines",
         "name": "8",
         "orientation": "v",
         "showlegend": true,
         "stackgroup": "1",
         "type": "scatter",
         "x": [
          "2014-08-23",
          "2014-08-30",
          "2014-09-06",
          "2014-09-13",
          "2014-09-20",
          "2014-09-27",
          "2014-10-04",
          "2014-10-11",
          "2014-10-18",
          "2014-10-25",
          "2014-11-01",
          "2014-11-08"
         ],
         "xaxis": "x",
         "y": [
          8,
          7.8,
          7.1,
          8.9,
          8,
          7.4,
          7,
          8.5,
          8.5,
          6.1,
          8.7,
          7.9
         ],
         "yaxis": "y"
        },
        {
         "hovertemplate": "season=9<br>date=%{x}<br>rating=%{y}<extra></extra>",
         "legendgroup": "9",
         "line": {
          "color": "rgb(148, 52, 110)"
         },
         "marker": {
          "symbol": "circle"
         },
         "mode": "lines",
         "name": "9",
         "orientation": "v",
         "showlegend": true,
         "stackgroup": "1",
         "type": "scatter",
         "x": [
          "2015-09-19",
          "2015-09-26",
          "2015-10-03",
          "2015-10-10",
          "2015-10-17",
          "2015-10-24",
          "2015-10-31",
          "2015-11-07",
          "2015-11-14",
          "2015-11-21",
          "2015-11-28",
          "2015-12-05",
          "2015-12-25"
         ],
         "xaxis": "x",
         "y": [
          8.5,
          8.5,
          8.3,
          8.1,
          7.7,
          7.6,
          7.9,
          8.6,
          6,
          8.6,
          9.6,
          8.7,
          8.6
         ],
         "yaxis": "y"
        },
        {
         "hovertemplate": "season=10<br>date=%{x}<br>rating=%{y}<extra></extra>",
         "legendgroup": "10",
         "line": {
          "color": "rgb(111, 64, 112)"
         },
         "marker": {
          "symbol": "circle"
         },
         "mode": "lines",
         "name": "10",
         "orientation": "v",
         "showlegend": true,
         "stackgroup": "1",
         "type": "scatter",
         "x": [
          "2016-12-25",
          "2017-04-15",
          "2017-04-22",
          "2017-04-29",
          "2017-05-06",
          "2017-05-13",
          "2017-05-20",
          "2017-05-27",
          "2017-06-03",
          "2017-06-10",
          "2017-06-17",
          "2017-06-24",
          "2017-07-01"
         ],
         "xaxis": "x",
         "y": [
          7.5,
          7.9,
          7.2,
          7.3,
          7.5,
          8.1,
          8.5,
          7.7,
          7.2,
          7.1,
          7,
          9.2,
          9
         ],
         "yaxis": "y"
        },
        {
         "hovertemplate": "season=11<br>date=%{x}<br>rating=%{y}<extra></extra>",
         "legendgroup": "11",
         "line": {
          "color": "rgb(102, 102, 102)"
         },
         "marker": {
          "symbol": "circle"
         },
         "mode": "lines",
         "name": "11",
         "orientation": "v",
         "showlegend": true,
         "stackgroup": "1",
         "type": "scatter",
         "x": [
          "2018-10-07",
          "2018-10-14",
          "2018-10-21",
          "2018-10-28",
          "2018-11-04",
          "2018-11-11",
          "2018-11-18",
          "2018-11-25",
          "2018-12-02",
          "2018-12-09",
          "2019-01-01"
         ],
         "xaxis": "x",
         "y": [
          7.1,
          6.2,
          7.1,
          5.3,
          5.2,
          6.6,
          6.4,
          5.9,
          6.4,
          5.5,
          6
         ],
         "yaxis": "y"
        }
       ],
       "layout": {
        "legend": {
         "title": {
          "text": "season"
         },
         "tracegroupgap": 0
        },
        "margin": {
         "t": 60
        },
        "template": {
         "data": {
          "bar": [
           {
            "error_x": {
             "color": "#f2f5fa"
            },
            "error_y": {
             "color": "#f2f5fa"
            },
            "marker": {
             "line": {
              "color": "rgb(17,17,17)",
              "width": 0.5
             },
             "pattern": {
              "fillmode": "overlay",
              "size": 10,
              "solidity": 0.2
             }
            },
            "type": "bar"
           }
          ],
          "barpolar": [
           {
            "marker": {
             "line": {
              "color": "rgb(17,17,17)",
              "width": 0.5
             },
             "pattern": {
              "fillmode": "overlay",
              "size": 10,
              "solidity": 0.2
             }
            },
            "type": "barpolar"
           }
          ],
          "carpet": [
           {
            "aaxis": {
             "endlinecolor": "#A2B1C6",
             "gridcolor": "#506784",
             "linecolor": "#506784",
             "minorgridcolor": "#506784",
             "startlinecolor": "#A2B1C6"
            },
            "baxis": {
             "endlinecolor": "#A2B1C6",
             "gridcolor": "#506784",
             "linecolor": "#506784",
             "minorgridcolor": "#506784",
             "startlinecolor": "#A2B1C6"
            },
            "type": "carpet"
           }
          ],
          "choropleth": [
           {
            "colorbar": {
             "outlinewidth": 0,
             "ticks": ""
            },
            "type": "choropleth"
           }
          ],
          "contour": [
           {
            "colorbar": {
             "outlinewidth": 0,
             "ticks": ""
            },
            "colorscale": [
             [
              0,
              "#0d0887"
             ],
             [
              0.1111111111111111,
              "#46039f"
             ],
             [
              0.2222222222222222,
              "#7201a8"
             ],
             [
              0.3333333333333333,
              "#9c179e"
             ],
             [
              0.4444444444444444,
              "#bd3786"
             ],
             [
              0.5555555555555556,
              "#d8576b"
             ],
             [
              0.6666666666666666,
              "#ed7953"
             ],
             [
              0.7777777777777778,
              "#fb9f3a"
             ],
             [
              0.8888888888888888,
              "#fdca26"
             ],
             [
              1,
              "#f0f921"
             ]
            ],
            "type": "contour"
           }
          ],
          "contourcarpet": [
           {
            "colorbar": {
             "outlinewidth": 0,
             "ticks": ""
            },
            "type": "contourcarpet"
           }
          ],
          "heatmap": [
           {
            "colorbar": {
             "outlinewidth": 0,
             "ticks": ""
            },
            "colorscale": [
             [
              0,
              "#0d0887"
             ],
             [
              0.1111111111111111,
              "#46039f"
             ],
             [
              0.2222222222222222,
              "#7201a8"
             ],
             [
              0.3333333333333333,
              "#9c179e"
             ],
             [
              0.4444444444444444,
              "#bd3786"
             ],
             [
              0.5555555555555556,
              "#d8576b"
             ],
             [
              0.6666666666666666,
              "#ed7953"
             ],
             [
              0.7777777777777778,
              "#fb9f3a"
             ],
             [
              0.8888888888888888,
              "#fdca26"
             ],
             [
              1,
              "#f0f921"
             ]
            ],
            "type": "heatmap"
           }
          ],
          "heatmapgl": [
           {
            "colorbar": {
             "outlinewidth": 0,
             "ticks": ""
            },
            "colorscale": [
             [
              0,
              "#0d0887"
             ],
             [
              0.1111111111111111,
              "#46039f"
             ],
             [
              0.2222222222222222,
              "#7201a8"
             ],
             [
              0.3333333333333333,
              "#9c179e"
             ],
             [
              0.4444444444444444,
              "#bd3786"
             ],
             [
              0.5555555555555556,
              "#d8576b"
             ],
             [
              0.6666666666666666,
              "#ed7953"
             ],
             [
              0.7777777777777778,
              "#fb9f3a"
             ],
             [
              0.8888888888888888,
              "#fdca26"
             ],
             [
              1,
              "#f0f921"
             ]
            ],
            "type": "heatmapgl"
           }
          ],
          "histogram": [
           {
            "marker": {
             "pattern": {
              "fillmode": "overlay",
              "size": 10,
              "solidity": 0.2
             }
            },
            "type": "histogram"
           }
          ],
          "histogram2d": [
           {
            "colorbar": {
             "outlinewidth": 0,
             "ticks": ""
            },
            "colorscale": [
             [
              0,
              "#0d0887"
             ],
             [
              0.1111111111111111,
              "#46039f"
             ],
             [
              0.2222222222222222,
              "#7201a8"
             ],
             [
              0.3333333333333333,
              "#9c179e"
             ],
             [
              0.4444444444444444,
              "#bd3786"
             ],
             [
              0.5555555555555556,
              "#d8576b"
             ],
             [
              0.6666666666666666,
              "#ed7953"
             ],
             [
              0.7777777777777778,
              "#fb9f3a"
             ],
             [
              0.8888888888888888,
              "#fdca26"
             ],
             [
              1,
              "#f0f921"
             ]
            ],
            "type": "histogram2d"
           }
          ],
          "histogram2dcontour": [
           {
            "colorbar": {
             "outlinewidth": 0,
             "ticks": ""
            },
            "colorscale": [
             [
              0,
              "#0d0887"
             ],
             [
              0.1111111111111111,
              "#46039f"
             ],
             [
              0.2222222222222222,
              "#7201a8"
             ],
             [
              0.3333333333333333,
              "#9c179e"
             ],
             [
              0.4444444444444444,
              "#bd3786"
             ],
             [
              0.5555555555555556,
              "#d8576b"
             ],
             [
              0.6666666666666666,
              "#ed7953"
             ],
             [
              0.7777777777777778,
              "#fb9f3a"
             ],
             [
              0.8888888888888888,
              "#fdca26"
             ],
             [
              1,
              "#f0f921"
             ]
            ],
            "type": "histogram2dcontour"
           }
          ],
          "mesh3d": [
           {
            "colorbar": {
             "outlinewidth": 0,
             "ticks": ""
            },
            "type": "mesh3d"
           }
          ],
          "parcoords": [
           {
            "line": {
             "colorbar": {
              "outlinewidth": 0,
              "ticks": ""
             }
            },
            "type": "parcoords"
           }
          ],
          "pie": [
           {
            "automargin": true,
            "type": "pie"
           }
          ],
          "scatter": [
           {
            "marker": {
             "line": {
              "color": "#283442"
             }
            },
            "type": "scatter"
           }
          ],
          "scatter3d": [
           {
            "line": {
             "colorbar": {
              "outlinewidth": 0,
              "ticks": ""
             }
            },
            "marker": {
             "colorbar": {
              "outlinewidth": 0,
              "ticks": ""
             }
            },
            "type": "scatter3d"
           }
          ],
          "scattercarpet": [
           {
            "marker": {
             "colorbar": {
              "outlinewidth": 0,
              "ticks": ""
             }
            },
            "type": "scattercarpet"
           }
          ],
          "scattergeo": [
           {
            "marker": {
             "colorbar": {
              "outlinewidth": 0,
              "ticks": ""
             }
            },
            "type": "scattergeo"
           }
          ],
          "scattergl": [
           {
            "marker": {
             "line": {
              "color": "#283442"
             }
            },
            "type": "scattergl"
           }
          ],
          "scattermapbox": [
           {
            "marker": {
             "colorbar": {
              "outlinewidth": 0,
              "ticks": ""
             }
            },
            "type": "scattermapbox"
           }
          ],
          "scatterpolar": [
           {
            "marker": {
             "colorbar": {
              "outlinewidth": 0,
              "ticks": ""
             }
            },
            "type": "scatterpolar"
           }
          ],
          "scatterpolargl": [
           {
            "marker": {
             "colorbar": {
              "outlinewidth": 0,
              "ticks": ""
             }
            },
            "type": "scatterpolargl"
           }
          ],
          "scatterternary": [
           {
            "marker": {
             "colorbar": {
              "outlinewidth": 0,
              "ticks": ""
             }
            },
            "type": "scatterternary"
           }
          ],
          "surface": [
           {
            "colorbar": {
             "outlinewidth": 0,
             "ticks": ""
            },
            "colorscale": [
             [
              0,
              "#0d0887"
             ],
             [
              0.1111111111111111,
              "#46039f"
             ],
             [
              0.2222222222222222,
              "#7201a8"
             ],
             [
              0.3333333333333333,
              "#9c179e"
             ],
             [
              0.4444444444444444,
              "#bd3786"
             ],
             [
              0.5555555555555556,
              "#d8576b"
             ],
             [
              0.6666666666666666,
              "#ed7953"
             ],
             [
              0.7777777777777778,
              "#fb9f3a"
             ],
             [
              0.8888888888888888,
              "#fdca26"
             ],
             [
              1,
              "#f0f921"
             ]
            ],
            "type": "surface"
           }
          ],
          "table": [
           {
            "cells": {
             "fill": {
              "color": "#506784"
             },
             "line": {
              "color": "rgb(17,17,17)"
             }
            },
            "header": {
             "fill": {
              "color": "#2a3f5f"
             },
             "line": {
              "color": "rgb(17,17,17)"
             }
            },
            "type": "table"
           }
          ]
         },
         "layout": {
          "annotationdefaults": {
           "arrowcolor": "#f2f5fa",
           "arrowhead": 0,
           "arrowwidth": 1
          },
          "autotypenumbers": "strict",
          "coloraxis": {
           "colorbar": {
            "outlinewidth": 0,
            "ticks": ""
           }
          },
          "colorscale": {
           "diverging": [
            [
             0,
             "#8e0152"
            ],
            [
             0.1,
             "#c51b7d"
            ],
            [
             0.2,
             "#de77ae"
            ],
            [
             0.3,
             "#f1b6da"
            ],
            [
             0.4,
             "#fde0ef"
            ],
            [
             0.5,
             "#f7f7f7"
            ],
            [
             0.6,
             "#e6f5d0"
            ],
            [
             0.7,
             "#b8e186"
            ],
            [
             0.8,
             "#7fbc41"
            ],
            [
             0.9,
             "#4d9221"
            ],
            [
             1,
             "#276419"
            ]
           ],
           "sequential": [
            [
             0,
             "#0d0887"
            ],
            [
             0.1111111111111111,
             "#46039f"
            ],
            [
             0.2222222222222222,
             "#7201a8"
            ],
            [
             0.3333333333333333,
             "#9c179e"
            ],
            [
             0.4444444444444444,
             "#bd3786"
            ],
            [
             0.5555555555555556,
             "#d8576b"
            ],
            [
             0.6666666666666666,
             "#ed7953"
            ],
            [
             0.7777777777777778,
             "#fb9f3a"
            ],
            [
             0.8888888888888888,
             "#fdca26"
            ],
            [
             1,
             "#f0f921"
            ]
           ],
           "sequentialminus": [
            [
             0,
             "#0d0887"
            ],
            [
             0.1111111111111111,
             "#46039f"
            ],
            [
             0.2222222222222222,
             "#7201a8"
            ],
            [
             0.3333333333333333,
             "#9c179e"
            ],
            [
             0.4444444444444444,
             "#bd3786"
            ],
            [
             0.5555555555555556,
             "#d8576b"
            ],
            [
             0.6666666666666666,
             "#ed7953"
            ],
            [
             0.7777777777777778,
             "#fb9f3a"
            ],
            [
             0.8888888888888888,
             "#fdca26"
            ],
            [
             1,
             "#f0f921"
            ]
           ]
          },
          "colorway": [
           "#636efa",
           "#EF553B",
           "#00cc96",
           "#ab63fa",
           "#FFA15A",
           "#19d3f3",
           "#FF6692",
           "#B6E880",
           "#FF97FF",
           "#FECB52"
          ],
          "font": {
           "color": "#f2f5fa"
          },
          "geo": {
           "bgcolor": "rgb(17,17,17)",
           "lakecolor": "rgb(17,17,17)",
           "landcolor": "rgb(17,17,17)",
           "showlakes": true,
           "showland": true,
           "subunitcolor": "#506784"
          },
          "hoverlabel": {
           "align": "left"
          },
          "hovermode": "closest",
          "mapbox": {
           "style": "dark"
          },
          "paper_bgcolor": "rgb(17,17,17)",
          "plot_bgcolor": "rgb(17,17,17)",
          "polar": {
           "angularaxis": {
            "gridcolor": "#506784",
            "linecolor": "#506784",
            "ticks": ""
           },
           "bgcolor": "rgb(17,17,17)",
           "radialaxis": {
            "gridcolor": "#506784",
            "linecolor": "#506784",
            "ticks": ""
           }
          },
          "scene": {
           "xaxis": {
            "backgroundcolor": "rgb(17,17,17)",
            "gridcolor": "#506784",
            "gridwidth": 2,
            "linecolor": "#506784",
            "showbackground": true,
            "ticks": "",
            "zerolinecolor": "#C8D4E3"
           },
           "yaxis": {
            "backgroundcolor": "rgb(17,17,17)",
            "gridcolor": "#506784",
            "gridwidth": 2,
            "linecolor": "#506784",
            "showbackground": true,
            "ticks": "",
            "zerolinecolor": "#C8D4E3"
           },
           "zaxis": {
            "backgroundcolor": "rgb(17,17,17)",
            "gridcolor": "#506784",
            "gridwidth": 2,
            "linecolor": "#506784",
            "showbackground": true,
            "ticks": "",
            "zerolinecolor": "#C8D4E3"
           }
          },
          "shapedefaults": {
           "line": {
            "color": "#f2f5fa"
           }
          },
          "sliderdefaults": {
           "bgcolor": "#C8D4E3",
           "bordercolor": "rgb(17,17,17)",
           "borderwidth": 1,
           "tickwidth": 0
          },
          "ternary": {
           "aaxis": {
            "gridcolor": "#506784",
            "linecolor": "#506784",
            "ticks": ""
           },
           "baxis": {
            "gridcolor": "#506784",
            "linecolor": "#506784",
            "ticks": ""
           },
           "bgcolor": "rgb(17,17,17)",
           "caxis": {
            "gridcolor": "#506784",
            "linecolor": "#506784",
            "ticks": ""
           }
          },
          "title": {
           "x": 0.05
          },
          "updatemenudefaults": {
           "bgcolor": "#506784",
           "borderwidth": 0
          },
          "xaxis": {
           "automargin": true,
           "gridcolor": "#283442",
           "linecolor": "#506784",
           "ticks": "",
           "title": {
            "standoff": 15
           },
           "zerolinecolor": "#283442",
           "zerolinewidth": 2
          },
          "yaxis": {
           "automargin": true,
           "gridcolor": "#283442",
           "linecolor": "#506784",
           "ticks": "",
           "title": {
            "standoff": 15
           },
           "zerolinecolor": "#283442",
           "zerolinewidth": 2
          }
         }
        },
        "xaxis": {
         "anchor": "y",
         "domain": [
          0,
          1
         ],
         "title": {
          "text": "date"
         }
        },
        "yaxis": {
         "anchor": "x",
         "domain": [
          0,
          1
         ],
         "title": {
          "text": "rating"
         }
        }
       }
      }
     },
     "metadata": {},
     "output_type": "display_data"
    }
   ],
   "source": [
    "px.area(df, x='date', y='rating', color='season')"
   ]
  },
  {
   "attachments": {},
   "cell_type": "markdown",
   "metadata": {},
   "source": [
    "### Pie Charts"
   ]
  },
  {
   "cell_type": "code",
   "execution_count": 80,
   "metadata": {},
   "outputs": [
    {
     "data": {
      "application/vnd.plotly.v1+json": {
       "config": {
        "plotlyServerURL": "https://plot.ly"
       },
       "data": [
        {
         "domain": {
          "x": [
           0,
           1
          ],
          "y": [
           0,
           1
          ]
         },
         "hovertemplate": "doctorid=%{label}<br>views=%{value}<extra></extra>",
         "labels": [
          9,
          9,
          9,
          9,
          9,
          9,
          9,
          9,
          9,
          9,
          9,
          9,
          9,
          10,
          10,
          10,
          10,
          10,
          10,
          10,
          10,
          10,
          10,
          10,
          10,
          10,
          10,
          10,
          10,
          10,
          10,
          10,
          10,
          10,
          10,
          10,
          10,
          10,
          10,
          10,
          10,
          10,
          10,
          10,
          10,
          10,
          10,
          10,
          10,
          10,
          10,
          10,
          10,
          10,
          10,
          11,
          11,
          11,
          11,
          11,
          11,
          11,
          11,
          11,
          11,
          11,
          11,
          11,
          11,
          11,
          11,
          11,
          11,
          11,
          11,
          11,
          11,
          11,
          11,
          11,
          11,
          11,
          11,
          11,
          11,
          11,
          11,
          11,
          11,
          11,
          11,
          11,
          11,
          11,
          11,
          11,
          11,
          12,
          12,
          12,
          12,
          12,
          12,
          12,
          12,
          12,
          12,
          12,
          12,
          12,
          12,
          12,
          12,
          12,
          12,
          12,
          12,
          12,
          12,
          12,
          12,
          12,
          12,
          12,
          12,
          12,
          12,
          12,
          12,
          12,
          12,
          12,
          12,
          12,
          12,
          13,
          13,
          13,
          13,
          13,
          13,
          13,
          13,
          13,
          13,
          13
         ],
         "legendgroup": "",
         "name": "",
         "showlegend": true,
         "type": "pie",
         "values": [
          10.81,
          7.97,
          8.86,
          7.63,
          7.98,
          8.63,
          8.01,
          8.06,
          7.11,
          6.86,
          7.68,
          6.81,
          6.91,
          9.84,
          8.62,
          9.24,
          8.31,
          7.9,
          9.22,
          7.64,
          6.76,
          6.32,
          6.08,
          6.66,
          7.14,
          8.19,
          8.22,
          9.38,
          8.71,
          7.23,
          8.4,
          6.69,
          6.97,
          7.19,
          7.41,
          7.74,
          7.21,
          6.62,
          7.84,
          7.51,
          8.61,
          13.31,
          9.14,
          9.04,
          7.5,
          7.06,
          6.53,
          7.33,
          8.41,
          6.27,
          7.84,
          8.05,
          8.09,
          8.78,
          10.57,
          10.08,
          8.42,
          7.82,
          8.59,
          8.5,
          7.68,
          7.55,
          6.49,
          7.49,
          6.76,
          6.44,
          7.58,
          6.7,
          12.11,
          8.86,
          7.3,
          7.85,
          7.97,
          7.35,
          6.72,
          7.51,
          8.1,
          7.07,
          7.6,
          6.77,
          6.93,
          7.67,
          10.77,
          8.33,
          7.57,
          8.42,
          7.67,
          7.82,
          9.87,
          8.44,
          7.45,
          7.37,
          6.61,
          6.52,
          6.47,
          6.64,
          7.45,
          9.17,
          7.29,
          7.28,
          7.01,
          6.99,
          6.82,
          6.91,
          7.11,
          6.71,
          6.92,
          7.34,
          7.6,
          6.54,
          5.71,
          5.63,
          6.05,
          6.56,
          6.11,
          5.76,
          6.03,
          5.61,
          6.06,
          6.19,
          6.17,
          7.69,
          7.83,
          6.68,
          5.98,
          5.61,
          5.73,
          5.27,
          5.53,
          5.79,
          4.82,
          5.02,
          4.73,
          5,
          5.3,
          10.96,
          9,
          8.41,
          8.22,
          7.76,
          7.48,
          7.46,
          7.21,
          6.42,
          6.65,
          7.13
         ]
        }
       ],
       "layout": {
        "legend": {
         "tracegroupgap": 0
        },
        "margin": {
         "t": 60
        },
        "template": {
         "data": {
          "bar": [
           {
            "error_x": {
             "color": "#f2f5fa"
            },
            "error_y": {
             "color": "#f2f5fa"
            },
            "marker": {
             "line": {
              "color": "rgb(17,17,17)",
              "width": 0.5
             },
             "pattern": {
              "fillmode": "overlay",
              "size": 10,
              "solidity": 0.2
             }
            },
            "type": "bar"
           }
          ],
          "barpolar": [
           {
            "marker": {
             "line": {
              "color": "rgb(17,17,17)",
              "width": 0.5
             },
             "pattern": {
              "fillmode": "overlay",
              "size": 10,
              "solidity": 0.2
             }
            },
            "type": "barpolar"
           }
          ],
          "carpet": [
           {
            "aaxis": {
             "endlinecolor": "#A2B1C6",
             "gridcolor": "#506784",
             "linecolor": "#506784",
             "minorgridcolor": "#506784",
             "startlinecolor": "#A2B1C6"
            },
            "baxis": {
             "endlinecolor": "#A2B1C6",
             "gridcolor": "#506784",
             "linecolor": "#506784",
             "minorgridcolor": "#506784",
             "startlinecolor": "#A2B1C6"
            },
            "type": "carpet"
           }
          ],
          "choropleth": [
           {
            "colorbar": {
             "outlinewidth": 0,
             "ticks": ""
            },
            "type": "choropleth"
           }
          ],
          "contour": [
           {
            "colorbar": {
             "outlinewidth": 0,
             "ticks": ""
            },
            "colorscale": [
             [
              0,
              "#0d0887"
             ],
             [
              0.1111111111111111,
              "#46039f"
             ],
             [
              0.2222222222222222,
              "#7201a8"
             ],
             [
              0.3333333333333333,
              "#9c179e"
             ],
             [
              0.4444444444444444,
              "#bd3786"
             ],
             [
              0.5555555555555556,
              "#d8576b"
             ],
             [
              0.6666666666666666,
              "#ed7953"
             ],
             [
              0.7777777777777778,
              "#fb9f3a"
             ],
             [
              0.8888888888888888,
              "#fdca26"
             ],
             [
              1,
              "#f0f921"
             ]
            ],
            "type": "contour"
           }
          ],
          "contourcarpet": [
           {
            "colorbar": {
             "outlinewidth": 0,
             "ticks": ""
            },
            "type": "contourcarpet"
           }
          ],
          "heatmap": [
           {
            "colorbar": {
             "outlinewidth": 0,
             "ticks": ""
            },
            "colorscale": [
             [
              0,
              "#0d0887"
             ],
             [
              0.1111111111111111,
              "#46039f"
             ],
             [
              0.2222222222222222,
              "#7201a8"
             ],
             [
              0.3333333333333333,
              "#9c179e"
             ],
             [
              0.4444444444444444,
              "#bd3786"
             ],
             [
              0.5555555555555556,
              "#d8576b"
             ],
             [
              0.6666666666666666,
              "#ed7953"
             ],
             [
              0.7777777777777778,
              "#fb9f3a"
             ],
             [
              0.8888888888888888,
              "#fdca26"
             ],
             [
              1,
              "#f0f921"
             ]
            ],
            "type": "heatmap"
           }
          ],
          "heatmapgl": [
           {
            "colorbar": {
             "outlinewidth": 0,
             "ticks": ""
            },
            "colorscale": [
             [
              0,
              "#0d0887"
             ],
             [
              0.1111111111111111,
              "#46039f"
             ],
             [
              0.2222222222222222,
              "#7201a8"
             ],
             [
              0.3333333333333333,
              "#9c179e"
             ],
             [
              0.4444444444444444,
              "#bd3786"
             ],
             [
              0.5555555555555556,
              "#d8576b"
             ],
             [
              0.6666666666666666,
              "#ed7953"
             ],
             [
              0.7777777777777778,
              "#fb9f3a"
             ],
             [
              0.8888888888888888,
              "#fdca26"
             ],
             [
              1,
              "#f0f921"
             ]
            ],
            "type": "heatmapgl"
           }
          ],
          "histogram": [
           {
            "marker": {
             "pattern": {
              "fillmode": "overlay",
              "size": 10,
              "solidity": 0.2
             }
            },
            "type": "histogram"
           }
          ],
          "histogram2d": [
           {
            "colorbar": {
             "outlinewidth": 0,
             "ticks": ""
            },
            "colorscale": [
             [
              0,
              "#0d0887"
             ],
             [
              0.1111111111111111,
              "#46039f"
             ],
             [
              0.2222222222222222,
              "#7201a8"
             ],
             [
              0.3333333333333333,
              "#9c179e"
             ],
             [
              0.4444444444444444,
              "#bd3786"
             ],
             [
              0.5555555555555556,
              "#d8576b"
             ],
             [
              0.6666666666666666,
              "#ed7953"
             ],
             [
              0.7777777777777778,
              "#fb9f3a"
             ],
             [
              0.8888888888888888,
              "#fdca26"
             ],
             [
              1,
              "#f0f921"
             ]
            ],
            "type": "histogram2d"
           }
          ],
          "histogram2dcontour": [
           {
            "colorbar": {
             "outlinewidth": 0,
             "ticks": ""
            },
            "colorscale": [
             [
              0,
              "#0d0887"
             ],
             [
              0.1111111111111111,
              "#46039f"
             ],
             [
              0.2222222222222222,
              "#7201a8"
             ],
             [
              0.3333333333333333,
              "#9c179e"
             ],
             [
              0.4444444444444444,
              "#bd3786"
             ],
             [
              0.5555555555555556,
              "#d8576b"
             ],
             [
              0.6666666666666666,
              "#ed7953"
             ],
             [
              0.7777777777777778,
              "#fb9f3a"
             ],
             [
              0.8888888888888888,
              "#fdca26"
             ],
             [
              1,
              "#f0f921"
             ]
            ],
            "type": "histogram2dcontour"
           }
          ],
          "mesh3d": [
           {
            "colorbar": {
             "outlinewidth": 0,
             "ticks": ""
            },
            "type": "mesh3d"
           }
          ],
          "parcoords": [
           {
            "line": {
             "colorbar": {
              "outlinewidth": 0,
              "ticks": ""
             }
            },
            "type": "parcoords"
           }
          ],
          "pie": [
           {
            "automargin": true,
            "type": "pie"
           }
          ],
          "scatter": [
           {
            "marker": {
             "line": {
              "color": "#283442"
             }
            },
            "type": "scatter"
           }
          ],
          "scatter3d": [
           {
            "line": {
             "colorbar": {
              "outlinewidth": 0,
              "ticks": ""
             }
            },
            "marker": {
             "colorbar": {
              "outlinewidth": 0,
              "ticks": ""
             }
            },
            "type": "scatter3d"
           }
          ],
          "scattercarpet": [
           {
            "marker": {
             "colorbar": {
              "outlinewidth": 0,
              "ticks": ""
             }
            },
            "type": "scattercarpet"
           }
          ],
          "scattergeo": [
           {
            "marker": {
             "colorbar": {
              "outlinewidth": 0,
              "ticks": ""
             }
            },
            "type": "scattergeo"
           }
          ],
          "scattergl": [
           {
            "marker": {
             "line": {
              "color": "#283442"
             }
            },
            "type": "scattergl"
           }
          ],
          "scattermapbox": [
           {
            "marker": {
             "colorbar": {
              "outlinewidth": 0,
              "ticks": ""
             }
            },
            "type": "scattermapbox"
           }
          ],
          "scatterpolar": [
           {
            "marker": {
             "colorbar": {
              "outlinewidth": 0,
              "ticks": ""
             }
            },
            "type": "scatterpolar"
           }
          ],
          "scatterpolargl": [
           {
            "marker": {
             "colorbar": {
              "outlinewidth": 0,
              "ticks": ""
             }
            },
            "type": "scatterpolargl"
           }
          ],
          "scatterternary": [
           {
            "marker": {
             "colorbar": {
              "outlinewidth": 0,
              "ticks": ""
             }
            },
            "type": "scatterternary"
           }
          ],
          "surface": [
           {
            "colorbar": {
             "outlinewidth": 0,
             "ticks": ""
            },
            "colorscale": [
             [
              0,
              "#0d0887"
             ],
             [
              0.1111111111111111,
              "#46039f"
             ],
             [
              0.2222222222222222,
              "#7201a8"
             ],
             [
              0.3333333333333333,
              "#9c179e"
             ],
             [
              0.4444444444444444,
              "#bd3786"
             ],
             [
              0.5555555555555556,
              "#d8576b"
             ],
             [
              0.6666666666666666,
              "#ed7953"
             ],
             [
              0.7777777777777778,
              "#fb9f3a"
             ],
             [
              0.8888888888888888,
              "#fdca26"
             ],
             [
              1,
              "#f0f921"
             ]
            ],
            "type": "surface"
           }
          ],
          "table": [
           {
            "cells": {
             "fill": {
              "color": "#506784"
             },
             "line": {
              "color": "rgb(17,17,17)"
             }
            },
            "header": {
             "fill": {
              "color": "#2a3f5f"
             },
             "line": {
              "color": "rgb(17,17,17)"
             }
            },
            "type": "table"
           }
          ]
         },
         "layout": {
          "annotationdefaults": {
           "arrowcolor": "#f2f5fa",
           "arrowhead": 0,
           "arrowwidth": 1
          },
          "autotypenumbers": "strict",
          "coloraxis": {
           "colorbar": {
            "outlinewidth": 0,
            "ticks": ""
           }
          },
          "colorscale": {
           "diverging": [
            [
             0,
             "#8e0152"
            ],
            [
             0.1,
             "#c51b7d"
            ],
            [
             0.2,
             "#de77ae"
            ],
            [
             0.3,
             "#f1b6da"
            ],
            [
             0.4,
             "#fde0ef"
            ],
            [
             0.5,
             "#f7f7f7"
            ],
            [
             0.6,
             "#e6f5d0"
            ],
            [
             0.7,
             "#b8e186"
            ],
            [
             0.8,
             "#7fbc41"
            ],
            [
             0.9,
             "#4d9221"
            ],
            [
             1,
             "#276419"
            ]
           ],
           "sequential": [
            [
             0,
             "#0d0887"
            ],
            [
             0.1111111111111111,
             "#46039f"
            ],
            [
             0.2222222222222222,
             "#7201a8"
            ],
            [
             0.3333333333333333,
             "#9c179e"
            ],
            [
             0.4444444444444444,
             "#bd3786"
            ],
            [
             0.5555555555555556,
             "#d8576b"
            ],
            [
             0.6666666666666666,
             "#ed7953"
            ],
            [
             0.7777777777777778,
             "#fb9f3a"
            ],
            [
             0.8888888888888888,
             "#fdca26"
            ],
            [
             1,
             "#f0f921"
            ]
           ],
           "sequentialminus": [
            [
             0,
             "#0d0887"
            ],
            [
             0.1111111111111111,
             "#46039f"
            ],
            [
             0.2222222222222222,
             "#7201a8"
            ],
            [
             0.3333333333333333,
             "#9c179e"
            ],
            [
             0.4444444444444444,
             "#bd3786"
            ],
            [
             0.5555555555555556,
             "#d8576b"
            ],
            [
             0.6666666666666666,
             "#ed7953"
            ],
            [
             0.7777777777777778,
             "#fb9f3a"
            ],
            [
             0.8888888888888888,
             "#fdca26"
            ],
            [
             1,
             "#f0f921"
            ]
           ]
          },
          "colorway": [
           "#636efa",
           "#EF553B",
           "#00cc96",
           "#ab63fa",
           "#FFA15A",
           "#19d3f3",
           "#FF6692",
           "#B6E880",
           "#FF97FF",
           "#FECB52"
          ],
          "font": {
           "color": "#f2f5fa"
          },
          "geo": {
           "bgcolor": "rgb(17,17,17)",
           "lakecolor": "rgb(17,17,17)",
           "landcolor": "rgb(17,17,17)",
           "showlakes": true,
           "showland": true,
           "subunitcolor": "#506784"
          },
          "hoverlabel": {
           "align": "left"
          },
          "hovermode": "closest",
          "mapbox": {
           "style": "dark"
          },
          "paper_bgcolor": "rgb(17,17,17)",
          "plot_bgcolor": "rgb(17,17,17)",
          "polar": {
           "angularaxis": {
            "gridcolor": "#506784",
            "linecolor": "#506784",
            "ticks": ""
           },
           "bgcolor": "rgb(17,17,17)",
           "radialaxis": {
            "gridcolor": "#506784",
            "linecolor": "#506784",
            "ticks": ""
           }
          },
          "scene": {
           "xaxis": {
            "backgroundcolor": "rgb(17,17,17)",
            "gridcolor": "#506784",
            "gridwidth": 2,
            "linecolor": "#506784",
            "showbackground": true,
            "ticks": "",
            "zerolinecolor": "#C8D4E3"
           },
           "yaxis": {
            "backgroundcolor": "rgb(17,17,17)",
            "gridcolor": "#506784",
            "gridwidth": 2,
            "linecolor": "#506784",
            "showbackground": true,
            "ticks": "",
            "zerolinecolor": "#C8D4E3"
           },
           "zaxis": {
            "backgroundcolor": "rgb(17,17,17)",
            "gridcolor": "#506784",
            "gridwidth": 2,
            "linecolor": "#506784",
            "showbackground": true,
            "ticks": "",
            "zerolinecolor": "#C8D4E3"
           }
          },
          "shapedefaults": {
           "line": {
            "color": "#f2f5fa"
           }
          },
          "sliderdefaults": {
           "bgcolor": "#C8D4E3",
           "bordercolor": "rgb(17,17,17)",
           "borderwidth": 1,
           "tickwidth": 0
          },
          "ternary": {
           "aaxis": {
            "gridcolor": "#506784",
            "linecolor": "#506784",
            "ticks": ""
           },
           "baxis": {
            "gridcolor": "#506784",
            "linecolor": "#506784",
            "ticks": ""
           },
           "bgcolor": "rgb(17,17,17)",
           "caxis": {
            "gridcolor": "#506784",
            "linecolor": "#506784",
            "ticks": ""
           }
          },
          "title": {
           "x": 0.05
          },
          "updatemenudefaults": {
           "bgcolor": "#506784",
           "borderwidth": 0
          },
          "xaxis": {
           "automargin": true,
           "gridcolor": "#283442",
           "linecolor": "#506784",
           "ticks": "",
           "title": {
            "standoff": 15
           },
           "zerolinecolor": "#283442",
           "zerolinewidth": 2
          },
          "yaxis": {
           "automargin": true,
           "gridcolor": "#283442",
           "linecolor": "#506784",
           "ticks": "",
           "title": {
            "standoff": 15
           },
           "zerolinecolor": "#283442",
           "zerolinewidth": 2
          }
         }
        }
       }
      }
     },
     "metadata": {},
     "output_type": "display_data"
    }
   ],
   "source": [
    "px.pie(df, values='views', names='doctorid')"
   ]
  },
  {
   "attachments": {},
   "cell_type": "markdown",
   "metadata": {},
   "source": [
    "### Tree Maps"
   ]
  },
  {
   "cell_type": "code",
   "execution_count": 88,
   "metadata": {},
   "outputs": [
    {
     "name": "stderr",
     "output_type": "stream",
     "text": [
      "c:\\Users\\Admin\\anaconda3\\lib\\site-packages\\plotly\\express\\_core.py:1637: FutureWarning:\n",
      "\n",
      "The frame.append method is deprecated and will be removed from pandas in a future version. Use pandas.concat instead.\n",
      "\n",
      "c:\\Users\\Admin\\anaconda3\\lib\\site-packages\\plotly\\express\\_core.py:1637: FutureWarning:\n",
      "\n",
      "The frame.append method is deprecated and will be removed from pandas in a future version. Use pandas.concat instead.\n",
      "\n",
      "c:\\Users\\Admin\\anaconda3\\lib\\site-packages\\plotly\\express\\_core.py:1637: FutureWarning:\n",
      "\n",
      "The frame.append method is deprecated and will be removed from pandas in a future version. Use pandas.concat instead.\n",
      "\n",
      "c:\\Users\\Admin\\anaconda3\\lib\\site-packages\\plotly\\express\\_core.py:1637: FutureWarning:\n",
      "\n",
      "The frame.append method is deprecated and will be removed from pandas in a future version. Use pandas.concat instead.\n",
      "\n",
      "c:\\Users\\Admin\\anaconda3\\lib\\site-packages\\plotly\\express\\_core.py:1637: FutureWarning:\n",
      "\n",
      "The frame.append method is deprecated and will be removed from pandas in a future version. Use pandas.concat instead.\n",
      "\n"
     ]
    },
    {
     "data": {
      "application/vnd.plotly.v1+json": {
       "config": {
        "plotlyServerURL": "https://plot.ly"
       },
       "data": [
        {
         "branchvalues": "total",
         "customdata": [
          [
           7.5
          ],
          [
           8.6
          ],
          [
           9.1
          ],
          [
           7.5
          ],
          [
           7
          ],
          [
           8.2
          ],
          [
           5.3
          ],
          [
           8.5
          ],
          [
           8.7
          ],
          [
           8.7
          ],
          [
           8.1
          ],
          [
           9.8
          ],
          [
           7.2
          ],
          [
           7.700000000000001
          ],
          [
           7.5
          ],
          [
           7.3
          ],
          [
           6.8
          ],
          [
           8.7
          ],
          [
           7
          ],
          [
           8.7
          ],
          [
           8.9
          ],
          [
           7.9
          ],
          [
           8
          ],
          [
           6.6
          ],
          [
           7.5
          ],
          [
           9.3
          ],
          [
           7.1
          ],
          [
           7
          ],
          [
           8.5
          ],
          [
           8.6
          ],
          [
           9.2
          ],
          [
           8.4
          ],
          [
           6.1
          ],
          [
           8.5
          ],
          [
           8.6
          ],
          [
           9.5
          ],
          [
           8.1
          ],
          [
           9.6
          ],
          [
           8.7
          ],
          [
           7.8
          ],
          [
           9
          ],
          [
           6.1
          ],
          [
           7.8
          ],
          [
           6.400000000000001
          ],
          [
           7.5
          ],
          [
           9.1
          ],
          [
           6.400000000000001
          ],
          [
           7
          ],
          [
           7.5
          ],
          [
           8.4
          ],
          [
           8.1
          ],
          [
           8.9
          ],
          [
           6.2
          ],
          [
           9
          ],
          [
           8.5
          ],
          [
           7.5
          ],
          [
           7.1
          ],
          [
           7.4
          ],
          [
           8.1
          ],
          [
           7.8
          ],
          [
           8.1
          ],
          [
           6
          ],
          [
           7.8
          ],
          [
           7.1
          ],
          [
           7.1
          ],
          [
           7.6000000000000005
          ],
          [
           8.4
          ],
          [
           9.4
          ],
          [
           6
          ],
          [
           7.2
          ],
          [
           8
          ],
          [
           7.9
          ],
          [
           7.5
          ],
          [
           9
          ],
          [
           5.5
          ],
          [
           7.6000000000000005
          ],
          [
           8
          ],
          [
           9.2
          ],
          [
           7.4
          ],
          [
           8.2
          ],
          [
           7.4
          ],
          [
           9.1
          ],
          [
           9
          ],
          [
           7.700000000000001
          ],
          [
           9
          ],
          [
           7.3
          ],
          [
           7
          ],
          [
           8.8
          ],
          [
           9.2
          ],
          [
           7.6000000000000005
          ],
          [
           8.1
          ],
          [
           6.2
          ],
          [
           7.700000000000001
          ],
          [
           8.5
          ],
          [
           9.3
          ],
          [
           8.1
          ],
          [
           7.3
          ],
          [
           8.6
          ],
          [
           6.9
          ],
          [
           8.9
          ],
          [
           8.7
          ],
          [
           6.7
          ],
          [
           7.2
          ],
          [
           8.3
          ],
          [
           7.2
          ],
          [
           8.5
          ],
          [
           9.1
          ],
          [
           9.1
          ],
          [
           9.1
          ],
          [
           7.9
          ],
          [
           7.6000000000000005
          ],
          [
           7.6000000000000005
          ],
          [
           7.700000000000001
          ],
          [
           7.3
          ],
          [
           7.5
          ],
          [
           7.4
          ],
          [
           7.6000000000000005
          ],
          [
           8.8
          ],
          [
           7.8
          ],
          [
           8.5
          ],
          [
           7.5
          ],
          [
           8.7
          ],
          [
           9.1
          ],
          [
           8.7
          ],
          [
           5.2
          ],
          [
           7.8
          ],
          [
           7.6000000000000005
          ],
          [
           7.1
          ],
          [
           8.6
          ],
          [
           8.5
          ],
          [
           5.9
          ],
          [
           7.1
          ],
          [
           7.6000000000000005
          ],
          [
           7.9
          ],
          [
           8.6
          ],
          [
           7.3
          ],
          [
           8
          ],
          [
           7.9
          ],
          [
           8.9
          ],
          [
           8.3
          ],
          [
           8.8
          ],
          [
           6.8
          ],
          [
           9.3
          ],
          [
           7.700000000000001
          ],
          [
           9.2
          ],
          [
           7.1
          ],
          [
           8.120287081339713
          ],
          [
           8.083677130044844
          ],
          [
           8.21056338028169
          ],
          [
           8.439300937766411
          ],
          [
           8.273333333333333
          ],
          [
           8.223292469352016
          ],
          [
           7.914915254237288
          ],
          [
           7.90234291799787
          ],
          [
           8.28669165885661
          ],
          [
           7.8466403162055345
          ],
          [
           6.21757754800591
          ],
          [
           8.120287081339713
          ],
          [
           8.247605140186915
          ],
          [
           8.131591378801302
          ],
          [
           8.019549370444002
          ],
          [
           6.21757754800591
          ],
          [
           8.120287081339713
          ],
          [
           8.247605140186915
          ],
          [
           8.131591378801302
          ],
          [
           8.019549370444002
          ],
          [
           6.21757754800591
          ],
          [
           8.023504458488445
          ]
         ],
         "domain": {
          "x": [
           0,
           1
          ],
          "y": [
           0,
           1
          ]
         },
         "hovertemplate": "labels=%{label}<br>rating_sum=%{value}<br>parent=%{parent}<br>id=%{id}<br>rating=%{color}<extra></extra>",
         "ids": [
          "All Doctors/10/All Seasons/3/42",
          "All Doctors/11/All Seasons/6/A Christmas Carol",
          "All Doctors/11/All Seasons/6/A Good Man Goes to War",
          "All Doctors/11/All Seasons/7/A Town Called Mercy",
          "All Doctors/9/All Seasons/1/Aliens of London",
          "All Doctors/11/All Seasons/5/Amy's Choice",
          "All Doctors/13/All Seasons/11/Arachnids in the UK",
          "All Doctors/10/All Seasons/2/Army of Ghosts",
          "All Doctors/11/All Seasons/7/Asylum of the Daleks",
          "All Doctors/9/All Seasons/1/Bad Wolf",
          "All Doctors/12/All Seasons/9/Before The Flood",
          "All Doctors/10/All Seasons/3/Blink",
          "All Doctors/9/All Seasons/1/Boom Town",
          "All Doctors/11/All Seasons/6/Closing Time",
          "All Doctors/11/All Seasons/5/Cold Blood",
          "All Doctors/11/All Seasons/7/Cold War",
          "All Doctors/11/All Seasons/6/Curse of the Black Spot",
          "All Doctors/9/All Seasons/1/Dalek",
          "All Doctors/10/All Seasons/3/Daleks in Manhattan",
          "All Doctors/12/All Seasons/8/Dark Water",
          "All Doctors/11/All Seasons/6/Day of the Moon",
          "All Doctors/12/All Seasons/8/Death in Heaven",
          "All Doctors/12/All Seasons/8/Deep Breath",
          "All Doctors/13/All Seasons/11/Demons of the Punjab",
          "All Doctors/11/All Seasons/7/Dinosaurs on a Spaceship",
          "All Doctors/10/All Seasons/2/Doomsday",
          "All Doctors/12/All Seasons/10/Empress of Mars",
          "All Doctors/10/All Seasons/3/Evolution of the Daleks",
          "All Doctors/12/All Seasons/10/Extremis",
          "All Doctors/12/All Seasons/9/Face The Raven",
          "All Doctors/10/All Seasons/3/Family of Blood",
          "All Doctors/9/All Seasons/1/Father's Day",
          "All Doctors/10/All Seasons/2/Fear Her",
          "All Doctors/12/All Seasons/8/Flatline",
          "All Doctors/11/All Seasons/5/Flesh and Stone",
          "All Doctors/10/All Seasons/4/Forest of the Dead",
          "All Doctors/10/All Seasons/3/Gridlock",
          "All Doctors/12/All Seasons/9/Heaven Sent",
          "All Doctors/12/All Seasons/9/Hell Bent",
          "All Doctors/11/All Seasons/7/Hide",
          "All Doctors/10/All Seasons/3/Human Nature",
          "All Doctors/12/All Seasons/8/In the Forest of the Night",
          "All Doctors/12/All Seasons/8/Into the Dalek",
          "All Doctors/13/All Seasons/11/It Takes You Away",
          "All Doctors/11/All Seasons/7/Journey to the Centre of the TARDIS",
          "All Doctors/10/All Seasons/4/Journey's End",
          "All Doctors/13/All Seasons/11/Kerblam!",
          "All Doctors/12/All Seasons/8/Kill the Moon",
          "All Doctors/12/All Seasons/10/Knock Knock",
          "All Doctors/10/All Seasons/3/Last of the Time Lords",
          "All Doctors/11/All Seasons/6/Let's Kill Hitler",
          "All Doctors/12/All Seasons/8/Listen",
          "All Doctors/10/All Seasons/2/Love and Monsters",
          "All Doctors/10/All Seasons/4/Midnight",
          "All Doctors/12/All Seasons/8/Mummy on the Orient Express",
          "All Doctors/10/All Seasons/2/New Earth",
          "All Doctors/11/All Seasons/6/Night Terrors",
          "All Doctors/11/All Seasons/7/Nightmare in Silver",
          "All Doctors/12/All Seasons/10/Oxygen",
          "All Doctors/10/All Seasons/4/Partners in Crime",
          "All Doctors/10/All Seasons/4/Planet of the Ood",
          "All Doctors/13/All Seasons/11/Resolution",
          "All Doctors/10/All Seasons/2/Rise of the Cybermen",
          "All Doctors/12/All Seasons/8/Robot of Sherwood",
          "All Doctors/13/All Seasons/11/Rosa",
          "All Doctors/9/All Seasons/1/Rose",
          "All Doctors/10/All Seasons/2/School Reunion",
          "All Doctors/10/All Seasons/4/Silence in the Library",
          "All Doctors/12/All Seasons/9/Sleep No More",
          "All Doctors/12/All Seasons/10/Smile",
          "All Doctors/10/All Seasons/3/Smith and Jones",
          "All Doctors/10/All Seasons/2/The Age of Steel",
          "All Doctors/11/All Seasons/6/The Almost People",
          "All Doctors/11/All Seasons/7/The Angels Take Manhattan",
          "All Doctors/13/All Seasons/11/The Battle of Ranskoor Av Kolos",
          "All Doctors/11/All Seasons/5/The Beast Below",
          "All Doctors/11/All Seasons/7/The Bells of Saint John",
          "All Doctors/11/All Seasons/5/The Big Bang",
          "All Doctors/12/All Seasons/8/The Caretaker",
          "All Doctors/10/All Seasons/2/The Christmas Invasion",
          "All Doctors/11/All Seasons/7/The Crimson Horror",
          "All Doctors/9/All Seasons/1/The Doctor Dances",
          "All Doctors/12/All Seasons/10/The Doctor Falls",
          "All Doctors/10/All Seasons/4/The Doctor's Daughter",
          "All Doctors/11/All Seasons/6/The Doctor's Wife",
          "All Doctors/11/All Seasons/7/The Doctor, the Widow, and the Wardrobe",
          "All Doctors/12/All Seasons/10/The Eaters of Light",
          "All Doctors/11/All Seasons/5/The Eleventh Hour",
          "All Doctors/9/All Seasons/1/The Empty Child",
          "All Doctors/9/All Seasons/1/The End of the World",
          "All Doctors/10/All Seasons/4/The Fires of Pompeii",
          "All Doctors/13/All Seasons/11/The Ghost Monument",
          "All Doctors/12/All Seasons/9/The Girl Who Died",
          "All Doctors/11/All Seasons/6/The Girl Who Waited",
          "All Doctors/10/All Seasons/2/The Girl in the Fireplace",
          "All Doctors/11/All Seasons/6/The God Complex",
          "All Doctors/11/All Seasons/5/The Hungry Earth",
          "All Doctors/12/All Seasons/9/The Husbands of River Song",
          "All Doctors/10/All Seasons/2/The Idiot's Lantern",
          "All Doctors/11/All Seasons/6/The Impossible Astronaut",
          "All Doctors/10/All Seasons/2/The Impossible Planet",
          "All Doctors/10/All Seasons/3/The Lazarus Experiment",
          "All Doctors/12/All Seasons/10/The Lie of the Land",
          "All Doctors/11/All Seasons/5/The Lodger",
          "All Doctors/9/All Seasons/1/The Long Game",
          "All Doctors/12/All Seasons/9/The Magician's Apprentice",
          "All Doctors/11/All Seasons/7/The Name of the Doctor",
          "All Doctors/11/All Seasons/5/The Pandorica Opens",
          "All Doctors/9/All Seasons/1/The Parting of the Ways",
          "All Doctors/12/All Seasons/10/The Pilot",
          "All Doctors/10/All Seasons/4/The Poison Sky",
          "All Doctors/11/All Seasons/7/The Power of Three",
          "All Doctors/12/All Seasons/10/The Pyramid at the End of the World",
          "All Doctors/11/All Seasons/6/The Rebel Flesh",
          "All Doctors/12/All Seasons/10/The Return of Doctor Mysterio",
          "All Doctors/11/All Seasons/7/The Rings of Akhaten",
          "All Doctors/10/All Seasons/3/The Runaway Bride",
          "All Doctors/10/All Seasons/2/The Satan Pit",
          "All Doctors/10/All Seasons/3/The Shakespeare Code",
          "All Doctors/11/All Seasons/7/The Snowmen",
          "All Doctors/10/All Seasons/4/The Sontaran Stratagem",
          "All Doctors/10/All Seasons/3/The Sound of Drums",
          "All Doctors/10/All Seasons/4/The Stolen Earth",
          "All Doctors/11/All Seasons/5/The Time of Angels",
          "All Doctors/13/All Seasons/11/The Tsuranga Conundrum",
          "All Doctors/10/All Seasons/4/The Unicorn and the Wasp",
          "All Doctors/9/All Seasons/1/The Unquiet Dead",
          "All Doctors/11/All Seasons/5/The Vampires of Venice",
          "All Doctors/11/All Seasons/6/The Wedding of River Song",
          "All Doctors/12/All Seasons/9/The Witch's Familiar",
          "All Doctors/13/All Seasons/11/The Witchfinders",
          "All Doctors/13/All Seasons/11/The Woman Who Fell to Earth",
          "All Doctors/12/All Seasons/9/The Woman Who Lived",
          "All Doctors/12/All Seasons/9/The Zygon Invasion",
          "All Doctors/12/All Seasons/9/The Zygon Inversion",
          "All Doctors/12/All Seasons/10/Thin Ice",
          "All Doctors/12/All Seasons/8/Time Heist",
          "All Doctors/10/All Seasons/2/Tooth and Claw",
          "All Doctors/10/All Seasons/4/Turn Left",
          "All Doctors/12/All Seasons/9/Under the Lake",
          "All Doctors/10/All Seasons/3/Utopia",
          "All Doctors/11/All Seasons/5/Victory of the Daleks",
          "All Doctors/11/All Seasons/5/Vincent and the Doctor",
          "All Doctors/10/All Seasons/4/Voyage of the Damned",
          "All Doctors/12/All Seasons/10/World Enough and Time",
          "All Doctors/9/All Seasons/1/World War Three",
          "All Doctors/9/All Seasons/1",
          "All Doctors/10/All Seasons/2",
          "All Doctors/10/All Seasons/3",
          "All Doctors/10/All Seasons/4",
          "All Doctors/11/All Seasons/5",
          "All Doctors/11/All Seasons/6",
          "All Doctors/11/All Seasons/7",
          "All Doctors/12/All Seasons/8",
          "All Doctors/12/All Seasons/9",
          "All Doctors/12/All Seasons/10",
          "All Doctors/13/All Seasons/11",
          "All Doctors/9/All Seasons",
          "All Doctors/10/All Seasons",
          "All Doctors/11/All Seasons",
          "All Doctors/12/All Seasons",
          "All Doctors/13/All Seasons",
          "All Doctors/9",
          "All Doctors/10",
          "All Doctors/11",
          "All Doctors/12",
          "All Doctors/13",
          "All Doctors"
         ],
         "labels": [
          "42",
          "A Christmas Carol",
          "A Good Man Goes to War",
          "A Town Called Mercy",
          "Aliens of London",
          "Amy's Choice",
          "Arachnids in the UK",
          "Army of Ghosts",
          "Asylum of the Daleks",
          "Bad Wolf",
          "Before The Flood",
          "Blink",
          "Boom Town",
          "Closing Time",
          "Cold Blood",
          "Cold War",
          "Curse of the Black Spot",
          "Dalek",
          "Daleks in Manhattan",
          "Dark Water",
          "Day of the Moon",
          "Death in Heaven",
          "Deep Breath",
          "Demons of the Punjab",
          "Dinosaurs on a Spaceship",
          "Doomsday",
          "Empress of Mars",
          "Evolution of the Daleks",
          "Extremis",
          "Face The Raven",
          "Family of Blood",
          "Father's Day",
          "Fear Her",
          "Flatline",
          "Flesh and Stone",
          "Forest of the Dead",
          "Gridlock",
          "Heaven Sent",
          "Hell Bent",
          "Hide",
          "Human Nature",
          "In the Forest of the Night",
          "Into the Dalek",
          "It Takes You Away",
          "Journey to the Centre of the TARDIS",
          "Journey's End",
          "Kerblam!",
          "Kill the Moon",
          "Knock Knock",
          "Last of the Time Lords",
          "Let's Kill Hitler",
          "Listen",
          "Love and Monsters",
          "Midnight",
          "Mummy on the Orient Express",
          "New Earth",
          "Night Terrors",
          "Nightmare in Silver",
          "Oxygen",
          "Partners in Crime",
          "Planet of the Ood",
          "Resolution",
          "Rise of the Cybermen",
          "Robot of Sherwood",
          "Rosa",
          "Rose",
          "School Reunion",
          "Silence in the Library",
          "Sleep No More",
          "Smile",
          "Smith and Jones",
          "The Age of Steel",
          "The Almost People",
          "The Angels Take Manhattan",
          "The Battle of Ranskoor Av Kolos",
          "The Beast Below",
          "The Bells of Saint John",
          "The Big Bang",
          "The Caretaker",
          "The Christmas Invasion",
          "The Crimson Horror",
          "The Doctor Dances",
          "The Doctor Falls",
          "The Doctor's Daughter",
          "The Doctor's Wife",
          "The Doctor, the Widow, and the Wardrobe",
          "The Eaters of Light",
          "The Eleventh Hour",
          "The Empty Child",
          "The End of the World",
          "The Fires of Pompeii",
          "The Ghost Monument",
          "The Girl Who Died",
          "The Girl Who Waited",
          "The Girl in the Fireplace",
          "The God Complex",
          "The Hungry Earth",
          "The Husbands of River Song",
          "The Idiot's Lantern",
          "The Impossible Astronaut",
          "The Impossible Planet",
          "The Lazarus Experiment",
          "The Lie of the Land",
          "The Lodger",
          "The Long Game",
          "The Magician's Apprentice",
          "The Name of the Doctor",
          "The Pandorica Opens",
          "The Parting of the Ways",
          "The Pilot",
          "The Poison Sky",
          "The Power of Three",
          "The Pyramid at the End of the World",
          "The Rebel Flesh",
          "The Return of Doctor Mysterio",
          "The Rings of Akhaten",
          "The Runaway Bride",
          "The Satan Pit",
          "The Shakespeare Code",
          "The Snowmen",
          "The Sontaran Stratagem",
          "The Sound of Drums",
          "The Stolen Earth",
          "The Time of Angels",
          "The Tsuranga Conundrum",
          "The Unicorn and the Wasp",
          "The Unquiet Dead",
          "The Vampires of Venice",
          "The Wedding of River Song",
          "The Witch's Familiar",
          "The Witchfinders",
          "The Woman Who Fell to Earth",
          "The Woman Who Lived",
          "The Zygon Invasion",
          "The Zygon Inversion",
          "Thin Ice",
          "Time Heist",
          "Tooth and Claw",
          "Turn Left",
          "Under the Lake",
          "Utopia",
          "Victory of the Daleks",
          "Vincent and the Doctor",
          "Voyage of the Damned",
          "World Enough and Time",
          "World War Three",
          "1",
          "2",
          "3",
          "4",
          "5",
          "6",
          "7",
          "8",
          "9",
          "10",
          "11",
          "All Seasons",
          "All Seasons",
          "All Seasons",
          "All Seasons",
          "All Seasons",
          "9",
          "10",
          "11",
          "12",
          "13",
          "All Doctors"
         ],
         "marker": {
          "coloraxis": "coloraxis",
          "colors": [
           7.5,
           8.6,
           9.1,
           7.5,
           7,
           8.2,
           5.3,
           8.5,
           8.7,
           8.7,
           8.1,
           9.8,
           7.2,
           7.700000000000001,
           7.5,
           7.3,
           6.8,
           8.7,
           7,
           8.7,
           8.9,
           7.9,
           8,
           6.6,
           7.5,
           9.3,
           7.1,
           7,
           8.5,
           8.6,
           9.2,
           8.4,
           6.1,
           8.5,
           8.6,
           9.5,
           8.1,
           9.6,
           8.7,
           7.8,
           9,
           6.1,
           7.8,
           6.400000000000001,
           7.5,
           9.1,
           6.400000000000001,
           7,
           7.5,
           8.4,
           8.1,
           8.9,
           6.2,
           9,
           8.5,
           7.5,
           7.1,
           7.4,
           8.1,
           7.8,
           8.1,
           6,
           7.8,
           7.1,
           7.1,
           7.6000000000000005,
           8.4,
           9.4,
           6,
           7.2,
           8,
           7.9,
           7.5,
           9,
           5.5,
           7.6000000000000005,
           8,
           9.2,
           7.4,
           8.2,
           7.4,
           9.1,
           9,
           7.700000000000001,
           9,
           7.3,
           7,
           8.8,
           9.2,
           7.6000000000000005,
           8.1,
           6.2,
           7.700000000000001,
           8.5,
           9.3,
           8.1,
           7.3,
           8.6,
           6.9,
           8.9,
           8.7,
           6.7,
           7.2,
           8.3,
           7.2,
           8.5,
           9.1,
           9.1,
           9.1,
           7.9,
           7.6000000000000005,
           7.6000000000000005,
           7.700000000000001,
           7.3,
           7.5,
           7.4,
           7.6000000000000005,
           8.8,
           7.8,
           8.5,
           7.5,
           8.7,
           9.1,
           8.7,
           5.2,
           7.8,
           7.6000000000000005,
           7.1,
           8.6,
           8.5,
           5.9,
           7.1,
           7.6000000000000005,
           7.9,
           8.6,
           7.3,
           8,
           7.9,
           8.9,
           8.3,
           8.8,
           6.8,
           9.3,
           7.700000000000001,
           9.2,
           7.1,
           8.120287081339713,
           8.083677130044844,
           8.21056338028169,
           8.439300937766411,
           8.273333333333333,
           8.223292469352016,
           7.914915254237288,
           7.90234291799787,
           8.28669165885661,
           7.8466403162055345,
           6.21757754800591,
           8.120287081339713,
           8.247605140186915,
           8.131591378801302,
           8.019549370444002,
           6.21757754800591,
           8.120287081339713,
           8.247605140186915,
           8.131591378801302,
           8.019549370444002,
           6.21757754800591,
           8.023504458488445
          ]
         },
         "name": "",
         "parents": [
          "All Doctors/10/All Seasons/3",
          "All Doctors/11/All Seasons/6",
          "All Doctors/11/All Seasons/6",
          "All Doctors/11/All Seasons/7",
          "All Doctors/9/All Seasons/1",
          "All Doctors/11/All Seasons/5",
          "All Doctors/13/All Seasons/11",
          "All Doctors/10/All Seasons/2",
          "All Doctors/11/All Seasons/7",
          "All Doctors/9/All Seasons/1",
          "All Doctors/12/All Seasons/9",
          "All Doctors/10/All Seasons/3",
          "All Doctors/9/All Seasons/1",
          "All Doctors/11/All Seasons/6",
          "All Doctors/11/All Seasons/5",
          "All Doctors/11/All Seasons/7",
          "All Doctors/11/All Seasons/6",
          "All Doctors/9/All Seasons/1",
          "All Doctors/10/All Seasons/3",
          "All Doctors/12/All Seasons/8",
          "All Doctors/11/All Seasons/6",
          "All Doctors/12/All Seasons/8",
          "All Doctors/12/All Seasons/8",
          "All Doctors/13/All Seasons/11",
          "All Doctors/11/All Seasons/7",
          "All Doctors/10/All Seasons/2",
          "All Doctors/12/All Seasons/10",
          "All Doctors/10/All Seasons/3",
          "All Doctors/12/All Seasons/10",
          "All Doctors/12/All Seasons/9",
          "All Doctors/10/All Seasons/3",
          "All Doctors/9/All Seasons/1",
          "All Doctors/10/All Seasons/2",
          "All Doctors/12/All Seasons/8",
          "All Doctors/11/All Seasons/5",
          "All Doctors/10/All Seasons/4",
          "All Doctors/10/All Seasons/3",
          "All Doctors/12/All Seasons/9",
          "All Doctors/12/All Seasons/9",
          "All Doctors/11/All Seasons/7",
          "All Doctors/10/All Seasons/3",
          "All Doctors/12/All Seasons/8",
          "All Doctors/12/All Seasons/8",
          "All Doctors/13/All Seasons/11",
          "All Doctors/11/All Seasons/7",
          "All Doctors/10/All Seasons/4",
          "All Doctors/13/All Seasons/11",
          "All Doctors/12/All Seasons/8",
          "All Doctors/12/All Seasons/10",
          "All Doctors/10/All Seasons/3",
          "All Doctors/11/All Seasons/6",
          "All Doctors/12/All Seasons/8",
          "All Doctors/10/All Seasons/2",
          "All Doctors/10/All Seasons/4",
          "All Doctors/12/All Seasons/8",
          "All Doctors/10/All Seasons/2",
          "All Doctors/11/All Seasons/6",
          "All Doctors/11/All Seasons/7",
          "All Doctors/12/All Seasons/10",
          "All Doctors/10/All Seasons/4",
          "All Doctors/10/All Seasons/4",
          "All Doctors/13/All Seasons/11",
          "All Doctors/10/All Seasons/2",
          "All Doctors/12/All Seasons/8",
          "All Doctors/13/All Seasons/11",
          "All Doctors/9/All Seasons/1",
          "All Doctors/10/All Seasons/2",
          "All Doctors/10/All Seasons/4",
          "All Doctors/12/All Seasons/9",
          "All Doctors/12/All Seasons/10",
          "All Doctors/10/All Seasons/3",
          "All Doctors/10/All Seasons/2",
          "All Doctors/11/All Seasons/6",
          "All Doctors/11/All Seasons/7",
          "All Doctors/13/All Seasons/11",
          "All Doctors/11/All Seasons/5",
          "All Doctors/11/All Seasons/7",
          "All Doctors/11/All Seasons/5",
          "All Doctors/12/All Seasons/8",
          "All Doctors/10/All Seasons/2",
          "All Doctors/11/All Seasons/7",
          "All Doctors/9/All Seasons/1",
          "All Doctors/12/All Seasons/10",
          "All Doctors/10/All Seasons/4",
          "All Doctors/11/All Seasons/6",
          "All Doctors/11/All Seasons/7",
          "All Doctors/12/All Seasons/10",
          "All Doctors/11/All Seasons/5",
          "All Doctors/9/All Seasons/1",
          "All Doctors/9/All Seasons/1",
          "All Doctors/10/All Seasons/4",
          "All Doctors/13/All Seasons/11",
          "All Doctors/12/All Seasons/9",
          "All Doctors/11/All Seasons/6",
          "All Doctors/10/All Seasons/2",
          "All Doctors/11/All Seasons/6",
          "All Doctors/11/All Seasons/5",
          "All Doctors/12/All Seasons/9",
          "All Doctors/10/All Seasons/2",
          "All Doctors/11/All Seasons/6",
          "All Doctors/10/All Seasons/2",
          "All Doctors/10/All Seasons/3",
          "All Doctors/12/All Seasons/10",
          "All Doctors/11/All Seasons/5",
          "All Doctors/9/All Seasons/1",
          "All Doctors/12/All Seasons/9",
          "All Doctors/11/All Seasons/7",
          "All Doctors/11/All Seasons/5",
          "All Doctors/9/All Seasons/1",
          "All Doctors/12/All Seasons/10",
          "All Doctors/10/All Seasons/4",
          "All Doctors/11/All Seasons/7",
          "All Doctors/12/All Seasons/10",
          "All Doctors/11/All Seasons/6",
          "All Doctors/12/All Seasons/10",
          "All Doctors/11/All Seasons/7",
          "All Doctors/10/All Seasons/3",
          "All Doctors/10/All Seasons/2",
          "All Doctors/10/All Seasons/3",
          "All Doctors/11/All Seasons/7",
          "All Doctors/10/All Seasons/4",
          "All Doctors/10/All Seasons/3",
          "All Doctors/10/All Seasons/4",
          "All Doctors/11/All Seasons/5",
          "All Doctors/13/All Seasons/11",
          "All Doctors/10/All Seasons/4",
          "All Doctors/9/All Seasons/1",
          "All Doctors/11/All Seasons/5",
          "All Doctors/11/All Seasons/6",
          "All Doctors/12/All Seasons/9",
          "All Doctors/13/All Seasons/11",
          "All Doctors/13/All Seasons/11",
          "All Doctors/12/All Seasons/9",
          "All Doctors/12/All Seasons/9",
          "All Doctors/12/All Seasons/9",
          "All Doctors/12/All Seasons/10",
          "All Doctors/12/All Seasons/8",
          "All Doctors/10/All Seasons/2",
          "All Doctors/10/All Seasons/4",
          "All Doctors/12/All Seasons/9",
          "All Doctors/10/All Seasons/3",
          "All Doctors/11/All Seasons/5",
          "All Doctors/11/All Seasons/5",
          "All Doctors/10/All Seasons/4",
          "All Doctors/12/All Seasons/10",
          "All Doctors/9/All Seasons/1",
          "All Doctors/9/All Seasons",
          "All Doctors/10/All Seasons",
          "All Doctors/10/All Seasons",
          "All Doctors/10/All Seasons",
          "All Doctors/11/All Seasons",
          "All Doctors/11/All Seasons",
          "All Doctors/11/All Seasons",
          "All Doctors/12/All Seasons",
          "All Doctors/12/All Seasons",
          "All Doctors/12/All Seasons",
          "All Doctors/13/All Seasons",
          "All Doctors/9",
          "All Doctors/10",
          "All Doctors/11",
          "All Doctors/12",
          "All Doctors/13",
          "All Doctors",
          "All Doctors",
          "All Doctors",
          "All Doctors",
          "All Doctors",
          ""
         ],
         "type": "treemap",
         "values": [
          7.5,
          8.6,
          9.1,
          7.5,
          7,
          8.2,
          5.3,
          8.5,
          8.7,
          8.7,
          8.1,
          9.8,
          7.2,
          7.7,
          7.5,
          7.3,
          6.8,
          8.7,
          7,
          8.7,
          8.9,
          7.9,
          8,
          6.6,
          7.5,
          9.3,
          7.1,
          7,
          8.5,
          8.6,
          9.2,
          8.4,
          6.1,
          8.5,
          8.6,
          9.5,
          8.1,
          9.6,
          8.7,
          7.8,
          9,
          6.1,
          7.8,
          6.4,
          7.5,
          9.1,
          6.4,
          7,
          7.5,
          8.4,
          8.1,
          8.9,
          6.2,
          9,
          8.5,
          7.5,
          7.1,
          7.4,
          8.1,
          7.8,
          8.1,
          6,
          7.8,
          7.1,
          7.1,
          7.6,
          8.4,
          9.4,
          6,
          7.2,
          8,
          7.9,
          7.5,
          9,
          5.5,
          7.6,
          8,
          9.2,
          7.4,
          8.2,
          7.4,
          9.1,
          9,
          7.7,
          9,
          7.3,
          7,
          8.8,
          9.2,
          7.6,
          8.1,
          6.2,
          7.7,
          8.5,
          9.3,
          8.1,
          7.3,
          8.6,
          6.9,
          8.9,
          8.7,
          6.7,
          7.2,
          8.3,
          7.2,
          8.5,
          9.1,
          9.1,
          9.1,
          7.9,
          7.6,
          7.6,
          7.7,
          7.3,
          7.5,
          7.4,
          7.6,
          8.8,
          7.8,
          8.5,
          7.5,
          8.7,
          9.1,
          8.7,
          5.2,
          7.8,
          7.6,
          7.1,
          8.6,
          8.5,
          5.9,
          7.1,
          7.6,
          7.9,
          8.6,
          7.3,
          8,
          7.9,
          8.9,
          8.3,
          8.8,
          6.8,
          9.3,
          7.7,
          9.2,
          7.1,
          104.5,
          111.5,
          113.6,
          117.3,
          106.5,
          114.19999999999999,
          118,
          93.9,
          106.7,
          101.2,
          67.7,
          104.5,
          342.4,
          338.7,
          301.8,
          67.7,
          104.5,
          342.4,
          338.7,
          301.8,
          67.7,
          1155.1
         ]
        }
       ],
       "layout": {
        "coloraxis": {
         "colorbar": {
          "title": {
           "text": "rating"
          }
         },
         "colorscale": [
          [
           0,
           "rgb(75, 41, 145)"
          ],
          [
           0.16666666666666666,
           "rgb(135, 44, 162)"
          ],
          [
           0.3333333333333333,
           "rgb(192, 54, 157)"
          ],
          [
           0.5,
           "rgb(234, 79, 136)"
          ],
          [
           0.6666666666666666,
           "rgb(250, 120, 118)"
          ],
          [
           0.8333333333333334,
           "rgb(246, 169, 122)"
          ],
          [
           1,
           "rgb(237, 217, 163)"
          ]
         ]
        },
        "legend": {
         "tracegroupgap": 0
        },
        "margin": {
         "t": 60
        },
        "template": {
         "data": {
          "bar": [
           {
            "error_x": {
             "color": "#f2f5fa"
            },
            "error_y": {
             "color": "#f2f5fa"
            },
            "marker": {
             "line": {
              "color": "rgb(17,17,17)",
              "width": 0.5
             },
             "pattern": {
              "fillmode": "overlay",
              "size": 10,
              "solidity": 0.2
             }
            },
            "type": "bar"
           }
          ],
          "barpolar": [
           {
            "marker": {
             "line": {
              "color": "rgb(17,17,17)",
              "width": 0.5
             },
             "pattern": {
              "fillmode": "overlay",
              "size": 10,
              "solidity": 0.2
             }
            },
            "type": "barpolar"
           }
          ],
          "carpet": [
           {
            "aaxis": {
             "endlinecolor": "#A2B1C6",
             "gridcolor": "#506784",
             "linecolor": "#506784",
             "minorgridcolor": "#506784",
             "startlinecolor": "#A2B1C6"
            },
            "baxis": {
             "endlinecolor": "#A2B1C6",
             "gridcolor": "#506784",
             "linecolor": "#506784",
             "minorgridcolor": "#506784",
             "startlinecolor": "#A2B1C6"
            },
            "type": "carpet"
           }
          ],
          "choropleth": [
           {
            "colorbar": {
             "outlinewidth": 0,
             "ticks": ""
            },
            "type": "choropleth"
           }
          ],
          "contour": [
           {
            "colorbar": {
             "outlinewidth": 0,
             "ticks": ""
            },
            "colorscale": [
             [
              0,
              "#0d0887"
             ],
             [
              0.1111111111111111,
              "#46039f"
             ],
             [
              0.2222222222222222,
              "#7201a8"
             ],
             [
              0.3333333333333333,
              "#9c179e"
             ],
             [
              0.4444444444444444,
              "#bd3786"
             ],
             [
              0.5555555555555556,
              "#d8576b"
             ],
             [
              0.6666666666666666,
              "#ed7953"
             ],
             [
              0.7777777777777778,
              "#fb9f3a"
             ],
             [
              0.8888888888888888,
              "#fdca26"
             ],
             [
              1,
              "#f0f921"
             ]
            ],
            "type": "contour"
           }
          ],
          "contourcarpet": [
           {
            "colorbar": {
             "outlinewidth": 0,
             "ticks": ""
            },
            "type": "contourcarpet"
           }
          ],
          "heatmap": [
           {
            "colorbar": {
             "outlinewidth": 0,
             "ticks": ""
            },
            "colorscale": [
             [
              0,
              "#0d0887"
             ],
             [
              0.1111111111111111,
              "#46039f"
             ],
             [
              0.2222222222222222,
              "#7201a8"
             ],
             [
              0.3333333333333333,
              "#9c179e"
             ],
             [
              0.4444444444444444,
              "#bd3786"
             ],
             [
              0.5555555555555556,
              "#d8576b"
             ],
             [
              0.6666666666666666,
              "#ed7953"
             ],
             [
              0.7777777777777778,
              "#fb9f3a"
             ],
             [
              0.8888888888888888,
              "#fdca26"
             ],
             [
              1,
              "#f0f921"
             ]
            ],
            "type": "heatmap"
           }
          ],
          "heatmapgl": [
           {
            "colorbar": {
             "outlinewidth": 0,
             "ticks": ""
            },
            "colorscale": [
             [
              0,
              "#0d0887"
             ],
             [
              0.1111111111111111,
              "#46039f"
             ],
             [
              0.2222222222222222,
              "#7201a8"
             ],
             [
              0.3333333333333333,
              "#9c179e"
             ],
             [
              0.4444444444444444,
              "#bd3786"
             ],
             [
              0.5555555555555556,
              "#d8576b"
             ],
             [
              0.6666666666666666,
              "#ed7953"
             ],
             [
              0.7777777777777778,
              "#fb9f3a"
             ],
             [
              0.8888888888888888,
              "#fdca26"
             ],
             [
              1,
              "#f0f921"
             ]
            ],
            "type": "heatmapgl"
           }
          ],
          "histogram": [
           {
            "marker": {
             "pattern": {
              "fillmode": "overlay",
              "size": 10,
              "solidity": 0.2
             }
            },
            "type": "histogram"
           }
          ],
          "histogram2d": [
           {
            "colorbar": {
             "outlinewidth": 0,
             "ticks": ""
            },
            "colorscale": [
             [
              0,
              "#0d0887"
             ],
             [
              0.1111111111111111,
              "#46039f"
             ],
             [
              0.2222222222222222,
              "#7201a8"
             ],
             [
              0.3333333333333333,
              "#9c179e"
             ],
             [
              0.4444444444444444,
              "#bd3786"
             ],
             [
              0.5555555555555556,
              "#d8576b"
             ],
             [
              0.6666666666666666,
              "#ed7953"
             ],
             [
              0.7777777777777778,
              "#fb9f3a"
             ],
             [
              0.8888888888888888,
              "#fdca26"
             ],
             [
              1,
              "#f0f921"
             ]
            ],
            "type": "histogram2d"
           }
          ],
          "histogram2dcontour": [
           {
            "colorbar": {
             "outlinewidth": 0,
             "ticks": ""
            },
            "colorscale": [
             [
              0,
              "#0d0887"
             ],
             [
              0.1111111111111111,
              "#46039f"
             ],
             [
              0.2222222222222222,
              "#7201a8"
             ],
             [
              0.3333333333333333,
              "#9c179e"
             ],
             [
              0.4444444444444444,
              "#bd3786"
             ],
             [
              0.5555555555555556,
              "#d8576b"
             ],
             [
              0.6666666666666666,
              "#ed7953"
             ],
             [
              0.7777777777777778,
              "#fb9f3a"
             ],
             [
              0.8888888888888888,
              "#fdca26"
             ],
             [
              1,
              "#f0f921"
             ]
            ],
            "type": "histogram2dcontour"
           }
          ],
          "mesh3d": [
           {
            "colorbar": {
             "outlinewidth": 0,
             "ticks": ""
            },
            "type": "mesh3d"
           }
          ],
          "parcoords": [
           {
            "line": {
             "colorbar": {
              "outlinewidth": 0,
              "ticks": ""
             }
            },
            "type": "parcoords"
           }
          ],
          "pie": [
           {
            "automargin": true,
            "type": "pie"
           }
          ],
          "scatter": [
           {
            "marker": {
             "line": {
              "color": "#283442"
             }
            },
            "type": "scatter"
           }
          ],
          "scatter3d": [
           {
            "line": {
             "colorbar": {
              "outlinewidth": 0,
              "ticks": ""
             }
            },
            "marker": {
             "colorbar": {
              "outlinewidth": 0,
              "ticks": ""
             }
            },
            "type": "scatter3d"
           }
          ],
          "scattercarpet": [
           {
            "marker": {
             "colorbar": {
              "outlinewidth": 0,
              "ticks": ""
             }
            },
            "type": "scattercarpet"
           }
          ],
          "scattergeo": [
           {
            "marker": {
             "colorbar": {
              "outlinewidth": 0,
              "ticks": ""
             }
            },
            "type": "scattergeo"
           }
          ],
          "scattergl": [
           {
            "marker": {
             "line": {
              "color": "#283442"
             }
            },
            "type": "scattergl"
           }
          ],
          "scattermapbox": [
           {
            "marker": {
             "colorbar": {
              "outlinewidth": 0,
              "ticks": ""
             }
            },
            "type": "scattermapbox"
           }
          ],
          "scatterpolar": [
           {
            "marker": {
             "colorbar": {
              "outlinewidth": 0,
              "ticks": ""
             }
            },
            "type": "scatterpolar"
           }
          ],
          "scatterpolargl": [
           {
            "marker": {
             "colorbar": {
              "outlinewidth": 0,
              "ticks": ""
             }
            },
            "type": "scatterpolargl"
           }
          ],
          "scatterternary": [
           {
            "marker": {
             "colorbar": {
              "outlinewidth": 0,
              "ticks": ""
             }
            },
            "type": "scatterternary"
           }
          ],
          "surface": [
           {
            "colorbar": {
             "outlinewidth": 0,
             "ticks": ""
            },
            "colorscale": [
             [
              0,
              "#0d0887"
             ],
             [
              0.1111111111111111,
              "#46039f"
             ],
             [
              0.2222222222222222,
              "#7201a8"
             ],
             [
              0.3333333333333333,
              "#9c179e"
             ],
             [
              0.4444444444444444,
              "#bd3786"
             ],
             [
              0.5555555555555556,
              "#d8576b"
             ],
             [
              0.6666666666666666,
              "#ed7953"
             ],
             [
              0.7777777777777778,
              "#fb9f3a"
             ],
             [
              0.8888888888888888,
              "#fdca26"
             ],
             [
              1,
              "#f0f921"
             ]
            ],
            "type": "surface"
           }
          ],
          "table": [
           {
            "cells": {
             "fill": {
              "color": "#506784"
             },
             "line": {
              "color": "rgb(17,17,17)"
             }
            },
            "header": {
             "fill": {
              "color": "#2a3f5f"
             },
             "line": {
              "color": "rgb(17,17,17)"
             }
            },
            "type": "table"
           }
          ]
         },
         "layout": {
          "annotationdefaults": {
           "arrowcolor": "#f2f5fa",
           "arrowhead": 0,
           "arrowwidth": 1
          },
          "autotypenumbers": "strict",
          "coloraxis": {
           "colorbar": {
            "outlinewidth": 0,
            "ticks": ""
           }
          },
          "colorscale": {
           "diverging": [
            [
             0,
             "#8e0152"
            ],
            [
             0.1,
             "#c51b7d"
            ],
            [
             0.2,
             "#de77ae"
            ],
            [
             0.3,
             "#f1b6da"
            ],
            [
             0.4,
             "#fde0ef"
            ],
            [
             0.5,
             "#f7f7f7"
            ],
            [
             0.6,
             "#e6f5d0"
            ],
            [
             0.7,
             "#b8e186"
            ],
            [
             0.8,
             "#7fbc41"
            ],
            [
             0.9,
             "#4d9221"
            ],
            [
             1,
             "#276419"
            ]
           ],
           "sequential": [
            [
             0,
             "#0d0887"
            ],
            [
             0.1111111111111111,
             "#46039f"
            ],
            [
             0.2222222222222222,
             "#7201a8"
            ],
            [
             0.3333333333333333,
             "#9c179e"
            ],
            [
             0.4444444444444444,
             "#bd3786"
            ],
            [
             0.5555555555555556,
             "#d8576b"
            ],
            [
             0.6666666666666666,
             "#ed7953"
            ],
            [
             0.7777777777777778,
             "#fb9f3a"
            ],
            [
             0.8888888888888888,
             "#fdca26"
            ],
            [
             1,
             "#f0f921"
            ]
           ],
           "sequentialminus": [
            [
             0,
             "#0d0887"
            ],
            [
             0.1111111111111111,
             "#46039f"
            ],
            [
             0.2222222222222222,
             "#7201a8"
            ],
            [
             0.3333333333333333,
             "#9c179e"
            ],
            [
             0.4444444444444444,
             "#bd3786"
            ],
            [
             0.5555555555555556,
             "#d8576b"
            ],
            [
             0.6666666666666666,
             "#ed7953"
            ],
            [
             0.7777777777777778,
             "#fb9f3a"
            ],
            [
             0.8888888888888888,
             "#fdca26"
            ],
            [
             1,
             "#f0f921"
            ]
           ]
          },
          "colorway": [
           "#636efa",
           "#EF553B",
           "#00cc96",
           "#ab63fa",
           "#FFA15A",
           "#19d3f3",
           "#FF6692",
           "#B6E880",
           "#FF97FF",
           "#FECB52"
          ],
          "font": {
           "color": "#f2f5fa"
          },
          "geo": {
           "bgcolor": "rgb(17,17,17)",
           "lakecolor": "rgb(17,17,17)",
           "landcolor": "rgb(17,17,17)",
           "showlakes": true,
           "showland": true,
           "subunitcolor": "#506784"
          },
          "hoverlabel": {
           "align": "left"
          },
          "hovermode": "closest",
          "mapbox": {
           "style": "dark"
          },
          "paper_bgcolor": "rgb(17,17,17)",
          "plot_bgcolor": "rgb(17,17,17)",
          "polar": {
           "angularaxis": {
            "gridcolor": "#506784",
            "linecolor": "#506784",
            "ticks": ""
           },
           "bgcolor": "rgb(17,17,17)",
           "radialaxis": {
            "gridcolor": "#506784",
            "linecolor": "#506784",
            "ticks": ""
           }
          },
          "scene": {
           "xaxis": {
            "backgroundcolor": "rgb(17,17,17)",
            "gridcolor": "#506784",
            "gridwidth": 2,
            "linecolor": "#506784",
            "showbackground": true,
            "ticks": "",
            "zerolinecolor": "#C8D4E3"
           },
           "yaxis": {
            "backgroundcolor": "rgb(17,17,17)",
            "gridcolor": "#506784",
            "gridwidth": 2,
            "linecolor": "#506784",
            "showbackground": true,
            "ticks": "",
            "zerolinecolor": "#C8D4E3"
           },
           "zaxis": {
            "backgroundcolor": "rgb(17,17,17)",
            "gridcolor": "#506784",
            "gridwidth": 2,
            "linecolor": "#506784",
            "showbackground": true,
            "ticks": "",
            "zerolinecolor": "#C8D4E3"
           }
          },
          "shapedefaults": {
           "line": {
            "color": "#f2f5fa"
           }
          },
          "sliderdefaults": {
           "bgcolor": "#C8D4E3",
           "bordercolor": "rgb(17,17,17)",
           "borderwidth": 1,
           "tickwidth": 0
          },
          "ternary": {
           "aaxis": {
            "gridcolor": "#506784",
            "linecolor": "#506784",
            "ticks": ""
           },
           "baxis": {
            "gridcolor": "#506784",
            "linecolor": "#506784",
            "ticks": ""
           },
           "bgcolor": "rgb(17,17,17)",
           "caxis": {
            "gridcolor": "#506784",
            "linecolor": "#506784",
            "ticks": ""
           }
          },
          "title": {
           "x": 0.05
          },
          "updatemenudefaults": {
           "bgcolor": "#506784",
           "borderwidth": 0
          },
          "xaxis": {
           "automargin": true,
           "gridcolor": "#283442",
           "linecolor": "#506784",
           "ticks": "",
           "title": {
            "standoff": 15
           },
           "zerolinecolor": "#283442",
           "zerolinewidth": 2
          },
          "yaxis": {
           "automargin": true,
           "gridcolor": "#283442",
           "linecolor": "#506784",
           "ticks": "",
           "title": {
            "standoff": 15
           },
           "zerolinecolor": "#283442",
           "zerolinewidth": 2
          }
         }
        }
       }
      }
     },
     "metadata": {},
     "output_type": "display_data"
    }
   ],
   "source": [
    "px.treemap(df,\n",
    "           values='rating', \n",
    "           path=[px.Constant('All Doctors'), 'doctorid', px.Constant('All Seasons'), 'season', 'title'], \n",
    "           color='rating')"
   ]
  },
  {
   "attachments": {},
   "cell_type": "markdown",
   "metadata": {},
   "source": [
    "### Sunbursts"
   ]
  },
  {
   "cell_type": "code",
   "execution_count": 92,
   "metadata": {},
   "outputs": [
    {
     "name": "stderr",
     "output_type": "stream",
     "text": [
      "c:\\Users\\Admin\\anaconda3\\lib\\site-packages\\plotly\\express\\_core.py:1637: FutureWarning:\n",
      "\n",
      "The frame.append method is deprecated and will be removed from pandas in a future version. Use pandas.concat instead.\n",
      "\n",
      "c:\\Users\\Admin\\anaconda3\\lib\\site-packages\\plotly\\express\\_core.py:1637: FutureWarning:\n",
      "\n",
      "The frame.append method is deprecated and will be removed from pandas in a future version. Use pandas.concat instead.\n",
      "\n",
      "c:\\Users\\Admin\\anaconda3\\lib\\site-packages\\plotly\\express\\_core.py:1637: FutureWarning:\n",
      "\n",
      "The frame.append method is deprecated and will be removed from pandas in a future version. Use pandas.concat instead.\n",
      "\n"
     ]
    },
    {
     "data": {
      "application/vnd.plotly.v1+json": {
       "config": {
        "plotlyServerURL": "https://plot.ly"
       },
       "data": [
        {
         "branchvalues": "total",
         "customdata": [
          [
           7.41
          ],
          [
           12.11
          ],
          [
           7.51
          ],
          [
           8.42
          ],
          [
           7.63
          ],
          [
           7.55
          ],
          [
           8.22
          ],
          [
           8.19
          ],
          [
           8.33
          ],
          [
           6.81
          ],
          [
           6.05
          ],
          [
           6.62
          ],
          [
           7.68
          ],
          [
           6.93
          ],
          [
           7.49
          ],
          [
           7.37
          ],
          [
           7.85
          ],
          [
           8.63
          ],
          [
           6.69
          ],
          [
           7.34
          ],
          [
           7.3
          ],
          [
           7.6000000000000005
          ],
          [
           9.17
          ],
          [
           7.48
          ],
          [
           7.57
          ],
          [
           8.22
          ],
          [
           5.02
          ],
          [
           6.970000000000001
          ],
          [
           5.53
          ],
          [
           6.06
          ],
          [
           7.21
          ],
          [
           8.06
          ],
          [
           7.14
          ],
          [
           6.71
          ],
          [
           8.5
          ],
          [
           7.84
          ],
          [
           8.4
          ],
          [
           6.19
          ],
          [
           6.17
          ],
          [
           6.61
          ],
          [
           7.74
          ],
          [
           6.92
          ],
          [
           7.29
          ],
          [
           6.42
          ],
          [
           6.52
          ],
          [
           10.57
          ],
          [
           7.46
          ],
          [
           6.91
          ],
          [
           5.7299999999999995
          ],
          [
           8.61
          ],
          [
           8.1
          ],
          [
           7.01
          ],
          [
           6.66
          ],
          [
           8.05
          ],
          [
           7.11
          ],
          [
           8.62
          ],
          [
           7.07
          ],
          [
           6.64
          ],
          [
           5.27
          ],
          [
           9.14
          ],
          [
           7.5
          ],
          [
           7.13
          ],
          [
           9.22
          ],
          [
           7.28
          ],
          [
           8.41
          ],
          [
           10.81
          ],
          [
           8.31
          ],
          [
           6.27
          ],
          [
           5.61
          ],
          [
           5.98
          ],
          [
           8.71
          ],
          [
           7.64
          ],
          [
           6.719999999999999
          ],
          [
           7.82
          ],
          [
           6.65
          ],
          [
           8.42
          ],
          [
           8.44
          ],
          [
           6.7
          ],
          [
           6.82
          ],
          [
           9.84
          ],
          [
           6.469999999999999
          ],
          [
           6.86
          ],
          [
           5.3
          ],
          [
           7.33
          ],
          [
           7.97
          ],
          [
           10.77
          ],
          [
           4.73
          ],
          [
           10.08
          ],
          [
           7.11
          ],
          [
           7.97
          ],
          [
           9.04
          ],
          [
           9
          ],
          [
           6.56
          ],
          [
           7.6000000000000005
          ],
          [
           7.9
          ],
          [
           6.77
          ],
          [
           6.49
          ],
          [
           7.69
          ],
          [
           6.76
          ],
          [
           8.86
          ],
          [
           6.32
          ],
          [
           7.19
          ],
          [
           4.82
          ],
          [
           6.44
          ],
          [
           8.01
          ],
          [
           6.54
          ],
          [
           7.45
          ],
          [
           7.58
          ],
          [
           6.91
          ],
          [
           6.68
          ],
          [
           6.53
          ],
          [
           7.67
          ],
          [
           5.789999999999999
          ],
          [
           7.35
          ],
          [
           7.83
          ],
          [
           7.45
          ],
          [
           9.38
          ],
          [
           6.08
          ],
          [
           7.23
          ],
          [
           9.87
          ],
          [
           7.06
          ],
          [
           7.51
          ],
          [
           8.78
          ],
          [
           8.59
          ],
          [
           7.76
          ],
          [
           8.41
          ],
          [
           8.86
          ],
          [
           7.68
          ],
          [
           7.67
          ],
          [
           5.710000000000001
          ],
          [
           7.21
          ],
          [
           10.96
          ],
          [
           6.11
          ],
          [
           5.76
          ],
          [
           6.03
          ],
          [
           5.61
          ],
          [
           6.99
          ],
          [
           9.24
          ],
          [
           8.09
          ],
          [
           5.63
          ],
          [
           7.84
          ],
          [
           7.82
          ],
          [
           6.76
          ],
          [
           13.31
          ],
          [
           5
          ],
          [
           7.98
          ],
          [
           8.082586140147118
          ],
          [
           8.206113478558871
          ],
          [
           7.968939231920809
          ],
          [
           6.471239659114529
          ],
          [
           8.06802306805075
          ],
          [
           7.730839178746171
          ]
         ],
         "domain": {
          "x": [
           0,
           1
          ],
          "y": [
           0,
           1
          ]
         },
         "hovertemplate": "labels=%{label}<br>views_sum=%{value}<br>parent=%{parent}<br>id=%{id}<br>views=%{color}<extra></extra>",
         "ids": [
          "All Doctors/10/42",
          "All Doctors/11/A Christmas Carol",
          "All Doctors/11/A Good Man Goes to War",
          "All Doctors/11/A Town Called Mercy",
          "All Doctors/9/Aliens of London",
          "All Doctors/11/Amy's Choice",
          "All Doctors/13/Arachnids in the UK",
          "All Doctors/10/Army of Ghosts",
          "All Doctors/11/Asylum of the Daleks",
          "All Doctors/9/Bad Wolf",
          "All Doctors/12/Before The Flood",
          "All Doctors/10/Blink",
          "All Doctors/9/Boom Town",
          "All Doctors/11/Closing Time",
          "All Doctors/11/Cold Blood",
          "All Doctors/11/Cold War",
          "All Doctors/11/Curse of the Black Spot",
          "All Doctors/9/Dalek",
          "All Doctors/10/Daleks in Manhattan",
          "All Doctors/12/Dark Water",
          "All Doctors/11/Day of the Moon",
          "All Doctors/12/Death in Heaven",
          "All Doctors/12/Deep Breath",
          "All Doctors/13/Demons of the Punjab",
          "All Doctors/11/Dinosaurs on a Spaceship",
          "All Doctors/10/Doomsday",
          "All Doctors/12/Empress of Mars",
          "All Doctors/10/Evolution of the Daleks",
          "All Doctors/12/Extremis",
          "All Doctors/12/Face The Raven",
          "All Doctors/10/Family of Blood",
          "All Doctors/9/Father's Day",
          "All Doctors/10/Fear Her",
          "All Doctors/12/Flatline",
          "All Doctors/11/Flesh and Stone",
          "All Doctors/10/Forest of the Dead",
          "All Doctors/10/Gridlock",
          "All Doctors/12/Heaven Sent",
          "All Doctors/12/Hell Bent",
          "All Doctors/11/Hide",
          "All Doctors/10/Human Nature",
          "All Doctors/12/In the Forest of the Night",
          "All Doctors/12/Into the Dalek",
          "All Doctors/13/It Takes You Away",
          "All Doctors/11/Journey to the Centre of the TARDIS",
          "All Doctors/10/Journey's End",
          "All Doctors/13/Kerblam!",
          "All Doctors/12/Kill the Moon",
          "All Doctors/12/Knock Knock",
          "All Doctors/10/Last of the Time Lords",
          "All Doctors/11/Let's Kill Hitler",
          "All Doctors/12/Listen",
          "All Doctors/10/Love and Monsters",
          "All Doctors/10/Midnight",
          "All Doctors/12/Mummy on the Orient Express",
          "All Doctors/10/New Earth",
          "All Doctors/11/Night Terrors",
          "All Doctors/11/Nightmare in Silver",
          "All Doctors/12/Oxygen",
          "All Doctors/10/Partners in Crime",
          "All Doctors/10/Planet of the Ood",
          "All Doctors/13/Resolution",
          "All Doctors/10/Rise of the Cybermen",
          "All Doctors/12/Robot of Sherwood",
          "All Doctors/13/Rosa",
          "All Doctors/9/Rose",
          "All Doctors/10/School Reunion",
          "All Doctors/10/Silence in the Library",
          "All Doctors/12/Sleep No More",
          "All Doctors/12/Smile",
          "All Doctors/10/Smith and Jones",
          "All Doctors/10/The Age of Steel",
          "All Doctors/11/The Almost People",
          "All Doctors/11/The Angels Take Manhattan",
          "All Doctors/13/The Battle of Ranskoor Av Kolos",
          "All Doctors/11/The Beast Below",
          "All Doctors/11/The Bells of Saint John",
          "All Doctors/11/The Big Bang",
          "All Doctors/12/The Caretaker",
          "All Doctors/10/The Christmas Invasion",
          "All Doctors/11/The Crimson Horror",
          "All Doctors/9/The Doctor Dances",
          "All Doctors/12/The Doctor Falls",
          "All Doctors/10/The Doctor's Daughter",
          "All Doctors/11/The Doctor's Wife",
          "All Doctors/11/The Doctor, the Widow, and the Wardrobe",
          "All Doctors/12/The Eaters of Light",
          "All Doctors/11/The Eleventh Hour",
          "All Doctors/9/The Empty Child",
          "All Doctors/9/The End of the World",
          "All Doctors/10/The Fires of Pompeii",
          "All Doctors/13/The Ghost Monument",
          "All Doctors/12/The Girl Who Died",
          "All Doctors/11/The Girl Who Waited",
          "All Doctors/10/The Girl in the Fireplace",
          "All Doctors/11/The God Complex",
          "All Doctors/11/The Hungry Earth",
          "All Doctors/12/The Husbands of River Song",
          "All Doctors/10/The Idiot's Lantern",
          "All Doctors/11/The Impossible Astronaut",
          "All Doctors/10/The Impossible Planet",
          "All Doctors/10/The Lazarus Experiment",
          "All Doctors/12/The Lie of the Land",
          "All Doctors/11/The Lodger",
          "All Doctors/9/The Long Game",
          "All Doctors/12/The Magician's Apprentice",
          "All Doctors/11/The Name of the Doctor",
          "All Doctors/11/The Pandorica Opens",
          "All Doctors/9/The Parting of the Ways",
          "All Doctors/12/The Pilot",
          "All Doctors/10/The Poison Sky",
          "All Doctors/11/The Power of Three",
          "All Doctors/12/The Pyramid at the End of the World",
          "All Doctors/11/The Rebel Flesh",
          "All Doctors/12/The Return of Doctor Mysterio",
          "All Doctors/11/The Rings of Akhaten",
          "All Doctors/10/The Runaway Bride",
          "All Doctors/10/The Satan Pit",
          "All Doctors/10/The Shakespeare Code",
          "All Doctors/11/The Snowmen",
          "All Doctors/10/The Sontaran Stratagem",
          "All Doctors/10/The Sound of Drums",
          "All Doctors/10/The Stolen Earth",
          "All Doctors/11/The Time of Angels",
          "All Doctors/13/The Tsuranga Conundrum",
          "All Doctors/10/The Unicorn and the Wasp",
          "All Doctors/9/The Unquiet Dead",
          "All Doctors/11/The Vampires of Venice",
          "All Doctors/11/The Wedding of River Song",
          "All Doctors/12/The Witch's Familiar",
          "All Doctors/13/The Witchfinders",
          "All Doctors/13/The Woman Who Fell to Earth",
          "All Doctors/12/The Woman Who Lived",
          "All Doctors/12/The Zygon Invasion",
          "All Doctors/12/The Zygon Inversion",
          "All Doctors/12/Thin Ice",
          "All Doctors/12/Time Heist",
          "All Doctors/10/Tooth and Claw",
          "All Doctors/10/Turn Left",
          "All Doctors/12/Under the Lake",
          "All Doctors/10/Utopia",
          "All Doctors/11/Victory of the Daleks",
          "All Doctors/11/Vincent and the Doctor",
          "All Doctors/10/Voyage of the Damned",
          "All Doctors/12/World Enough and Time",
          "All Doctors/9/World War Three",
          "All Doctors/9",
          "All Doctors/10",
          "All Doctors/11",
          "All Doctors/12",
          "All Doctors/13",
          "All Doctors"
         ],
         "labels": [
          "42",
          "A Christmas Carol",
          "A Good Man Goes to War",
          "A Town Called Mercy",
          "Aliens of London",
          "Amy's Choice",
          "Arachnids in the UK",
          "Army of Ghosts",
          "Asylum of the Daleks",
          "Bad Wolf",
          "Before The Flood",
          "Blink",
          "Boom Town",
          "Closing Time",
          "Cold Blood",
          "Cold War",
          "Curse of the Black Spot",
          "Dalek",
          "Daleks in Manhattan",
          "Dark Water",
          "Day of the Moon",
          "Death in Heaven",
          "Deep Breath",
          "Demons of the Punjab",
          "Dinosaurs on a Spaceship",
          "Doomsday",
          "Empress of Mars",
          "Evolution of the Daleks",
          "Extremis",
          "Face The Raven",
          "Family of Blood",
          "Father's Day",
          "Fear Her",
          "Flatline",
          "Flesh and Stone",
          "Forest of the Dead",
          "Gridlock",
          "Heaven Sent",
          "Hell Bent",
          "Hide",
          "Human Nature",
          "In the Forest of the Night",
          "Into the Dalek",
          "It Takes You Away",
          "Journey to the Centre of the TARDIS",
          "Journey's End",
          "Kerblam!",
          "Kill the Moon",
          "Knock Knock",
          "Last of the Time Lords",
          "Let's Kill Hitler",
          "Listen",
          "Love and Monsters",
          "Midnight",
          "Mummy on the Orient Express",
          "New Earth",
          "Night Terrors",
          "Nightmare in Silver",
          "Oxygen",
          "Partners in Crime",
          "Planet of the Ood",
          "Resolution",
          "Rise of the Cybermen",
          "Robot of Sherwood",
          "Rosa",
          "Rose",
          "School Reunion",
          "Silence in the Library",
          "Sleep No More",
          "Smile",
          "Smith and Jones",
          "The Age of Steel",
          "The Almost People",
          "The Angels Take Manhattan",
          "The Battle of Ranskoor Av Kolos",
          "The Beast Below",
          "The Bells of Saint John",
          "The Big Bang",
          "The Caretaker",
          "The Christmas Invasion",
          "The Crimson Horror",
          "The Doctor Dances",
          "The Doctor Falls",
          "The Doctor's Daughter",
          "The Doctor's Wife",
          "The Doctor, the Widow, and the Wardrobe",
          "The Eaters of Light",
          "The Eleventh Hour",
          "The Empty Child",
          "The End of the World",
          "The Fires of Pompeii",
          "The Ghost Monument",
          "The Girl Who Died",
          "The Girl Who Waited",
          "The Girl in the Fireplace",
          "The God Complex",
          "The Hungry Earth",
          "The Husbands of River Song",
          "The Idiot's Lantern",
          "The Impossible Astronaut",
          "The Impossible Planet",
          "The Lazarus Experiment",
          "The Lie of the Land",
          "The Lodger",
          "The Long Game",
          "The Magician's Apprentice",
          "The Name of the Doctor",
          "The Pandorica Opens",
          "The Parting of the Ways",
          "The Pilot",
          "The Poison Sky",
          "The Power of Three",
          "The Pyramid at the End of the World",
          "The Rebel Flesh",
          "The Return of Doctor Mysterio",
          "The Rings of Akhaten",
          "The Runaway Bride",
          "The Satan Pit",
          "The Shakespeare Code",
          "The Snowmen",
          "The Sontaran Stratagem",
          "The Sound of Drums",
          "The Stolen Earth",
          "The Time of Angels",
          "The Tsuranga Conundrum",
          "The Unicorn and the Wasp",
          "The Unquiet Dead",
          "The Vampires of Venice",
          "The Wedding of River Song",
          "The Witch's Familiar",
          "The Witchfinders",
          "The Woman Who Fell to Earth",
          "The Woman Who Lived",
          "The Zygon Invasion",
          "The Zygon Inversion",
          "Thin Ice",
          "Time Heist",
          "Tooth and Claw",
          "Turn Left",
          "Under the Lake",
          "Utopia",
          "Victory of the Daleks",
          "Vincent and the Doctor",
          "Voyage of the Damned",
          "World Enough and Time",
          "World War Three",
          "9",
          "10",
          "11",
          "12",
          "13",
          "All Doctors"
         ],
         "marker": {
          "coloraxis": "coloraxis",
          "colors": [
           7.41,
           12.11,
           7.51,
           8.42,
           7.63,
           7.55,
           8.22,
           8.19,
           8.33,
           6.81,
           6.05,
           6.62,
           7.68,
           6.93,
           7.49,
           7.37,
           7.85,
           8.63,
           6.69,
           7.34,
           7.3,
           7.6000000000000005,
           9.17,
           7.48,
           7.57,
           8.22,
           5.02,
           6.970000000000001,
           5.53,
           6.06,
           7.21,
           8.06,
           7.14,
           6.71,
           8.5,
           7.84,
           8.4,
           6.19,
           6.17,
           6.61,
           7.74,
           6.92,
           7.29,
           6.42,
           6.52,
           10.57,
           7.46,
           6.91,
           5.7299999999999995,
           8.61,
           8.1,
           7.01,
           6.66,
           8.05,
           7.11,
           8.62,
           7.07,
           6.64,
           5.27,
           9.14,
           7.5,
           7.13,
           9.22,
           7.28,
           8.41,
           10.81,
           8.31,
           6.27,
           5.61,
           5.98,
           8.71,
           7.64,
           6.719999999999999,
           7.82,
           6.65,
           8.42,
           8.44,
           6.7,
           6.82,
           9.84,
           6.469999999999999,
           6.86,
           5.3,
           7.33,
           7.97,
           10.77,
           4.73,
           10.08,
           7.11,
           7.97,
           9.04,
           9,
           6.56,
           7.6000000000000005,
           7.9,
           6.77,
           6.49,
           7.69,
           6.76,
           8.86,
           6.32,
           7.19,
           4.82,
           6.44,
           8.01,
           6.54,
           7.45,
           7.58,
           6.91,
           6.68,
           6.53,
           7.67,
           5.789999999999999,
           7.35,
           7.83,
           7.45,
           9.38,
           6.08,
           7.23,
           9.87,
           7.06,
           7.51,
           8.78,
           8.59,
           7.76,
           8.41,
           8.86,
           7.68,
           7.67,
           5.710000000000001,
           7.21,
           10.96,
           6.11,
           5.76,
           6.03,
           5.61,
           6.99,
           9.24,
           8.09,
           5.63,
           7.84,
           7.82,
           6.76,
           13.31,
           5,
           7.98,
           8.082586140147118,
           8.206113478558871,
           7.968939231920809,
           6.471239659114529,
           8.06802306805075,
           7.730839178746171
          ]
         },
         "name": "",
         "parents": [
          "All Doctors/10",
          "All Doctors/11",
          "All Doctors/11",
          "All Doctors/11",
          "All Doctors/9",
          "All Doctors/11",
          "All Doctors/13",
          "All Doctors/10",
          "All Doctors/11",
          "All Doctors/9",
          "All Doctors/12",
          "All Doctors/10",
          "All Doctors/9",
          "All Doctors/11",
          "All Doctors/11",
          "All Doctors/11",
          "All Doctors/11",
          "All Doctors/9",
          "All Doctors/10",
          "All Doctors/12",
          "All Doctors/11",
          "All Doctors/12",
          "All Doctors/12",
          "All Doctors/13",
          "All Doctors/11",
          "All Doctors/10",
          "All Doctors/12",
          "All Doctors/10",
          "All Doctors/12",
          "All Doctors/12",
          "All Doctors/10",
          "All Doctors/9",
          "All Doctors/10",
          "All Doctors/12",
          "All Doctors/11",
          "All Doctors/10",
          "All Doctors/10",
          "All Doctors/12",
          "All Doctors/12",
          "All Doctors/11",
          "All Doctors/10",
          "All Doctors/12",
          "All Doctors/12",
          "All Doctors/13",
          "All Doctors/11",
          "All Doctors/10",
          "All Doctors/13",
          "All Doctors/12",
          "All Doctors/12",
          "All Doctors/10",
          "All Doctors/11",
          "All Doctors/12",
          "All Doctors/10",
          "All Doctors/10",
          "All Doctors/12",
          "All Doctors/10",
          "All Doctors/11",
          "All Doctors/11",
          "All Doctors/12",
          "All Doctors/10",
          "All Doctors/10",
          "All Doctors/13",
          "All Doctors/10",
          "All Doctors/12",
          "All Doctors/13",
          "All Doctors/9",
          "All Doctors/10",
          "All Doctors/10",
          "All Doctors/12",
          "All Doctors/12",
          "All Doctors/10",
          "All Doctors/10",
          "All Doctors/11",
          "All Doctors/11",
          "All Doctors/13",
          "All Doctors/11",
          "All Doctors/11",
          "All Doctors/11",
          "All Doctors/12",
          "All Doctors/10",
          "All Doctors/11",
          "All Doctors/9",
          "All Doctors/12",
          "All Doctors/10",
          "All Doctors/11",
          "All Doctors/11",
          "All Doctors/12",
          "All Doctors/11",
          "All Doctors/9",
          "All Doctors/9",
          "All Doctors/10",
          "All Doctors/13",
          "All Doctors/12",
          "All Doctors/11",
          "All Doctors/10",
          "All Doctors/11",
          "All Doctors/11",
          "All Doctors/12",
          "All Doctors/10",
          "All Doctors/11",
          "All Doctors/10",
          "All Doctors/10",
          "All Doctors/12",
          "All Doctors/11",
          "All Doctors/9",
          "All Doctors/12",
          "All Doctors/11",
          "All Doctors/11",
          "All Doctors/9",
          "All Doctors/12",
          "All Doctors/10",
          "All Doctors/11",
          "All Doctors/12",
          "All Doctors/11",
          "All Doctors/12",
          "All Doctors/11",
          "All Doctors/10",
          "All Doctors/10",
          "All Doctors/10",
          "All Doctors/11",
          "All Doctors/10",
          "All Doctors/10",
          "All Doctors/10",
          "All Doctors/11",
          "All Doctors/13",
          "All Doctors/10",
          "All Doctors/9",
          "All Doctors/11",
          "All Doctors/11",
          "All Doctors/12",
          "All Doctors/13",
          "All Doctors/13",
          "All Doctors/12",
          "All Doctors/12",
          "All Doctors/12",
          "All Doctors/12",
          "All Doctors/12",
          "All Doctors/10",
          "All Doctors/10",
          "All Doctors/12",
          "All Doctors/10",
          "All Doctors/11",
          "All Doctors/11",
          "All Doctors/10",
          "All Doctors/12",
          "All Doctors/9",
          "All Doctors",
          "All Doctors",
          "All Doctors",
          "All Doctors",
          "All Doctors",
          ""
         ],
         "type": "sunburst",
         "values": [
          7.41,
          12.11,
          7.51,
          8.42,
          7.63,
          7.55,
          8.22,
          8.19,
          8.33,
          6.81,
          6.05,
          6.62,
          7.68,
          6.93,
          7.49,
          7.37,
          7.85,
          8.63,
          6.69,
          7.34,
          7.3,
          7.6,
          9.17,
          7.48,
          7.57,
          8.22,
          5.02,
          6.97,
          5.53,
          6.06,
          7.21,
          8.06,
          7.14,
          6.71,
          8.5,
          7.84,
          8.4,
          6.19,
          6.17,
          6.61,
          7.74,
          6.92,
          7.29,
          6.42,
          6.52,
          10.57,
          7.46,
          6.91,
          5.73,
          8.61,
          8.1,
          7.01,
          6.66,
          8.05,
          7.11,
          8.62,
          7.07,
          6.64,
          5.27,
          9.14,
          7.5,
          7.13,
          9.22,
          7.28,
          8.41,
          10.81,
          8.31,
          6.27,
          5.61,
          5.98,
          8.71,
          7.64,
          6.72,
          7.82,
          6.65,
          8.42,
          8.44,
          6.7,
          6.82,
          9.84,
          6.47,
          6.86,
          5.3,
          7.33,
          7.97,
          10.77,
          4.73,
          10.08,
          7.11,
          7.97,
          9.04,
          9,
          6.56,
          7.6,
          7.9,
          6.77,
          6.49,
          7.69,
          6.76,
          8.86,
          6.32,
          7.19,
          4.82,
          6.44,
          8.01,
          6.54,
          7.45,
          7.58,
          6.91,
          6.68,
          6.53,
          7.67,
          5.79,
          7.35,
          7.83,
          7.45,
          9.38,
          6.08,
          7.23,
          9.87,
          7.06,
          7.51,
          8.78,
          8.59,
          7.76,
          8.41,
          8.86,
          7.68,
          7.67,
          5.71,
          7.21,
          10.96,
          6.11,
          5.76,
          6.03,
          5.61,
          6.99,
          9.24,
          8.09,
          5.63,
          7.84,
          7.82,
          6.76,
          13.31,
          5,
          7.98,
          103.32000000000001,
          335.57,
          327.31,
          240.55,
          86.7,
          1093.45
         ]
        }
       ],
       "layout": {
        "coloraxis": {
         "colorbar": {
          "title": {
           "text": "views"
          }
         },
         "colorscale": [
          [
           0,
           "rgb(75, 41, 145)"
          ],
          [
           0.16666666666666666,
           "rgb(135, 44, 162)"
          ],
          [
           0.3333333333333333,
           "rgb(192, 54, 157)"
          ],
          [
           0.5,
           "rgb(234, 79, 136)"
          ],
          [
           0.6666666666666666,
           "rgb(250, 120, 118)"
          ],
          [
           0.8333333333333334,
           "rgb(246, 169, 122)"
          ],
          [
           1,
           "rgb(237, 217, 163)"
          ]
         ]
        },
        "legend": {
         "tracegroupgap": 0
        },
        "margin": {
         "t": 60
        },
        "template": {
         "data": {
          "bar": [
           {
            "error_x": {
             "color": "#f2f5fa"
            },
            "error_y": {
             "color": "#f2f5fa"
            },
            "marker": {
             "line": {
              "color": "rgb(17,17,17)",
              "width": 0.5
             },
             "pattern": {
              "fillmode": "overlay",
              "size": 10,
              "solidity": 0.2
             }
            },
            "type": "bar"
           }
          ],
          "barpolar": [
           {
            "marker": {
             "line": {
              "color": "rgb(17,17,17)",
              "width": 0.5
             },
             "pattern": {
              "fillmode": "overlay",
              "size": 10,
              "solidity": 0.2
             }
            },
            "type": "barpolar"
           }
          ],
          "carpet": [
           {
            "aaxis": {
             "endlinecolor": "#A2B1C6",
             "gridcolor": "#506784",
             "linecolor": "#506784",
             "minorgridcolor": "#506784",
             "startlinecolor": "#A2B1C6"
            },
            "baxis": {
             "endlinecolor": "#A2B1C6",
             "gridcolor": "#506784",
             "linecolor": "#506784",
             "minorgridcolor": "#506784",
             "startlinecolor": "#A2B1C6"
            },
            "type": "carpet"
           }
          ],
          "choropleth": [
           {
            "colorbar": {
             "outlinewidth": 0,
             "ticks": ""
            },
            "type": "choropleth"
           }
          ],
          "contour": [
           {
            "colorbar": {
             "outlinewidth": 0,
             "ticks": ""
            },
            "colorscale": [
             [
              0,
              "#0d0887"
             ],
             [
              0.1111111111111111,
              "#46039f"
             ],
             [
              0.2222222222222222,
              "#7201a8"
             ],
             [
              0.3333333333333333,
              "#9c179e"
             ],
             [
              0.4444444444444444,
              "#bd3786"
             ],
             [
              0.5555555555555556,
              "#d8576b"
             ],
             [
              0.6666666666666666,
              "#ed7953"
             ],
             [
              0.7777777777777778,
              "#fb9f3a"
             ],
             [
              0.8888888888888888,
              "#fdca26"
             ],
             [
              1,
              "#f0f921"
             ]
            ],
            "type": "contour"
           }
          ],
          "contourcarpet": [
           {
            "colorbar": {
             "outlinewidth": 0,
             "ticks": ""
            },
            "type": "contourcarpet"
           }
          ],
          "heatmap": [
           {
            "colorbar": {
             "outlinewidth": 0,
             "ticks": ""
            },
            "colorscale": [
             [
              0,
              "#0d0887"
             ],
             [
              0.1111111111111111,
              "#46039f"
             ],
             [
              0.2222222222222222,
              "#7201a8"
             ],
             [
              0.3333333333333333,
              "#9c179e"
             ],
             [
              0.4444444444444444,
              "#bd3786"
             ],
             [
              0.5555555555555556,
              "#d8576b"
             ],
             [
              0.6666666666666666,
              "#ed7953"
             ],
             [
              0.7777777777777778,
              "#fb9f3a"
             ],
             [
              0.8888888888888888,
              "#fdca26"
             ],
             [
              1,
              "#f0f921"
             ]
            ],
            "type": "heatmap"
           }
          ],
          "heatmapgl": [
           {
            "colorbar": {
             "outlinewidth": 0,
             "ticks": ""
            },
            "colorscale": [
             [
              0,
              "#0d0887"
             ],
             [
              0.1111111111111111,
              "#46039f"
             ],
             [
              0.2222222222222222,
              "#7201a8"
             ],
             [
              0.3333333333333333,
              "#9c179e"
             ],
             [
              0.4444444444444444,
              "#bd3786"
             ],
             [
              0.5555555555555556,
              "#d8576b"
             ],
             [
              0.6666666666666666,
              "#ed7953"
             ],
             [
              0.7777777777777778,
              "#fb9f3a"
             ],
             [
              0.8888888888888888,
              "#fdca26"
             ],
             [
              1,
              "#f0f921"
             ]
            ],
            "type": "heatmapgl"
           }
          ],
          "histogram": [
           {
            "marker": {
             "pattern": {
              "fillmode": "overlay",
              "size": 10,
              "solidity": 0.2
             }
            },
            "type": "histogram"
           }
          ],
          "histogram2d": [
           {
            "colorbar": {
             "outlinewidth": 0,
             "ticks": ""
            },
            "colorscale": [
             [
              0,
              "#0d0887"
             ],
             [
              0.1111111111111111,
              "#46039f"
             ],
             [
              0.2222222222222222,
              "#7201a8"
             ],
             [
              0.3333333333333333,
              "#9c179e"
             ],
             [
              0.4444444444444444,
              "#bd3786"
             ],
             [
              0.5555555555555556,
              "#d8576b"
             ],
             [
              0.6666666666666666,
              "#ed7953"
             ],
             [
              0.7777777777777778,
              "#fb9f3a"
             ],
             [
              0.8888888888888888,
              "#fdca26"
             ],
             [
              1,
              "#f0f921"
             ]
            ],
            "type": "histogram2d"
           }
          ],
          "histogram2dcontour": [
           {
            "colorbar": {
             "outlinewidth": 0,
             "ticks": ""
            },
            "colorscale": [
             [
              0,
              "#0d0887"
             ],
             [
              0.1111111111111111,
              "#46039f"
             ],
             [
              0.2222222222222222,
              "#7201a8"
             ],
             [
              0.3333333333333333,
              "#9c179e"
             ],
             [
              0.4444444444444444,
              "#bd3786"
             ],
             [
              0.5555555555555556,
              "#d8576b"
             ],
             [
              0.6666666666666666,
              "#ed7953"
             ],
             [
              0.7777777777777778,
              "#fb9f3a"
             ],
             [
              0.8888888888888888,
              "#fdca26"
             ],
             [
              1,
              "#f0f921"
             ]
            ],
            "type": "histogram2dcontour"
           }
          ],
          "mesh3d": [
           {
            "colorbar": {
             "outlinewidth": 0,
             "ticks": ""
            },
            "type": "mesh3d"
           }
          ],
          "parcoords": [
           {
            "line": {
             "colorbar": {
              "outlinewidth": 0,
              "ticks": ""
             }
            },
            "type": "parcoords"
           }
          ],
          "pie": [
           {
            "automargin": true,
            "type": "pie"
           }
          ],
          "scatter": [
           {
            "marker": {
             "line": {
              "color": "#283442"
             }
            },
            "type": "scatter"
           }
          ],
          "scatter3d": [
           {
            "line": {
             "colorbar": {
              "outlinewidth": 0,
              "ticks": ""
             }
            },
            "marker": {
             "colorbar": {
              "outlinewidth": 0,
              "ticks": ""
             }
            },
            "type": "scatter3d"
           }
          ],
          "scattercarpet": [
           {
            "marker": {
             "colorbar": {
              "outlinewidth": 0,
              "ticks": ""
             }
            },
            "type": "scattercarpet"
           }
          ],
          "scattergeo": [
           {
            "marker": {
             "colorbar": {
              "outlinewidth": 0,
              "ticks": ""
             }
            },
            "type": "scattergeo"
           }
          ],
          "scattergl": [
           {
            "marker": {
             "line": {
              "color": "#283442"
             }
            },
            "type": "scattergl"
           }
          ],
          "scattermapbox": [
           {
            "marker": {
             "colorbar": {
              "outlinewidth": 0,
              "ticks": ""
             }
            },
            "type": "scattermapbox"
           }
          ],
          "scatterpolar": [
           {
            "marker": {
             "colorbar": {
              "outlinewidth": 0,
              "ticks": ""
             }
            },
            "type": "scatterpolar"
           }
          ],
          "scatterpolargl": [
           {
            "marker": {
             "colorbar": {
              "outlinewidth": 0,
              "ticks": ""
             }
            },
            "type": "scatterpolargl"
           }
          ],
          "scatterternary": [
           {
            "marker": {
             "colorbar": {
              "outlinewidth": 0,
              "ticks": ""
             }
            },
            "type": "scatterternary"
           }
          ],
          "surface": [
           {
            "colorbar": {
             "outlinewidth": 0,
             "ticks": ""
            },
            "colorscale": [
             [
              0,
              "#0d0887"
             ],
             [
              0.1111111111111111,
              "#46039f"
             ],
             [
              0.2222222222222222,
              "#7201a8"
             ],
             [
              0.3333333333333333,
              "#9c179e"
             ],
             [
              0.4444444444444444,
              "#bd3786"
             ],
             [
              0.5555555555555556,
              "#d8576b"
             ],
             [
              0.6666666666666666,
              "#ed7953"
             ],
             [
              0.7777777777777778,
              "#fb9f3a"
             ],
             [
              0.8888888888888888,
              "#fdca26"
             ],
             [
              1,
              "#f0f921"
             ]
            ],
            "type": "surface"
           }
          ],
          "table": [
           {
            "cells": {
             "fill": {
              "color": "#506784"
             },
             "line": {
              "color": "rgb(17,17,17)"
             }
            },
            "header": {
             "fill": {
              "color": "#2a3f5f"
             },
             "line": {
              "color": "rgb(17,17,17)"
             }
            },
            "type": "table"
           }
          ]
         },
         "layout": {
          "annotationdefaults": {
           "arrowcolor": "#f2f5fa",
           "arrowhead": 0,
           "arrowwidth": 1
          },
          "autotypenumbers": "strict",
          "coloraxis": {
           "colorbar": {
            "outlinewidth": 0,
            "ticks": ""
           }
          },
          "colorscale": {
           "diverging": [
            [
             0,
             "#8e0152"
            ],
            [
             0.1,
             "#c51b7d"
            ],
            [
             0.2,
             "#de77ae"
            ],
            [
             0.3,
             "#f1b6da"
            ],
            [
             0.4,
             "#fde0ef"
            ],
            [
             0.5,
             "#f7f7f7"
            ],
            [
             0.6,
             "#e6f5d0"
            ],
            [
             0.7,
             "#b8e186"
            ],
            [
             0.8,
             "#7fbc41"
            ],
            [
             0.9,
             "#4d9221"
            ],
            [
             1,
             "#276419"
            ]
           ],
           "sequential": [
            [
             0,
             "#0d0887"
            ],
            [
             0.1111111111111111,
             "#46039f"
            ],
            [
             0.2222222222222222,
             "#7201a8"
            ],
            [
             0.3333333333333333,
             "#9c179e"
            ],
            [
             0.4444444444444444,
             "#bd3786"
            ],
            [
             0.5555555555555556,
             "#d8576b"
            ],
            [
             0.6666666666666666,
             "#ed7953"
            ],
            [
             0.7777777777777778,
             "#fb9f3a"
            ],
            [
             0.8888888888888888,
             "#fdca26"
            ],
            [
             1,
             "#f0f921"
            ]
           ],
           "sequentialminus": [
            [
             0,
             "#0d0887"
            ],
            [
             0.1111111111111111,
             "#46039f"
            ],
            [
             0.2222222222222222,
             "#7201a8"
            ],
            [
             0.3333333333333333,
             "#9c179e"
            ],
            [
             0.4444444444444444,
             "#bd3786"
            ],
            [
             0.5555555555555556,
             "#d8576b"
            ],
            [
             0.6666666666666666,
             "#ed7953"
            ],
            [
             0.7777777777777778,
             "#fb9f3a"
            ],
            [
             0.8888888888888888,
             "#fdca26"
            ],
            [
             1,
             "#f0f921"
            ]
           ]
          },
          "colorway": [
           "#636efa",
           "#EF553B",
           "#00cc96",
           "#ab63fa",
           "#FFA15A",
           "#19d3f3",
           "#FF6692",
           "#B6E880",
           "#FF97FF",
           "#FECB52"
          ],
          "font": {
           "color": "#f2f5fa"
          },
          "geo": {
           "bgcolor": "rgb(17,17,17)",
           "lakecolor": "rgb(17,17,17)",
           "landcolor": "rgb(17,17,17)",
           "showlakes": true,
           "showland": true,
           "subunitcolor": "#506784"
          },
          "hoverlabel": {
           "align": "left"
          },
          "hovermode": "closest",
          "mapbox": {
           "style": "dark"
          },
          "paper_bgcolor": "rgb(17,17,17)",
          "plot_bgcolor": "rgb(17,17,17)",
          "polar": {
           "angularaxis": {
            "gridcolor": "#506784",
            "linecolor": "#506784",
            "ticks": ""
           },
           "bgcolor": "rgb(17,17,17)",
           "radialaxis": {
            "gridcolor": "#506784",
            "linecolor": "#506784",
            "ticks": ""
           }
          },
          "scene": {
           "xaxis": {
            "backgroundcolor": "rgb(17,17,17)",
            "gridcolor": "#506784",
            "gridwidth": 2,
            "linecolor": "#506784",
            "showbackground": true,
            "ticks": "",
            "zerolinecolor": "#C8D4E3"
           },
           "yaxis": {
            "backgroundcolor": "rgb(17,17,17)",
            "gridcolor": "#506784",
            "gridwidth": 2,
            "linecolor": "#506784",
            "showbackground": true,
            "ticks": "",
            "zerolinecolor": "#C8D4E3"
           },
           "zaxis": {
            "backgroundcolor": "rgb(17,17,17)",
            "gridcolor": "#506784",
            "gridwidth": 2,
            "linecolor": "#506784",
            "showbackground": true,
            "ticks": "",
            "zerolinecolor": "#C8D4E3"
           }
          },
          "shapedefaults": {
           "line": {
            "color": "#f2f5fa"
           }
          },
          "sliderdefaults": {
           "bgcolor": "#C8D4E3",
           "bordercolor": "rgb(17,17,17)",
           "borderwidth": 1,
           "tickwidth": 0
          },
          "ternary": {
           "aaxis": {
            "gridcolor": "#506784",
            "linecolor": "#506784",
            "ticks": ""
           },
           "baxis": {
            "gridcolor": "#506784",
            "linecolor": "#506784",
            "ticks": ""
           },
           "bgcolor": "rgb(17,17,17)",
           "caxis": {
            "gridcolor": "#506784",
            "linecolor": "#506784",
            "ticks": ""
           }
          },
          "title": {
           "x": 0.05
          },
          "updatemenudefaults": {
           "bgcolor": "#506784",
           "borderwidth": 0
          },
          "xaxis": {
           "automargin": true,
           "gridcolor": "#283442",
           "linecolor": "#506784",
           "ticks": "",
           "title": {
            "standoff": 15
           },
           "zerolinecolor": "#283442",
           "zerolinewidth": 2
          },
          "yaxis": {
           "automargin": true,
           "gridcolor": "#283442",
           "linecolor": "#506784",
           "ticks": "",
           "title": {
            "standoff": 15
           },
           "zerolinecolor": "#283442",
           "zerolinewidth": 2
          }
         }
        }
       }
      }
     },
     "metadata": {},
     "output_type": "display_data"
    }
   ],
   "source": [
    "px.sunburst(df,\n",
    "           values='views', \n",
    "           path=[px.Constant('All Doctors'), 'doctorid', 'title'], \n",
    "           color='views')"
   ]
  },
  {
   "attachments": {},
   "cell_type": "markdown",
   "metadata": {},
   "source": [
    "### Heatmaps and Correlation Analysis"
   ]
  },
  {
   "cell_type": "code",
   "execution_count": 93,
   "metadata": {},
   "outputs": [
    {
     "data": {
      "text/html": [
       "<div>\n",
       "<style scoped>\n",
       "    .dataframe tbody tr th:only-of-type {\n",
       "        vertical-align: middle;\n",
       "    }\n",
       "\n",
       "    .dataframe tbody tr th {\n",
       "        vertical-align: top;\n",
       "    }\n",
       "\n",
       "    .dataframe thead th {\n",
       "        text-align: right;\n",
       "    }\n",
       "</style>\n",
       "<table border=\"1\" class=\"dataframe\">\n",
       "  <thead>\n",
       "    <tr style=\"text-align: right;\">\n",
       "      <th></th>\n",
       "      <th>episode_id</th>\n",
       "      <th>episodenbr</th>\n",
       "      <th>views</th>\n",
       "      <th>share</th>\n",
       "      <th>appreciation</th>\n",
       "      <th>chart</th>\n",
       "      <th>doctorid</th>\n",
       "      <th>rating</th>\n",
       "      <th>votes</th>\n",
       "      <th>season</th>\n",
       "      <th>has_9</th>\n",
       "      <th>has_10</th>\n",
       "      <th>has_11</th>\n",
       "      <th>has_12</th>\n",
       "      <th>has_13</th>\n",
       "      <th>day_Mon</th>\n",
       "      <th>day_Sat</th>\n",
       "      <th>day_Sun</th>\n",
       "      <th>day_Tue</th>\n",
       "    </tr>\n",
       "  </thead>\n",
       "  <tbody>\n",
       "    <tr>\n",
       "      <th>episode_id</th>\n",
       "      <td>1.000000</td>\n",
       "      <td>0.996921</td>\n",
       "      <td>-0.357616</td>\n",
       "      <td>-0.724653</td>\n",
       "      <td>-0.329043</td>\n",
       "      <td>0.168053</td>\n",
       "      <td>0.966445</td>\n",
       "      <td>-0.304684</td>\n",
       "      <td>-0.395395</td>\n",
       "      <td>0.999922</td>\n",
       "      <td>-0.490662</td>\n",
       "      <td>-0.588435</td>\n",
       "      <td>0.036907</td>\n",
       "      <td>0.603687</td>\n",
       "      <td>0.471761</td>\n",
       "      <td>-0.078638</td>\n",
       "      <td>-0.383035</td>\n",
       "      <td>0.406322</td>\n",
       "      <td>0.067930</td>\n",
       "    </tr>\n",
       "    <tr>\n",
       "      <th>episodenbr</th>\n",
       "      <td>0.996921</td>\n",
       "      <td>1.000000</td>\n",
       "      <td>-0.388559</td>\n",
       "      <td>-0.739967</td>\n",
       "      <td>-0.316950</td>\n",
       "      <td>0.194821</td>\n",
       "      <td>0.964009</td>\n",
       "      <td>-0.283154</td>\n",
       "      <td>-0.395498</td>\n",
       "      <td>0.995919</td>\n",
       "      <td>-0.486152</td>\n",
       "      <td>-0.603353</td>\n",
       "      <td>0.054345</td>\n",
       "      <td>0.608256</td>\n",
       "      <td>0.454978</td>\n",
       "      <td>-0.090732</td>\n",
       "      <td>-0.357784</td>\n",
       "      <td>0.380753</td>\n",
       "      <td>0.061823</td>\n",
       "    </tr>\n",
       "    <tr>\n",
       "      <th>views</th>\n",
       "      <td>-0.357616</td>\n",
       "      <td>-0.388559</td>\n",
       "      <td>1.000000</td>\n",
       "      <td>0.726807</td>\n",
       "      <td>0.167360</td>\n",
       "      <td>-0.780737</td>\n",
       "      <td>-0.317449</td>\n",
       "      <td>0.045729</td>\n",
       "      <td>0.329494</td>\n",
       "      <td>-0.352477</td>\n",
       "      <td>0.106552</td>\n",
       "      <td>0.236464</td>\n",
       "      <td>0.143525</td>\n",
       "      <td>-0.511289</td>\n",
       "      <td>0.083302</td>\n",
       "      <td>0.116756</td>\n",
       "      <td>-0.318849</td>\n",
       "      <td>0.190427</td>\n",
       "      <td>0.281545</td>\n",
       "    </tr>\n",
       "    <tr>\n",
       "      <th>share</th>\n",
       "      <td>-0.724653</td>\n",
       "      <td>-0.739967</td>\n",
       "      <td>0.726807</td>\n",
       "      <td>1.000000</td>\n",
       "      <td>0.325683</td>\n",
       "      <td>-0.636914</td>\n",
       "      <td>-0.680867</td>\n",
       "      <td>0.190566</td>\n",
       "      <td>0.449030</td>\n",
       "      <td>-0.722579</td>\n",
       "      <td>0.286955</td>\n",
       "      <td>0.533320</td>\n",
       "      <td>-0.003023</td>\n",
       "      <td>-0.687832</td>\n",
       "      <td>-0.075659</td>\n",
       "      <td>0.045405</td>\n",
       "      <td>-0.048612</td>\n",
       "      <td>-0.006939</td>\n",
       "      <td>0.104642</td>\n",
       "    </tr>\n",
       "    <tr>\n",
       "      <th>appreciation</th>\n",
       "      <td>-0.329043</td>\n",
       "      <td>-0.316950</td>\n",
       "      <td>0.167360</td>\n",
       "      <td>0.325683</td>\n",
       "      <td>1.000000</td>\n",
       "      <td>-0.260721</td>\n",
       "      <td>-0.347308</td>\n",
       "      <td>0.549926</td>\n",
       "      <td>0.235551</td>\n",
       "      <td>-0.330742</td>\n",
       "      <td>-0.254506</td>\n",
       "      <td>0.379954</td>\n",
       "      <td>0.352814</td>\n",
       "      <td>-0.375185</td>\n",
       "      <td>-0.358403</td>\n",
       "      <td>-0.014896</td>\n",
       "      <td>0.313893</td>\n",
       "      <td>-0.323525</td>\n",
       "      <td>-0.025980</td>\n",
       "    </tr>\n",
       "    <tr>\n",
       "      <th>chart</th>\n",
       "      <td>0.168053</td>\n",
       "      <td>0.194821</td>\n",
       "      <td>-0.780737</td>\n",
       "      <td>-0.636914</td>\n",
       "      <td>-0.260721</td>\n",
       "      <td>1.000000</td>\n",
       "      <td>0.112980</td>\n",
       "      <td>-0.038217</td>\n",
       "      <td>-0.294992</td>\n",
       "      <td>0.164042</td>\n",
       "      <td>0.118854</td>\n",
       "      <td>-0.252066</td>\n",
       "      <td>-0.110871</td>\n",
       "      <td>0.417973</td>\n",
       "      <td>-0.200637</td>\n",
       "      <td>-0.054962</td>\n",
       "      <td>0.320307</td>\n",
       "      <td>-0.264831</td>\n",
       "      <td>-0.132194</td>\n",
       "    </tr>\n",
       "    <tr>\n",
       "      <th>doctorid</th>\n",
       "      <td>0.966445</td>\n",
       "      <td>0.964009</td>\n",
       "      <td>-0.317449</td>\n",
       "      <td>-0.680867</td>\n",
       "      <td>-0.347308</td>\n",
       "      <td>0.112980</td>\n",
       "      <td>1.000000</td>\n",
       "      <td>-0.337997</td>\n",
       "      <td>-0.341335</td>\n",
       "      <td>0.966550</td>\n",
       "      <td>-0.554591</td>\n",
       "      <td>-0.547767</td>\n",
       "      <td>0.031755</td>\n",
       "      <td>0.570571</td>\n",
       "      <td>0.534884</td>\n",
       "      <td>-0.071582</td>\n",
       "      <td>-0.417708</td>\n",
       "      <td>0.454248</td>\n",
       "      <td>0.051266</td>\n",
       "    </tr>\n",
       "    <tr>\n",
       "      <th>rating</th>\n",
       "      <td>-0.304684</td>\n",
       "      <td>-0.283154</td>\n",
       "      <td>0.045729</td>\n",
       "      <td>0.190566</td>\n",
       "      <td>0.549926</td>\n",
       "      <td>-0.038217</td>\n",
       "      <td>-0.337997</td>\n",
       "      <td>1.000000</td>\n",
       "      <td>0.465623</td>\n",
       "      <td>-0.307224</td>\n",
       "      <td>0.042146</td>\n",
       "      <td>0.162622</td>\n",
       "      <td>0.103112</td>\n",
       "      <td>0.019207</td>\n",
       "      <td>-0.533155</td>\n",
       "      <td>-0.027511</td>\n",
       "      <td>0.427622</td>\n",
       "      <td>-0.464023</td>\n",
       "      <td>-0.078775</td>\n",
       "    </tr>\n",
       "    <tr>\n",
       "      <th>votes</th>\n",
       "      <td>-0.395395</td>\n",
       "      <td>-0.395498</td>\n",
       "      <td>0.329494</td>\n",
       "      <td>0.449030</td>\n",
       "      <td>0.235551</td>\n",
       "      <td>-0.294992</td>\n",
       "      <td>-0.341335</td>\n",
       "      <td>0.465623</td>\n",
       "      <td>1.000000</td>\n",
       "      <td>-0.395378</td>\n",
       "      <td>0.132802</td>\n",
       "      <td>0.292113</td>\n",
       "      <td>-0.027256</td>\n",
       "      <td>-0.339602</td>\n",
       "      <td>-0.032979</td>\n",
       "      <td>0.004547</td>\n",
       "      <td>0.051488</td>\n",
       "      <td>-0.016931</td>\n",
       "      <td>-0.056650</td>\n",
       "    </tr>\n",
       "    <tr>\n",
       "      <th>season</th>\n",
       "      <td>0.999922</td>\n",
       "      <td>0.995919</td>\n",
       "      <td>-0.352477</td>\n",
       "      <td>-0.722579</td>\n",
       "      <td>-0.330742</td>\n",
       "      <td>0.164042</td>\n",
       "      <td>0.966550</td>\n",
       "      <td>-0.307224</td>\n",
       "      <td>-0.395378</td>\n",
       "      <td>1.000000</td>\n",
       "      <td>-0.490878</td>\n",
       "      <td>-0.588004</td>\n",
       "      <td>0.036420</td>\n",
       "      <td>0.603657</td>\n",
       "      <td>0.472139</td>\n",
       "      <td>-0.076840</td>\n",
       "      <td>-0.385165</td>\n",
       "      <td>0.408561</td>\n",
       "      <td>0.068342</td>\n",
       "    </tr>\n",
       "    <tr>\n",
       "      <th>has_9</th>\n",
       "      <td>-0.490662</td>\n",
       "      <td>-0.486152</td>\n",
       "      <td>0.106552</td>\n",
       "      <td>0.286955</td>\n",
       "      <td>-0.254506</td>\n",
       "      <td>0.118854</td>\n",
       "      <td>-0.554591</td>\n",
       "      <td>0.042146</td>\n",
       "      <td>0.132802</td>\n",
       "      <td>-0.490878</td>\n",
       "      <td>1.000000</td>\n",
       "      <td>-0.198680</td>\n",
       "      <td>-0.198680</td>\n",
       "      <td>-0.185450</td>\n",
       "      <td>-0.089243</td>\n",
       "      <td>-0.025963</td>\n",
       "      <td>0.117240</td>\n",
       "      <td>-0.097744</td>\n",
       "      <td>-0.045283</td>\n",
       "    </tr>\n",
       "    <tr>\n",
       "      <th>has_10</th>\n",
       "      <td>-0.588435</td>\n",
       "      <td>-0.603353</td>\n",
       "      <td>0.236464</td>\n",
       "      <td>0.533320</td>\n",
       "      <td>0.379954</td>\n",
       "      <td>-0.252066</td>\n",
       "      <td>-0.547767</td>\n",
       "      <td>0.162622</td>\n",
       "      <td>0.292113</td>\n",
       "      <td>-0.588004</td>\n",
       "      <td>-0.198680</td>\n",
       "      <td>1.000000</td>\n",
       "      <td>-0.403846</td>\n",
       "      <td>-0.376954</td>\n",
       "      <td>-0.181400</td>\n",
       "      <td>0.130680</td>\n",
       "      <td>0.100241</td>\n",
       "      <td>-0.145553</td>\n",
       "      <td>0.014610</td>\n",
       "    </tr>\n",
       "    <tr>\n",
       "      <th>has_11</th>\n",
       "      <td>0.036907</td>\n",
       "      <td>0.054345</td>\n",
       "      <td>0.143525</td>\n",
       "      <td>-0.003023</td>\n",
       "      <td>0.352814</td>\n",
       "      <td>-0.110871</td>\n",
       "      <td>0.031755</td>\n",
       "      <td>0.103112</td>\n",
       "      <td>-0.027256</td>\n",
       "      <td>0.036420</td>\n",
       "      <td>-0.198680</td>\n",
       "      <td>-0.403846</td>\n",
       "      <td>1.000000</td>\n",
       "      <td>-0.376954</td>\n",
       "      <td>-0.181400</td>\n",
       "      <td>-0.052774</td>\n",
       "      <td>0.146263</td>\n",
       "      <td>-0.145553</td>\n",
       "      <td>0.014610</td>\n",
       "    </tr>\n",
       "    <tr>\n",
       "      <th>has_12</th>\n",
       "      <td>0.603687</td>\n",
       "      <td>0.608256</td>\n",
       "      <td>-0.511289</td>\n",
       "      <td>-0.687832</td>\n",
       "      <td>-0.375185</td>\n",
       "      <td>0.417973</td>\n",
       "      <td>0.570571</td>\n",
       "      <td>0.019207</td>\n",
       "      <td>-0.339602</td>\n",
       "      <td>0.603657</td>\n",
       "      <td>-0.185450</td>\n",
       "      <td>-0.376954</td>\n",
       "      <td>-0.376954</td>\n",
       "      <td>1.000000</td>\n",
       "      <td>-0.169320</td>\n",
       "      <td>-0.049260</td>\n",
       "      <td>0.127480</td>\n",
       "      <td>-0.130641</td>\n",
       "      <td>-0.085916</td>\n",
       "    </tr>\n",
       "    <tr>\n",
       "      <th>has_13</th>\n",
       "      <td>0.471761</td>\n",
       "      <td>0.454978</td>\n",
       "      <td>0.083302</td>\n",
       "      <td>-0.075659</td>\n",
       "      <td>-0.358403</td>\n",
       "      <td>-0.200637</td>\n",
       "      <td>0.534884</td>\n",
       "      <td>-0.533155</td>\n",
       "      <td>-0.032979</td>\n",
       "      <td>0.472139</td>\n",
       "      <td>-0.089243</td>\n",
       "      <td>-0.181400</td>\n",
       "      <td>-0.181400</td>\n",
       "      <td>-0.169320</td>\n",
       "      <td>1.000000</td>\n",
       "      <td>-0.023705</td>\n",
       "      <td>-0.761199</td>\n",
       "      <td>0.821911</td>\n",
       "      <td>0.141575</td>\n",
       "    </tr>\n",
       "    <tr>\n",
       "      <th>day_Mon</th>\n",
       "      <td>-0.078638</td>\n",
       "      <td>-0.090732</td>\n",
       "      <td>0.116756</td>\n",
       "      <td>0.045405</td>\n",
       "      <td>-0.014896</td>\n",
       "      <td>-0.054962</td>\n",
       "      <td>-0.071582</td>\n",
       "      <td>-0.027511</td>\n",
       "      <td>0.004547</td>\n",
       "      <td>-0.076840</td>\n",
       "      <td>-0.025963</td>\n",
       "      <td>0.130680</td>\n",
       "      <td>-0.052774</td>\n",
       "      <td>-0.049260</td>\n",
       "      <td>-0.023705</td>\n",
       "      <td>1.000000</td>\n",
       "      <td>-0.221455</td>\n",
       "      <td>-0.025963</td>\n",
       "      <td>-0.012028</td>\n",
       "    </tr>\n",
       "    <tr>\n",
       "      <th>day_Sat</th>\n",
       "      <td>-0.383035</td>\n",
       "      <td>-0.357784</td>\n",
       "      <td>-0.318849</td>\n",
       "      <td>-0.048612</td>\n",
       "      <td>0.313893</td>\n",
       "      <td>0.320307</td>\n",
       "      <td>-0.417708</td>\n",
       "      <td>0.427622</td>\n",
       "      <td>0.051488</td>\n",
       "      <td>-0.385165</td>\n",
       "      <td>0.117240</td>\n",
       "      <td>0.100241</td>\n",
       "      <td>0.146263</td>\n",
       "      <td>0.127480</td>\n",
       "      <td>-0.761199</td>\n",
       "      <td>-0.221455</td>\n",
       "      <td>1.000000</td>\n",
       "      <td>-0.833709</td>\n",
       "      <td>-0.386244</td>\n",
       "    </tr>\n",
       "    <tr>\n",
       "      <th>day_Sun</th>\n",
       "      <td>0.406322</td>\n",
       "      <td>0.380753</td>\n",
       "      <td>0.190427</td>\n",
       "      <td>-0.006939</td>\n",
       "      <td>-0.323525</td>\n",
       "      <td>-0.264831</td>\n",
       "      <td>0.454248</td>\n",
       "      <td>-0.464023</td>\n",
       "      <td>-0.016931</td>\n",
       "      <td>0.408561</td>\n",
       "      <td>-0.097744</td>\n",
       "      <td>-0.145553</td>\n",
       "      <td>-0.145553</td>\n",
       "      <td>-0.130641</td>\n",
       "      <td>0.821911</td>\n",
       "      <td>-0.025963</td>\n",
       "      <td>-0.833709</td>\n",
       "      <td>1.000000</td>\n",
       "      <td>-0.045283</td>\n",
       "    </tr>\n",
       "    <tr>\n",
       "      <th>day_Tue</th>\n",
       "      <td>0.067930</td>\n",
       "      <td>0.061823</td>\n",
       "      <td>0.281545</td>\n",
       "      <td>0.104642</td>\n",
       "      <td>-0.025980</td>\n",
       "      <td>-0.132194</td>\n",
       "      <td>0.051266</td>\n",
       "      <td>-0.078775</td>\n",
       "      <td>-0.056650</td>\n",
       "      <td>0.068342</td>\n",
       "      <td>-0.045283</td>\n",
       "      <td>0.014610</td>\n",
       "      <td>0.014610</td>\n",
       "      <td>-0.085916</td>\n",
       "      <td>0.141575</td>\n",
       "      <td>-0.012028</td>\n",
       "      <td>-0.386244</td>\n",
       "      <td>-0.045283</td>\n",
       "      <td>1.000000</td>\n",
       "    </tr>\n",
       "  </tbody>\n",
       "</table>\n",
       "</div>"
      ],
      "text/plain": [
       "              episode_id  episodenbr     views     share  appreciation  \\\n",
       "episode_id      1.000000    0.996921 -0.357616 -0.724653     -0.329043   \n",
       "episodenbr      0.996921    1.000000 -0.388559 -0.739967     -0.316950   \n",
       "views          -0.357616   -0.388559  1.000000  0.726807      0.167360   \n",
       "share          -0.724653   -0.739967  0.726807  1.000000      0.325683   \n",
       "appreciation   -0.329043   -0.316950  0.167360  0.325683      1.000000   \n",
       "chart           0.168053    0.194821 -0.780737 -0.636914     -0.260721   \n",
       "doctorid        0.966445    0.964009 -0.317449 -0.680867     -0.347308   \n",
       "rating         -0.304684   -0.283154  0.045729  0.190566      0.549926   \n",
       "votes          -0.395395   -0.395498  0.329494  0.449030      0.235551   \n",
       "season          0.999922    0.995919 -0.352477 -0.722579     -0.330742   \n",
       "has_9          -0.490662   -0.486152  0.106552  0.286955     -0.254506   \n",
       "has_10         -0.588435   -0.603353  0.236464  0.533320      0.379954   \n",
       "has_11          0.036907    0.054345  0.143525 -0.003023      0.352814   \n",
       "has_12          0.603687    0.608256 -0.511289 -0.687832     -0.375185   \n",
       "has_13          0.471761    0.454978  0.083302 -0.075659     -0.358403   \n",
       "day_Mon        -0.078638   -0.090732  0.116756  0.045405     -0.014896   \n",
       "day_Sat        -0.383035   -0.357784 -0.318849 -0.048612      0.313893   \n",
       "day_Sun         0.406322    0.380753  0.190427 -0.006939     -0.323525   \n",
       "day_Tue         0.067930    0.061823  0.281545  0.104642     -0.025980   \n",
       "\n",
       "                 chart  doctorid    rating     votes    season     has_9  \\\n",
       "episode_id    0.168053  0.966445 -0.304684 -0.395395  0.999922 -0.490662   \n",
       "episodenbr    0.194821  0.964009 -0.283154 -0.395498  0.995919 -0.486152   \n",
       "views        -0.780737 -0.317449  0.045729  0.329494 -0.352477  0.106552   \n",
       "share        -0.636914 -0.680867  0.190566  0.449030 -0.722579  0.286955   \n",
       "appreciation -0.260721 -0.347308  0.549926  0.235551 -0.330742 -0.254506   \n",
       "chart         1.000000  0.112980 -0.038217 -0.294992  0.164042  0.118854   \n",
       "doctorid      0.112980  1.000000 -0.337997 -0.341335  0.966550 -0.554591   \n",
       "rating       -0.038217 -0.337997  1.000000  0.465623 -0.307224  0.042146   \n",
       "votes        -0.294992 -0.341335  0.465623  1.000000 -0.395378  0.132802   \n",
       "season        0.164042  0.966550 -0.307224 -0.395378  1.000000 -0.490878   \n",
       "has_9         0.118854 -0.554591  0.042146  0.132802 -0.490878  1.000000   \n",
       "has_10       -0.252066 -0.547767  0.162622  0.292113 -0.588004 -0.198680   \n",
       "has_11       -0.110871  0.031755  0.103112 -0.027256  0.036420 -0.198680   \n",
       "has_12        0.417973  0.570571  0.019207 -0.339602  0.603657 -0.185450   \n",
       "has_13       -0.200637  0.534884 -0.533155 -0.032979  0.472139 -0.089243   \n",
       "day_Mon      -0.054962 -0.071582 -0.027511  0.004547 -0.076840 -0.025963   \n",
       "day_Sat       0.320307 -0.417708  0.427622  0.051488 -0.385165  0.117240   \n",
       "day_Sun      -0.264831  0.454248 -0.464023 -0.016931  0.408561 -0.097744   \n",
       "day_Tue      -0.132194  0.051266 -0.078775 -0.056650  0.068342 -0.045283   \n",
       "\n",
       "                has_10    has_11    has_12    has_13   day_Mon   day_Sat  \\\n",
       "episode_id   -0.588435  0.036907  0.603687  0.471761 -0.078638 -0.383035   \n",
       "episodenbr   -0.603353  0.054345  0.608256  0.454978 -0.090732 -0.357784   \n",
       "views         0.236464  0.143525 -0.511289  0.083302  0.116756 -0.318849   \n",
       "share         0.533320 -0.003023 -0.687832 -0.075659  0.045405 -0.048612   \n",
       "appreciation  0.379954  0.352814 -0.375185 -0.358403 -0.014896  0.313893   \n",
       "chart        -0.252066 -0.110871  0.417973 -0.200637 -0.054962  0.320307   \n",
       "doctorid     -0.547767  0.031755  0.570571  0.534884 -0.071582 -0.417708   \n",
       "rating        0.162622  0.103112  0.019207 -0.533155 -0.027511  0.427622   \n",
       "votes         0.292113 -0.027256 -0.339602 -0.032979  0.004547  0.051488   \n",
       "season       -0.588004  0.036420  0.603657  0.472139 -0.076840 -0.385165   \n",
       "has_9        -0.198680 -0.198680 -0.185450 -0.089243 -0.025963  0.117240   \n",
       "has_10        1.000000 -0.403846 -0.376954 -0.181400  0.130680  0.100241   \n",
       "has_11       -0.403846  1.000000 -0.376954 -0.181400 -0.052774  0.146263   \n",
       "has_12       -0.376954 -0.376954  1.000000 -0.169320 -0.049260  0.127480   \n",
       "has_13       -0.181400 -0.181400 -0.169320  1.000000 -0.023705 -0.761199   \n",
       "day_Mon       0.130680 -0.052774 -0.049260 -0.023705  1.000000 -0.221455   \n",
       "day_Sat       0.100241  0.146263  0.127480 -0.761199 -0.221455  1.000000   \n",
       "day_Sun      -0.145553 -0.145553 -0.130641  0.821911 -0.025963 -0.833709   \n",
       "day_Tue       0.014610  0.014610 -0.085916  0.141575 -0.012028 -0.386244   \n",
       "\n",
       "               day_Sun   day_Tue  \n",
       "episode_id    0.406322  0.067930  \n",
       "episodenbr    0.380753  0.061823  \n",
       "views         0.190427  0.281545  \n",
       "share        -0.006939  0.104642  \n",
       "appreciation -0.323525 -0.025980  \n",
       "chart        -0.264831 -0.132194  \n",
       "doctorid      0.454248  0.051266  \n",
       "rating       -0.464023 -0.078775  \n",
       "votes        -0.016931 -0.056650  \n",
       "season        0.408561  0.068342  \n",
       "has_9        -0.097744 -0.045283  \n",
       "has_10       -0.145553  0.014610  \n",
       "has_11       -0.145553  0.014610  \n",
       "has_12       -0.130641 -0.085916  \n",
       "has_13        0.821911  0.141575  \n",
       "day_Mon      -0.025963 -0.012028  \n",
       "day_Sat      -0.833709 -0.386244  \n",
       "day_Sun       1.000000 -0.045283  \n",
       "day_Tue      -0.045283  1.000000  "
      ]
     },
     "execution_count": 93,
     "metadata": {},
     "output_type": "execute_result"
    }
   ],
   "source": [
    "corr = df.corr()\n",
    "corr"
   ]
  },
  {
   "cell_type": "code",
   "execution_count": 99,
   "metadata": {},
   "outputs": [
    {
     "data": {
      "application/vnd.plotly.v1+json": {
       "config": {
        "plotlyServerURL": "https://plot.ly"
       },
       "data": [
        {
         "coloraxis": "coloraxis",
         "hovertemplate": "x: %{x}<br>y: %{y}<br>color: %{z}<extra></extra>",
         "name": "0",
         "texttemplate": "%{z}",
         "type": "heatmap",
         "x": [
          "episode_id",
          "episodenbr",
          "views",
          "share",
          "appreciation",
          "chart",
          "doctorid",
          "rating",
          "votes",
          "season",
          "has_9",
          "has_10",
          "has_11",
          "has_12",
          "has_13",
          "day_Mon",
          "day_Sat",
          "day_Sun",
          "day_Tue"
         ],
         "xaxis": "x",
         "y": [
          "episode_id",
          "episodenbr",
          "views",
          "share",
          "appreciation",
          "chart",
          "doctorid",
          "rating",
          "votes",
          "season",
          "has_9",
          "has_10",
          "has_11",
          "has_12",
          "has_13",
          "day_Mon",
          "day_Sat",
          "day_Sun",
          "day_Tue"
         ],
         "yaxis": "y",
         "z": [
          [
           1,
           0.9969205096398935,
           -0.35761597309502197,
           -0.7246533106903827,
           -0.3290430351472293,
           0.16805333490128738,
           0.9664448190233798,
           -0.3046841885034756,
           -0.39539536825134236,
           0.9999221158807281,
           -0.4906617629527021,
           -0.5884351752864433,
           0.03690659750406316,
           0.6036870649202394,
           0.471760856686894,
           -0.07863753202305691,
           -0.38303452492494083,
           0.40632208355913024,
           0.06793033912397427
          ],
          [
           0.9969205096398935,
           1,
           -0.38855922982604824,
           -0.7399669055428708,
           -0.3169504436938868,
           0.19482072655214397,
           0.9640093440280052,
           -0.28315414183829685,
           -0.3954976445529904,
           0.9959194103438576,
           -0.48615229456468834,
           -0.6033530728773604,
           0.05434490743788171,
           0.6082555170803179,
           0.4549776695641172,
           -0.09073237090521542,
           -0.3577837783995783,
           0.3807534034547819,
           0.06182254268544813
          ],
          [
           -0.35761597309502197,
           -0.38855922982604824,
           1,
           0.7268068921979001,
           0.16735989545236765,
           -0.7807370647369936,
           -0.31744856798688686,
           0.04572850601430517,
           0.3294942351920027,
           -0.3524770911385467,
           0.10655217217362441,
           0.23646386681128076,
           0.14352507137282167,
           -0.5112893871507382,
           0.08330193288934287,
           0.11675560414742767,
           -0.3188493717697942,
           0.19042738844061638,
           0.28154521693462564
          ],
          [
           -0.7246533106903827,
           -0.7399669055428708,
           0.7268068921979001,
           1,
           0.3256833431702225,
           -0.6369139795270456,
           -0.6808673830793422,
           0.19056555238923947,
           0.44902968949295435,
           -0.7225788382885233,
           0.28695528600487885,
           0.5333204454840819,
           -0.0030229681185467904,
           -0.6878318119466804,
           -0.0756587573008396,
           0.045404558483721595,
           -0.04861186421059116,
           -0.006938837897121603,
           0.10464247776778637
          ],
          [
           -0.3290430351472293,
           -0.3169504436938868,
           0.16735989545236765,
           0.3256833431702225,
           1,
           -0.26072146673091434,
           -0.3473078733668727,
           0.5499264227591818,
           0.23555110265677456,
           -0.33074182779942424,
           -0.2545063936903767,
           0.3799538967672483,
           0.35281433271245316,
           -0.3751848596947714,
           -0.3584030364855068,
           -0.014895674755669197,
           0.313893433674283,
           -0.32352507672503955,
           -0.025979859062208482
          ],
          [
           0.16805333490128738,
           0.19482072655214397,
           -0.7807370647369936,
           -0.6369139795270456,
           -0.26072146673091434,
           1,
           0.1129796886849512,
           -0.038217299530930386,
           -0.29499240958723166,
           0.16404166337046125,
           0.11885406200555172,
           -0.2520655750249858,
           -0.11087141752955425,
           0.41797341160268847,
           -0.20063723421920407,
           -0.05496225248373458,
           0.3203069759638585,
           -0.26483084904950066,
           -0.13219435813712782
          ],
          [
           0.9664448190233798,
           0.9640093440280052,
           -0.31744856798688686,
           -0.6808673830793422,
           -0.3473078733668727,
           0.1129796886849512,
           1,
           -0.33799711317646586,
           -0.34133472817697896,
           0.9665495570980687,
           -0.5545911673152474,
           -0.5477669368565639,
           0.03175460503516263,
           0.570570605718076,
           0.5348838261239754,
           -0.07158200159498215,
           -0.41770776417998623,
           0.4542480200328581,
           0.05126595217995046
          ],
          [
           -0.3046841885034756,
           -0.28315414183829685,
           0.04572850601430517,
           0.19056555238923947,
           0.5499264227591818,
           -0.038217299530930386,
           -0.33799711317646586,
           1,
           0.4656230117335945,
           -0.30722438191103046,
           0.04214574713724649,
           0.16262190705069246,
           0.10311211556662438,
           0.01920694054864686,
           -0.5331550857235393,
           -0.027510758156724185,
           0.42762177600195495,
           -0.4640234503050229,
           -0.07877499313267118
          ],
          [
           -0.39539536825134236,
           -0.3954976445529904,
           0.3294942351920027,
           0.44902968949295435,
           0.23555110265677456,
           -0.29499240958723166,
           -0.34133472817697896,
           0.4656230117335945,
           1,
           -0.3953778888965317,
           0.13280232893475763,
           0.29211262164654456,
           -0.027256453188635423,
           -0.339602472409189,
           -0.032979333716154975,
           0.00454746660438838,
           0.05148783182736669,
           -0.016931157476661535,
           -0.056650268053785945
          ],
          [
           0.9999221158807281,
           0.9959194103438576,
           -0.3524770911385467,
           -0.7225788382885233,
           -0.33074182779942424,
           0.16404166337046125,
           0.9665495570980687,
           -0.30722438191103046,
           -0.3953778888965317,
           1,
           -0.4908783983836961,
           -0.5880042472333086,
           0.036420310801472046,
           0.6036574113971882,
           0.4721388529313834,
           -0.07684019996689338,
           -0.38516467273216026,
           0.4085608047999321,
           0.06834202578718589
          ],
          [
           -0.4906617629527021,
           -0.48615229456468834,
           0.10655217217362441,
           0.28695528600487885,
           -0.2545063936903767,
           0.11885406200555172,
           -0.5545911673152474,
           0.04214574713724649,
           0.13280232893475763,
           -0.4908783983836961,
           1,
           -0.1986798535597565,
           -0.19867985355975645,
           -0.18544954675472883,
           -0.08924323690216748,
           -0.02596341735413911,
           0.11724035462194624,
           -0.09774436090225566,
           -0.04528334128517263
          ],
          [
           -0.5884351752864433,
           -0.6033530728773604,
           0.23646386681128076,
           0.5333204454840819,
           0.3799538967672483,
           -0.2520655750249858,
           -0.5477669368565639,
           0.16262190705069246,
           0.29211262164654456,
           -0.5880042472333086,
           -0.1986798535597565,
           1,
           -0.40384615384615347,
           -0.3769536007176707,
           -0.18140006313665635,
           0.130679668265057,
           0.10024081009827064,
           -0.145553006270884,
           0.014610330315338194
          ],
          [
           0.03690659750406316,
           0.05434490743788171,
           0.14352507137282167,
           -0.0030229681185467904,
           0.35281433271245316,
           -0.11087141752955425,
           0.03175460503516263,
           0.10311211556662438,
           -0.027256453188635423,
           0.036420310801472046,
           -0.19867985355975645,
           -0.40384615384615347,
           1,
           -0.3769536007176708,
           -0.18140006313665638,
           -0.05277448141473458,
           0.14626332039496057,
           -0.14555300627088394,
           0.01461033031533818
          ],
          [
           0.6036870649202394,
           0.6082555170803179,
           -0.5112893871507382,
           -0.6878318119466804,
           -0.3751848596947714,
           0.41797341160268847,
           0.570570605718076,
           0.01920694054864686,
           -0.339602472409189,
           0.6036574113971882,
           -0.18544954675472883,
           -0.3769536007176707,
           -0.3769536007176708,
           1,
           -0.16932043630611054,
           -0.04926017149310399,
           0.12747973546528593,
           -0.13064057139806817,
           -0.0859156992726439
          ],
          [
           0.471760856686894,
           0.4549776695641172,
           0.08330193288934287,
           -0.0756587573008396,
           -0.3584030364855068,
           -0.20063723421920407,
           0.5348838261239754,
           -0.5331550857235393,
           -0.032979333716154975,
           0.4721388529313834,
           -0.08924323690216748,
           -0.18140006313665635,
           -0.18140006313665638,
           -0.16932043630611054,
           1,
           -0.02370530007395866,
           -0.7611989676246004,
           0.8219114895115704,
           0.1415750000866723
          ],
          [
           -0.07863753202305691,
           -0.09073237090521542,
           0.11675560414742767,
           0.045404558483721595,
           -0.014895674755669197,
           -0.05496225248373458,
           -0.07158200159498215,
           -0.027510758156724185,
           0.00454746660438838,
           -0.07684019996689338,
           -0.02596341735413911,
           0.130679668265057,
           -0.05277448141473458,
           -0.04926017149310399,
           -0.02370530007395866,
           1,
           -0.22145461294330665,
           -0.025963417354139113,
           -0.012028420648763206
          ],
          [
           -0.38303452492494083,
           -0.3577837783995783,
           -0.3188493717697942,
           -0.04861186421059116,
           0.313893433674283,
           0.3203069759638585,
           -0.41770776417998623,
           0.42762177600195495,
           0.05148783182736669,
           -0.38516467273216026,
           0.11724035462194624,
           0.10024081009827064,
           0.14626332039496057,
           0.12747973546528593,
           -0.7611989676246004,
           -0.22145461294330665,
           1,
           -0.8337091884227286,
           -0.386243639668214
          ],
          [
           0.40632208355913024,
           0.3807534034547819,
           0.19042738844061638,
           -0.006938837897121603,
           -0.32352507672503955,
           -0.26483084904950066,
           0.4542480200328581,
           -0.4640234503050229,
           -0.016931157476661535,
           0.4085608047999321,
           -0.09774436090225566,
           -0.145553006270884,
           -0.14555300627088394,
           -0.13064057139806817,
           0.8219114895115704,
           -0.025963417354139113,
           -0.8337091884227286,
           1,
           -0.045283341285172626
          ],
          [
           0.06793033912397427,
           0.06182254268544813,
           0.28154521693462564,
           0.10464247776778637,
           -0.025979859062208482,
           -0.13219435813712782,
           0.05126595217995046,
           -0.07877499313267118,
           -0.056650268053785945,
           0.06834202578718589,
           -0.04528334128517263,
           0.014610330315338194,
           0.01461033031533818,
           -0.0859156992726439,
           0.1415750000866723,
           -0.012028420648763206,
           -0.386243639668214,
           -0.045283341285172626,
           1
          ]
         ]
        }
       ],
       "layout": {
        "coloraxis": {
         "colorscale": [
          [
           0,
           "rgb(75, 41, 145)"
          ],
          [
           0.16666666666666666,
           "rgb(135, 44, 162)"
          ],
          [
           0.3333333333333333,
           "rgb(192, 54, 157)"
          ],
          [
           0.5,
           "rgb(234, 79, 136)"
          ],
          [
           0.6666666666666666,
           "rgb(250, 120, 118)"
          ],
          [
           0.8333333333333334,
           "rgb(246, 169, 122)"
          ],
          [
           1,
           "rgb(237, 217, 163)"
          ]
         ]
        },
        "margin": {
         "t": 60
        },
        "template": {
         "data": {
          "bar": [
           {
            "error_x": {
             "color": "#f2f5fa"
            },
            "error_y": {
             "color": "#f2f5fa"
            },
            "marker": {
             "line": {
              "color": "rgb(17,17,17)",
              "width": 0.5
             },
             "pattern": {
              "fillmode": "overlay",
              "size": 10,
              "solidity": 0.2
             }
            },
            "type": "bar"
           }
          ],
          "barpolar": [
           {
            "marker": {
             "line": {
              "color": "rgb(17,17,17)",
              "width": 0.5
             },
             "pattern": {
              "fillmode": "overlay",
              "size": 10,
              "solidity": 0.2
             }
            },
            "type": "barpolar"
           }
          ],
          "carpet": [
           {
            "aaxis": {
             "endlinecolor": "#A2B1C6",
             "gridcolor": "#506784",
             "linecolor": "#506784",
             "minorgridcolor": "#506784",
             "startlinecolor": "#A2B1C6"
            },
            "baxis": {
             "endlinecolor": "#A2B1C6",
             "gridcolor": "#506784",
             "linecolor": "#506784",
             "minorgridcolor": "#506784",
             "startlinecolor": "#A2B1C6"
            },
            "type": "carpet"
           }
          ],
          "choropleth": [
           {
            "colorbar": {
             "outlinewidth": 0,
             "ticks": ""
            },
            "type": "choropleth"
           }
          ],
          "contour": [
           {
            "colorbar": {
             "outlinewidth": 0,
             "ticks": ""
            },
            "colorscale": [
             [
              0,
              "#0d0887"
             ],
             [
              0.1111111111111111,
              "#46039f"
             ],
             [
              0.2222222222222222,
              "#7201a8"
             ],
             [
              0.3333333333333333,
              "#9c179e"
             ],
             [
              0.4444444444444444,
              "#bd3786"
             ],
             [
              0.5555555555555556,
              "#d8576b"
             ],
             [
              0.6666666666666666,
              "#ed7953"
             ],
             [
              0.7777777777777778,
              "#fb9f3a"
             ],
             [
              0.8888888888888888,
              "#fdca26"
             ],
             [
              1,
              "#f0f921"
             ]
            ],
            "type": "contour"
           }
          ],
          "contourcarpet": [
           {
            "colorbar": {
             "outlinewidth": 0,
             "ticks": ""
            },
            "type": "contourcarpet"
           }
          ],
          "heatmap": [
           {
            "colorbar": {
             "outlinewidth": 0,
             "ticks": ""
            },
            "colorscale": [
             [
              0,
              "#0d0887"
             ],
             [
              0.1111111111111111,
              "#46039f"
             ],
             [
              0.2222222222222222,
              "#7201a8"
             ],
             [
              0.3333333333333333,
              "#9c179e"
             ],
             [
              0.4444444444444444,
              "#bd3786"
             ],
             [
              0.5555555555555556,
              "#d8576b"
             ],
             [
              0.6666666666666666,
              "#ed7953"
             ],
             [
              0.7777777777777778,
              "#fb9f3a"
             ],
             [
              0.8888888888888888,
              "#fdca26"
             ],
             [
              1,
              "#f0f921"
             ]
            ],
            "type": "heatmap"
           }
          ],
          "heatmapgl": [
           {
            "colorbar": {
             "outlinewidth": 0,
             "ticks": ""
            },
            "colorscale": [
             [
              0,
              "#0d0887"
             ],
             [
              0.1111111111111111,
              "#46039f"
             ],
             [
              0.2222222222222222,
              "#7201a8"
             ],
             [
              0.3333333333333333,
              "#9c179e"
             ],
             [
              0.4444444444444444,
              "#bd3786"
             ],
             [
              0.5555555555555556,
              "#d8576b"
             ],
             [
              0.6666666666666666,
              "#ed7953"
             ],
             [
              0.7777777777777778,
              "#fb9f3a"
             ],
             [
              0.8888888888888888,
              "#fdca26"
             ],
             [
              1,
              "#f0f921"
             ]
            ],
            "type": "heatmapgl"
           }
          ],
          "histogram": [
           {
            "marker": {
             "pattern": {
              "fillmode": "overlay",
              "size": 10,
              "solidity": 0.2
             }
            },
            "type": "histogram"
           }
          ],
          "histogram2d": [
           {
            "colorbar": {
             "outlinewidth": 0,
             "ticks": ""
            },
            "colorscale": [
             [
              0,
              "#0d0887"
             ],
             [
              0.1111111111111111,
              "#46039f"
             ],
             [
              0.2222222222222222,
              "#7201a8"
             ],
             [
              0.3333333333333333,
              "#9c179e"
             ],
             [
              0.4444444444444444,
              "#bd3786"
             ],
             [
              0.5555555555555556,
              "#d8576b"
             ],
             [
              0.6666666666666666,
              "#ed7953"
             ],
             [
              0.7777777777777778,
              "#fb9f3a"
             ],
             [
              0.8888888888888888,
              "#fdca26"
             ],
             [
              1,
              "#f0f921"
             ]
            ],
            "type": "histogram2d"
           }
          ],
          "histogram2dcontour": [
           {
            "colorbar": {
             "outlinewidth": 0,
             "ticks": ""
            },
            "colorscale": [
             [
              0,
              "#0d0887"
             ],
             [
              0.1111111111111111,
              "#46039f"
             ],
             [
              0.2222222222222222,
              "#7201a8"
             ],
             [
              0.3333333333333333,
              "#9c179e"
             ],
             [
              0.4444444444444444,
              "#bd3786"
             ],
             [
              0.5555555555555556,
              "#d8576b"
             ],
             [
              0.6666666666666666,
              "#ed7953"
             ],
             [
              0.7777777777777778,
              "#fb9f3a"
             ],
             [
              0.8888888888888888,
              "#fdca26"
             ],
             [
              1,
              "#f0f921"
             ]
            ],
            "type": "histogram2dcontour"
           }
          ],
          "mesh3d": [
           {
            "colorbar": {
             "outlinewidth": 0,
             "ticks": ""
            },
            "type": "mesh3d"
           }
          ],
          "parcoords": [
           {
            "line": {
             "colorbar": {
              "outlinewidth": 0,
              "ticks": ""
             }
            },
            "type": "parcoords"
           }
          ],
          "pie": [
           {
            "automargin": true,
            "type": "pie"
           }
          ],
          "scatter": [
           {
            "marker": {
             "line": {
              "color": "#283442"
             }
            },
            "type": "scatter"
           }
          ],
          "scatter3d": [
           {
            "line": {
             "colorbar": {
              "outlinewidth": 0,
              "ticks": ""
             }
            },
            "marker": {
             "colorbar": {
              "outlinewidth": 0,
              "ticks": ""
             }
            },
            "type": "scatter3d"
           }
          ],
          "scattercarpet": [
           {
            "marker": {
             "colorbar": {
              "outlinewidth": 0,
              "ticks": ""
             }
            },
            "type": "scattercarpet"
           }
          ],
          "scattergeo": [
           {
            "marker": {
             "colorbar": {
              "outlinewidth": 0,
              "ticks": ""
             }
            },
            "type": "scattergeo"
           }
          ],
          "scattergl": [
           {
            "marker": {
             "line": {
              "color": "#283442"
             }
            },
            "type": "scattergl"
           }
          ],
          "scattermapbox": [
           {
            "marker": {
             "colorbar": {
              "outlinewidth": 0,
              "ticks": ""
             }
            },
            "type": "scattermapbox"
           }
          ],
          "scatterpolar": [
           {
            "marker": {
             "colorbar": {
              "outlinewidth": 0,
              "ticks": ""
             }
            },
            "type": "scatterpolar"
           }
          ],
          "scatterpolargl": [
           {
            "marker": {
             "colorbar": {
              "outlinewidth": 0,
              "ticks": ""
             }
            },
            "type": "scatterpolargl"
           }
          ],
          "scatterternary": [
           {
            "marker": {
             "colorbar": {
              "outlinewidth": 0,
              "ticks": ""
             }
            },
            "type": "scatterternary"
           }
          ],
          "surface": [
           {
            "colorbar": {
             "outlinewidth": 0,
             "ticks": ""
            },
            "colorscale": [
             [
              0,
              "#0d0887"
             ],
             [
              0.1111111111111111,
              "#46039f"
             ],
             [
              0.2222222222222222,
              "#7201a8"
             ],
             [
              0.3333333333333333,
              "#9c179e"
             ],
             [
              0.4444444444444444,
              "#bd3786"
             ],
             [
              0.5555555555555556,
              "#d8576b"
             ],
             [
              0.6666666666666666,
              "#ed7953"
             ],
             [
              0.7777777777777778,
              "#fb9f3a"
             ],
             [
              0.8888888888888888,
              "#fdca26"
             ],
             [
              1,
              "#f0f921"
             ]
            ],
            "type": "surface"
           }
          ],
          "table": [
           {
            "cells": {
             "fill": {
              "color": "#506784"
             },
             "line": {
              "color": "rgb(17,17,17)"
             }
            },
            "header": {
             "fill": {
              "color": "#2a3f5f"
             },
             "line": {
              "color": "rgb(17,17,17)"
             }
            },
            "type": "table"
           }
          ]
         },
         "layout": {
          "annotationdefaults": {
           "arrowcolor": "#f2f5fa",
           "arrowhead": 0,
           "arrowwidth": 1
          },
          "autotypenumbers": "strict",
          "coloraxis": {
           "colorbar": {
            "outlinewidth": 0,
            "ticks": ""
           }
          },
          "colorscale": {
           "diverging": [
            [
             0,
             "#8e0152"
            ],
            [
             0.1,
             "#c51b7d"
            ],
            [
             0.2,
             "#de77ae"
            ],
            [
             0.3,
             "#f1b6da"
            ],
            [
             0.4,
             "#fde0ef"
            ],
            [
             0.5,
             "#f7f7f7"
            ],
            [
             0.6,
             "#e6f5d0"
            ],
            [
             0.7,
             "#b8e186"
            ],
            [
             0.8,
             "#7fbc41"
            ],
            [
             0.9,
             "#4d9221"
            ],
            [
             1,
             "#276419"
            ]
           ],
           "sequential": [
            [
             0,
             "#0d0887"
            ],
            [
             0.1111111111111111,
             "#46039f"
            ],
            [
             0.2222222222222222,
             "#7201a8"
            ],
            [
             0.3333333333333333,
             "#9c179e"
            ],
            [
             0.4444444444444444,
             "#bd3786"
            ],
            [
             0.5555555555555556,
             "#d8576b"
            ],
            [
             0.6666666666666666,
             "#ed7953"
            ],
            [
             0.7777777777777778,
             "#fb9f3a"
            ],
            [
             0.8888888888888888,
             "#fdca26"
            ],
            [
             1,
             "#f0f921"
            ]
           ],
           "sequentialminus": [
            [
             0,
             "#0d0887"
            ],
            [
             0.1111111111111111,
             "#46039f"
            ],
            [
             0.2222222222222222,
             "#7201a8"
            ],
            [
             0.3333333333333333,
             "#9c179e"
            ],
            [
             0.4444444444444444,
             "#bd3786"
            ],
            [
             0.5555555555555556,
             "#d8576b"
            ],
            [
             0.6666666666666666,
             "#ed7953"
            ],
            [
             0.7777777777777778,
             "#fb9f3a"
            ],
            [
             0.8888888888888888,
             "#fdca26"
            ],
            [
             1,
             "#f0f921"
            ]
           ]
          },
          "colorway": [
           "#636efa",
           "#EF553B",
           "#00cc96",
           "#ab63fa",
           "#FFA15A",
           "#19d3f3",
           "#FF6692",
           "#B6E880",
           "#FF97FF",
           "#FECB52"
          ],
          "font": {
           "color": "#f2f5fa"
          },
          "geo": {
           "bgcolor": "rgb(17,17,17)",
           "lakecolor": "rgb(17,17,17)",
           "landcolor": "rgb(17,17,17)",
           "showlakes": true,
           "showland": true,
           "subunitcolor": "#506784"
          },
          "hoverlabel": {
           "align": "left"
          },
          "hovermode": "closest",
          "mapbox": {
           "style": "dark"
          },
          "paper_bgcolor": "rgb(17,17,17)",
          "plot_bgcolor": "rgb(17,17,17)",
          "polar": {
           "angularaxis": {
            "gridcolor": "#506784",
            "linecolor": "#506784",
            "ticks": ""
           },
           "bgcolor": "rgb(17,17,17)",
           "radialaxis": {
            "gridcolor": "#506784",
            "linecolor": "#506784",
            "ticks": ""
           }
          },
          "scene": {
           "xaxis": {
            "backgroundcolor": "rgb(17,17,17)",
            "gridcolor": "#506784",
            "gridwidth": 2,
            "linecolor": "#506784",
            "showbackground": true,
            "ticks": "",
            "zerolinecolor": "#C8D4E3"
           },
           "yaxis": {
            "backgroundcolor": "rgb(17,17,17)",
            "gridcolor": "#506784",
            "gridwidth": 2,
            "linecolor": "#506784",
            "showbackground": true,
            "ticks": "",
            "zerolinecolor": "#C8D4E3"
           },
           "zaxis": {
            "backgroundcolor": "rgb(17,17,17)",
            "gridcolor": "#506784",
            "gridwidth": 2,
            "linecolor": "#506784",
            "showbackground": true,
            "ticks": "",
            "zerolinecolor": "#C8D4E3"
           }
          },
          "shapedefaults": {
           "line": {
            "color": "#f2f5fa"
           }
          },
          "sliderdefaults": {
           "bgcolor": "#C8D4E3",
           "bordercolor": "rgb(17,17,17)",
           "borderwidth": 1,
           "tickwidth": 0
          },
          "ternary": {
           "aaxis": {
            "gridcolor": "#506784",
            "linecolor": "#506784",
            "ticks": ""
           },
           "baxis": {
            "gridcolor": "#506784",
            "linecolor": "#506784",
            "ticks": ""
           },
           "bgcolor": "rgb(17,17,17)",
           "caxis": {
            "gridcolor": "#506784",
            "linecolor": "#506784",
            "ticks": ""
           }
          },
          "title": {
           "x": 0.05
          },
          "updatemenudefaults": {
           "bgcolor": "#506784",
           "borderwidth": 0
          },
          "xaxis": {
           "automargin": true,
           "gridcolor": "#283442",
           "linecolor": "#506784",
           "ticks": "",
           "title": {
            "standoff": 15
           },
           "zerolinecolor": "#283442",
           "zerolinewidth": 2
          },
          "yaxis": {
           "automargin": true,
           "gridcolor": "#283442",
           "linecolor": "#506784",
           "ticks": "",
           "title": {
            "standoff": 15
           },
           "zerolinecolor": "#283442",
           "zerolinewidth": 2
          }
         }
        },
        "xaxis": {
         "anchor": "y",
         "domain": [
          0,
          1
         ]
        },
        "yaxis": {
         "anchor": "x",
         "autorange": "reversed",
         "domain": [
          0,
          1
         ]
        }
       }
      }
     },
     "metadata": {},
     "output_type": "display_data"
    }
   ],
   "source": [
    "px.imshow(corr, text_auto=True, aspect='auto')"
   ]
  },
  {
   "cell_type": "code",
   "execution_count": 103,
   "metadata": {},
   "outputs": [
    {
     "name": "stderr",
     "output_type": "stream",
     "text": [
      "C:\\Users\\Admin\\AppData\\Local\\Temp\\ipykernel_37988\\2586863287.py:6: FutureWarning:\n",
      "\n",
      "In a future version of pandas all arguments of DataFrame.dropna will be keyword-only.\n",
      "\n"
     ]
    },
    {
     "data": {
      "application/vnd.plotly.v1+json": {
       "config": {
        "plotlyServerURL": "https://plot.ly"
       },
       "data": [
        {
         "coloraxis": "coloraxis",
         "hovertemplate": "x: %{x}<br>y: %{y}<br>color: %{z}<extra></extra>",
         "name": "0",
         "texttemplate": "%{z}",
         "type": "heatmap",
         "x": [
          "episode_id",
          "episodenbr",
          "views",
          "share",
          "appreciation",
          "chart",
          "doctorid",
          "rating",
          "votes",
          "season",
          "has_9",
          "has_10",
          "has_11",
          "has_12",
          "has_13",
          "day_Mon",
          "day_Sat",
          "day_Sun"
         ],
         "xaxis": "x",
         "y": [
          "episodenbr",
          "views",
          "share",
          "appreciation",
          "chart",
          "doctorid",
          "rating",
          "votes",
          "season",
          "has_9",
          "has_10",
          "has_11",
          "has_12",
          "has_13",
          "day_Mon",
          "day_Sat",
          "day_Sun",
          "day_Tue"
         ],
         "yaxis": "y",
         "z": [
          [
           0.9969205096398935,
           null,
           null,
           null,
           null,
           null,
           null,
           null,
           null,
           null,
           null,
           null,
           null,
           null,
           null,
           null,
           null,
           null
          ],
          [
           -0.35761597309502197,
           -0.38855922982604824,
           null,
           null,
           null,
           null,
           null,
           null,
           null,
           null,
           null,
           null,
           null,
           null,
           null,
           null,
           null,
           null
          ],
          [
           -0.7246533106903827,
           -0.7399669055428708,
           0.7268068921979001,
           null,
           null,
           null,
           null,
           null,
           null,
           null,
           null,
           null,
           null,
           null,
           null,
           null,
           null,
           null
          ],
          [
           -0.3290430351472293,
           -0.3169504436938868,
           0.16735989545236765,
           0.3256833431702225,
           null,
           null,
           null,
           null,
           null,
           null,
           null,
           null,
           null,
           null,
           null,
           null,
           null,
           null
          ],
          [
           0.16805333490128738,
           0.19482072655214397,
           -0.7807370647369936,
           -0.6369139795270456,
           -0.26072146673091434,
           null,
           null,
           null,
           null,
           null,
           null,
           null,
           null,
           null,
           null,
           null,
           null,
           null
          ],
          [
           0.9664448190233798,
           0.9640093440280052,
           -0.31744856798688686,
           -0.6808673830793422,
           -0.3473078733668727,
           0.1129796886849512,
           null,
           null,
           null,
           null,
           null,
           null,
           null,
           null,
           null,
           null,
           null,
           null
          ],
          [
           -0.3046841885034756,
           -0.28315414183829685,
           0.04572850601430517,
           0.19056555238923947,
           0.5499264227591818,
           -0.038217299530930386,
           -0.33799711317646586,
           null,
           null,
           null,
           null,
           null,
           null,
           null,
           null,
           null,
           null,
           null
          ],
          [
           -0.39539536825134236,
           -0.3954976445529904,
           0.3294942351920027,
           0.44902968949295435,
           0.23555110265677456,
           -0.29499240958723166,
           -0.34133472817697896,
           0.4656230117335945,
           null,
           null,
           null,
           null,
           null,
           null,
           null,
           null,
           null,
           null
          ],
          [
           0.9999221158807281,
           0.9959194103438576,
           -0.3524770911385467,
           -0.7225788382885233,
           -0.33074182779942424,
           0.16404166337046125,
           0.9665495570980687,
           -0.30722438191103046,
           -0.3953778888965317,
           null,
           null,
           null,
           null,
           null,
           null,
           null,
           null,
           null
          ],
          [
           -0.4906617629527021,
           -0.48615229456468834,
           0.10655217217362441,
           0.28695528600487885,
           -0.2545063936903767,
           0.11885406200555172,
           -0.5545911673152474,
           0.04214574713724649,
           0.13280232893475763,
           -0.4908783983836961,
           null,
           null,
           null,
           null,
           null,
           null,
           null,
           null
          ],
          [
           -0.5884351752864433,
           -0.6033530728773604,
           0.23646386681128076,
           0.5333204454840819,
           0.3799538967672483,
           -0.2520655750249858,
           -0.5477669368565639,
           0.16262190705069246,
           0.29211262164654456,
           -0.5880042472333086,
           -0.1986798535597565,
           null,
           null,
           null,
           null,
           null,
           null,
           null
          ],
          [
           0.03690659750406316,
           0.05434490743788171,
           0.14352507137282167,
           -0.0030229681185467904,
           0.35281433271245316,
           -0.11087141752955425,
           0.03175460503516263,
           0.10311211556662438,
           -0.027256453188635423,
           0.036420310801472046,
           -0.19867985355975645,
           -0.40384615384615347,
           null,
           null,
           null,
           null,
           null,
           null
          ],
          [
           0.6036870649202394,
           0.6082555170803179,
           -0.5112893871507382,
           -0.6878318119466804,
           -0.3751848596947714,
           0.41797341160268847,
           0.570570605718076,
           0.01920694054864686,
           -0.339602472409189,
           0.6036574113971882,
           -0.18544954675472883,
           -0.3769536007176707,
           -0.3769536007176708,
           null,
           null,
           null,
           null,
           null
          ],
          [
           0.471760856686894,
           0.4549776695641172,
           0.08330193288934287,
           -0.0756587573008396,
           -0.3584030364855068,
           -0.20063723421920407,
           0.5348838261239754,
           -0.5331550857235393,
           -0.032979333716154975,
           0.4721388529313834,
           -0.08924323690216748,
           -0.18140006313665635,
           -0.18140006313665638,
           -0.16932043630611054,
           null,
           null,
           null,
           null
          ],
          [
           -0.07863753202305691,
           -0.09073237090521542,
           0.11675560414742767,
           0.045404558483721595,
           -0.014895674755669197,
           -0.05496225248373458,
           -0.07158200159498215,
           -0.027510758156724185,
           0.00454746660438838,
           -0.07684019996689338,
           -0.02596341735413911,
           0.130679668265057,
           -0.05277448141473458,
           -0.04926017149310399,
           -0.02370530007395866,
           null,
           null,
           null
          ],
          [
           -0.38303452492494083,
           -0.3577837783995783,
           -0.3188493717697942,
           -0.04861186421059116,
           0.313893433674283,
           0.3203069759638585,
           -0.41770776417998623,
           0.42762177600195495,
           0.05148783182736669,
           -0.38516467273216026,
           0.11724035462194624,
           0.10024081009827064,
           0.14626332039496057,
           0.12747973546528593,
           -0.7611989676246004,
           -0.22145461294330665,
           null,
           null
          ],
          [
           0.40632208355913024,
           0.3807534034547819,
           0.19042738844061638,
           -0.006938837897121603,
           -0.32352507672503955,
           -0.26483084904950066,
           0.4542480200328581,
           -0.4640234503050229,
           -0.016931157476661535,
           0.4085608047999321,
           -0.09774436090225566,
           -0.145553006270884,
           -0.14555300627088394,
           -0.13064057139806817,
           0.8219114895115704,
           -0.025963417354139113,
           -0.8337091884227286,
           null
          ],
          [
           0.06793033912397427,
           0.06182254268544813,
           0.28154521693462564,
           0.10464247776778637,
           -0.025979859062208482,
           -0.13219435813712782,
           0.05126595217995046,
           -0.07877499313267118,
           -0.056650268053785945,
           0.06834202578718589,
           -0.04528334128517263,
           0.014610330315338194,
           0.01461033031533818,
           -0.0859156992726439,
           0.1415750000866723,
           -0.012028420648763206,
           -0.386243639668214,
           -0.045283341285172626
          ]
         ]
        }
       ],
       "layout": {
        "coloraxis": {
         "colorscale": [
          [
           0,
           "rgb(75, 41, 145)"
          ],
          [
           0.16666666666666666,
           "rgb(135, 44, 162)"
          ],
          [
           0.3333333333333333,
           "rgb(192, 54, 157)"
          ],
          [
           0.5,
           "rgb(234, 79, 136)"
          ],
          [
           0.6666666666666666,
           "rgb(250, 120, 118)"
          ],
          [
           0.8333333333333334,
           "rgb(246, 169, 122)"
          ],
          [
           1,
           "rgb(237, 217, 163)"
          ]
         ]
        },
        "margin": {
         "t": 60
        },
        "template": {
         "data": {
          "bar": [
           {
            "error_x": {
             "color": "#f2f5fa"
            },
            "error_y": {
             "color": "#f2f5fa"
            },
            "marker": {
             "line": {
              "color": "rgb(17,17,17)",
              "width": 0.5
             },
             "pattern": {
              "fillmode": "overlay",
              "size": 10,
              "solidity": 0.2
             }
            },
            "type": "bar"
           }
          ],
          "barpolar": [
           {
            "marker": {
             "line": {
              "color": "rgb(17,17,17)",
              "width": 0.5
             },
             "pattern": {
              "fillmode": "overlay",
              "size": 10,
              "solidity": 0.2
             }
            },
            "type": "barpolar"
           }
          ],
          "carpet": [
           {
            "aaxis": {
             "endlinecolor": "#A2B1C6",
             "gridcolor": "#506784",
             "linecolor": "#506784",
             "minorgridcolor": "#506784",
             "startlinecolor": "#A2B1C6"
            },
            "baxis": {
             "endlinecolor": "#A2B1C6",
             "gridcolor": "#506784",
             "linecolor": "#506784",
             "minorgridcolor": "#506784",
             "startlinecolor": "#A2B1C6"
            },
            "type": "carpet"
           }
          ],
          "choropleth": [
           {
            "colorbar": {
             "outlinewidth": 0,
             "ticks": ""
            },
            "type": "choropleth"
           }
          ],
          "contour": [
           {
            "colorbar": {
             "outlinewidth": 0,
             "ticks": ""
            },
            "colorscale": [
             [
              0,
              "#0d0887"
             ],
             [
              0.1111111111111111,
              "#46039f"
             ],
             [
              0.2222222222222222,
              "#7201a8"
             ],
             [
              0.3333333333333333,
              "#9c179e"
             ],
             [
              0.4444444444444444,
              "#bd3786"
             ],
             [
              0.5555555555555556,
              "#d8576b"
             ],
             [
              0.6666666666666666,
              "#ed7953"
             ],
             [
              0.7777777777777778,
              "#fb9f3a"
             ],
             [
              0.8888888888888888,
              "#fdca26"
             ],
             [
              1,
              "#f0f921"
             ]
            ],
            "type": "contour"
           }
          ],
          "contourcarpet": [
           {
            "colorbar": {
             "outlinewidth": 0,
             "ticks": ""
            },
            "type": "contourcarpet"
           }
          ],
          "heatmap": [
           {
            "colorbar": {
             "outlinewidth": 0,
             "ticks": ""
            },
            "colorscale": [
             [
              0,
              "#0d0887"
             ],
             [
              0.1111111111111111,
              "#46039f"
             ],
             [
              0.2222222222222222,
              "#7201a8"
             ],
             [
              0.3333333333333333,
              "#9c179e"
             ],
             [
              0.4444444444444444,
              "#bd3786"
             ],
             [
              0.5555555555555556,
              "#d8576b"
             ],
             [
              0.6666666666666666,
              "#ed7953"
             ],
             [
              0.7777777777777778,
              "#fb9f3a"
             ],
             [
              0.8888888888888888,
              "#fdca26"
             ],
             [
              1,
              "#f0f921"
             ]
            ],
            "type": "heatmap"
           }
          ],
          "heatmapgl": [
           {
            "colorbar": {
             "outlinewidth": 0,
             "ticks": ""
            },
            "colorscale": [
             [
              0,
              "#0d0887"
             ],
             [
              0.1111111111111111,
              "#46039f"
             ],
             [
              0.2222222222222222,
              "#7201a8"
             ],
             [
              0.3333333333333333,
              "#9c179e"
             ],
             [
              0.4444444444444444,
              "#bd3786"
             ],
             [
              0.5555555555555556,
              "#d8576b"
             ],
             [
              0.6666666666666666,
              "#ed7953"
             ],
             [
              0.7777777777777778,
              "#fb9f3a"
             ],
             [
              0.8888888888888888,
              "#fdca26"
             ],
             [
              1,
              "#f0f921"
             ]
            ],
            "type": "heatmapgl"
           }
          ],
          "histogram": [
           {
            "marker": {
             "pattern": {
              "fillmode": "overlay",
              "size": 10,
              "solidity": 0.2
             }
            },
            "type": "histogram"
           }
          ],
          "histogram2d": [
           {
            "colorbar": {
             "outlinewidth": 0,
             "ticks": ""
            },
            "colorscale": [
             [
              0,
              "#0d0887"
             ],
             [
              0.1111111111111111,
              "#46039f"
             ],
             [
              0.2222222222222222,
              "#7201a8"
             ],
             [
              0.3333333333333333,
              "#9c179e"
             ],
             [
              0.4444444444444444,
              "#bd3786"
             ],
             [
              0.5555555555555556,
              "#d8576b"
             ],
             [
              0.6666666666666666,
              "#ed7953"
             ],
             [
              0.7777777777777778,
              "#fb9f3a"
             ],
             [
              0.8888888888888888,
              "#fdca26"
             ],
             [
              1,
              "#f0f921"
             ]
            ],
            "type": "histogram2d"
           }
          ],
          "histogram2dcontour": [
           {
            "colorbar": {
             "outlinewidth": 0,
             "ticks": ""
            },
            "colorscale": [
             [
              0,
              "#0d0887"
             ],
             [
              0.1111111111111111,
              "#46039f"
             ],
             [
              0.2222222222222222,
              "#7201a8"
             ],
             [
              0.3333333333333333,
              "#9c179e"
             ],
             [
              0.4444444444444444,
              "#bd3786"
             ],
             [
              0.5555555555555556,
              "#d8576b"
             ],
             [
              0.6666666666666666,
              "#ed7953"
             ],
             [
              0.7777777777777778,
              "#fb9f3a"
             ],
             [
              0.8888888888888888,
              "#fdca26"
             ],
             [
              1,
              "#f0f921"
             ]
            ],
            "type": "histogram2dcontour"
           }
          ],
          "mesh3d": [
           {
            "colorbar": {
             "outlinewidth": 0,
             "ticks": ""
            },
            "type": "mesh3d"
           }
          ],
          "parcoords": [
           {
            "line": {
             "colorbar": {
              "outlinewidth": 0,
              "ticks": ""
             }
            },
            "type": "parcoords"
           }
          ],
          "pie": [
           {
            "automargin": true,
            "type": "pie"
           }
          ],
          "scatter": [
           {
            "marker": {
             "line": {
              "color": "#283442"
             }
            },
            "type": "scatter"
           }
          ],
          "scatter3d": [
           {
            "line": {
             "colorbar": {
              "outlinewidth": 0,
              "ticks": ""
             }
            },
            "marker": {
             "colorbar": {
              "outlinewidth": 0,
              "ticks": ""
             }
            },
            "type": "scatter3d"
           }
          ],
          "scattercarpet": [
           {
            "marker": {
             "colorbar": {
              "outlinewidth": 0,
              "ticks": ""
             }
            },
            "type": "scattercarpet"
           }
          ],
          "scattergeo": [
           {
            "marker": {
             "colorbar": {
              "outlinewidth": 0,
              "ticks": ""
             }
            },
            "type": "scattergeo"
           }
          ],
          "scattergl": [
           {
            "marker": {
             "line": {
              "color": "#283442"
             }
            },
            "type": "scattergl"
           }
          ],
          "scattermapbox": [
           {
            "marker": {
             "colorbar": {
              "outlinewidth": 0,
              "ticks": ""
             }
            },
            "type": "scattermapbox"
           }
          ],
          "scatterpolar": [
           {
            "marker": {
             "colorbar": {
              "outlinewidth": 0,
              "ticks": ""
             }
            },
            "type": "scatterpolar"
           }
          ],
          "scatterpolargl": [
           {
            "marker": {
             "colorbar": {
              "outlinewidth": 0,
              "ticks": ""
             }
            },
            "type": "scatterpolargl"
           }
          ],
          "scatterternary": [
           {
            "marker": {
             "colorbar": {
              "outlinewidth": 0,
              "ticks": ""
             }
            },
            "type": "scatterternary"
           }
          ],
          "surface": [
           {
            "colorbar": {
             "outlinewidth": 0,
             "ticks": ""
            },
            "colorscale": [
             [
              0,
              "#0d0887"
             ],
             [
              0.1111111111111111,
              "#46039f"
             ],
             [
              0.2222222222222222,
              "#7201a8"
             ],
             [
              0.3333333333333333,
              "#9c179e"
             ],
             [
              0.4444444444444444,
              "#bd3786"
             ],
             [
              0.5555555555555556,
              "#d8576b"
             ],
             [
              0.6666666666666666,
              "#ed7953"
             ],
             [
              0.7777777777777778,
              "#fb9f3a"
             ],
             [
              0.8888888888888888,
              "#fdca26"
             ],
             [
              1,
              "#f0f921"
             ]
            ],
            "type": "surface"
           }
          ],
          "table": [
           {
            "cells": {
             "fill": {
              "color": "#506784"
             },
             "line": {
              "color": "rgb(17,17,17)"
             }
            },
            "header": {
             "fill": {
              "color": "#2a3f5f"
             },
             "line": {
              "color": "rgb(17,17,17)"
             }
            },
            "type": "table"
           }
          ]
         },
         "layout": {
          "annotationdefaults": {
           "arrowcolor": "#f2f5fa",
           "arrowhead": 0,
           "arrowwidth": 1
          },
          "autotypenumbers": "strict",
          "coloraxis": {
           "colorbar": {
            "outlinewidth": 0,
            "ticks": ""
           }
          },
          "colorscale": {
           "diverging": [
            [
             0,
             "#8e0152"
            ],
            [
             0.1,
             "#c51b7d"
            ],
            [
             0.2,
             "#de77ae"
            ],
            [
             0.3,
             "#f1b6da"
            ],
            [
             0.4,
             "#fde0ef"
            ],
            [
             0.5,
             "#f7f7f7"
            ],
            [
             0.6,
             "#e6f5d0"
            ],
            [
             0.7,
             "#b8e186"
            ],
            [
             0.8,
             "#7fbc41"
            ],
            [
             0.9,
             "#4d9221"
            ],
            [
             1,
             "#276419"
            ]
           ],
           "sequential": [
            [
             0,
             "#0d0887"
            ],
            [
             0.1111111111111111,
             "#46039f"
            ],
            [
             0.2222222222222222,
             "#7201a8"
            ],
            [
             0.3333333333333333,
             "#9c179e"
            ],
            [
             0.4444444444444444,
             "#bd3786"
            ],
            [
             0.5555555555555556,
             "#d8576b"
            ],
            [
             0.6666666666666666,
             "#ed7953"
            ],
            [
             0.7777777777777778,
             "#fb9f3a"
            ],
            [
             0.8888888888888888,
             "#fdca26"
            ],
            [
             1,
             "#f0f921"
            ]
           ],
           "sequentialminus": [
            [
             0,
             "#0d0887"
            ],
            [
             0.1111111111111111,
             "#46039f"
            ],
            [
             0.2222222222222222,
             "#7201a8"
            ],
            [
             0.3333333333333333,
             "#9c179e"
            ],
            [
             0.4444444444444444,
             "#bd3786"
            ],
            [
             0.5555555555555556,
             "#d8576b"
            ],
            [
             0.6666666666666666,
             "#ed7953"
            ],
            [
             0.7777777777777778,
             "#fb9f3a"
            ],
            [
             0.8888888888888888,
             "#fdca26"
            ],
            [
             1,
             "#f0f921"
            ]
           ]
          },
          "colorway": [
           "#636efa",
           "#EF553B",
           "#00cc96",
           "#ab63fa",
           "#FFA15A",
           "#19d3f3",
           "#FF6692",
           "#B6E880",
           "#FF97FF",
           "#FECB52"
          ],
          "font": {
           "color": "#f2f5fa"
          },
          "geo": {
           "bgcolor": "rgb(17,17,17)",
           "lakecolor": "rgb(17,17,17)",
           "landcolor": "rgb(17,17,17)",
           "showlakes": true,
           "showland": true,
           "subunitcolor": "#506784"
          },
          "hoverlabel": {
           "align": "left"
          },
          "hovermode": "closest",
          "mapbox": {
           "style": "dark"
          },
          "paper_bgcolor": "rgb(17,17,17)",
          "plot_bgcolor": "rgb(17,17,17)",
          "polar": {
           "angularaxis": {
            "gridcolor": "#506784",
            "linecolor": "#506784",
            "ticks": ""
           },
           "bgcolor": "rgb(17,17,17)",
           "radialaxis": {
            "gridcolor": "#506784",
            "linecolor": "#506784",
            "ticks": ""
           }
          },
          "scene": {
           "xaxis": {
            "backgroundcolor": "rgb(17,17,17)",
            "gridcolor": "#506784",
            "gridwidth": 2,
            "linecolor": "#506784",
            "showbackground": true,
            "ticks": "",
            "zerolinecolor": "#C8D4E3"
           },
           "yaxis": {
            "backgroundcolor": "rgb(17,17,17)",
            "gridcolor": "#506784",
            "gridwidth": 2,
            "linecolor": "#506784",
            "showbackground": true,
            "ticks": "",
            "zerolinecolor": "#C8D4E3"
           },
           "zaxis": {
            "backgroundcolor": "rgb(17,17,17)",
            "gridcolor": "#506784",
            "gridwidth": 2,
            "linecolor": "#506784",
            "showbackground": true,
            "ticks": "",
            "zerolinecolor": "#C8D4E3"
           }
          },
          "shapedefaults": {
           "line": {
            "color": "#f2f5fa"
           }
          },
          "sliderdefaults": {
           "bgcolor": "#C8D4E3",
           "bordercolor": "rgb(17,17,17)",
           "borderwidth": 1,
           "tickwidth": 0
          },
          "ternary": {
           "aaxis": {
            "gridcolor": "#506784",
            "linecolor": "#506784",
            "ticks": ""
           },
           "baxis": {
            "gridcolor": "#506784",
            "linecolor": "#506784",
            "ticks": ""
           },
           "bgcolor": "rgb(17,17,17)",
           "caxis": {
            "gridcolor": "#506784",
            "linecolor": "#506784",
            "ticks": ""
           }
          },
          "title": {
           "x": 0.05
          },
          "updatemenudefaults": {
           "bgcolor": "#506784",
           "borderwidth": 0
          },
          "xaxis": {
           "automargin": true,
           "gridcolor": "#283442",
           "linecolor": "#506784",
           "ticks": "",
           "title": {
            "standoff": 15
           },
           "zerolinecolor": "#283442",
           "zerolinewidth": 2
          },
          "yaxis": {
           "automargin": true,
           "gridcolor": "#283442",
           "linecolor": "#506784",
           "ticks": "",
           "title": {
            "standoff": 15
           },
           "zerolinecolor": "#283442",
           "zerolinewidth": 2
          }
         }
        },
        "xaxis": {
         "anchor": "y",
         "domain": [
          0,
          1
         ]
        },
        "yaxis": {
         "anchor": "x",
         "autorange": "reversed",
         "domain": [
          0,
          1
         ]
        }
       }
      }
     },
     "metadata": {},
     "output_type": "display_data"
    }
   ],
   "source": [
    "import numpy as np\n",
    "\n",
    "# Create a triangular mask to drop duplicated data\n",
    "mask = np.zeros_like(corr, dtype=bool)\n",
    "mask[np.triu_indices_from(mask)] = True\n",
    "corr_mask = corr.mask(mask).dropna(how='all').dropna('columns', how='all')\n",
    "\n",
    "# Show this data in a heatmap\n",
    "px.imshow(corr_mask, text_auto=True, aspect='auto')"
   ]
  }
 ],
 "metadata": {
  "kernelspec": {
   "display_name": "base",
   "language": "python",
   "name": "python3"
  },
  "language_info": {
   "codemirror_mode": {
    "name": "ipython",
    "version": 3
   },
   "file_extension": ".py",
   "mimetype": "text/x-python",
   "name": "python",
   "nbconvert_exporter": "python",
   "pygments_lexer": "ipython3",
   "version": "3.9.12"
  },
  "orig_nbformat": 4
 },
 "nbformat": 4,
 "nbformat_minor": 2
}
