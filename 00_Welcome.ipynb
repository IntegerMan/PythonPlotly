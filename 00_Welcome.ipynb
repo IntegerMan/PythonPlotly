{
 "cells": [
  {
   "attachments": {},
   "cell_type": "markdown",
   "metadata": {},
   "source": [
    "## Talk Abstract\n",
    "\n",
    "Let's take a look at how Python can be an effective platform for analyzing and visualizing data.\n",
    "\n",
    "In this talk we'll use Jupyter Notebooks, Pandas, and Plotly to visualize several datasets to find trends in our data.\n",
    "\n",
    "We'll cover loading and transforming data in Pandas and NumPy, including cleaning missing values and performing feature engineering. We'll also look into the built-in aggregation and statistical techniques in Pandas DataFrames.\n",
    "\n",
    "Next we'll take our data and see how Plotly can generate compelling scatter plots, box plots, histograms, tree maps, and more with just a bit of code.\n",
    "\n",
    "By the time we're done you'll see why I often prefer data visualization in Python over dedicated tools like Tableau or Power BI."
   ]
  },
  {
   "attachments": {},
   "cell_type": "markdown",
   "metadata": {},
   "source": [
    "# Exploratory Data Analysis with Pandas & Plotly\n",
    "Code to accompany a [talk](https://sessionize.com/s/matt-eland/exploratory-data-analysis-in-python-with-pandas-an/69550) by [Matt Eland](https://MattEland.dev)\n",
    "\n",
    "![Matt Eland | @IntegerMan | Microsoft MVP](Images/Matt.png)\n",
    "\n",
    "This talk covers the following major topics:\n",
    "\n",
    "- Python\n",
    "- Jupyter Notebooks\n",
    "- Pandas\n",
    "- NumPy\n",
    "- Plotly (particularly Plotly Express)\n",
    "\n",
    "Code for this talk is available on GitHub at [github.com/IntegerMan/PythonPlotly](https://github.com/IntegerMan/PythonPlotly)"
   ]
  },
  {
   "attachments": {},
   "cell_type": "markdown",
   "metadata": {},
   "source": [
    "## Getting Started\n",
    "\n",
    "To run this, you must have Jupyter Notebooks installed. I recommend you [install Anaconda](https://accessibleai.dev/post/anaconda/) as an easy way of doing this. The [Jupyter VS Code extension](https://marketplace.visualstudio.com/items?itemName=ms-toolsai.jupyter) is also helpful.\n",
    "\n",
    "Once you have a Jupyter Notebook environment up and running, open any of the `.ipynb` files to interact with it."
   ]
  }
 ],
 "metadata": {
  "language_info": {
   "name": "python"
  },
  "orig_nbformat": 4
 },
 "nbformat": 4,
 "nbformat_minor": 2
}
